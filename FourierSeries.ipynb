{
 "cells": [
  {
   "cell_type": "code",
   "execution_count": 1,
   "metadata": {
    "scrolled": true
   },
   "outputs": [],
   "source": [
    "%matplotlib inline\n",
    "from ipywidgets import interact\n",
    "import ipywidgets as widgets\n",
    "import matplotlib.pyplot as plt\n",
    "import numpy"
   ]
  },
  {
   "cell_type": "code",
   "execution_count": 2,
   "metadata": {
    "scrolled": false
   },
   "outputs": [],
   "source": [
    "#The FourierSeries class is just a conventient way to track the function and associted Fourier Coefficents.\n",
    "class FourierSeries:\n",
    "    #Fourier Coefficients\n",
    "    a0 = lambda self, L: 0\n",
    "    an = lambda self, n, L: 0\n",
    "    bn = lambda self, n, L: 0\n",
    "    #The function being approximated\n",
    "    f = lambda t : 0\n",
    "    #Returns a lambda function which represents the Fourier series for a given n and L.\n",
    "    def fs(self):\n",
    "        fs_cos = lambda t, n, L: numpy.cos((numpy.pi * n * t) / L)\n",
    "        fs_sine = lambda t, n, L: numpy.sin((numpy.pi * n * t) / L)\n",
    "        return lambda t, n, L: self.a0(L) + (self.an(n, L) * fs_cos(t, n, L)) +  (self.bn(n, L) * fs_sine(t, n, L))"
   ]
  },
  {
   "cell_type": "code",
   "execution_count": 3,
   "metadata": {
    "scrolled": false
   },
   "outputs": [],
   "source": [
    "#Plot yfa vs. t and y vs. t given the x and y boundaries\n",
    "def plot_FS(t, yfa, y, x_min, x_max, y_min, y_max):\n",
    "\n",
    "    x_width = 10 \n",
    "    y_height = 5\n",
    "    plt.figure(1, figsize=(x_width, y_height))\n",
    "    plt.xlabel('x', fontsize=16)\n",
    "    plt.ylabel('y', fontsize=16)\n",
    "    plt.xlim(x_min, x_max)\n",
    "    plt.ylim(y_min, y_max)\n",
    "    plt.grid()\n",
    "    plt.plot(t, yfa);\n",
    "    plt.plot(t, y);\n",
    "    plt.show()\n",
    " "
   ]
  },
  {
   "cell_type": "code",
   "execution_count": 4,
   "metadata": {
    "scrolled": true
   },
   "outputs": [],
   "source": [
    "#I chose cosh(x) and the Fourier Series of cosh of x to be the default.\n",
    "#Create lambda functions for cosh(t) and the Fourier cofficients\n",
    "f = lambda t : numpy.cosh(t)\n",
    "a0 = lambda L : 0\n",
    "an = lambda n, L : 0\n",
    "bn = lambda n, L: ((2 * numpy.pi * n) * (1 - (((-1)**n) * numpy.cosh(L)))) / (((numpy.pi * n)**2) + (L**2))\n",
    "Fn = lambda t, n, L: numpy.sin((numpy.pi * n * t) / L)\n",
    "#Set the function and the Fourier Coefficients into th \n",
    "fs = FourierSeries();\n",
    "fs.f = f\n",
    "fs.a0 = a0\n",
    "fs.an = an\n",
    "fs.bn = bn\n",
    "    \n",
    "#Set the default text for the function and Fourier Series coefficient inputs text boxes\n",
    "sinh_bn_text = '-(2 * numpy.pi * n * numpy.sinh(L) * (-1)**n) / ((L**2) + ((numpy.pi * n)**2))'\n",
    "f_text = widgets.Text(value='numpy.sinh(t)', placeholder='numpy.sinh(t)', description='f:', disabled=False)\n",
    "a0_text = widgets.Text(value='0', placeholder='0', description='a0:', disabled=False)\n",
    "an_text = widgets.Text(value='0', placeholder='0', description='an:', disabled=False)\n",
    "bn_text = widgets.Text(value=sinh_bn_text, placeholder=sinh_bn_text, description='bn:', disabled=False)"
   ]
  },
  {
   "cell_type": "code",
   "execution_count": 5,
   "metadata": {
    "scrolled": false
   },
   "outputs": [
    {
     "data": {
      "application/vnd.jupyter.widget-view+json": {
       "model_id": "2fd41118265b4a68b707a932c2b2871b"
      }
     },
     "metadata": {},
     "output_type": "display_data"
    },
    {
     "data": {
      "application/vnd.jupyter.widget-view+json": {
       "model_id": "01a46a85019049ab8179ee575b3eb772"
      }
     },
     "metadata": {},
     "output_type": "display_data"
    }
   ],
   "source": [
    "n_slider = widgets.IntSlider(min=1,max=100,step=1,value=1, continuous_update=False)\n",
    "L_slider = widgets.IntSlider(min=1,max=5,step=1,value=1, continuous_update=False)\n",
    "tog_btn = widgets.ToggleButton(value=False, description='Update', disabled=False)\n",
    "\n",
    "loaded_fs = FourierSeries();\n",
    "def new_f_text (i, j, k, l):\n",
    "    \n",
    "    #Save the values of the lambdas entered to Fourier Series object.\n",
    "    loaded_fs.f = lambda t: eval(i)\n",
    "    loaded_fs.a0 = lambda L: eval(j)\n",
    "    loaded_fs.an = lambda n, L: eval(k)\n",
    "    loaded_fs.bn = lambda n, L: eval(l)\n",
    "    \n",
    "interact(new_f_text,i=f_text, j=a0_text, k=an_text, l=bn_text)\n",
    "\n",
    "\n",
    "def f(n, L, z):\n",
    "    \n",
    "    if z:\n",
    "        fs.f = loaded_fs.f\n",
    "        fs.a0 = loaded_fs.a0\n",
    "        fs.an = loaded_fs.an\n",
    "        fs.bn = loaded_fs.bn\n",
    "        \n",
    "    #Calculate poitns for the function f(x)\n",
    "    t = numpy.linspace(-(L + 0.25), L + 0.25, 1000)\n",
    "    yfa = fs.f(t)\n",
    "    \n",
    "    #Calculate points for the Fourier Series approximation FS(s)\n",
    "    y = numpy.zeros(1000)\n",
    "    for i in range(1, n):\n",
    "        yn = fs.fs()(t, i, L)\n",
    "        y += yn\n",
    "    \n",
    "    #Choose bounds for the plot\n",
    "    x_min = -(L + 0.2)\n",
    "    x_max = (L + 0.2)\n",
    "    y_min = -L if numpy.amin(y) == numpy.amax(y) else (numpy.amin(y) - 0.2)\n",
    "    y_max = fs.f(L) if numpy.amin(y) == numpy.amax(y) else (numpy.amax(y) + 0.2)\n",
    "    \n",
    "    plot_FS(t, yfa, y, x_min, x_max, y_min, y_max)\n",
    "\n",
    "interact(f, n=n_slider, L=L_slider, z=tog_btn);\n"
   ]
  },
  {
   "cell_type": "code",
   "execution_count": null,
   "metadata": {
    "scrolled": true
   },
   "outputs": [],
   "source": []
  }
 ],
 "metadata": {
  "kernelspec": {
   "display_name": "Python 3",
   "language": "python",
   "name": "python3"
  },
  "language_info": {
   "codemirror_mode": {
    "name": "ipython",
    "version": 3
   },
   "file_extension": ".py",
   "mimetype": "text/x-python",
   "name": "python",
   "nbconvert_exporter": "python",
   "pygments_lexer": "ipython3",
   "version": "3.6.2"
  },
  "widgets": {
   "application/vnd.jupyter.widget-state+json": {
    "state": {
     "01a46a85019049ab8179ee575b3eb772": {
      "model_module": "jupyter-js-widgets",
      "model_module_version": "~2.1.4",
      "model_name": "VBoxModel",
      "state": {
       "_dom_classes": [
        "widget-interact"
       ],
       "_model_module_version": "~2.1.4",
       "_view_module_version": "~2.1.4",
       "children": [
        "IPY_MODEL_be04562d7ea94e78b8a141cb79a61051",
        "IPY_MODEL_b2627e7f21c94ffb930d01b446fbb8dc",
        "IPY_MODEL_945459241f7a4f52a39e425cf4e0360b",
        "IPY_MODEL_af80f53733584bf0980cd76e6287e29f"
       ],
       "layout": "IPY_MODEL_8f61f95f7dcb455ca8278f48c74167db"
      }
     },
     "081911a5b6564023b219ab4740398cdc": {
      "model_module": "jupyter-js-widgets",
      "model_module_version": "~2.1.4",
      "model_name": "LayoutModel",
      "state": {
       "_model_module_version": "~2.1.4",
       "_view_module_version": "~2.1.4"
      }
     },
     "084c6aca77544e3594b648c15e648dc5": {
      "model_module": "jupyter-js-widgets",
      "model_module_version": "~2.1.4",
      "model_name": "TextModel",
      "state": {
       "_model_module_version": "~2.1.4",
       "_view_module_version": "~2.1.4",
       "description": "an:",
       "layout": "IPY_MODEL_1928609f86754961941572999a1cce19",
       "placeholder": "0",
       "value": "0"
      }
     },
     "0974395ec1ea4b2cbda9176fcd086692": {
      "model_module": "jupyter-js-widgets",
      "model_module_version": "~2.1.4",
      "model_name": "TextModel",
      "state": {
       "_model_module_version": "~2.1.4",
       "_view_module_version": "~2.1.4",
       "description": "a0:",
       "layout": "IPY_MODEL_ebb999c1b8504251986432fdd5ddbe11",
       "placeholder": "0",
       "value": "0"
      }
     },
     "0e363b21e69943f9a74ed492a28386ba": {
      "model_module": "jupyter-js-widgets",
      "model_module_version": "~2.1.4",
      "model_name": "LayoutModel",
      "state": {
       "_model_module_version": "~2.1.4",
       "_view_module_version": "~2.1.4"
      }
     },
     "168e342e428c49458db1f44373fef8be": {
      "model_module": "jupyter-js-widgets",
      "model_module_version": "~2.1.4",
      "model_name": "SliderStyleModel",
      "state": {
       "_model_module_version": "~2.1.4",
       "_view_module_version": "~2.1.4"
      }
     },
     "182d0607d1014d308f73b18e926dcc80": {
      "model_module": "jupyter-js-widgets",
      "model_module_version": "~2.1.4",
      "model_name": "LayoutModel",
      "state": {
       "_model_module_version": "~2.1.4",
       "_view_module_version": "~2.1.4"
      }
     },
     "1928609f86754961941572999a1cce19": {
      "model_module": "jupyter-js-widgets",
      "model_module_version": "~2.1.4",
      "model_name": "LayoutModel",
      "state": {
       "_model_module_version": "~2.1.4",
       "_view_module_version": "~2.1.4"
      }
     },
     "2215315f1c2645c4932ef98a6030dc8b": {
      "model_module": "jupyter-js-widgets",
      "model_module_version": "~2.1.4",
      "model_name": "TextModel",
      "state": {
       "_model_module_version": "~2.1.4",
       "_view_module_version": "~2.1.4",
       "description": "f:",
       "layout": "IPY_MODEL_a3749270200d411293152aa2363bd41f",
       "placeholder": "numpy.sinh(t)",
       "value": "numpy.sinh(t)"
      }
     },
     "24e0962ab093478db341f19ad4038a47": {
      "model_module": "jupyter-js-widgets",
      "model_module_version": "~2.1.4",
      "model_name": "LayoutModel",
      "state": {
       "_model_module_version": "~2.1.4",
       "_view_module_version": "~2.1.4"
      }
     },
     "2aa49465dc5a4b738a90025df3bb915a": {
      "model_module": "jupyter-js-widgets",
      "model_module_version": "~2.1.4",
      "model_name": "TextModel",
      "state": {
       "_model_module_version": "~2.1.4",
       "_view_module_version": "~2.1.4",
       "description": "f:",
       "layout": "IPY_MODEL_c25ae37151d24ccc9dcd2a978cf20dad",
       "placeholder": "numpy.sinh(t)",
       "value": "numpy.sinh(t)"
      }
     },
     "2fd41118265b4a68b707a932c2b2871b": {
      "model_module": "jupyter-js-widgets",
      "model_module_version": "~2.1.4",
      "model_name": "VBoxModel",
      "state": {
       "_dom_classes": [
        "widget-interact"
       ],
       "_model_module_version": "~2.1.4",
       "_view_module_version": "~2.1.4",
       "children": [
        "IPY_MODEL_2215315f1c2645c4932ef98a6030dc8b",
        "IPY_MODEL_cb9dabb28837471692edebbfa6fc8cf0",
        "IPY_MODEL_821c00525ed64567bf46fd267d1261b4",
        "IPY_MODEL_f641892012be4a61885a66529d2ab653",
        "IPY_MODEL_6e563b6ee49a4e2a9a27a11c7b7cd44f"
       ],
       "layout": "IPY_MODEL_a1184cc441b4449197985c8708d3fa2c"
      }
     },
     "3079262a1985408f87dc2b0861cd451e": {
      "model_module": "jupyter-js-widgets",
      "model_module_version": "~2.1.4",
      "model_name": "SliderStyleModel",
      "state": {
       "_model_module_version": "~2.1.4",
       "_view_module_version": "~2.1.4"
      }
     },
     "34ba00aa7c5145aa91565ed30bcba95a": {
      "model_module": "jupyter-js-widgets",
      "model_module_version": "~2.1.4",
      "model_name": "LayoutModel",
      "state": {
       "_model_module_version": "~2.1.4",
       "_view_module_version": "~2.1.4"
      }
     },
     "4b4b8b3726434019ba36e19b2ec3e27f": {
      "model_module": "jupyter-js-widgets",
      "model_module_version": "~2.1.4",
      "model_name": "SliderStyleModel",
      "state": {
       "_model_module_version": "~2.1.4",
       "_view_module_version": "~2.1.4"
      }
     },
     "50b979ca493646649d4dec44583d120b": {
      "model_module": "jupyter-js-widgets",
      "model_module_version": "~2.1.4",
      "model_name": "LayoutModel",
      "state": {
       "_model_module_version": "~2.1.4",
       "_view_module_version": "~2.1.4"
      }
     },
     "52f330e135514d109ea4bc2ccaf79c30": {
      "model_module": "jupyter-js-widgets",
      "model_module_version": "~2.1.4",
      "model_name": "OutputModel",
      "state": {
       "_dom_classes": [],
       "_model_module": "jupyter-js-widgets",
       "_model_module_version": "~2.1.4",
       "_view_module": "jupyter-js-widgets",
       "_view_module_version": "~2.1.4",
       "layout": "IPY_MODEL_cfbb9b569d3b48fc9066b6d32b3c73ab",
       "msg_throttle": 1
      }
     },
     "5744c842cb4f498fad5c064adf5c196f": {
      "model_module": "jupyter-js-widgets",
      "model_module_version": "~2.1.4",
      "model_name": "LayoutModel",
      "state": {
       "_model_module_version": "~2.1.4",
       "_view_module_version": "~2.1.4"
      }
     },
     "6276c78c2d5348a1a089aaabdd535848": {
      "model_module": "jupyter-js-widgets",
      "model_module_version": "~2.1.4",
      "model_name": "VBoxModel",
      "state": {
       "_dom_classes": [
        "widget-interact"
       ],
       "_model_module_version": "~2.1.4",
       "_view_module_version": "~2.1.4",
       "children": [
        "IPY_MODEL_aafcc523c3fe4e90ae5904dd69922e0d",
        "IPY_MODEL_9811cbae932c433ab01b25760ea43b9a",
        "IPY_MODEL_6f8a9b9b32104ad0958e55dcb1af32eb",
        "IPY_MODEL_52f330e135514d109ea4bc2ccaf79c30"
       ],
       "layout": "IPY_MODEL_34ba00aa7c5145aa91565ed30bcba95a"
      }
     },
     "6b5e95893a754995893d75f2486da29f": {
      "model_module": "jupyter-js-widgets",
      "model_module_version": "~2.1.4",
      "model_name": "LayoutModel",
      "state": {
       "_model_module_version": "~2.1.4",
       "_view_module_version": "~2.1.4"
      }
     },
     "6e563b6ee49a4e2a9a27a11c7b7cd44f": {
      "model_module": "jupyter-js-widgets",
      "model_module_version": "~2.1.4",
      "model_name": "OutputModel",
      "state": {
       "_dom_classes": [],
       "_model_module": "jupyter-js-widgets",
       "_model_module_version": "~2.1.4",
       "_view_module": "jupyter-js-widgets",
       "_view_module_version": "~2.1.4",
       "layout": "IPY_MODEL_90939de239fd422985b3d28c2e54e9ff",
       "msg_throttle": 1
      }
     },
     "6f8a9b9b32104ad0958e55dcb1af32eb": {
      "model_module": "jupyter-js-widgets",
      "model_module_version": "~2.1.4",
      "model_name": "ToggleButtonModel",
      "state": {
       "_model_module_version": "~2.1.4",
       "_view_module_version": "~2.1.4",
       "description": "Update",
       "layout": "IPY_MODEL_7646efcde52741429ad8a84d187b7be6"
      }
     },
     "75b2ec352a584f18aa11101cf714b39d": {
      "model_module": "jupyter-js-widgets",
      "model_module_version": "~2.1.4",
      "model_name": "TextModel",
      "state": {
       "_model_module_version": "~2.1.4",
       "_view_module_version": "~2.1.4",
       "description": "bn:",
       "layout": "IPY_MODEL_8b8f941e05a44b41b7bcefd724e4313a",
       "placeholder": "-(2 * numpy.pi * n * numpy.sinh(L) * (-1)**n) / ((L**2) + ((numpy.pi * n)**2))",
       "value": "-(2 * numpy.pi * n * numpy.sinh(L) * (-1)**n) / ((L**2) + ((numpy.pi * n)**2))"
      }
     },
     "7646efcde52741429ad8a84d187b7be6": {
      "model_module": "jupyter-js-widgets",
      "model_module_version": "~2.1.4",
      "model_name": "LayoutModel",
      "state": {
       "_model_module_version": "~2.1.4",
       "_view_module_version": "~2.1.4"
      }
     },
     "821c00525ed64567bf46fd267d1261b4": {
      "model_module": "jupyter-js-widgets",
      "model_module_version": "~2.1.4",
      "model_name": "TextModel",
      "state": {
       "_model_module_version": "~2.1.4",
       "_view_module_version": "~2.1.4",
       "description": "an:",
       "layout": "IPY_MODEL_5744c842cb4f498fad5c064adf5c196f",
       "placeholder": "0",
       "value": "0"
      }
     },
     "82745af2194c469c9d283a5695c59eb2": {
      "model_module": "jupyter-js-widgets",
      "model_module_version": "~2.1.4",
      "model_name": "VBoxModel",
      "state": {
       "_dom_classes": [
        "widget-interact"
       ],
       "_model_module_version": "~2.1.4",
       "_view_module_version": "~2.1.4",
       "children": [
        "IPY_MODEL_2aa49465dc5a4b738a90025df3bb915a",
        "IPY_MODEL_0974395ec1ea4b2cbda9176fcd086692",
        "IPY_MODEL_084c6aca77544e3594b648c15e648dc5",
        "IPY_MODEL_75b2ec352a584f18aa11101cf714b39d",
        "IPY_MODEL_930aa43d3a514b54829f96826f8a7dfe"
       ],
       "layout": "IPY_MODEL_853b35b0285b412ea99058ea2dfaf6e9"
      }
     },
     "853b35b0285b412ea99058ea2dfaf6e9": {
      "model_module": "jupyter-js-widgets",
      "model_module_version": "~2.1.4",
      "model_name": "LayoutModel",
      "state": {
       "_model_module_version": "~2.1.4",
       "_view_module_version": "~2.1.4"
      }
     },
     "8b8f941e05a44b41b7bcefd724e4313a": {
      "model_module": "jupyter-js-widgets",
      "model_module_version": "~2.1.4",
      "model_name": "LayoutModel",
      "state": {
       "_model_module_version": "~2.1.4",
       "_view_module_version": "~2.1.4"
      }
     },
     "8e7e376623ad4258accf7ebfd2661fc8": {
      "model_module": "jupyter-js-widgets",
      "model_module_version": "~2.1.4",
      "model_name": "SliderStyleModel",
      "state": {
       "_model_module_version": "~2.1.4",
       "_view_module_version": "~2.1.4"
      }
     },
     "8f61f95f7dcb455ca8278f48c74167db": {
      "model_module": "jupyter-js-widgets",
      "model_module_version": "~2.1.4",
      "model_name": "LayoutModel",
      "state": {
       "_model_module_version": "~2.1.4",
       "_view_module_version": "~2.1.4"
      }
     },
     "90939de239fd422985b3d28c2e54e9ff": {
      "model_module": "jupyter-js-widgets",
      "model_module_version": "~2.1.4",
      "model_name": "LayoutModel",
      "state": {
       "_model_module_version": "~2.1.4",
       "_view_module_version": "~2.1.4"
      }
     },
     "930aa43d3a514b54829f96826f8a7dfe": {
      "model_module": "jupyter-js-widgets",
      "model_module_version": "~2.1.4",
      "model_name": "OutputModel",
      "state": {
       "_dom_classes": [],
       "_model_module": "jupyter-js-widgets",
       "_model_module_version": "~2.1.4",
       "_view_module": "jupyter-js-widgets",
       "_view_module_version": "~2.1.4",
       "layout": "IPY_MODEL_c642f82c2b8e40a39ea97d05a500c818",
       "msg_throttle": 1
      }
     },
     "945459241f7a4f52a39e425cf4e0360b": {
      "model_module": "jupyter-js-widgets",
      "model_module_version": "~2.1.4",
      "model_name": "ToggleButtonModel",
      "state": {
       "_model_module_version": "~2.1.4",
       "_view_module_version": "~2.1.4",
       "description": "Update",
       "layout": "IPY_MODEL_bf23ca9896154d90a62f13f36464530a"
      }
     },
     "9811cbae932c433ab01b25760ea43b9a": {
      "model_module": "jupyter-js-widgets",
      "model_module_version": "~2.1.4",
      "model_name": "IntSliderModel",
      "state": {
       "_model_module_version": "~2.1.4",
       "_view_module_version": "~2.1.4",
       "continuous_update": false,
       "description": "L",
       "layout": "IPY_MODEL_50b979ca493646649d4dec44583d120b",
       "max": 5,
       "min": 1,
       "style": "IPY_MODEL_4b4b8b3726434019ba36e19b2ec3e27f",
       "value": 1
      }
     },
     "a1184cc441b4449197985c8708d3fa2c": {
      "model_module": "jupyter-js-widgets",
      "model_module_version": "~2.1.4",
      "model_name": "LayoutModel",
      "state": {
       "_model_module_version": "~2.1.4",
       "_view_module_version": "~2.1.4"
      }
     },
     "a3749270200d411293152aa2363bd41f": {
      "model_module": "jupyter-js-widgets",
      "model_module_version": "~2.1.4",
      "model_name": "LayoutModel",
      "state": {
       "_model_module_version": "~2.1.4",
       "_view_module_version": "~2.1.4"
      }
     },
     "aafcc523c3fe4e90ae5904dd69922e0d": {
      "model_module": "jupyter-js-widgets",
      "model_module_version": "~2.1.4",
      "model_name": "IntSliderModel",
      "state": {
       "_model_module_version": "~2.1.4",
       "_view_module_version": "~2.1.4",
       "continuous_update": false,
       "description": "n",
       "layout": "IPY_MODEL_24e0962ab093478db341f19ad4038a47",
       "min": 1,
       "style": "IPY_MODEL_3079262a1985408f87dc2b0861cd451e",
       "value": 1
      }
     },
     "af80f53733584bf0980cd76e6287e29f": {
      "model_module": "jupyter-js-widgets",
      "model_module_version": "~2.1.4",
      "model_name": "OutputModel",
      "state": {
       "_dom_classes": [],
       "_model_module": "jupyter-js-widgets",
       "_model_module_version": "~2.1.4",
       "_view_module": "jupyter-js-widgets",
       "_view_module_version": "~2.1.4",
       "layout": "IPY_MODEL_182d0607d1014d308f73b18e926dcc80",
       "msg_throttle": 1
      }
     },
     "b2627e7f21c94ffb930d01b446fbb8dc": {
      "model_module": "jupyter-js-widgets",
      "model_module_version": "~2.1.4",
      "model_name": "IntSliderModel",
      "state": {
       "_model_module_version": "~2.1.4",
       "_view_module_version": "~2.1.4",
       "continuous_update": false,
       "description": "L",
       "layout": "IPY_MODEL_0e363b21e69943f9a74ed492a28386ba",
       "max": 5,
       "min": 1,
       "style": "IPY_MODEL_8e7e376623ad4258accf7ebfd2661fc8",
       "value": 1
      }
     },
     "be04562d7ea94e78b8a141cb79a61051": {
      "model_module": "jupyter-js-widgets",
      "model_module_version": "~2.1.4",
      "model_name": "IntSliderModel",
      "state": {
       "_model_module_version": "~2.1.4",
       "_view_module_version": "~2.1.4",
       "continuous_update": false,
       "description": "n",
       "layout": "IPY_MODEL_6b5e95893a754995893d75f2486da29f",
       "min": 1,
       "style": "IPY_MODEL_168e342e428c49458db1f44373fef8be",
       "value": 1
      }
     },
     "bf23ca9896154d90a62f13f36464530a": {
      "model_module": "jupyter-js-widgets",
      "model_module_version": "~2.1.4",
      "model_name": "LayoutModel",
      "state": {
       "_model_module_version": "~2.1.4",
       "_view_module_version": "~2.1.4"
      }
     },
     "c25ae37151d24ccc9dcd2a978cf20dad": {
      "model_module": "jupyter-js-widgets",
      "model_module_version": "~2.1.4",
      "model_name": "LayoutModel",
      "state": {
       "_model_module_version": "~2.1.4",
       "_view_module_version": "~2.1.4"
      }
     },
     "c642f82c2b8e40a39ea97d05a500c818": {
      "model_module": "jupyter-js-widgets",
      "model_module_version": "~2.1.4",
      "model_name": "LayoutModel",
      "state": {
       "_model_module_version": "~2.1.4",
       "_view_module_version": "~2.1.4"
      }
     },
     "c8f1188e2eea469397d26355baacaf49": {
      "model_module": "jupyter-js-widgets",
      "model_module_version": "~2.1.4",
      "model_name": "LayoutModel",
      "state": {
       "_model_module_version": "~2.1.4",
       "_view_module_version": "~2.1.4"
      }
     },
     "cb9dabb28837471692edebbfa6fc8cf0": {
      "model_module": "jupyter-js-widgets",
      "model_module_version": "~2.1.4",
      "model_name": "TextModel",
      "state": {
       "_model_module_version": "~2.1.4",
       "_view_module_version": "~2.1.4",
       "description": "a0:",
       "layout": "IPY_MODEL_c8f1188e2eea469397d26355baacaf49",
       "placeholder": "0",
       "value": "0"
      }
     },
     "cfbb9b569d3b48fc9066b6d32b3c73ab": {
      "model_module": "jupyter-js-widgets",
      "model_module_version": "~2.1.4",
      "model_name": "LayoutModel",
      "state": {
       "_model_module_version": "~2.1.4",
       "_view_module_version": "~2.1.4"
      }
     },
     "ebb999c1b8504251986432fdd5ddbe11": {
      "model_module": "jupyter-js-widgets",
      "model_module_version": "~2.1.4",
      "model_name": "LayoutModel",
      "state": {
       "_model_module_version": "~2.1.4",
       "_view_module_version": "~2.1.4"
      }
     },
     "f641892012be4a61885a66529d2ab653": {
      "model_module": "jupyter-js-widgets",
      "model_module_version": "~2.1.4",
      "model_name": "TextModel",
      "state": {
       "_model_module_version": "~2.1.4",
       "_view_module_version": "~2.1.4",
       "description": "bn:",
       "layout": "IPY_MODEL_081911a5b6564023b219ab4740398cdc",
       "placeholder": "-(2 * numpy.pi * n * numpy.sinh(L) * (-1)**n) / ((L**2) + ((numpy.pi * n)**2))",
       "value": "-(2 * numpy.pi * n * numpy.sinh(L) * (-1)**n) / ((L**2) + ((numpy.pi * n)**2))"
      }
     }
    },
    "version_major": 1,
    "version_minor": 0
   }
  }
 },
 "nbformat": 4,
 "nbformat_minor": 2
}
