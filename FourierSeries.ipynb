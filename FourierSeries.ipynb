{
 "cells": [
  {
   "cell_type": "code",
   "execution_count": 1,
   "metadata": {
    "scrolled": true
   },
   "outputs": [],
   "source": [
    "%matplotlib inline\n",
    "from ipywidgets import interact\n",
    "import ipywidgets as widgets\n",
    "import matplotlib.pyplot as plt\n",
    "import numpy"
   ]
  },
  {
   "cell_type": "code",
   "execution_count": 2,
   "metadata": {
    "scrolled": false
   },
   "outputs": [],
   "source": [
    "#The FourierSeries class is just a conventient way to track the function and associted Fourier Coefficents.\n",
    "class FourierSeries:\n",
    "    #Fourier Coefficients\n",
    "    a0 = lambda self, L: 0\n",
    "    an = lambda self, n, L: 0\n",
    "    bn = lambda self, n, L: 0\n",
    "    #The function being approximated\n",
    "    f = lambda t : 0\n",
    "    #Returns a lambda function which represents the Fourier series for a given n and L.\n",
    "    def fs(self):\n",
    "        fs_cos = lambda t, n, L: numpy.cos((numpy.pi * n * t) / L)\n",
    "        fs_sine = lambda t, n, L: numpy.sin((numpy.pi * n * t) / L)\n",
    "        return lambda t, n, L: self.a0(L) + (self.an(n, L) * fs_cos(t, n, L)) +  (self.bn(n, L) * fs_sine(t, n, L))"
   ]
  },
  {
   "cell_type": "code",
   "execution_count": 3,
   "metadata": {
    "scrolled": false
   },
   "outputs": [],
   "source": [
    "#Plot yfa vs. t and y vs. t given the x and y boundaries\n",
    "def plot_FS(t, yfa, y, x_min, x_max, y_min, y_max):\n",
    "    \n",
    "    x_width = 10 \n",
    "    y_height = 5\n",
    "    plt.figure(1, figsize=(x_width, y_height))\n",
    "    plt.xlabel('x', fontsize=16)\n",
    "    plt.ylabel('y', fontsize=16)\n",
    "    plt.xlim(x_min, x_max)\n",
    "    plt.ylim(y_min, y_max)\n",
    "    plt.grid()\n",
    "    plt.plot(t, yfa);\n",
    "    plt.plot(t, y);\n",
    "    plt.show()\n",
    " "
   ]
  },
  {
   "cell_type": "code",
   "execution_count": 4,
   "metadata": {
    "scrolled": true
   },
   "outputs": [],
   "source": [
    "#I chose cosh(x) and the Fourier Series of cosh of x to be the default.\n",
    "#Create lambda functions for cosh(t) and the Fourier cofficients\n",
    "f = lambda t : numpy.cosh(t)\n",
    "a0 = lambda L : 0\n",
    "an = lambda n, L : 0\n",
    "bn = lambda n, L: ((2 * numpy.pi * n) * (1 - (((-1)**n) * numpy.cosh(L)))) / (((numpy.pi * n)**2) + (L**2))\n",
    "Fn = lambda t, n, L: numpy.sin((numpy.pi * n * t) / L)\n",
    "#Set the function and the Fourier Coefficients into th \n",
    "fs = FourierSeries();\n",
    "fs.f = f\n",
    "fs.a0 = a0\n",
    "fs.an = an\n",
    "fs.bn = bn\n",
    "    \n",
    "#Set the default text for the function and Fourier Series coefficient inputs text boxes\n",
    "sinh_bn_text = '-(2 * numpy.pi * n * numpy.sinh(L) * (-1)**n) / ((L**2) + ((numpy.pi * n)**2))'\n",
    "f_text = widgets.Text(value='numpy.sinh(t)', placeholder='numpy.sinh(t)', description='f:', disabled=False)\n",
    "a0_text = widgets.Text(value='0', placeholder='0', description='a0:', disabled=False)\n",
    "an_text = widgets.Text(value='0', placeholder='0', description='an:', disabled=False)\n",
    "bn_text = widgets.Text(value=sinh_bn_text, placeholder=sinh_bn_text, description='bn:', disabled=False)"
   ]
  },
  {
   "cell_type": "code",
   "execution_count": 5,
   "metadata": {
    "scrolled": false
   },
   "outputs": [
    {
     "data": {
      "text/plain": [
       "<matplotlib.figure.Figure at 0x21079830320>"
      ]
     },
     "metadata": {},
     "output_type": "display_data"
    },
    {
     "data": {
      "application/vnd.jupyter.widget-view+json": {
       "model_id": "791ad871ade24403bd44841e57b3ac25",
       "version_major": 2,
       "version_minor": 0
      },
      "text/html": [
       "<p>Failed to display Jupyter Widget of type <code>interactive</code>.</p>\n",
       "<p>\n",
       "  If you're reading this message in the Jupyter Notebook or JupyterLab Notebook, it may mean\n",
       "  that the widgets JavaScript is still loading. If this message persists, it\n",
       "  likely means that the widgets JavaScript library is either not installed or\n",
       "  not enabled. See the <a href=\"https://ipywidgets.readthedocs.io/en/stable/user_install.html\">Jupyter\n",
       "  Widgets Documentation</a> for setup instructions.\n",
       "</p>\n",
       "<p>\n",
       "  If you're reading this message in another frontend (for example, a static\n",
       "  rendering on GitHub or <a href=\"https://nbviewer.jupyter.org/\">NBViewer</a>),\n",
       "  it may mean that your frontend doesn't currently support widgets.\n",
       "</p>\n"
      ],
      "text/plain": [
       "interactive(children=(Text(value='numpy.sinh(t)', description='f:', placeholder='numpy.sinh(t)'), Text(value='0', description='a0:', placeholder='0'), Text(value='0', description='an:', placeholder='0'), Text(value='-(2 * numpy.pi * n * numpy.sinh(L) * (-1)**n) / ((L**2) + ((numpy.pi * n)**2))', description='bn:', placeholder='-(2 * numpy.pi * n * numpy.sinh(L) * (-1)**n) / ((L**2) + ((numpy.pi * n)**2))'), Output()), _dom_classes=('widget-interact',))"
      ]
     },
     "metadata": {},
     "output_type": "display_data"
    },
    {
     "data": {
      "application/vnd.jupyter.widget-view+json": {
       "model_id": "2289e5df9faa459697c483f35dd68ace",
       "version_major": 2,
       "version_minor": 0
      },
      "text/html": [
       "<p>Failed to display Jupyter Widget of type <code>interactive</code>.</p>\n",
       "<p>\n",
       "  If you're reading this message in the Jupyter Notebook or JupyterLab Notebook, it may mean\n",
       "  that the widgets JavaScript is still loading. If this message persists, it\n",
       "  likely means that the widgets JavaScript library is either not installed or\n",
       "  not enabled. See the <a href=\"https://ipywidgets.readthedocs.io/en/stable/user_install.html\">Jupyter\n",
       "  Widgets Documentation</a> for setup instructions.\n",
       "</p>\n",
       "<p>\n",
       "  If you're reading this message in another frontend (for example, a static\n",
       "  rendering on GitHub or <a href=\"https://nbviewer.jupyter.org/\">NBViewer</a>),\n",
       "  it may mean that your frontend doesn't currently support widgets.\n",
       "</p>\n"
      ],
      "text/plain": [
       "interactive(children=(IntSlider(value=1, continuous_update=False, description='n', min=1), IntSlider(value=1, continuous_update=False, description='L', max=5, min=1), ToggleButton(value=False, description='Update'), Output()), _dom_classes=('widget-interact',))"
      ]
     },
     "metadata": {},
     "output_type": "display_data"
    }
   ],
   "source": [
    "plt.figure(1, figsize=(10, 5));\n",
    "n_slider = widgets.IntSlider(min=1,max=100,step=1,value=1, continuous_update=False)\n",
    "L_slider = widgets.IntSlider(min=1,max=5,step=1,value=1, continuous_update=False)\n",
    "tog_btn = widgets.ToggleButton(value=False, description='Update', disabled=False)\n",
    "\n",
    "loaded_fs = FourierSeries();\n",
    "def new_f_text (i, j, k, l):\n",
    "    \n",
    "    #Save the values of the lambdas entered to Fourier Series object.\n",
    "    loaded_fs.f = lambda t: eval(i)\n",
    "    loaded_fs.a0 = lambda L: eval(j)\n",
    "    loaded_fs.an = lambda n, L: eval(k)\n",
    "    loaded_fs.bn = lambda n, L: eval(l)\n",
    "    \n",
    "interact(new_f_text,i=f_text, j=a0_text, k=an_text, l=bn_text)\n",
    "\n",
    "\n",
    "def f(n, L, z):\n",
    "    \n",
    "    if z:\n",
    "        fs.f = loaded_fs.f\n",
    "        fs.a0 = loaded_fs.a0\n",
    "        fs.an = loaded_fs.an\n",
    "        fs.bn = loaded_fs.bn\n",
    "        \n",
    "    #Calculate poitns for the function f(x)\n",
    "    t = numpy.linspace(-(L + 0.25), L + 0.25, 1000)\n",
    "    yfa = fs.f(t)\n",
    "    \n",
    "    #Calculate points for the Fourier Series approximation FS(s)\n",
    "    y = numpy.zeros(1000)\n",
    "    for i in range(1, n):\n",
    "        yn = fs.fs()(t, i, L)\n",
    "        y += yn\n",
    "    \n",
    "    #Choose bounds for the plot\n",
    "    x_min = -(L + 0.2)\n",
    "    x_max = (L + 0.2)\n",
    "    y_min = -L if numpy.amin(y) == numpy.amax(y) else (numpy.amin(y) - 0.2)\n",
    "    y_max = fs.f(L) if numpy.amin(y) == numpy.amax(y) else (numpy.amax(y) + 0.2)\n",
    "    \n",
    "    plot_FS(t, yfa, y, x_min, x_max, y_min, y_max)\n",
    "\n",
    "interact(f, n=n_slider, L=L_slider, z=tog_btn);\n"
   ]
  },
  {
   "cell_type": "code",
   "execution_count": null,
   "metadata": {
    "scrolled": true
   },
   "outputs": [],
   "source": []
  }
 ],
 "metadata": {
  "kernelspec": {
   "display_name": "Python 3",
   "language": "python",
   "name": "python3"
  },
  "language_info": {
   "codemirror_mode": {
    "name": "ipython",
    "version": 3
   },
   "file_extension": ".py",
   "mimetype": "text/x-python",
   "name": "python",
   "nbconvert_exporter": "python",
   "pygments_lexer": "ipython3",
   "version": "3.6.2"
  },
  "widgets": {
   "application/vnd.jupyter.widget-state+json": {
    "state": {
     "04c04ec285eb45cfa1cae3fd2ee35185": {
      "model_module": "@jupyter-widgets/controls",
      "model_module_version": "1.0.0",
      "model_name": "IntSliderModel",
      "state": {
       "continuous_update": false,
       "description": "L",
       "layout": "IPY_MODEL_8b0db1b5237c4ca9a7549eafd4724b65",
       "max": 5,
       "min": 1,
       "style": "IPY_MODEL_a808eda7cca34a7fb5a81bd659f37e7d",
       "value": 1
      }
     },
     "0760bbc83ac740b9a49ef9a2ed2d7c0c": {
      "model_module": "@jupyter-widgets/base",
      "model_module_version": "1.0.0",
      "model_name": "LayoutModel",
      "state": {}
     },
     "12e2218af8234209a1191c0d43aae3f7": {
      "model_module": "@jupyter-widgets/controls",
      "model_module_version": "1.0.0",
      "model_name": "DescriptionStyleModel",
      "state": {
       "description_width": ""
      }
     },
     "13640af283c9462aa4e22f69eb9d1438": {
      "model_module": "@jupyter-widgets/base",
      "model_module_version": "1.0.0",
      "model_name": "LayoutModel",
      "state": {}
     },
     "1cdff01959cc4aafaaba8cca5b500288": {
      "model_module": "@jupyter-widgets/base",
      "model_module_version": "1.0.0",
      "model_name": "LayoutModel",
      "state": {}
     },
     "1e4c4c3799b34a319a27e0641a20f970": {
      "model_module": "@jupyter-widgets/controls",
      "model_module_version": "1.0.0",
      "model_name": "VBoxModel",
      "state": {
       "_dom_classes": [
        "widget-interact"
       ],
       "children": [
        "IPY_MODEL_f318997eec82443994cc1914e692a1bf",
        "IPY_MODEL_43e830758ef6446d854c1cb1d8d9640d",
        "IPY_MODEL_977c6e98cd9144fb94be37971e18a344",
        "IPY_MODEL_2749a6dec34b4969aeb3eaf481fa491a",
        "IPY_MODEL_f17599857cc648e9be9b26abd45cbc73"
       ],
       "layout": "IPY_MODEL_38ca2d5e2f1a48ee8456da607f183141"
      }
     },
     "2289e5df9faa459697c483f35dd68ace": {
      "model_module": "@jupyter-widgets/controls",
      "model_module_version": "1.0.0",
      "model_name": "VBoxModel",
      "state": {
       "_dom_classes": [
        "widget-interact"
       ],
       "children": [
        "IPY_MODEL_f8570f8dddb845a29c7ace04a6bda807",
        "IPY_MODEL_04c04ec285eb45cfa1cae3fd2ee35185",
        "IPY_MODEL_780e5c378f464471b60688d5147578c9",
        "IPY_MODEL_36366c25a5734ea485c83b21dcfddd75"
       ],
       "layout": "IPY_MODEL_2eaf99508e82412b8f1fc23f777e4fd0"
      }
     },
     "2749a6dec34b4969aeb3eaf481fa491a": {
      "model_module": "@jupyter-widgets/controls",
      "model_module_version": "1.0.0",
      "model_name": "TextModel",
      "state": {
       "description": "bn:",
       "layout": "IPY_MODEL_2fa9eb62e9f2452c9a2fa76c935dc262",
       "placeholder": "-(2 * numpy.pi * n * numpy.sinh(L) * (-1)**n) / ((L**2) + ((numpy.pi * n)**2))",
       "style": "IPY_MODEL_5ac33b2110dc44bd9d64696f5c21cf33",
       "value": "-(2 * numpy.pi * n * numpy.sinh(L) * (-1)**n) / ((L**2) + ((numpy.pi * n)**2))"
      }
     },
     "2d36559897a7497598493e48fbd89f68": {
      "model_module": "@jupyter-widgets/controls",
      "model_module_version": "1.0.0",
      "model_name": "DescriptionStyleModel",
      "state": {
       "description_width": ""
      }
     },
     "2df9c5d85f87405e86b826e007f7c2d6": {
      "model_module": "@jupyter-widgets/base",
      "model_module_version": "1.0.0",
      "model_name": "LayoutModel",
      "state": {}
     },
     "2eaf99508e82412b8f1fc23f777e4fd0": {
      "model_module": "@jupyter-widgets/base",
      "model_module_version": "1.0.0",
      "model_name": "LayoutModel",
      "state": {}
     },
     "2fa9eb62e9f2452c9a2fa76c935dc262": {
      "model_module": "@jupyter-widgets/base",
      "model_module_version": "1.0.0",
      "model_name": "LayoutModel",
      "state": {}
     },
     "36366c25a5734ea485c83b21dcfddd75": {
      "model_module": "@jupyter-widgets/output",
      "model_module_version": "1.0.0",
      "model_name": "OutputModel",
      "state": {
       "layout": "IPY_MODEL_d04ae35e3ddd495083ab53ad625d37dc",
       "outputs": [
        {
         "data": {
          "image/png": "iVBORw0KGgoAAAANSUhEUgAAAnIAAAFFCAYAAABouQAdAAAABHNCSVQICAgIfAhkiAAAAAlwSFlz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\nTkSuQmCC\n",
          "text/plain": "<matplotlib.figure.Figure at 0x21079830470>"
         },
         "metadata": {},
         "output_type": "display_data"
        }
       ]
      }
     },
     "38ca2d5e2f1a48ee8456da607f183141": {
      "model_module": "@jupyter-widgets/base",
      "model_module_version": "1.0.0",
      "model_name": "LayoutModel",
      "state": {}
     },
     "43e830758ef6446d854c1cb1d8d9640d": {
      "model_module": "@jupyter-widgets/controls",
      "model_module_version": "1.0.0",
      "model_name": "TextModel",
      "state": {
       "description": "a0:",
       "layout": "IPY_MODEL_5cc547b5afd347a2806c3e478270cf67",
       "placeholder": "0",
       "style": "IPY_MODEL_d44eb5e9fdae49b794c75eb58b20acfa",
       "value": "0"
      }
     },
     "4692670c843a4d15b028b58998be3154": {
      "model_module": "@jupyter-widgets/controls",
      "model_module_version": "1.0.0",
      "model_name": "TextModel",
      "state": {
       "description": "f:",
       "layout": "IPY_MODEL_a46f56c7933944bb860bb9fbe8753dab",
       "placeholder": "numpy.sinh(t)",
       "style": "IPY_MODEL_63d5803cbfb84e5582d6648642fa5339",
       "value": "numpy.sinh(t)"
      }
     },
     "47e22599a03047ccbfee7bcc8857cdd7": {
      "model_module": "@jupyter-widgets/controls",
      "model_module_version": "1.0.0",
      "model_name": "DescriptionStyleModel",
      "state": {
       "description_width": ""
      }
     },
     "50349c9f4be845d88a0bae775818f66a": {
      "model_module": "@jupyter-widgets/controls",
      "model_module_version": "1.0.0",
      "model_name": "IntSliderModel",
      "state": {
       "continuous_update": false,
       "description": "n",
       "layout": "IPY_MODEL_fd95299161974445988d267902733344",
       "min": 1,
       "style": "IPY_MODEL_db4e0f5b18f049dea7f5d746380eb784",
       "value": 60
      }
     },
     "5ac33b2110dc44bd9d64696f5c21cf33": {
      "model_module": "@jupyter-widgets/controls",
      "model_module_version": "1.0.0",
      "model_name": "DescriptionStyleModel",
      "state": {
       "description_width": ""
      }
     },
     "5cc547b5afd347a2806c3e478270cf67": {
      "model_module": "@jupyter-widgets/base",
      "model_module_version": "1.0.0",
      "model_name": "LayoutModel",
      "state": {}
     },
     "61cc971d26c043d080c37937391a2658": {
      "model_module": "@jupyter-widgets/base",
      "model_module_version": "1.0.0",
      "model_name": "LayoutModel",
      "state": {}
     },
     "63d5803cbfb84e5582d6648642fa5339": {
      "model_module": "@jupyter-widgets/controls",
      "model_module_version": "1.0.0",
      "model_name": "DescriptionStyleModel",
      "state": {
       "description_width": ""
      }
     },
     "755af624e19745be9c4dcbcea2bb3da9": {
      "model_module": "@jupyter-widgets/output",
      "model_module_version": "1.0.0",
      "model_name": "OutputModel",
      "state": {
       "layout": "IPY_MODEL_c6afa3bd09b244e2ab6f1983a721d75a",
       "outputs": [
        {
         "data": {
          "image/png": "iVBORw0KGgoAAAANSUhEUgAAAm4AAAFFCAYAAABVK2F7AAAABHNCSVQICAgIfAhkiAAAAAlwSFlz\nAAALEgAACxIB0t1+/AAAADl0RVh0U29mdHdhcmUAbWF0cGxvdGxpYiB2ZXJzaW9uIDIuMS4wLCBo\ndHRwOi8vbWF0cGxvdGxpYi5vcmcvpW3flQAAIABJREFUeJzs3Xd8FHX+x/HXbEsvJCEFEnon9AgI\nimBFxYb9sPeznu087zy987zTO9vdWc7esKCioD/FioYm0nsPJbT0hPS6O78/JiH0mi1J3s/HI4/Z\nndnZ+exsxE8+32aYpomIiIiIBD6bvwMQERERkSOjxE1ERESkmVDiJiIiItJMKHETERERaSaUuImI\niIg0E0rcRERERJoJJW4iIiIizYQSNxEREZFmQombiIiISDPh8HcA3hIXF2d26tRp9/PKWjcZuWW0\nCXWR3CbkiN+nvLycsLAwL0Qourfeo3vrPbq33qN76126v95zpPe2osbNxrwyYsNctIveOxdZtGhR\nvmmabQ/3Hi02cevUqRMLFy7ca9+T36zh1Rmb+O9NwxjRLW7vE9x1sPUX6Dxqr93p6emMHj3ay9G2\nTrq33qN76z26t96je+tdur9NwOOGDT9Aj7PAMHbvPpJ7W13nZtx/ZxNVXcf3944iIti513HDMDKP\nJIRW1VR67+k96BgbysNTVlBZ49774I+PwbvnwbYF/glOREREAtvcl+Cjy2HNl0d96ss/b2RDbhl/\nvyh1v6TtaLSqxC3YaefJ8f3ILKjg2e/X7X1w8URrm7XU94GJiIhI4Mv8xdpum39Up63NLuHl9AzO\nH9COU3slHFcIrSpxAxjRNY4Jwzrw5pzNzN9caO1010FNmfVYiZuIiIgcSPYKa3sUiVtNnYf7Pl5G\nVIiTx87rc9whtLrEDeCP5/QmpU0oD3y6jPLqOijNArO+6TQ/w7/BiYiISOBx10HpTutxee4Rn/bi\nTxtYnVXC3y/qR2x40HGH0SoTt7AgB89cOoBtRRX8Y9oaKN5mHQiKhMoi/wYnIiIigac0C0wPOMOg\nvOCITlm2bRcvpW9k/OD2nNU3sUnCaJWJG8DQzjHcfHIXPpi3lTVrV1o7kwZAZaF/AxMREZHAU7LD\n2iYNgJpSqKs+5Murat3c/+ky2oYH8dh5fZssjFabuAHcd0YPuseHkz5/ibUjsZ9VcTNN/wYmIiIi\ngaV4u7VNGmBtKw5ddXv2+3Vk5Jbxr0v6ExVy7KNI99WqE7dgp53nLhtIcE0RVbYQiGwHnjqoLvV3\naCIiIhJISrOsbWI/a1uef9CXzt9cyBuzNzNhWAdG9TjsnLpHpVUnbgD9kqMYnmiSWxfOisL6yfTU\nz01ERET2VJ4PNifEdLaeVxw4cSupquXej5eS3CaEP57Tu8nDaPWJG0DPiBoqXW14Y1GxtUP93ERE\nRGRPFfkQFgehsfXP988VTNPkkSkryS6p4t+XDyIsqOkXqFLiBtgq8klp34ECt7XOmLtcFTcRERHZ\nQ3kBhMZBUIT1vGH+1z1MWbKDL5ft5HendWdIxzZeCUOJG0BFAaFtErh6tNVu/cOS9X4OSERERAJK\nRT6ExYIz1HpeU77X4cyCcv48dSVDO8Vw+5huXgtDiZtpQnkehMZy5sAuAExfvplFmaq6iYiISL3y\nfKvi5rJa56ip2H2ozmNy96Sl2G0Gz18xELvNOMibHL+AS9wMw3jLMIxcwzBW7rEvxjCMHwzD2FC/\nbbr6Y3UpuGsgLA7DFQ5AUoibeyYtoaSqtskuIyIiIs1YRYHVx83uBHvQXk2lUzNqWbZtF09d3J/2\n0SFeDSPgEjfgHWDsPvv+AEw3TbM7ML3+edNoGBUSGgcuq/x52YBYsoqreGTKSkzN6SYiItK61VVD\ndYmVK4BVdatvKp27sYCvN9VyeVoK5/RL8nooAZe4maY5E9h3qMYFwLv1j98FLmyyCzYsWxHWFhxW\nlpwcZvK707rz5bKdzN5R12SXEhERkWaoYQRpWP2I0vrELb+smt99vIT4UINHm2AB+SMRcInbQSSY\nppkFUL+Nb7J3bqi4hcWCzWZ1Oqwp5/Yx3RjeJYaJa2pYl60JeUVERFqt3a1zjYmbWVPOPZOWsKui\nljsGBnll6o8D8c1VfMQwjFuAWwASEhJIT08/7DmJWXPoBfy6PIOqDaWMwEleZgYbZs7gig4eVm0z\nufb1WTx2YgghDu91NmyNysrKjug7kqOne+s9urfeo3vrXbq/x65N4VIGAEvWb6c4N53BVW62b8pk\nTnEB16e6iLFV+uzeNpfELccwjCTTNLMMw0gCcg/0ItM0XwNeA0hLSzNHjx59+HeevQTWwfDTxlml\nz6VRtI+Lpn39uVnl03l6YRVf5Ubx4pWDMAwlb00lPT2dI/qO5Kjp3nqP7q336N56l+7vcViRD8th\n0MjToW1PitbEUV5cyPjB7Xn00gHMmDHDZ/e2uTSVfglcW//4WuCLJnvn8nyrb1vD8F5nGNQ2zs3S\nO9bOA2f15OvlWbz7y5Ymu6yIiIg0E+WNAxmziitZllNLG0cNT1yY6vOCTsAlboZhfATMBXoahrHd\nMIwbgaeAMwzD2ACcUf+8aTQM723gCt1rbhaA20Z15bRe8fx92hoWb9X8biIiIq1KRT4YNmqDorjz\nwyWUm0F0iIBQl+8bLgMucTNN80rTNJNM03SapplsmuabpmkWmKZ5mmma3eu3TbeYaHl+Y2dDsAYn\n1O6duNlsBs9dNpCEyGDu/GAxheU1TXZ5ERERCXDl+RASw7++W8+izCL6dm6Hy11x+PO8IOASN59r\nWDS2wR5zs+wpKtTJ/yYMIb+shnsmLcHt0fxuIiIirUJFPiX2KF6ftZlrTuxIp4Q4qKvySyitI3Ez\nTciYDgUb9z/WsGhsgwNU3Br0S47irxf0ZdaGfP757VovBSsiIiJ+sWU2ZK/Yb3d5UQ5rSlwM7RTD\nI+f2AUcQ1Cpx857F78H74+HDy8C9z4S6+1bcnPv3cdvTlUM7cPXwjrw2cxNTlmz3UsAiIiLiUxk/\nwjvnwuunNk64C+SXVZOXs4NyezQvXzUYl8MGjmBwV1uFIR9rHYnboretbUEGbEpv3F9TYVXX9uzj\n5giyvoxDePS8PgzrHMNDn61g+fZdTR+viIiI+NaS962tuwbWfAlArdvD7R8sJspTwoCe3YgLD7Je\n46jf1h06X/CGlp+4VRXDziVw8v1gd8HmGY3Hdq+asEfFzRF82C/Cabfx8oTBtA0P4pb3FpFb6p9y\nqYiIiDQBjwc2/AiDr4XI9lb3KuBvX61m4eZ8oo0yYuPbNb7eWb+QfF2lz0Nt+YlbziprmzIckk+w\n2q8blOVZ27C2jfscQUfU4TA2PIjXr0mjuLKW376/mOo6dxMGLSIiIj5TtBlqSiE5DTqPgq1z+XjB\nVt6bm8ndJ8ZiYO7fOgequHlF9kprm5gK7QZZiZy71tpXlm1tIxIbX+8IBk8deA6fiPVpF8kzlw5g\nUWYRj05dhemHtm4RERE5Tg1FnoRUSBoA5Xn8e+psTu4ex50nRFjH9iryBFtbP4wsbfmJW84KCImB\niCTry3BXQ/4G61hplrWNSGp8/VFm0ef2T+LuU7vx8cJtvDpzUxMGLiIiIj6RsxIMG8T3ZkdIdwBG\nR2bx4pWDcZTnWK+J3KOpVBU3L8peaVXbDAMS+9Xvqx/qW5pjfVHHmUX/7vQenDegHU99s5avl2c1\nUeAiIiLiE9krIbYbhTV2bv7O+v//QwNriQp1QulO6zV7FXnqc4Va9XFrWu46yF0NCfUJW2x362Zn\nL7eel2ZBWDzY7I3nHEMWbbMZPH1Jf9I6tuHeT5ayKFPLYomIiDQbOStxx/fllvcWklFipzo8heiS\n+vlaSw7UOtdQ5FHFrWkVbrQqZ4mp1nO7A+L77JG4ZUNEwt7nHGO7dbDTzmvXpNEuKpib31tIZsH+\nqy+IiIhIgKkqgV2ZfJMby8LMIp67bABBKQMha48iT2gcOFyN56iPm5c0NIkmpDbuS+xn7TdNaxRJ\ndMe9z2n4Yo4hi44Jc/H29UPxmCbXv7OAXRVa01RERCSg1Q9M+GxnGx48qyfj+reDxP5QuAmqS6F4\nO0Qm7X2OKm5ekrMSbA5o27NxX1J/qCyCoi3WT2y3vc85ziy6c1wYr1+TxvbCSm6ZuIiqWk0TIiIi\nEqgWzJ8FQNfUYdw+uqu1M7EfYELOaijYYHW12tPublXq49a0sldCXM/GGwxWFg2w9mtr2o/Yrnuf\n0wQjRU7oFMPTl/Zn/uZCfjdpqRakFxERCUDfrsxmw/K5lNkieOiyUzEMwzrQMJhx+3woyoS4Hnuf\nuHsCXlXcmlbOysab3yChrzWSdOkH1vMmrrg1uGBgex4d14dvV2XzyNQVmuNNRETEn+a+DJNvtJo+\ngXmbCrh70hKGBO0gJHkATsceAxUj20N4Qv0yWCa03Sdx213k8X0fN4fPr+grnjqrQ2Fi6t77XWHQ\ncSRsmQWucGtS3j01JG7u4++fdsNJnSkor+alnzcSGxbEA2f1PPxJIiIi0rQ2pcN3D1uPS3ayZuwk\nbnpvIR2ig+hRvQ0j6dS9X28Y0O30xiJP+yF7H989HYgGJzSdhrlVElL3Pzb4WmvbY+zezajQ5Fn0\nA2f25MqhKbz4cwZvzd7cJO8pIiIiR2H+69b0X2f+Hbb+wjNvTiQ8yMH7Fydg1FZYrXH7GnClte0w\nAtp02vuYKm5eUFMOGPtnyQD9L4XkIdaXuK8mHiliGAZPXNiPovJaHv9qNTFhLi4c1L5J3ltEREQO\no7oM1n8HQ28mr9cEQr9/gvPd3/OHW64lMesr6zX7tr4BdD4Z7loMQRH7H9OoUi+oKYf43hAceeDj\nMV0gKHz//V7Iou02g39fMZDhXWJ44NNl/LA6p8neW0RERA5h61zw1FKSMoar3l3BNM+JjHPMp3s0\nsO1XCIqy5ng9kNiuEH6AIo/NARhN0q3qaLXgxK0MOp9y9Od5aVK9YKed169Jo2/7KO74YDHp63Kb\n9P1FRETkADbPxLQ5ue5Hg80F5fQ8+zbsdZWw/BPY8AN0HAG2o0yHDAPsLiVuTcr0QOr4oz/PfuwT\n8B5ORLCT964fSveEcG6duIg5GflNfg0RERFp5N40g9X2nqzIreXVq4fQf/iZkDQQvr4PSnZA/8uO\n7Y3tLnDXNm2wR6DlJm6hMZB8wtGf19BU6qUsOirUycQbh9EpNoyb3l3I/M2FXrmOiIhIa1dZXICR\nvZwfKnvywpWDGdMz3qqWnfMMhMRAl9HQa9yxvbndqYpbk4ruaH05R8vmtLZezKJjwly8f9MwkqKD\nuf7t+SzeqkXpRUREmlJVrZvX3nsHGyZpYy5kbGpi48GUE+D+dXD11L3XID0aStwChM2OLzocto0I\n4sObhhMXEcS1b81n6bZdXr2eiIhIa1FZ4+bm9xYSk/MLtfZQThp99v4vcriOrcDTQE2lAWJ3h0Pv\nfxmJUcF8ePNw2oS6uOqNeSzcomZTERGRo7Z5Fnx8NayYTEVNHTe8s4DZGflcGLUBZ9dRVnWsqani\nFkB8mEW3jw7h41uHEx8RxDVvzWfuxgKfXFdERKRFKN4BH14Ga76Ez27khZdfYN7mAv43ri0R5ZlW\nPzZv0KjSAOLjLDopKoRJtwynfXQI178zn1kb8nx2bRERkWZt7ovgrqXs5rlssXfiuqJ/8/L4Lozl\nV+t4tzO8c127U02lAcMPWXR8ZDCTbhlO57hwbnx3IT+t1SS9IiIih+TxwKop1HY5nQlTCrmn6mba\n2koZu/aPMO8VSBkGcd28c21V3AKIn7Lo2PAgPrp5GD0TIrh14iK+Xp7l8xhERESajW2/QmkWz+zo\ny+qsEu6ccCm2Ux6CjT9BaRac/hfvXdtPiVvLXav0ePipwyFAdKg1VciN7yzgzo8WU1SRylXDO/ol\nFhERkUBWsvBjXLj4rLwfb183lJO6x0Hv31vrjIa0sZa+9Ba7E+pUcQsMdhd4fF9xaxAVYk3SO6Zn\nPI9MXcl/p2/ANE2/xSMiIhJoVm8vombFVGYxmDduHm0lbWDNDtFxhHeTNvBbrqDE7UD81FS6pxCX\nnVevHsL4we157of1/OXLVXg8St5ERETmby7k2TfeIo5dpJ55HQNTon0fhJpKA4ifvox9Oe02nrlk\nALFhLl6ftZnCilqevXQALofybRERaUWqy6yiiiOIH1bncOeHi3kmZB4eQklKu8A/MfmpyKPE7UAC\nJHEDsNkM/nhOb2LDg3jqm7Xkl1bzylVDiAr1wmSCIiIigWbROzDtQXCF8V2vv3Pbr9Gc0C6Ic8vm\nYutxLrhC/ROXRpUGkABoKt2TYRjcdkpXnrtsAAszCxn/vzlsK6zwd1giIiLelb8BvroPs/0Qsonl\nlMX3cHunHD4YuBpbdQmk3eC/2LTkVQCx+W9U6aGMH5zMxBuHkV9Ww4UvzdHi9CIi0rLNfBrTGcz9\nxv2cXfQAZcFJPJB9P87pf7Ym1u1wov9i05JXAcRPWfSRGN4lls9vH0FYkIMrX/uVaSs015uIiLRA\nFYWYq6YyzTaaqetruOe84cTdNR1jyHWQdiNc/PrxLRJ/vNRUGkACrKl0X13bhjPl9hGkto/i9g8W\n88qMjZouREREWpScWW9juKt5rfwUXr06jetGdobweBj3PIx7zpqnzZ/UVBpAAmhwwsHEhgfxwU3D\nGNc/iae+Wcv9nyyjqtbt77BERESO29fLdlL+yxusMHrwt1sv54w+Cf4OaX9+airVqNIDCeCm0j0F\nO+3894pB9EyI4Nkf1rMht4xXrx5Cu+gQf4cmIiJy1Dwek+d+WM+iGV/wkWsnJWe9QGSyH+ZoOxIN\nRR4ft3ip4nYgflzy6mjZbAZ3ndadN65JY3N+Oee9MJt5mwr8HZaIiMjhmSasmAy/vEBpwQ5ufm8h\nL/6cwR/jZmOGtCFyyGX+jvDg7PXTcnnqfHpZJW4H4uclr47F6X0SmHrHSKJCnEx4Yx4T525RvzcR\nEQls3/4BPrsRvn8E94vDqdswnZdPrqFfyQyMtBvAGezvCA/O7rK2Pi70KHE7kAAfnHAw3eLDmXrn\nSEb1aMufv1jF7ycvV783EREJTJm/wLxX2NJ1AheYz5JnRvOu80nOWXA9RHeAkb/zd4SH5qfETX3c\nDqQZNZXuKzLYyRvXpPH8j+t54acMVuwo5qUJg+naNtzfoYmIiOzmmf4EZc44xq46nZ4pCYRe+jOs\neRsqCuDEOyA40t8hHlpDU6mPCz1K3A6kGYwqPRSbzeD+M3sypGMb7v14Kee/MJt/jO/HBQPb+zs0\nERERctb8QsLWOfyndgJXjuzJw2f3ttbhjn/Q36EdOTWVBhC7C0wPeJp3M+PonvFMu+dkeidFcs+k\npfxxygo1nYqIiF/9tDaHpR8/TqkZwvCL7+Wx8/paSVtzo8QtgOwufzbfqluDpKgQPrplOLee0oUP\n523lopd/YVNemb/DEhGRVqa6zs0/pq3hn+9+zhn8ijvtJs4Y3N3fYR07NZUGkN1ZdPMboHAgTruN\nh8/uzbDOMdz3yTLO/e9s/jyuD1cOTcHw53IhIiLScrnrYM6/Yetc8pJO4YYV/ViRXc438f+HUR1B\n9Gn3+TvC46PBCQHE5p8s2ttO7ZXAt/eM4oFPl/HHKSv4aW0u/7y4H7HhQf4OTUREWppp98OidygL\naUfbjB/5D8mEdu9P4rY5cMbjEBrj7wiPj5pKA0gLairdV2JUMO/dMJRHzu3NzPV5nPXvWfy8Ltff\nYYmISEuyaQYseodpkZeTWvQ0z8f9lQ6xYSTu/BGG3QYn3uXvCI+fmkoPzzCMLUAp4AbqTNNM88qF\n/JRF+4rNZnDTyV04qXsc93y0lOvfXsA1J3bkD2f3ItTVrH4lREQk0Hg8FP/fw1QSx+8Lz+Wx8/py\n7YnnYrP9zlopoaV00VHF7YiNMU1zoNeSNmhxfdwOpldiJF/cOZIbT+rMe3MzGfvvWczdqOWyRETk\n2BSV1/D2688TVbSKD0KvZvKdY7h+ZGdstvpkraUkbaDELaC04KbSfQU77fx5XB8m3TIcw4ArX/+V\nP09dSXm1b9deExGR5u3blVmc89yPnLbzFfJDu3H3vX+iV2KAT6J7PGz1LVQ+LvIYzWk9S8MwNgNF\ngAm8aprma/scvwW4BSAhIWHIpEmTjuk6sfnz6LfyHywc8jzZRjzh4a1j1YFqt8nn62v4PrOOmGCD\nG1KD6Btn99r1ysrKWs299TXdW+/RvfUe3Vvvaur7G5s/j/jcWZQ4E3im9DS+y43i0bDPucE9mWX9\n/0JRzKAmu1YgCivbwgkL72Fl34fYEtL/uO/tmDFjFh1Ja2JzS9zamaa50zCMeOAH4C7TNGce6LVp\naWnmwoULj+1CG36EDy6Gm6aTnlHG6NGjjznm5mhRZiEPTl7OprxyLk9L4eFzehEd6mry66Snp7e6\ne+srurfeo3vrPbq33tWk93fBm/D1fVS5YnHUFOE27eRH9aN9yWLodxlc/HrTXCeQ5a2Hl06Ai98k\nvSDuuO+tYRhHlLg1q6ZS0zR31m9zgSnAUK9cyN5Q/mz5TaUHMqRjDNPuPplbT+nC5MXbOfXZGUxe\ntJ3mlOSLiIiXFG3B890fWRqURmrJ89wV+zoVfS+nfUgtjLgbLnjR3xH6hp+6VTWbIYSGYYQBNtM0\nS+sfnwk87pWLtfBRpUci2Gnn4bN7c+HA9vxpygoe+HQZny7cxhMXptI9IcLf4YmIiB9U1dSx893b\nia+FB+tu4G/jB3F5Wgo22yX+Ds33NDjhsBKA2YZhLAPmA1+bpvmtV67USkaVHoneSZFMvm0ET43v\nx9rsUs7+zyz+9e1aKmu05qmISGsya0MeTz77FF12zeHHhBv56IFLuHJoh8YRo62Nn3KFZlNxM01z\nEzDAJxfbq/zp9MklA5nNZnDF0A6c0SeBJ79Zy8vpG/li6U7+dG5vzk5N1LJZIiItjWlC9gpwhpJp\nJPH3r9ewaPV6pge/SllMKhfe+nhjt6LWSk2lAUQVtwOKDQ/imUsHcOmQZB77chW3f7CYoZ1jeHRc\nH1LbR/k7PBERaQqVRTBpAmTOAaDI042eDOWJuMVEVVZhXPGGkjbwW67QnJpKfUeJ2yEN6xLL13ef\nzN8vSiUjt4zzXpzN7ycvI7e0yt+hiYjI8fB4MD+9HvfWeTxtu4G/1V5FfIiH+20fEu/OxbjsPYjv\n7e8oA4OaSgNIK5qA91jZbQYThnXkvAHteGH6Bt75ZQtfL8/ijlO7ccPIzgQ7vTf/m4iIeMemb/9L\nl00/82jtDaxpfwmPndeXdinRUJoDIdHgCPJ3iIHDZgcMK1fwYRlMFbcDsSlxO1KRwU7+dG4fvr/3\nFEZ0i+Nf365jzDPpfLxgK3Vuj7/DExGRI7BqZzEPvvo5ifP+wa/GQIZecj+f/XYEA1KirRdEJChp\n25dhWFU39XELAGoqPWqd48J4/Zo05m4s4J/fruWhz1bw6sxNPHhmT8ZqAIOISODweGDLLKgqZlvU\nYJ6emcd3y7YwOfjv2JxBDPzt+wTHJvs7yubB7rJyBR+OY1TidiBqKj1mJ3aNZcrtI/h+dQ5Pf7eO\n336wmAHJUfx+bC9Gdovzd3giIq1bVQl8dCVkzgYgwXQwjkE8ElNE24qNGOPfg9gUPwfZjNidqrgF\nhIaKm0cVt2NhGAZn9U3k9N4JfL54O8//sJ4Jb8xjeJcY7jmtB8O7xKgCJyLia6ZJ1eTbcGXO5TH3\nTaz1pHBv0gpOq5mHPTgCzpsIvc/zd5TNi5pKA8TuipsSt+NhtxlcmpbCeQPa8eG8rfxvxkaufP1X\nhnaK4e7TumsJLRERH8kpqSJ70RSCy77mH3UTqOh/Df86tRud48L8HVrzZndqVGlAsNnBsPt8pEhL\nFey0c8NJnfnNsA58vGAb/0vfyFVvzqNbtA1b+zxGdY9TBU5ExAuyi6t4ZcZGNi2Yxpu291kZeTIT\nrv0XHePC/R1ay2Bz+Lx1TonbwTSUP5W4NZlgp51rR3Ti8hNS+HTRdp7/dhXXvjWf/slR3DKqC2P7\nJuKw64aLiByzjT/B93/GU7iZDa4+fFDSj0rTxSuu96kIakfqHR9CsJK2JqOKWwBp+DK04lWTC3ba\nuXp4R5IqNpEb1pXXZm7kzg+XkBITwk0ndeHStGRCXfrVFBE5Gubar+Hjq8lytGd65YmMqlnB4/YF\n1sG4Pvza+XcMD470b5AtjU2JW+Dww0iR1sZhM/jNsA5cfkIKP6zO5tWZm3jsy1U8/+N6rhnekWtG\ndCIuXPMGiYgcittjMnfuTIb8eCPr3R25w/grl4zuRcTwjlCZCdWl0G4gVTNn+TvUlsfuVFNpwPBD\nFt1a2W0GY1OTGJuaxMIthbw6cxP//SmDV2du4qJB7bn6xI70bae1UEVEAPC4wWanuKKWTxZu46u5\ny3ip4gHKbcFsGPMKP4xMI8RVv3pNeA//xtrSqak0gNid4KnzdxStTlqnGNI6xbAxr4w3Zm1mypLt\nTFqwjbSObbhmRCfG9k3E5VA/OBFphbb+CtMegOwV5AR15OvKVDa42/Fy8DckOsowr/+GS5IH+zvK\n1sXm+1xBidvB2ByquPlR17bhPDm+H38Y24tPF21j4q+Z3P3REtpGBHHl0A5MGNaBhMhgf4cpIuIT\ndZvnYEy8iHyjDZ/VnU8/M5Nr7N/hsNVBWDKM/wyUtPme3QF1msctMPih3Vr2FxXq5KaTu3DDyM7M\n2JDHxLmZvPDTBl7+OYNTe8Vz+QkpnNKjrUajikiLtCmvjJ9m/sTlK24l1xPDPaFPcv4p/emXloLD\nVglledCmk5VAiO/ZnOAp9+kl9U0fjPq4BRSbzWBMz3jG9Iwns6CcD+dt5bPF2/l+dQ4JkUFcPDiZ\ny9JS6KTJJEWkudqxGDbPpCakLd9Xp/Le8grKMhcz0fUkdY5Qssd9yBeDB2G3Ncx76YJg9f/1K/Vx\nCyB2h/q4BaiOsWE8fE5vHjirJz+tzeWTBdt4ZcZGXk7fyLDOMVyWlsI5/ZIaO+eKiAQy08T8/hGM\nuS8C4ALOMQ3625JoH5wLYW2xX/81I2O7+jdO2Z/N97mCEreDsWk6kEDntNs4q28iZ/VNJKekismL\ntvPpwm3c/+kyHv1iJWf1TeRiQTfGAAAgAElEQVT8ge04qVucmlJFJCBtySuj6PP7GJT1Me/VncGL\nXM7l3Uwui15NStV6jNhucOJdEN7W36HKgajiFkDsLjWVNiMJkcHcMaYbt4/uyrzNhUxdsoNpK7L4\nfMkOYsNcjOufxAWD2jMoJVrLa4mI79VUwLZ54AonL6IXX63K58sl2zg/+0Wud3zH12HjCTrlL/zQ\nrx1RIZr5vdmwaR63wGHXqNLmyDAMhneJZXiXWP56QV/S1+XxxdIdfLRgG+/OzSQlJoQLBrTn7H6J\n9EmKVBInIt638Sc8n92MrSIfgGAzhPaePjzjKqSrYzNlg2/l3PP+Cfr3qPmxO8GtptLAYHNafyFJ\nsxXksO9uSi2tquW7VTl8sXQHL6dn8OLPGXSICWVsqnV8UEo0Npv+0RSRppNdXMWan97n5GUPkeFJ\n4qm635McbnBp9FpG16zEFRYDwx8hvN8l/g5VjpUfVllS4nYwmg6kRYkIdnLJkGQuGZJMflk1P67O\n4ZuV2bw9ZzOvzdxEQmQQZ/VNZGxqIkM7xahPnIgcufICWPc1mCbZYT34v5y2fLMym4E7J/Enx/us\ncfQkfehLPDiwuyr9LY2aSgOIzeHz8qf4Rlx4EFcM7cAVQztQXFnLz2tz+WZlFp8s3MZ7czOJDHYw\nqkdbTu0Vz+ie8cSEufwdsogEqLqMn+GTa3DUlACQCJxvRnOOPZT2zp2UdR5L6pVvkerSVEUtkppK\nA4gqbq1CVIiTCwe158JB7amoqWPm+jymr8nl53V5fLU8C8OAgSnRnNoznjG94unbTn8ti7R2+WXV\npK/Lo2bem1ya+x82eZL4vfsPdE5px4UxWzmhdjFhthro+TDhA68Cmyr4LZbNoYpbwNAEvK1OqMux\ne7F7j8dk5c5iflqby89rc3n2h/U8+8N6EiKDOKlbW07qHsvIrnHEa9ktkZbLNGHJRDzzXqe2NI+t\nQT34rnYAswqjmGD/kUvsc1kbPoxtp73E+707ERGs0aCtjqYDCSBaZL5Vs9kM+idH0z85mt+d3oO8\n0mrS1+WSvi6P6Wtz+GzxdgB6JIQzomscJ3WLY1iXGP3DLdICuD0mq7fmEDTtd/TI/YZVZhcyPF04\noXwVdxozuNMFHpsTz6g/0evk++il5aZaL5sTTLeV5PuIftsOxubQBLyyW9uIIC5NS+HStBQ8HpPV\nWSXMzshnTkY+H83fyju/bMFuMxiQHMWwLrEM7RTDkE5tiFQiJxK4yvJg0dt4ijLJc7Vnvm0Q0/La\nkrtxCX/zvEA3YytvB1/N1r63cVL3tkR1agMlGVC6E1tCP4hI8PcnEH+rT9oN03eFHiVuB6MJeOUg\nbDaD1PZRpLaP4rZTulJV62bx1iLmZOQzJ6OA12du4n/pGzEM6JUYydBObTihcwxDO8WoaVUkAFTV\nutk87//oOONegmuLKDIjSTCKOQ84lRDCqKQ6OIaScydy/YDz9j45pA8k9PFL3BKAbNYf54bp9tkl\nlbgdjJpK5QgFO+2M6BrHiK5xPHgWVNTUsWTrLuZvLmRhZiGfLNzOu3MzAegYG8qQjm0YlBLNgJRo\neiVG4nKo47JIk6sph2UfYe5cRklIO1YGDWZmWQorN+9gTM7b3GCbRobZjmci/0rbroMYmWQyvG4B\nMSVrISqZoIETCAqL8/enkEBntxI3mw/zBSVuB2PTyglybEJdDkZ2i2NkN+sf/Vq3h1U7S1iwuZD5\nWwqZsS6PzxfvAMDlsNEnKZKBKdEMrE/mOsWGauSqyDHaVVHDpqUz6DrzHqKqdrCLSNpQwkhggBmM\n0zAJslezvcvlxF/wL16Lit7j7P7+CluaK1XcAoimA5Em4rTbdidmN4/qgmma7NhVybJtxSzbvoul\n23bx8YJtvPPLFsCaoqRf+yj6toukd1IkfdpF0iUuTJMCizSoKIRZz1K7aRalRgQZIf2Ybp7Aghw4\no3QKN9u/JpsYHg/9G2bnUQxLgBPdC2lXuQ6HzQb9LyO5/RB/fwppCdTHLYDY6ptKfThSRFoHwzBI\nbhNKcptQzu2fBECd28OG3DKWbdvFsu27WL69mLfnbKHG7QGsylzPhAj61CdyvZMi6ZUUocEP0jK5\n6yB3tdXXOKYLdYaDzfnlrM4qwb1qKqdufJpwTwnz3L2IMbYx1DabofzPOtcBuV0uJvL8f/Fs9J5N\nnQP98lGkhbNbE7SrqTQQ7M6ifVf+lNbLYbfRO8lKyK4Y2gGwmlg35pWxJquE1TtLWJ1Vwvers/l4\n4bbd5yVGBtM9IZxu8dZP9/gIuseH++tjiByXWo/JtgVf0WbGI4SXbQagnFBmePqz1N2ZMbZlnGhf\nTYa9K292fZbozoPpnRRBcXgFUTtnQnUpdDqZ+MRUP38SaTXUVBpA/PBliOzJabfRKzGSXomRXDTI\n2meaJjkl1azOKmZNVikbc8vYkFvGpPnbqKxt/F2NcEGfdXPpnhBOl7hwOsWF0jE2jOQ2IQQ57H76\nRNLqueswF71N3ZJJ1FRXkBfWg0UhI5lR1Z3qvI2ML5tEin0Bmz0JPOa+jciwEEa71jKqeh7n1P5K\nbVgS7pOeotvQm7jfvk+1OeEq/3wmad3UVBpAdo8UUT83CRyGYZAYFUxiVDCn9mqcQ8rjMdlZXMmG\n3DIycsqYtXwDZW4PXy7dSUlV3R7nQ7uokN2JXMcYa9spLpQOMaGEuvRPghyH4h2w8E085fmUBCWR\nGTWUVXQms6CK4O2zuTDnJTp7trDa04VCM4JBBT9wsTGVi+tPr3YEsbr3vXDi7TyREEuIq/6PDI8H\nqktwBkdZv8QigUIVtwCiips0IzZbY7+5MT3j6e7ZyujRIzFNk8LyGrYUVJBZUE5m/XZLQQXfrMii\nqGLvP0zahDppFx1Cu+gQ2tf/WM+DaR8dQlx4EDab/sfZKlUVw4rJkLeWqtBEsmOGstnZgx3FVRTk\n55C6+S1OLvgMG3UUmRHEUsIAw6SDGU4JYXQ0csi3J/Bx16eo6jKWjnFhFEW7CC9egKNgAwRHsiA/\nmpPOGLf/tW02CInef7+Iv2k6kADih/KnSFMzDIPY8CBiw4MY0rHNfseLK2vZWlDBloJythZWsHNX\nJTt3VbK1oIK5Gwsoq977999lt5EYFUx8RBDxkUHERwTTNiKIthFB1r6IYOIjg4gJdSnBa04qCjEX\nvUvdjiVUmU5y44azIeYUsqqcFBSX0m3rp5yW+w4RnhIqzCBCjWo6AQ4zDocnkYtsGwgxapgVcioz\n2t1McNvOdAuvJrVqCcmFv9Chdhf0Ope4/pdxuTNk72snnAGcAUBderqPP7jIcVLFLYDUjxRRxU1a\nsqgQJ/2So+iXHHXA48WVtbuTuZ27Ktmxq4qduyrJLa1ibXYpszbkU1q1/x83dptBXLiLthFBtAl1\n0SbURUyYtW0T5tz9PDrUuXt/sLOZ9b0zTZj9HOxYDCPuhg7D/BNHXTVkTIfKQkgaAAmpYBjUuT3s\nqqylNHsToQtfJmbjVDwY5ET0ZXn0acwPGklpRTnD8qdwfvlkQqlimyeRSKOCrsZk2ptO1pvJdDay\niTAqWeYcwFeJt1CbMJCuYVX0r5xHx7yfGF6Vg73DVdjSbuCUxFRO2Su4AcB1frktIj7hh4GMStwO\nxtZQ/lTiJq1XVIiTqBAnvZMiD/qayho3eaXV5JZWkVtaTW5JFXll1eSWVJNfVk1RRS1bCysoLK85\nYJLXIMRpJyLYQUSwg/BgJ5ENj4McRAQ7dz+OrH8c4rIT4rTv3gbX/4S47AQ7bN6f927xezD9cTDs\nsPFnuPE7SOzXeLy2Eha8ATsWQbtBMOQ6CN4jQTZNWPMlrPkKDAOz5zlUdx1LlcdGZa2bqho39k3T\nabPkRULzV1IRmsy2xDNYmXgheUYMFRXl9Nw5lZNzJtKmLm/3224xkplqjmJrTSQn21cwzvYrJvCV\nZziVpouTq1cyrvAXzsHAhjXd0dKIUcxLuRkS+hIf4aJL9Vo67JxGr/JtOCNHQP/LGdB5FAP26l+W\nBtzhzTssEvh2V9zUVOp/aioVOSIhLjsdYkPpEBt62NfWuj3sqqhlV0UNheU1FFXUUFRRaz0ur6Gs\nuo7SqjpKqmopq64jq7iK0qpayqrqKK85uj+inHbDSuTqEzqXw4bDZuCwGzhsNpz1W4fdwGm3jjnt\ntt3H923pbchZsrKq+SZvCQ9u+CcVIb15r8M/uGvjLZhvXMTzHV8m3x5HZFU2t2X/mY41GeTb44lb\nNYWSH5/h/bBr+M51Jl1q1nFDxVv086whj2gM0yRu+cfkm3FMrDuDapxcaJ/NQNsmtptxTHafTK/q\nbQwrfpnu615hrZlCZyObcKOK5bbePB9+B8UhKQw2V3FK2Tf8rupDcEGNPYytnSaQn3oT3dp2siqc\noU7M3EXYMqZDUDh0GcPApP77zHKWQkPzpYgcgt33RR4lbgejwQkiTc5pt+3uE3e03B6TsvqkrrSq\nzqpK1bqprHFTVVe/rXXX7/dQWbv3vlq3h1q3SZ3bQ53HpNbtoc7jobLWpM7joc7dsM+kzm1i7jH5\n9p7TcFdXu3EUzyOubgeP28czbbPJWh7i1bo/c/2me/nBOYYraj7HhsnjkY+xNHgY3T0bua7kNW4v\ne5FbeAUHdZTY2zC53UOsjB9HsNNGr7JfGbrzfR4u/giA0vAurOzxV/K7XULv4BDCgxxkVW8nZu1H\n9M1fha3NGEgdT/9OJ9N/dyXsEuAxKC+A8jxcsd3oanfQdd+b2WG49SMix8em6UACh9335U8ROTi7\nzSAq1ElUqH9Xi0hPT2e0pwBm2Xj0/vt4NDQGOA029yTs0+u5uWIitE+D8a/xaGxDyjQSzKth3Tc4\ntv0K0R2I7H8FlwSFc8nud04FboKSLHDXEBHdgdT9pr6Igi5PHD7IsFjrR0S8yw+5ghK3g1EfNxE5\nmMw5kDQQQmMa93UeBfethvJ8iGy3/3xjhgG9zrF+DiUyqenjFRHv8MOSV1q1+mDUx01EDsDw1FoD\nDjqO2P+gIwii2muSWJHWwub7UaVK3A7GDyNFRCTwhZVnQl0VJKf5OxQR8Te77/vDK3E7GD+MFBGR\nwBdetsV6kNjfr3GISADwQ5FHidvBaHCCiBxAeNkWcIZCm07+DkVE/M0PRR4lbgej6UBE5ADCyjdD\nfB+wNbOVHkSk6flhOhAlbgejipuI7Ms0CS/LhIS+/o5ERAJBIPdxMwxjjmEYVxuGcfQzZzYRwzDG\nGoaxzjCMDMMw/uDVi9Vn0erjJiK7lWbhrCvde2krEWm9AryPWy3wLrDTMIznDMPo5aWYDsgwDDvw\nEnA20Ae40jCMPl67oCpuIrKv7JXWVhU3EYHA7uNmmuZooDdW8nYNsMowjHTDMC43DMMXU5kPBTJM\n09xkmmYNMAm4wGtXUx83EdlXjhI3EdmDYYBhD9yVE0zTXAfcZxjGw8BlwC3Ah0C+YRhvA6+Zprmp\n6cMEoD2wbY/n24Fhe77AMIxb6mMiISGB9PT0Y76Ys6aYkUBtVflxvY8cXFlZme6tl+jeekfv1T8R\n4Ypj/q9L/B1Ki6TfW+/S/fWOkw07ddWVPru3x7TklWma1cBEwzBWAc8Bo4DfAw8YhjEFuMs0zeym\nCxOAA01Fbu71xDRfA14DSEtLM0ePHn3sV6vcBb9AsNPOcb2PHFR6errurZfo3nrJqofIj+ise+sl\n+r31Lt1fL5kbTJDD5rN7e9SjSg3DCDEM4wbDMOYDC4C2wD1AO+C3wAjggyaN0rIdSNnjeTKw0wvX\nsfhhpIiIBLDaKsjfQFl4Z39HIiKBxOYIzKZSwzD6AbcCE4Aw4AvgIdM0f97jZa8bhpENfNqkUVoW\nAN0Nw+gM7ACuAH7jhetYtOSViOwpby2YbsrDOvk7EhEJJHanT4s8R9NUugyrwvVvrL5sWQd5XQYw\n93gD25dpmnWGYdwJfAfYgbdM01zV1NfZTUteicie6gcmlIV39HMgIhJQbM7ArLgBlwJTTfPQaaVp\nmmuAMccV1cHfexowzRvvvR/D8Hn5U0QC2I5FEBRJZUg7f0ciIoHE7vBpkeeIEzfTND/zZiAByebb\n8qeIBLDtC6HdIDC04IyI7MHHFTf9C3Qodt9+GSISoGoqIGcVJKf5OxIRCTQ+7uOmxO1QbL4tf4pI\ngMpaBqYb2itxE5F92BxK3AKGKm4irYfHA1tmw8afYN8/2HYstLaquInIvuxObJ7AHJzQ+vi43VpE\njpHHbSVd5XmQfAK02WfkZ20lzH/dSsrC4mDYbXsnYZVFMOU2WP+t9bzDCLjqM3CFWs83/gSx3SA8\nHljtk48kIs2EzYlhVvjsckrcDsXHI0VEWqWqYsiYbj1O7A9x3fY+vn0hzHoOts2zEqeeZ8OQ6yE6\nxaqSrZ4C6U9B/vrGczqdDMNvh86jYPUX1vHirdb7Zy2DFZ9C/yvg1D9B8XYraSvZCWc+Aa4w+Pp+\nmHwDXPEBVJfA5lkw/Dbf3RMRaT583DqnxO1QVHETOT6Fm+HXl6Egw6pY9RgLnU8BuwPKC2DO87Dg\nLagtbzwnIRX6XggRSbDyM6vaFRIDvcdBUSbMft76SegLZblQlgNte8Mlb0Fsd8j4ERa8CZOubHzP\nxP5w4UtWIlddap0/57+wfJJ1PDIZrv8GUk6wnnvcMO0B+O5PEBwFnlor0RMR2ZeaSgOI3YWhipu0\nZh6PNaehcYClgrcvghn/hJ1LICjCSor6Xw7tBkLuGpj3qlXZsjkgvhdsnQfzX4OweIjpAtnLoa4K\n+l0KaTdala4ts2HV5/DTE9Y1ItrB6X+BE26yrgGwaxssfteqnMX1tBK63ueDzW4dT+oPI+6GddOg\nYIM1hUeXMY2fISgCTnsUBl1tNY26wqHvRRAU3vjZht5sJZvz/mc973MhJKZ64w6LSHPn46nDlLgd\nit2B4VbiJq1Q8Q5IfxJWTLaeJw2APhdA1zFWlWvBG7DmSwiNg55joaIIln8Mi95ufA9nKAz/LZx4\nJ0QmWWt9bvgOVn5uVckGXWUlbPG9Gs9JTLWaJEt2WpWx2O5g22cMVXQKnPrIoeO3O6DP+Yd+TUxn\nK76DOetJSBoIFflWnCIiB6Km0gBi8235U8QnPG4rwVryAezaCnE9oNup0ONsqzq29AOrMmZ6rApa\nUCRsngnfPdz4HkGRMPphOPGOxkpYdZlVwSrabDU99jgLQmMaz3EGW8lfnwsOH2NkAKxOYLPBwCsP\n/zoRad18PB2IErdDsTsxzBp/RyFydMrzSdn6OXz6rpU4dRwBnUdbjzfPgO8fgewVVhNiz7HWxLI/\nPdHYPIlhJWxj/rj36Mz8DKtZ1BVqNT02jLhsEBQO/S7x1acUEQkM6uMWQLRWqQSi2kqrf5czxOrj\n5Qy29psmLJsE3/6BrlW7ILqjNc3FgjcAw0rcKgqsatil71qVr4Z+X6XZ1shO0w1dT4Wo5P2vG9dt\n/xGfIiKtnfq4BRAfZ9Eih2SaVj+ybx+GykJrnzMUuoy2+qCt/9aqiKUMY0HCBE4Ydy246yBrqTUy\ns3AzdDoJUsdbSd+eIhJh0ARffyIRkebP7tsijxK3Q9Ei8+Jr2SutPmZVJZDYD3qcaY3AzM+A7/9k\nJWcpw6xRk+4ayJwD67+3RlDGdocLXoIBv6F85kzr/ewOa6JZzfgvIuIdqrgFEC15Jb5SVwPT/wpz\nXwRHsNX5f+n78O1D1vQZ5bngCLFGOg67tXHqi9TxcI5pJXGOIP9+BhGR1sju9Olk/UrcDsXHI0Wk\nhduxCGb/25ofLK47dDsdOpxojez88TFrwMAJN8GYP1n90Yq2wNppkLvamrpi0NX1Sy7twzCUtImI\n+IuP+8MrcTsU9XGTpuDxwNwX4Me/Qkgbay3N7YuspZgaRCbD5R9Yk8k2aNMJTrzd5+GKiMhRsLuU\nuAUMu0sVNzkyDcsoZf4CYW2tKTi6n2mtc/nTE9YyTL3PhwtetJZQMk1r5YC8dVa1rPuZ+w8YEBGR\nwGd3YjPd1r/rB1plpokpcTsUTQciRyJvPXx8lbW8Uvs0q8lzzZfw7R+s464IOPtpaxmlhv+oDcMa\nCZo0wH9xi4jI8bM5ra2nDuxOr19Oiduh2DWqVOrt2gprvrISrpRh1uS1YM2bNu1Bq2p29VTocoq1\nv2AjbJllrUTQ85y9VxAQEZGWw16fSrlrlbj5nZa8EoDFE+Hr+6yRmw3CE62Jb4u2QMpwuOTNvSet\nje1q/YiISMu2u+JW65PLKXE7FB9PqicBxuOBn5+AWc9aSzyd9x+wu6xlozJ+hLoqGPUgDPjN/guh\ni4hI69BQZXP7Jl9Q4nYomoC3dVgx2ZqmoyzbagLtfqY1ovPXl60VBwZdDeOeb/yPc8AV1o+IiIit\nPpVSxS0A+HikiPiYacLMp+Hnv0Nif+hxFmyZAxu+t447w+DcZyHtRn3/IiJyYLsrbkrc/M/HI0XE\nS0zTmq4jKKIxAXPXWmt+Lngd+l9hTdPR8B0XbISyHEjoa03dISIicjDq4xZAfDxSRLxg3bfwze9h\nV6a1dFS306HdQFj+CexYCCPugtMf37uPmgYWiIjIkVIftwBid1lbH2XR0sSWfwpTboH4PnDao5C7\nFtZ+Dcs+tJK4S96C1Iv9HaWIiDRnDX3c9px5wIuUuB2KzbdZtDShhqSt40j4zSfgCrX2e9xQUQCh\nsY0LtYuIiBwrHxd5lLgdit23I0XkKFWVWAML1n1jrQHa7XTodBJkzrEGHXQ8Ca6c1Ji0gZWsHWih\ndhERkWOhptIAsrvi5pvypxyFqmJ4ZxzkrLRWJqgosNYKnfWMdbzfZXD+C9YkuSIiIt6i6UACiI+H\n+MoRqquGSRMgd7XVDNr9DGt/ZRHsXApRKRDXzb8xiohI66DpQALI7ixafdz8oq7amgDXXQMdRkB4\nW6irgck3WOuAXvRaY9IGVnNp1zH+i1dERFofTQcSQFRx85+CjfDhZVCQUb/DgKQBUF0ChZvg7H/B\ngMv9GqKIiEjj1GHq4+Z/Ps6ipV5lEXxwqbW94iNrMMHGn63qW3AUnPUk9Bzr7yhFRERUcQsoPh4p\nIljVzU+vg11b4bqvoMNwa39yGpzyoF9DExER2Y+PW+dsh39JK+bjkSKtiruOuLy5MO9VyFpuLUvl\nccOU22BTOpz378akTUREJFDtuTymD6jidigNk+qpj1vTqimHDy8ndcssWFW/L7qDlSgXboLT/wKD\nrvJjgCIiIkdoz+UxfUCJ26HY1cetyZmmVVXLnMO6HnfQ85zfwqafrTVF3dXW0lR9L/J3lCIiIkfG\nx3O+KnE7FJtvs+hWYeGbsOZLOONxsmoH0DM6BQZfY/2IiIg0N7uXvPJNU6n6uB2KpgM5dh4PlGTt\nPbBj2wL45g/Q7Qw48S7/xSYiItJU1FQaQDQdyLHZtgA+u8EaGRoSA73OhfjeMPMZiGwH418Dm/5m\nEBGRFkDTgQQQTQdy9Iq2wPvjITQGxj4FOxbDqqmwZCIk9IPL3rWOiYiItARa8iqAaDqQo+PxwNQ7\nrAEI13wJbTpa+2uroCwbojqo0iYiIi2LpgMJIOrjdnTmvQKZs+GClxqTNgBnMLTp5LewREREvMZm\nw8SGoQl4A4CPs+hmo7oU1n8Heesb921bAD88Cj3OhoET/BebiIiIj5mGXX3cAoIqbvvLWQ0TL7Ka\nPgGSBkLXMbD4PWvgwYUvg2H4N0YREREf8tjs2HzUH14Vt0Ox+3ZSvYBXXQaTrrQe/+ZTa/CBpw5m\nPw/RHeGqzzXwQEREWh3TcKjiFhA0HcjeZj5tjRq9/hvoOMLaN/y3UFcNjiC/hiYiIuIvpmHXIvMB\nQdOBNMpbD3NfgoFXNSZtDZS0iYhIK2YaDiVuezIM4y+GYewwDGNp/c85ProwJrbWV3Fz11lTejTw\neOD/7gZXGJz+mP/iEhERCUAem5pKD+R50zSf8fVFPTYH9tY0OGHWs9YKB3anNTp0yHWw/BPYOhcu\neBnC4/0doYiISEDxZVNpc0rc/MIa4ttKmkrXfw/TH4ceY63q2vzX4NeXrWMDfgMDf+Pf+ERERAKQ\nBicc2J2GYVwDLATuN02zyBcX9WW7tV/V1cB3D0Nsd7hsIjhcUJptLVcVnQI9z9E0HyIiIgfgsdl9\n1h/eMPfsy+RHhmH8CCQe4NCfgF+BfMAE/gYkmaZ5wwHe4xbgFoCEhIQhkyZNOu64hs++hsK2w1nf\n8/bjfq9AlrztC7ptfIvl/R6lMHaIT65ZVlZGeHi4T67V2ujeeo/urffo3nqX7q/3DJx/L+7gaFb0\nP/Z+4GPGjFlkmmba4V4XMInbkTIMoxPwlWmaqYd6XVpamrlw4cLjvl7Vk10I7n02XPjScb9XwCrL\ngxcGQ4fhMOFTn102PT2d0aNH++x6rYnurffo3nqP7q136f56T/Fzw4iKTYBrvzzm9zAM44gSt+Yy\nqjRpj6cXASt9dW3TcLasCXhLdkJ+xt6jRn96HGor4Kx/+C8uERGRZsrq46ZF5vf0L8MwBmI1lW4B\nbvXVhX25/pjXzXsNvv0DmG7oeBKc/ZQ1oe7i9+DEOyGuu78jFBERaXasPm4anLCbaZpX++vaHlsL\nGZywfRF883vofgZ0HgWznoNXTrKOJQ2EUx/xb3wiIiLNlEaVBpAWMx3ID49CWFu45C0IirDmaFsy\nEWwOGHwNOEP8HaGIiEizZM3j5ptuVUrcDsOXk+p5zfaFkDkbznrSStrAWgx+5D3+jUtERKQF8GXi\n1iwGJ/iTL8ufXjPnPxAcZVXWREREpEl5bE6f5QpK3A7Dl5PqeUXOaljzf3DCzRCk+XtERESamlVx\n802uoMTtMJpNxa26DKb8Fl4bA8s+btw/45/gCocT7/BfbCIiIi2YNZBRfdwCQrPp4/b1/bDiE4jp\nAlNugS0zISEVVk+FUb+3+rSJiIhIk9Oo0gBiZdFV/g7j0Ip3wIpPYdhv4YzHIf0f1nQfmNBhBIx6\nwN8RioiItFgem8Na89+/mh4AABEMSURBVNsHlLgdRrNoKl34JmDCsFvA7oDTHrWm+yjeDh1HgN3p\n7whFRERaLF+usqTE7TBMwwF1AZy41VbCwreh5znQplPj/tiu1o+IiIh41e4+bqYJhuHVa2lwwmH4\nssPhMVkxGSoLYZjPVgETERGRPZiGEzDB4/b6tZS4HYbHFsCLzJsmzHvFGoTQ6WR/RyMiItIq/X97\n9x5kZ1kfcPz7293s5mLuV0ISA4HINQjGKGIRFJDSDqgtjo4zdtqxamtH7ciorY62dqjS1suMnTri\nZcRbGS1arIhYaBdl2hAgSBJyoTFRSSA3Ei6bhNz26R/P2exucpJzkpz3vHt2v5+ZzHvOe87u85vn\nZZIfv+fW21YZwDy0r/C2TNxqyEOlJSduhw7CXTfBFxbBLz6bEzaAXz8AW1flalvBpVlJklRdb1tl\nLnkTCj0mbjUMiYrbQ1/Jf0aNgfs+BT/7eE7e7r8Fxk6DC28sNz5JkkawFH0Vt+LnxLs4oYYUHU0p\nfR7Twf3wwOfhjNfBO++Euz8M//vPsP5e2L4WrvsnD4iXJKlEh4dKDxafL5i41dDbNgpSbx6ubC+h\nu/7vHujZCtd/MQ+H/u4/5IPiV34fLvsgvPJdzY9JkiQd1l9xK36EzsSthv4Jh/vLSdxW3wljpsCC\nN+T3EXmftjd8ovmxSJKko/TPcSt+qNQ5bjXkJb6UM1x6cB88cQ+cc105SaMkSaqpmRU3E7ca+itu\nJWzCu6Eb9j0P597Q/LYlSVJdBo3OFczErYbD5c8iJxxuXwfdn4FtawffX3UHjJ4IZ76uuLYlSdIp\ncTuQIaTw8ufeXXDb9dD9afjaNfnAeID9u2HNj+G8N0FHVzFtS5KkU+ZQ6RBSeBb96LehZwu85av5\nMPsffzDv0bbubjiwGxa9tZh2JUlSQ/RvB+Kq0tIVnkU/djvMeSUsuhH27ICffhQe+ios/yZMmgfz\nXlNMu5IkqSH6FzJacStd/xy3Ah7GC1vykVXn/F5+v+Q9cMbl8JObYMsKuOpvoM1HJEnSUNbMxQlW\n3Goo9GFsuD9fz7wyX9va4O23wyO3wdQFsPCNjW9TkiQ1VDMrbiZuNRS6j9uGbhgzGWYt6r/XOQ4u\n/fPGtyVJkgrhdiBDyCnvhpwSbF6ej8w68v6G7nwGqcOhkiS1LLcDGUJO+eDY+z4FX7kSvvvWnKz1\neeZX8MJT7tEmSVKL61/IeJJFnke+UfdXTdxqOKVx6xefh6Vfyq9/dV8+vqrPxsr8tjNM3CRJamX9\nCxlfPIkf7oXuW+r+uolbDac0bv3EPXBwL/zx3TDhdFh2a/9nG++HCXNgypmNCVSSJJXilPZx2/xw\nHoGrk4lbDac0bv3b/4GuCTD3VXDJO3PVbefGnF1v/EXe+iOisQFLkqTminZoG3VyFbdND53Q103c\najg8VFptjtuBvbDsK7BnZ/Uf/u1SmLsE2tpz4hbtsPw22LQM9u6EM68oKmxJktRMHaOr5wq9h2DF\n9+DZJ6v/3JZVMG5G3c2YuNVw3EPmH/lG3iz3O3949GcH9sL2tTD7kvx+wmxYeC0s/xYs/RfoGAPn\nXFdY3JIkqYk6OqtX3Nb8B/zgT+HW1w1epNhn60qYdUHdzZi41dDb1plfVHsYK7+fr5uXQ8/2wZ/t\neAJSL8w8r//epe/Lx1qtvhOWvAu6xhcTtCRJaq5jVdzW3pWve57J+cJAhw7A9nUw08StYVJbex7i\nPDJx6z2Uy5vzfweo7Mk20NbV+Trj/P578y+Dd/wbXPsZuPLjRYYtSZKaqaOr+mb9Tz6Y57RD/44S\nfXY8kefQD9yIvwYTt3pUy6Kf/W1+QBe8JQ97bn5k8OfbVkN719GrRs++Gl79ZzBqdLExS5Kk5ukY\nfXSR5+B+eO5JmPtqmDgPtqwc/PmWVfnqUGmDjaryMHY8ka8zzoPTLoKnHh38+bbVMH0htHuqmCRJ\nw15H19FFnl2/ztOmpp4Fpy06OnHbujIXeaaeXXczJm71qJZF79yYr1MWwOyL4enHBh9rtXV1Tuok\nSdLwVy1XeGZ9vk49C2ZdmN/v393/+ZZVMOOcEyrymLjVo6MLDhzxMHZvy3Pfxk6F0y/JG+3uWJc/\n27srb6Zn4iZJ0shQreL2/OZ8nTQ3J24k2Pp4vpdSrsDNvPCEmjFxq0e1LHr3dhg3LR8Q37flR99q\nkW1r8nXm+UiSpBGgaq6wA4hc5OlbgLBlRb72bM07TZzA/DYwcatPtcUJu3fAuOn59ZQz8wkJffPc\ntvWtKD23eTFKkqTyVKu47d4OY6fkjfgnzoHRk+DpSuJ2eGGCFbfGO17FDSpVt5fDU5WK29bHoWti\nPp9UkiQNf8fMFSpFnojKAoVK4ra1slDhBEfnTNzq0dF1/IcBeYHCllU52968HGZf5DmkkiSNFFUr\nbjsG5wqzFuXFi4cO5lG6SfNgzOQTasbErR7HGrcelLhdAr0H8oPYugpOf0VzY5QkSeWpOq1qwOgc\n5CLPoX2w5THY9DDMWXLCzZi41ePILHr/Htjfc/TDAFj6Jeg9eFIPQ5IktahjzXEbWOSZ/9p8ffTb\necXpXBO3YowaM7jitmdHvg58GJPmwdhpsPrfYdQ4WHBlc2OUJEnlOXJ07uB+ePHZwbnC+Fn5KMyH\nv57fL7z2hJsxcavHkfu49R0oP25G/70IuOz9+fWSd+VkT5IkjQwdXZAO5YPjIR8qD4NH5wAu/1C+\nnncDTH7piTdzCiGOHEeOW+/uS9ymD/7ea96fs+dpC5sXmyRJKt+osfl6YA+0Tzx2rnDBH+R58JNO\nPGkDK2716ejKJyP0OfwwjsiiI2D6y1xNKknSSNOXuO3fk6/HStwAJs8/6VzBxK0eo8bCof3Qeyi/\nP1biJkmSRqbOcfl6oC9xqzIfvgFM3OrR9zD6DobdvSMvQOi7L0mSRrbDFbe+XKGYIs+QSdwi4saI\neDwieiNi8RGf/VVErI+IdRHxxqYHd1Titt1qmyRJ6tc5YI4b5FyhvTMfidlAQ2lxwirgLcCXB96M\niPOAtwHnA7OBeyNiYUrpUNMi63xJvg5K3Bpb+pQkSS1sVF+Rpydf+zbqb/C89yFTcUsprUkpravy\n0Q3A7SmlfSmljcB6oLm72x5eKTJgqPQlM479fUmSNLJ0VlmcUMDo3FCquB3L6cDSAe83Ve4dJSLe\nDbwbYObMmXR3d59y4z09PTy2cz0XAY8++ADPTdrFpbs28UzbLJ5owO8fyXp6ehryjHQ0+7Y49m1x\n7Nti2b/F6enp4cHlT/MqYM2KR9i6bQKXbNnAgVHjWdngPm9q4hYR9wKzqnz0sZTSncf6sSr3UrUv\nppRuBW4FWLx4cbriiitOJsxBuru7uWjBZbACLj5/ISy4HO5/ntlnLWJ2A37/SNbd3U0jnpGOZt8W\nx74tjn1bLPu3ON3d3bzqFYthGZy7YB7nvvIKeHQfzF3c8D5vauKWUrrqJH5sEzB3wPs5wFONiahO\nnQPGrV98Nu+M7Bw3SZLUZ+AGvCkVNlQ6ZOa4HcePgLdFRFdEnAGcDSxragSdA5b4Hm9DPUmSNDId\nLvLsyfnCwb35DPMGGzKJW0S8OSI2AZcCd0XEPQAppceB7wGrgZ8C72vqilIYsKp0j5vvSpKko7W1\nQ3tXXshYYJFnyCxOSCn9EPjhMT67Gbi5uRENMHCo1IqbJEmqpnNspchTzKkJMIQqbkNax2iItspQ\nad/DcDsQSZI0wOiJeS58gaNzQ6biNqRFQOd42Pd8LoUSMHZK2VFJkqShZMwU2LtrZAyVDnljp8Ce\nZ6D3IIydWkngJEmSKsZMhj07C624OVRar3HTcuLWs835bZIk6Whjp8DenXlaVed4GDWm4U1YcavX\n2Gnw3CZ48TmYMLvsaCRJ0lAzZnIeKu3ZWtjuE1bc6jV2aq64PbcJJlY9cUuSJI1kY6bkAs+ujTBp\nbu3vnwQTt3qNmwovPJXHrScW8zAkSVILGzM5X59eAZPmFdKEiVu9Bu5+PMGKmyRJOkLf8Gg6BJNe\nWkgTJm71GjivraAsWpIktbAZ5/a/tuJWsvmv7X89Z3F5cUiSpKFp2sv6X8++pJAmXFVar/GzoK0D\npp5VyPJeSZLU4to7YNpCOLAXpi8spAkTtxPx4Q05eZMkSarmPT8v9NebhZyI0RPLjkCSJA1lBY/K\nRUqp0AbKEhHbgd804FdNA3Y04PfoaPZtcezb4ti3xbFvi2X/FqcRffvSlFLNo5mGbeLWKBHxcErJ\n1QgFsG+LY98Wx74tjn1bLPu3OM3sW1eVSpIktQgTN0mSpBZh4lbbrWUHMIzZt8Wxb4tj3xbHvi2W\n/VucpvWtc9wkSZJahBU3SZKkFmHiVkNE/F1ErIiIX0bEzyJidu2fUr0i4h8jYm2lj38YEZPKjmm4\niIgbI+LxiOiNCFeSNUBEXBsR6yJifUR8tOx4houI+HpEbIuIVWXHMtxExNyI+O+IWFP5++ADZcc0\nXETE6IhYFhGPVfr2b5vSrkOlxxcRE1JKz1devx84L6X03pLDGjYi4hrgv1JKByPiFoCU0kdKDmtY\niIhzgV7gy8BNKaWHSw6ppUVEO/AEcDWwCXgIeHtKaXWpgQ0DEXE50AN8M6V0QdnxDCcRcRpwWkpp\neUSMBx4B3uR/t6cuIgIYl1LqiYhRwAPAB1JKS4ts14pbDX1JW8U4wEy3gVJKP0spHay8XQrMKTOe\n4SSltCaltK7sOIaRJcD6lNKGlNJ+4HbghpJjGhZSSj8HdpYdx3CUUno6pbS88voFYA1werlRDQ8p\n66m8HVX5U3iOYOJWh4i4OSKeBN4BfKLseIaxPwHuLjsI6RhOB54c8H4T/gOoFhIR84GLgQfLjWT4\niIj2iPglsA34z5RS4X1r4gZExL0RsarKnxsAUkofSynNBb4D/EW50baeWv1b+c7HgIPkPlad6ulb\nNUxUuWcFXi0hIl4C3AF88IiRJJ2ClNKhlNLLyaNFSyKi8KF+D5kHUkpX1fnV7wJ3AZ8sMJxhp1b/\nRsQfAb8PvCE56fKEnMB/uzp1m4C5A97PAZ4qKRapbpX5V3cA30kp/aDseIajlNKzEdENXAsUusjG\nilsNEXH2gLfXA2vLimU4iohrgY8A16eU9pQdj3QcDwFnR8QZEdEJvA34UckxScdVmUD/NWBNSulz\nZccznETE9L6dECJiDHAVTcgRXFVaQ0TcAbyMvDrvN8B7U0qby41q+IiI9UAX8Ezl1lJX7TZGRLwZ\n+CIwHXgW+GVK6Y3lRtXaIuI64AtAO/D1lNLNJYc0LETEvwJXANOArcAnU0pfKzWoYSIiXgv8AlhJ\n/ncM4K9TSj8pL6rhISIWAbeR/z5oA76XUvpU4e2auEmSJLUGh0olSZJahImbJElSizBxkyRJahEm\nbpIkSS3CxE2SJKlFmLhJkiS1CBM3SZKkFmHiJkmS1CJM3CTpOCJiXESsjYhllTMf++5fExG9EfG+\nMuOTNLJ4coIk1RARFwNLgc+nlD4aETOAFcCylNL15UYnaSQxcZOkOkTEXwKfBa4BbgIuBC5KKe0o\nNTBJI4qJmyTVISICuAt4PdAJXJ1Suq/cqCSNNM5xk6Q6pPx/ud8CuoDHTNoklcHETZLqEBGzgC8A\ny4GLIuIDJYckaQQycZOkGirDpLcB+4GryQncLRGxqNTAJI04znGTpBoi4kPAPwCvTyndHxGd5FWm\nXcDilNLeUgOUNGJYcZOk46hsBfL3wKdTSvcDpJT2A28H5gOfKy86SSONFTdJkqQWYcVNkiSpRZi4\nSZIktQgTN0mSpBZh4iZJktQiTNwkSZJahImbJElSizBxkyRJahEmbpIkSS3CxE2SJKlF/D/6NmbS\nVW5jqAAAAABJRU5ErkJggg==\n",
          "text/plain": "<matplotlib.figure.Figure at 0x2a8f251b4e0>"
         },
         "metadata": {},
         "output_type": "display_data"
        }
       ]
      }
     },
     "75a930ded6f64d9f9f8ddb67f2bffab2": {
      "model_module": "@jupyter-widgets/base",
      "model_module_version": "1.0.0",
      "model_name": "LayoutModel",
      "state": {}
     },
     "780e5c378f464471b60688d5147578c9": {
      "model_module": "@jupyter-widgets/controls",
      "model_module_version": "1.0.0",
      "model_name": "ToggleButtonModel",
      "state": {
       "description": "Update",
       "layout": "IPY_MODEL_9c7e739bbac94b8cbcffaf08de381656",
       "style": "IPY_MODEL_2d36559897a7497598493e48fbd89f68"
      }
     },
     "78531f4541184e1982f023171ffc2c05": {
      "model_module": "@jupyter-widgets/controls",
      "model_module_version": "1.0.0",
      "model_name": "IntSliderModel",
      "state": {
       "continuous_update": false,
       "description": "L",
       "layout": "IPY_MODEL_ea7ed6e897f5434d9579ceaf125c3f69",
       "max": 5,
       "min": 1,
       "style": "IPY_MODEL_7ec03cec1b3e4f5296c249697a902d4e",
       "value": 3
      }
     },
     "791ad871ade24403bd44841e57b3ac25": {
      "model_module": "@jupyter-widgets/controls",
      "model_module_version": "1.0.0",
      "model_name": "VBoxModel",
      "state": {
       "_dom_classes": [
        "widget-interact"
       ],
       "children": [
        "IPY_MODEL_4692670c843a4d15b028b58998be3154",
        "IPY_MODEL_90aeaf4b7c0a4a6e86f48d8ce789c39f",
        "IPY_MODEL_cd16e69cf31741b4b532155735cf3f64",
        "IPY_MODEL_9ebc0fc4d0cc485c92b96694b8a189f5",
        "IPY_MODEL_95ce7bc451a14712a510eec91914eff2"
       ],
       "layout": "IPY_MODEL_75a930ded6f64d9f9f8ddb67f2bffab2"
      }
     },
     "7e770bcaa7574ed7b310be93d753dcee": {
      "model_module": "@jupyter-widgets/controls",
      "model_module_version": "1.0.0",
      "model_name": "DescriptionStyleModel",
      "state": {
       "description_width": ""
      }
     },
     "7ec03cec1b3e4f5296c249697a902d4e": {
      "model_module": "@jupyter-widgets/controls",
      "model_module_version": "1.0.0",
      "model_name": "SliderStyleModel",
      "state": {
       "description_width": ""
      }
     },
     "83146809d17c4e639fb514edf89962b3": {
      "model_module": "@jupyter-widgets/base",
      "model_module_version": "1.0.0",
      "model_name": "LayoutModel",
      "state": {}
     },
     "85898b4838f240c39546025664bc6327": {
      "model_module": "@jupyter-widgets/controls",
      "model_module_version": "1.0.0",
      "model_name": "DescriptionStyleModel",
      "state": {
       "description_width": ""
      }
     },
     "8b0db1b5237c4ca9a7549eafd4724b65": {
      "model_module": "@jupyter-widgets/base",
      "model_module_version": "1.0.0",
      "model_name": "LayoutModel",
      "state": {}
     },
     "8c51c3619ca74bda8166fba5f41babf4": {
      "model_module": "@jupyter-widgets/base",
      "model_module_version": "1.0.0",
      "model_name": "LayoutModel",
      "state": {}
     },
     "8e5a37f0983043a19068e17c0955d7dd": {
      "model_module": "@jupyter-widgets/controls",
      "model_module_version": "1.0.0",
      "model_name": "ToggleButtonModel",
      "state": {
       "description": "Update",
       "layout": "IPY_MODEL_8c51c3619ca74bda8166fba5f41babf4",
       "style": "IPY_MODEL_7e770bcaa7574ed7b310be93d753dcee"
      }
     },
     "90aeaf4b7c0a4a6e86f48d8ce789c39f": {
      "model_module": "@jupyter-widgets/controls",
      "model_module_version": "1.0.0",
      "model_name": "TextModel",
      "state": {
       "description": "a0:",
       "layout": "IPY_MODEL_0760bbc83ac740b9a49ef9a2ed2d7c0c",
       "placeholder": "0",
       "style": "IPY_MODEL_d0b4456fd0bb4c688b0570b1544023a4",
       "value": "0"
      }
     },
     "95ce7bc451a14712a510eec91914eff2": {
      "model_module": "@jupyter-widgets/output",
      "model_module_version": "1.0.0",
      "model_name": "OutputModel",
      "state": {
       "layout": "IPY_MODEL_1cdff01959cc4aafaaba8cca5b500288"
      }
     },
     "95e570515f574a9296bfc4bfc957070a": {
      "model_module": "@jupyter-widgets/base",
      "model_module_version": "1.0.0",
      "model_name": "LayoutModel",
      "state": {}
     },
     "977c6e98cd9144fb94be37971e18a344": {
      "model_module": "@jupyter-widgets/controls",
      "model_module_version": "1.0.0",
      "model_name": "TextModel",
      "state": {
       "description": "an:",
       "layout": "IPY_MODEL_2df9c5d85f87405e86b826e007f7c2d6",
       "placeholder": "0",
       "style": "IPY_MODEL_f32977bcda5e4ac88ba21486a65249b3",
       "value": "0"
      }
     },
     "9c7e739bbac94b8cbcffaf08de381656": {
      "model_module": "@jupyter-widgets/base",
      "model_module_version": "1.0.0",
      "model_name": "LayoutModel",
      "state": {}
     },
     "9e560321830f4ff4a10d93565ea53dda": {
      "model_module": "@jupyter-widgets/base",
      "model_module_version": "1.0.0",
      "model_name": "LayoutModel",
      "state": {}
     },
     "9ebc0fc4d0cc485c92b96694b8a189f5": {
      "model_module": "@jupyter-widgets/controls",
      "model_module_version": "1.0.0",
      "model_name": "TextModel",
      "state": {
       "description": "bn:",
       "layout": "IPY_MODEL_83146809d17c4e639fb514edf89962b3",
       "placeholder": "-(2 * numpy.pi * n * numpy.sinh(L) * (-1)**n) / ((L**2) + ((numpy.pi * n)**2))",
       "style": "IPY_MODEL_47e22599a03047ccbfee7bcc8857cdd7",
       "value": "-(2 * numpy.pi * n * numpy.sinh(L) * (-1)**n) / ((L**2) + ((numpy.pi * n)**2))"
      }
     },
     "9ebdd454762b4c89a3185ff2d7c261a7": {
      "model_module": "@jupyter-widgets/base",
      "model_module_version": "1.0.0",
      "model_name": "LayoutModel",
      "state": {}
     },
     "a46f56c7933944bb860bb9fbe8753dab": {
      "model_module": "@jupyter-widgets/base",
      "model_module_version": "1.0.0",
      "model_name": "LayoutModel",
      "state": {}
     },
     "a808eda7cca34a7fb5a81bd659f37e7d": {
      "model_module": "@jupyter-widgets/controls",
      "model_module_version": "1.0.0",
      "model_name": "SliderStyleModel",
      "state": {
       "description_width": ""
      }
     },
     "be367df6643c47929a0882c9e743281a": {
      "model_module": "@jupyter-widgets/controls",
      "model_module_version": "1.0.0",
      "model_name": "VBoxModel",
      "state": {
       "_dom_classes": [
        "widget-interact"
       ],
       "children": [
        "IPY_MODEL_50349c9f4be845d88a0bae775818f66a",
        "IPY_MODEL_78531f4541184e1982f023171ffc2c05",
        "IPY_MODEL_8e5a37f0983043a19068e17c0955d7dd",
        "IPY_MODEL_755af624e19745be9c4dcbcea2bb3da9"
       ],
       "layout": "IPY_MODEL_9ebdd454762b4c89a3185ff2d7c261a7"
      }
     },
     "c6afa3bd09b244e2ab6f1983a721d75a": {
      "model_module": "@jupyter-widgets/base",
      "model_module_version": "1.0.0",
      "model_name": "LayoutModel",
      "state": {}
     },
     "cd16e69cf31741b4b532155735cf3f64": {
      "model_module": "@jupyter-widgets/controls",
      "model_module_version": "1.0.0",
      "model_name": "TextModel",
      "state": {
       "description": "an:",
       "layout": "IPY_MODEL_95e570515f574a9296bfc4bfc957070a",
       "placeholder": "0",
       "style": "IPY_MODEL_12e2218af8234209a1191c0d43aae3f7",
       "value": "0"
      }
     },
     "d04ae35e3ddd495083ab53ad625d37dc": {
      "model_module": "@jupyter-widgets/base",
      "model_module_version": "1.0.0",
      "model_name": "LayoutModel",
      "state": {}
     },
     "d0b4456fd0bb4c688b0570b1544023a4": {
      "model_module": "@jupyter-widgets/controls",
      "model_module_version": "1.0.0",
      "model_name": "DescriptionStyleModel",
      "state": {
       "description_width": ""
      }
     },
     "d44eb5e9fdae49b794c75eb58b20acfa": {
      "model_module": "@jupyter-widgets/controls",
      "model_module_version": "1.0.0",
      "model_name": "DescriptionStyleModel",
      "state": {
       "description_width": ""
      }
     },
     "db4e0f5b18f049dea7f5d746380eb784": {
      "model_module": "@jupyter-widgets/controls",
      "model_module_version": "1.0.0",
      "model_name": "SliderStyleModel",
      "state": {
       "description_width": ""
      }
     },
     "ea7ed6e897f5434d9579ceaf125c3f69": {
      "model_module": "@jupyter-widgets/base",
      "model_module_version": "1.0.0",
      "model_name": "LayoutModel",
      "state": {}
     },
     "f17599857cc648e9be9b26abd45cbc73": {
      "model_module": "@jupyter-widgets/output",
      "model_module_version": "1.0.0",
      "model_name": "OutputModel",
      "state": {
       "layout": "IPY_MODEL_13640af283c9462aa4e22f69eb9d1438"
      }
     },
     "f318997eec82443994cc1914e692a1bf": {
      "model_module": "@jupyter-widgets/controls",
      "model_module_version": "1.0.0",
      "model_name": "TextModel",
      "state": {
       "description": "f:",
       "layout": "IPY_MODEL_9e560321830f4ff4a10d93565ea53dda",
       "placeholder": "numpy.sinh(t)",
       "style": "IPY_MODEL_85898b4838f240c39546025664bc6327",
       "value": "numpy.sinh(t)"
      }
     },
     "f32977bcda5e4ac88ba21486a65249b3": {
      "model_module": "@jupyter-widgets/controls",
      "model_module_version": "1.0.0",
      "model_name": "DescriptionStyleModel",
      "state": {
       "description_width": ""
      }
     },
     "f57927de0a4a4b4980dbf9433dc69833": {
      "model_module": "@jupyter-widgets/controls",
      "model_module_version": "1.0.0",
      "model_name": "SliderStyleModel",
      "state": {
       "description_width": ""
      }
     },
     "f8570f8dddb845a29c7ace04a6bda807": {
      "model_module": "@jupyter-widgets/controls",
      "model_module_version": "1.0.0",
      "model_name": "IntSliderModel",
      "state": {
       "continuous_update": false,
       "description": "n",
       "layout": "IPY_MODEL_61cc971d26c043d080c37937391a2658",
       "min": 1,
       "style": "IPY_MODEL_f57927de0a4a4b4980dbf9433dc69833",
       "value": 1
      }
     },
     "fd95299161974445988d267902733344": {
      "model_module": "@jupyter-widgets/base",
      "model_module_version": "1.0.0",
      "model_name": "LayoutModel",
      "state": {}
     }
    },
    "version_major": 2,
    "version_minor": 0
   }
  }
 },
 "nbformat": 4,
 "nbformat_minor": 2
}
