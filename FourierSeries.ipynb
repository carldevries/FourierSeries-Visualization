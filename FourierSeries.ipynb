{
 "cells": [
  {
   "cell_type": "code",
   "execution_count": 1,
   "metadata": {
    "scrolled": true
   },
   "outputs": [],
   "source": [
    "%matplotlib inline\n",
    "from ipywidgets import interact\n",
    "import ipywidgets as widgets\n",
    "import matplotlib.pyplot as plt\n",
    "import numpy"
   ]
  },
  {
   "cell_type": "code",
   "execution_count": 2,
   "metadata": {
    "scrolled": false
   },
   "outputs": [],
   "source": [
    "#The FourierSeries class is just a conventient way to track the function and associted Fourier Coefficents.\n",
    "class FourierSeries:\n",
    "    #Fourier Coefficients\n",
    "    a0 = lambda self, L: 0\n",
    "    an = lambda self, n, L: 0\n",
    "    bn = lambda self, n, L: 0\n",
    "    #The function being approximated\n",
    "    f = lambda t : 0\n",
    "    #Returns a lambda function which represents the Fourier series for a given n and L.\n",
    "    def fs(self):\n",
    "        fs_cos = lambda t, n, L: numpy.cos((numpy.pi * n * t) / L)\n",
    "        fs_sine = lambda t, n, L: numpy.sin((numpy.pi * n * t) / L)\n",
    "        return lambda t, n, L: self.a0(L) + (self.an(n, L) * fs_cos(t, n, L)) +  (self.bn(n, L) * fs_sine(t, n, L))"
   ]
  },
  {
   "cell_type": "code",
   "execution_count": 3,
   "metadata": {
    "scrolled": false
   },
   "outputs": [],
   "source": [
    "#Plot yfa vs. t and y vs. t given the x and y boundaries\n",
    "def plot_FS(t, yfa, y, x_min, x_max, y_min, y_max):\n",
    "\n",
    "    x_width = 10 \n",
    "    y_height = 5\n",
    "    plt.figure(1, figsize=(x_width, y_height))\n",
    "    plt.xlabel('x', fontsize=16)\n",
    "    plt.ylabel('y', fontsize=16)\n",
    "    plt.xlim(x_min, x_max)\n",
    "    plt.ylim(y_min, y_max)\n",
    "    plt.grid()\n",
    "    plt.plot(t, yfa);\n",
    "    plt.plot(t, y);\n",
    "    plt.show()\n",
    " "
   ]
  },
  {
   "cell_type": "code",
   "execution_count": 4,
   "metadata": {
    "scrolled": true
   },
   "outputs": [],
   "source": [
    "#I chose cosh(x) and the Fourier Series of cosh of x to be the default.\n",
    "#Create lambda functions for cosh(t) and the Fourier cofficients\n",
    "f = lambda t : numpy.cosh(t)\n",
    "a0 = lambda L : 0\n",
    "an = lambda n, L : 0\n",
    "bn = lambda n, L: ((2 * numpy.pi * n) * (1 - (((-1)**n) * numpy.cosh(L)))) / (((numpy.pi * n)**2) + (L**2))\n",
    "Fn = lambda t, n, L: numpy.sin((numpy.pi * n * t) / L)\n",
    "#Set the function and the Fourier Coefficients into th \n",
    "fs = FourierSeries();\n",
    "fs.f = f\n",
    "fs.a0 = a0\n",
    "fs.an = an\n",
    "fs.bn = bn\n",
    "    \n",
    "#Set the default text for the function and Fourier Series coefficient inputs text boxes\n",
    "sinh_bn_text = '-(2 * numpy.pi * n * numpy.sinh(L) * (-1)**n) / ((L**2) + ((numpy.pi * n)**2))'\n",
    "f_text = widgets.Text(value='numpy.sinh(t)', placeholder='numpy.sinh(t)', description='f:', disabled=False)\n",
    "a0_text = widgets.Text(value='0', placeholder='0', description='a0:', disabled=False)\n",
    "an_text = widgets.Text(value='0', placeholder='0', description='an:', disabled=False)\n",
    "bn_text = widgets.Text(value=sinh_bn_text, placeholder=sinh_bn_text, description='bn:', disabled=False)"
   ]
  },
  {
   "cell_type": "code",
   "execution_count": 5,
   "metadata": {
    "scrolled": false
   },
   "outputs": [
    {
     "data": {
      "application/vnd.jupyter.widget-view+json": {
       "model_id": "289a2a4d434f407886a0262fa386e6d9",
       "version_major": 2,
       "version_minor": 0
      },
      "text/html": [
       "<p>Failed to display Jupyter Widget of type <code>interactive</code>.</p>\n",
       "<p>\n",
       "  If you're reading this message in the Jupyter Notebook or JupyterLab Notebook, it may mean\n",
       "  that the widgets JavaScript is still loading. If this message persists, it\n",
       "  likely means that the widgets JavaScript library is either not installed or\n",
       "  not enabled. See the <a href=\"https://ipywidgets.readthedocs.io/en/stable/user_install.html\">Jupyter\n",
       "  Widgets Documentation</a> for setup instructions.\n",
       "</p>\n",
       "<p>\n",
       "  If you're reading this message in another frontend (for example, a static\n",
       "  rendering on GitHub or <a href=\"https://nbviewer.jupyter.org/\">NBViewer</a>),\n",
       "  it may mean that your frontend doesn't currently support widgets.\n",
       "</p>\n"
      ],
      "text/plain": [
       "interactive(children=(Text(value='numpy.sinh(t)', description='f:', placeholder='numpy.sinh(t)'), Text(value='0', description='a0:', placeholder='0'), Text(value='0', description='an:', placeholder='0'), Text(value='-(2 * numpy.pi * n * numpy.sinh(L) * (-1)**n) / ((L**2) + ((numpy.pi * n)**2))', description='bn:', placeholder='-(2 * numpy.pi * n * numpy.sinh(L) * (-1)**n) / ((L**2) + ((numpy.pi * n)**2))'), Output()), _dom_classes=('widget-interact',))"
      ]
     },
     "metadata": {},
     "output_type": "display_data"
    },
    {
     "data": {
      "application/vnd.jupyter.widget-view+json": {
       "model_id": "c1affdb452ea47f69491764d3f74117f",
       "version_major": 2,
       "version_minor": 0
      },
      "text/html": [
       "<p>Failed to display Jupyter Widget of type <code>interactive</code>.</p>\n",
       "<p>\n",
       "  If you're reading this message in the Jupyter Notebook or JupyterLab Notebook, it may mean\n",
       "  that the widgets JavaScript is still loading. If this message persists, it\n",
       "  likely means that the widgets JavaScript library is either not installed or\n",
       "  not enabled. See the <a href=\"https://ipywidgets.readthedocs.io/en/stable/user_install.html\">Jupyter\n",
       "  Widgets Documentation</a> for setup instructions.\n",
       "</p>\n",
       "<p>\n",
       "  If you're reading this message in another frontend (for example, a static\n",
       "  rendering on GitHub or <a href=\"https://nbviewer.jupyter.org/\">NBViewer</a>),\n",
       "  it may mean that your frontend doesn't currently support widgets.\n",
       "</p>\n"
      ],
      "text/plain": [
       "interactive(children=(IntSlider(value=1, continuous_update=False, description='n', min=1), IntSlider(value=1, continuous_update=False, description='L', max=5, min=1), ToggleButton(value=False, description='Update'), Output()), _dom_classes=('widget-interact',))"
      ]
     },
     "metadata": {},
     "output_type": "display_data"
    }
   ],
   "source": [
    "n_slider = widgets.IntSlider(min=1,max=100,step=1,value=1, continuous_update=False)\n",
    "L_slider = widgets.IntSlider(min=1,max=5,step=1,value=1, continuous_update=False)\n",
    "tog_btn = widgets.ToggleButton(value=False, description='Update', disabled=False)\n",
    "\n",
    "loaded_fs = FourierSeries();\n",
    "def new_f_text (i, j, k, l):\n",
    "    \n",
    "    #Save the values of the lambdas entered to Fourier Series object.\n",
    "    loaded_fs.f = lambda t: eval(i)\n",
    "    loaded_fs.a0 = lambda L: eval(j)\n",
    "    loaded_fs.an = lambda n, L: eval(k)\n",
    "    loaded_fs.bn = lambda n, L: eval(l)\n",
    "    \n",
    "interact(new_f_text,i=f_text, j=a0_text, k=an_text, l=bn_text)\n",
    "\n",
    "\n",
    "def f(n, L, z):\n",
    "    \n",
    "    if z:\n",
    "        fs.f = loaded_fs.f\n",
    "        fs.a0 = loaded_fs.a0\n",
    "        fs.an = loaded_fs.an\n",
    "        fs.bn = loaded_fs.bn\n",
    "        \n",
    "    #Calculate poitns for the function f(x)\n",
    "    t = numpy.linspace(-(L + 0.25), L + 0.25, 1000)\n",
    "    yfa = fs.f(t)\n",
    "    \n",
    "    #Calculate points for the Fourier Series approximation FS(s)\n",
    "    y = numpy.zeros(1000)\n",
    "    for i in range(1, n):\n",
    "        yn = fs.fs()(t, i, L)\n",
    "        y += yn\n",
    "    \n",
    "    #Choose bounds for the plot\n",
    "    x_min = -(L + 0.2)\n",
    "    x_max = (L + 0.2)\n",
    "    y_min = -L if numpy.amin(y) == numpy.amax(y) else (numpy.amin(y) - 0.2)\n",
    "    y_max = fs.f(L) if numpy.amin(y) == numpy.amax(y) else (numpy.amax(y) + 0.2)\n",
    "    \n",
    "    plot_FS(t, yfa, y, x_min, x_max, y_min, y_max)\n",
    "\n",
    "interact(f, n=n_slider, L=L_slider, z=tog_btn);\n"
   ]
  },
  {
   "cell_type": "code",
   "execution_count": null,
   "metadata": {
    "scrolled": true
   },
   "outputs": [],
   "source": []
  }
 ],
 "metadata": {
  "kernelspec": {
   "display_name": "Python 3",
   "language": "python",
   "name": "python3"
  },
  "language_info": {
   "codemirror_mode": {
    "name": "ipython",
    "version": 3
   },
   "file_extension": ".py",
   "mimetype": "text/x-python",
   "name": "python",
   "nbconvert_exporter": "python",
   "pygments_lexer": "ipython3",
   "version": "3.6.2"
  },
  "widgets": {
   "application/vnd.jupyter.widget-state+json": {
    "state": {
     "036c6186b03a44e1b373e70f79440cdd": {
      "model_module": "@jupyter-widgets/controls",
      "model_module_version": "1.0.0",
      "model_name": "SliderStyleModel",
      "state": {
       "description_width": ""
      }
     },
     "1140d52533d942a788e746eaecc3071d": {
      "model_module": "@jupyter-widgets/output",
      "model_module_version": "1.0.0",
      "model_name": "OutputModel",
      "state": {
       "layout": "IPY_MODEL_43532a602df24a94a3404ac8ca7b50d1"
      }
     },
     "167c1d7ad81f413f90c54f4c1203afc1": {
      "model_module": "@jupyter-widgets/controls",
      "model_module_version": "1.0.0",
      "model_name": "DescriptionStyleModel",
      "state": {
       "description_width": ""
      }
     },
     "248ece095aa34ee9888b17b29b7a32c6": {
      "model_module": "@jupyter-widgets/controls",
      "model_module_version": "1.0.0",
      "model_name": "TextModel",
      "state": {
       "description": "an:",
       "layout": "IPY_MODEL_b5d76e5d8767499498b0fc8f6da5ff53",
       "placeholder": "0",
       "style": "IPY_MODEL_bf2ddba21e7b46eea5130b7582f5c1d9",
       "value": "0"
      }
     },
     "289a2a4d434f407886a0262fa386e6d9": {
      "model_module": "@jupyter-widgets/controls",
      "model_module_version": "1.0.0",
      "model_name": "VBoxModel",
      "state": {
       "_dom_classes": [
        "widget-interact"
       ],
       "children": [
        "IPY_MODEL_ba5affa11f2347bf9233ce3c0e775c99",
        "IPY_MODEL_ce8412e1d4374b27a1040e7147fc60a0",
        "IPY_MODEL_248ece095aa34ee9888b17b29b7a32c6",
        "IPY_MODEL_fc78dfff7052472aba3b65e48ac715e7",
        "IPY_MODEL_1140d52533d942a788e746eaecc3071d"
       ],
       "layout": "IPY_MODEL_69dd9ddf986a4bed9c9f2076d29fc4b8"
      }
     },
     "415510f276664f9a8e329b3d44d21afd": {
      "model_module": "@jupyter-widgets/base",
      "model_module_version": "1.0.0",
      "model_name": "LayoutModel",
      "state": {}
     },
     "43532a602df24a94a3404ac8ca7b50d1": {
      "model_module": "@jupyter-widgets/base",
      "model_module_version": "1.0.0",
      "model_name": "LayoutModel",
      "state": {}
     },
     "435b7ed54c5d44d7a5f3732332cb9d18": {
      "model_module": "@jupyter-widgets/controls",
      "model_module_version": "1.0.0",
      "model_name": "DescriptionStyleModel",
      "state": {
       "description_width": ""
      }
     },
     "48cd867f949542ca91335f3844e8f9ee": {
      "model_module": "@jupyter-widgets/base",
      "model_module_version": "1.0.0",
      "model_name": "LayoutModel",
      "state": {}
     },
     "60a176e214644ea9a8e6149dca7d36cb": {
      "model_module": "@jupyter-widgets/base",
      "model_module_version": "1.0.0",
      "model_name": "LayoutModel",
      "state": {}
     },
     "6726c9ef17d8494491da1a02bc4414fb": {
      "model_module": "@jupyter-widgets/base",
      "model_module_version": "1.0.0",
      "model_name": "LayoutModel",
      "state": {}
     },
     "69dd9ddf986a4bed9c9f2076d29fc4b8": {
      "model_module": "@jupyter-widgets/base",
      "model_module_version": "1.0.0",
      "model_name": "LayoutModel",
      "state": {}
     },
     "7302ea6c58b445e68d5232438369b590": {
      "model_module": "@jupyter-widgets/controls",
      "model_module_version": "1.0.0",
      "model_name": "IntSliderModel",
      "state": {
       "continuous_update": false,
       "description": "L",
       "layout": "IPY_MODEL_b73d750fb3f94ad49d5371862905d3d3",
       "max": 5,
       "min": 1,
       "style": "IPY_MODEL_8cac9ad790874676a95b3ffc656dddd1",
       "value": 1
      }
     },
     "791aadaf8106409193f5a675d749b924": {
      "model_module": "@jupyter-widgets/base",
      "model_module_version": "1.0.0",
      "model_name": "LayoutModel",
      "state": {}
     },
     "8cac9ad790874676a95b3ffc656dddd1": {
      "model_module": "@jupyter-widgets/controls",
      "model_module_version": "1.0.0",
      "model_name": "SliderStyleModel",
      "state": {
       "description_width": ""
      }
     },
     "8fab5ca5b2514a0e8c0e793a373cabda": {
      "model_module": "@jupyter-widgets/base",
      "model_module_version": "1.0.0",
      "model_name": "LayoutModel",
      "state": {}
     },
     "8fed2f4d43304500ab296c6f29596849": {
      "model_module": "@jupyter-widgets/controls",
      "model_module_version": "1.0.0",
      "model_name": "DescriptionStyleModel",
      "state": {
       "description_width": ""
      }
     },
     "9e52389b606940f4a98e37c3b20a214b": {
      "model_module": "@jupyter-widgets/base",
      "model_module_version": "1.0.0",
      "model_name": "LayoutModel",
      "state": {}
     },
     "b1c1511e50654a5dbc270b2c500768a4": {
      "model_module": "@jupyter-widgets/output",
      "model_module_version": "1.0.0",
      "model_name": "OutputModel",
      "state": {
       "layout": "IPY_MODEL_6726c9ef17d8494491da1a02bc4414fb",
       "outputs": [
        {
         "data": {
          "image/png": "iVBORw0KGgoAAAANSUhEUgAAAnIAAAFFCAYAAABouQAdAAAABHNCSVQICAgIfAhkiAAAAAlwSFlz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\nTkSuQmCC\n",
          "text/plain": "<matplotlib.figure.Figure at 0x253f5a59e80>"
         },
         "metadata": {},
         "output_type": "display_data"
        }
       ]
      }
     },
     "b5d76e5d8767499498b0fc8f6da5ff53": {
      "model_module": "@jupyter-widgets/base",
      "model_module_version": "1.0.0",
      "model_name": "LayoutModel",
      "state": {}
     },
     "b73d750fb3f94ad49d5371862905d3d3": {
      "model_module": "@jupyter-widgets/base",
      "model_module_version": "1.0.0",
      "model_name": "LayoutModel",
      "state": {}
     },
     "ba5affa11f2347bf9233ce3c0e775c99": {
      "model_module": "@jupyter-widgets/controls",
      "model_module_version": "1.0.0",
      "model_name": "TextModel",
      "state": {
       "description": "f:",
       "layout": "IPY_MODEL_48cd867f949542ca91335f3844e8f9ee",
       "placeholder": "numpy.sinh(t)",
       "style": "IPY_MODEL_167c1d7ad81f413f90c54f4c1203afc1",
       "value": "numpy.sinh(t)"
      }
     },
     "bf2ddba21e7b46eea5130b7582f5c1d9": {
      "model_module": "@jupyter-widgets/controls",
      "model_module_version": "1.0.0",
      "model_name": "DescriptionStyleModel",
      "state": {
       "description_width": ""
      }
     },
     "c1affdb452ea47f69491764d3f74117f": {
      "model_module": "@jupyter-widgets/controls",
      "model_module_version": "1.0.0",
      "model_name": "VBoxModel",
      "state": {
       "_dom_classes": [
        "widget-interact"
       ],
       "children": [
        "IPY_MODEL_d38e0a5ae73241c2ae61644843697689",
        "IPY_MODEL_7302ea6c58b445e68d5232438369b590",
        "IPY_MODEL_d19dc9be216c4f578afc4af532360ed9",
        "IPY_MODEL_b1c1511e50654a5dbc270b2c500768a4"
       ],
       "layout": "IPY_MODEL_60a176e214644ea9a8e6149dca7d36cb"
      }
     },
     "ce8412e1d4374b27a1040e7147fc60a0": {
      "model_module": "@jupyter-widgets/controls",
      "model_module_version": "1.0.0",
      "model_name": "TextModel",
      "state": {
       "description": "a0:",
       "layout": "IPY_MODEL_415510f276664f9a8e329b3d44d21afd",
       "placeholder": "0",
       "style": "IPY_MODEL_8fed2f4d43304500ab296c6f29596849",
       "value": "0"
      }
     },
     "d19dc9be216c4f578afc4af532360ed9": {
      "model_module": "@jupyter-widgets/controls",
      "model_module_version": "1.0.0",
      "model_name": "ToggleButtonModel",
      "state": {
       "description": "Update",
       "layout": "IPY_MODEL_791aadaf8106409193f5a675d749b924",
       "style": "IPY_MODEL_f784df2ed7dd406b95622603a835e5d5"
      }
     },
     "d38e0a5ae73241c2ae61644843697689": {
      "model_module": "@jupyter-widgets/controls",
      "model_module_version": "1.0.0",
      "model_name": "IntSliderModel",
      "state": {
       "continuous_update": false,
       "description": "n",
       "layout": "IPY_MODEL_8fab5ca5b2514a0e8c0e793a373cabda",
       "min": 1,
       "style": "IPY_MODEL_036c6186b03a44e1b373e70f79440cdd",
       "value": 1
      }
     },
     "f784df2ed7dd406b95622603a835e5d5": {
      "model_module": "@jupyter-widgets/controls",
      "model_module_version": "1.0.0",
      "model_name": "DescriptionStyleModel",
      "state": {
       "description_width": ""
      }
     },
     "fc78dfff7052472aba3b65e48ac715e7": {
      "model_module": "@jupyter-widgets/controls",
      "model_module_version": "1.0.0",
      "model_name": "TextModel",
      "state": {
       "description": "bn:",
       "layout": "IPY_MODEL_9e52389b606940f4a98e37c3b20a214b",
       "placeholder": "-(2 * numpy.pi * n * numpy.sinh(L) * (-1)**n) / ((L**2) + ((numpy.pi * n)**2))",
       "style": "IPY_MODEL_435b7ed54c5d44d7a5f3732332cb9d18",
       "value": "-(2 * numpy.pi * n * numpy.sinh(L) * (-1)**n) / ((L**2) + ((numpy.pi * n)**2))"
      }
     }
    },
    "version_major": 2,
    "version_minor": 0
   }
  }
 },
 "nbformat": 4,
 "nbformat_minor": 2
}
