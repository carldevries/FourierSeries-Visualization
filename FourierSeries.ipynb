{
 "cells": [
  {
   "cell_type": "code",
   "execution_count": 47,
   "metadata": {
    "scrolled": false
   },
   "outputs": [],
   "source": [
    "from ipywidgets import interact, interactive, fixed, interact_manual\n",
    "import ipywidgets as widgets\n",
    "import matplotlib.pyplot as plt\n",
    "import numpy"
   ]
  },
  {
   "cell_type": "code",
   "execution_count": 48,
   "metadata": {
    "scrolled": true
   },
   "outputs": [],
   "source": [
    "#The FourierSeries class is just a conventient way to track the function and associted Fourier Coefficents.\n",
    "class FourierSeries:\n",
    "    #Fourier Coefficients\n",
    "    a0 = lambda self, L: 0\n",
    "    an = lambda self, n, L: 0\n",
    "    bn = lambda self, n, L: 0\n",
    "    #The function being approximated\n",
    "    f = lambda t : 0\n",
    "    #Returns a lambda function which represents the Fourier series for a given n and L.\n",
    "    def fs(self):\n",
    "        fs_cos = lambda t, n, L: numpy.cos((numpy.pi * n * t) / L)\n",
    "        fs_sine = lambda t, n, L: numpy.sin((numpy.pi * n * t) / L)\n",
    "        return lambda t, n, L: self.a0(L) + (self.an(n, L) * fs_cos(t, n, L)) +  (self.bn(n, L) * fs_sine(t, n, L))"
   ]
  },
  {
   "cell_type": "code",
   "execution_count": 49,
   "metadata": {
    "scrolled": true
   },
   "outputs": [],
   "source": [
    "#Plot yfa vs. t and y vs. t given the x and y boundaries\n",
    "def plot_FS(t, yfa, y, x_min, x_max, y_min, y_max):\n",
    "    \n",
    "    x_width = 10 \n",
    "    y_height = 5\n",
    "    plt.figure(1, figsize=(x_width, y_height))\n",
    "    plt.xlabel('x', fontsize=16)\n",
    "    plt.ylabel('y', fontsize=16)\n",
    "    plt.xlim(x_min, x_max)\n",
    "    plt.ylim(y_min, y_max)\n",
    "    plt.grid()\n",
    "    plt.plot(t, yfa);\n",
    "    plt.plot(t, y);\n",
    "    plt.show()\n",
    " "
   ]
  },
  {
   "cell_type": "code",
   "execution_count": 52,
   "metadata": {
    "scrolled": false
   },
   "outputs": [
    {
     "data": {
      "application/vnd.jupyter.widget-view+json": {
       "model_id": "ef3180696151478b916fb625f053803a",
       "version_major": 2,
       "version_minor": 0
      },
      "text/html": [
       "<p>Failed to display Jupyter Widget of type <code>interactive</code>.</p>\n",
       "<p>\n",
       "  If you're reading this message in the Jupyter Notebook or JupyterLab Notebook, it may mean\n",
       "  that the widgets JavaScript is still loading. If this message persists, it\n",
       "  likely means that the widgets JavaScript library is either not installed or\n",
       "  not enabled. See the <a href=\"https://ipywidgets.readthedocs.io/en/stable/user_install.html\">Jupyter\n",
       "  Widgets Documentation</a> for setup instructions.\n",
       "</p>\n",
       "<p>\n",
       "  If you're reading this message in another frontend (for example, a static\n",
       "  rendering on GitHub or <a href=\"https://nbviewer.jupyter.org/\">NBViewer</a>),\n",
       "  it may mean that your frontend doesn't currently support widgets.\n",
       "</p>\n"
      ],
      "text/plain": [
       "interactive(children=(Text(value='numpy.sinh(t)', description='f:', placeholder='numpy.sinh(t)'), Text(value='0', description='a0:', placeholder='0'), Text(value='0', description='an:', placeholder='0'), Text(value='-(2 * numpy.pi * n * numpy.sinh(L) * (-1)**n) / ((L**2) + ((numpy.pi * n)**2))', description='bn:', placeholder='-(2 * numpy.pi * n * numpy.sinh(L) * (-1)**n) / ((L**2) + ((numpy.pi * n)**2))'), Output()), _dom_classes=('widget-interact',))"
      ]
     },
     "metadata": {},
     "output_type": "display_data"
    },
    {
     "data": {
      "application/vnd.jupyter.widget-view+json": {
       "model_id": "1c62f7da80224fccaa2cfed49506fcf1",
       "version_major": 2,
       "version_minor": 0
      },
      "text/html": [
       "<p>Failed to display Jupyter Widget of type <code>interactive</code>.</p>\n",
       "<p>\n",
       "  If you're reading this message in the Jupyter Notebook or JupyterLab Notebook, it may mean\n",
       "  that the widgets JavaScript is still loading. If this message persists, it\n",
       "  likely means that the widgets JavaScript library is either not installed or\n",
       "  not enabled. See the <a href=\"https://ipywidgets.readthedocs.io/en/stable/user_install.html\">Jupyter\n",
       "  Widgets Documentation</a> for setup instructions.\n",
       "</p>\n",
       "<p>\n",
       "  If you're reading this message in another frontend (for example, a static\n",
       "  rendering on GitHub or <a href=\"https://nbviewer.jupyter.org/\">NBViewer</a>),\n",
       "  it may mean that your frontend doesn't currently support widgets.\n",
       "</p>\n"
      ],
      "text/plain": [
       "interactive(children=(IntSlider(value=1, continuous_update=False, description='n', min=1), IntSlider(value=1, continuous_update=False, description='L', max=5, min=1), ToggleButton(value=False, description='Update'), Output()), _dom_classes=('widget-interact',))"
      ]
     },
     "metadata": {},
     "output_type": "display_data"
    }
   ],
   "source": [
    "#I chose cosh(x) and the Fourier Series of cosh of x to be the default.\n",
    "#Create lambda functions for cosh(t) and the Fourier cofficients\n",
    "f = lambda t : numpy.cosh(t)\n",
    "a0 = lambda L : 0\n",
    "an = lambda n, L : 0\n",
    "bn = lambda n, L: ((2 * numpy.pi * n) * (1 - (((-1)**n) * numpy.cosh(L)))) / (((numpy.pi * n)**2) + (L**2))\n",
    "Fn = lambda t, n, L: numpy.sin((numpy.pi * n * t) / L)\n",
    "#Set the function and the Fourier Coefficients into th \n",
    "fs = FourierSeries();\n",
    "fs.f = f\n",
    "fs.a0 = a0\n",
    "fs.an = an\n",
    "fs.bn = bn\n",
    "    \n",
    "#Set the default text for the function and Fourier Series coefficient inputs text boxes\n",
    "sinh_bn_text = '-(2 * numpy.pi * n * numpy.sinh(L) * (-1)**n) / ((L**2) + ((numpy.pi * n)**2))'\n",
    "f_text = widgets.Text(value='numpy.sinh(t)', placeholder='numpy.sinh(t)', description='f:', disabled=False)\n",
    "a0_text = widgets.Text(value='0', placeholder='0', description='a0:', disabled=False)\n",
    "an_text = widgets.Text(value='0', placeholder='0', description='an:', disabled=False)\n",
    "bn_text = widgets.Text(value=sinh_bn_text, placeholder=sinh_bn_text, description='bn:', disabled=False)\n",
    "\n",
    "\n",
    "n_slider = widgets.IntSlider(min=1,max=100,step=1,value=1, continuous_update=False)\n",
    "L_slider = widgets.IntSlider(min=1,max=5,step=1,value=1, continuous_update=False)\n",
    "tog_btn = widgets.ToggleButton(value=False, description='Update', disabled=False)\n",
    "\n",
    "loaded_fs = FourierSeries();\n",
    "def new_f_text (i, j, k, l):\n",
    "    \n",
    "    #Save the values of the lambdas entered to Fourier Series object.\n",
    "    loaded_fs.f = lambda t: eval(i)\n",
    "    loaded_fs.a0 = lambda L: eval(j)\n",
    "    loaded_fs.an = lambda n, L: eval(k)\n",
    "    loaded_fs.bn = lambda n, L: eval(l)\n",
    "    \n",
    "interact(new_f_text,i=f_text, j=a0_text, k=an_text, l=bn_text)\n",
    "\n",
    "\n",
    "def f(n, L, z):\n",
    "    \n",
    "    if z:\n",
    "        fs.f = loaded_fs.f\n",
    "        fs.a0 = loaded_fs.a0\n",
    "        fs.an = loaded_fs.an\n",
    "        fs.bn = loaded_fs.bn\n",
    "        \n",
    "    #Calculate poitns for the function f(x)\n",
    "    t = numpy.linspace(-(L + 0.25), L + 0.25, 1000)\n",
    "    yfa = fs.f(t)\n",
    "    \n",
    "    #Calculate points for the Fourier Series approximation FS(s)\n",
    "    y = numpy.zeros(1000)\n",
    "    for i in range(1, n):\n",
    "        yn = fs.fs()(t, i, L)\n",
    "        y += yn\n",
    "    \n",
    "    #Choose bounds for the plot\n",
    "    x_min = -(L + 0.2)\n",
    "    x_max = (L + 0.2)\n",
    "    y_min = -L if numpy.amin(y) == numpy.amax(y) else (numpy.amin(y) - 0.2)\n",
    "    y_max = fa(L) if numpy.amin(y) == numpy.amax(y) else (numpy.amax(y) + 0.2)\n",
    "    \n",
    "    plot_FS(t, yfa, y, x_min, x_max, y_min, y_max)\n",
    "\n",
    "interact(f, n=n_slider, L=L_slider, z=tog_btn);\n"
   ]
  },
  {
   "cell_type": "code",
   "execution_count": null,
   "metadata": {},
   "outputs": [],
   "source": []
  }
 ],
 "metadata": {
  "kernelspec": {
   "display_name": "Python 3",
   "language": "python",
   "name": "python3"
  }
 },
 "nbformat": 4,
 "nbformat_minor": 2
}
