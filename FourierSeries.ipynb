{
 "cells": [
  {
   "cell_type": "code",
   "execution_count": 11,
   "metadata": {
    "scrolled": false
   },
   "outputs": [],
   "source": [
    "from ipywidgets import interact, interactive, fixed, interact_manual\n",
    "import ipywidgets as widgets\n",
    "import matplotlib.pyplot as plt\n",
    "import numpy\n",
    "%matplotlib inline"
   ]
  },
  {
   "cell_type": "code",
   "execution_count": 12,
   "metadata": {
    "scrolled": true
   },
   "outputs": [],
   "source": [
    "#The FourierSeries class is just a conventient way to track the function and associted Fourier Coefficents.\n",
    "class FourierSeries:\n",
    "    #Fourier Coefficients\n",
    "    a0 = lambda self, L: 0\n",
    "    an = lambda self, n, L: 0\n",
    "    bn = lambda self, n, L: 0\n",
    "    #The function being approximated\n",
    "    f = lambda t : 0\n",
    "    #Returns a lambda function which represents the Fourier series for a given n and L.\n",
    "    def fs(self):\n",
    "        fs_cos = lambda t, n, L: numpy.cos((numpy.pi * n * t) / L)\n",
    "        fs_sine = lambda t, n, L: numpy.sin((numpy.pi * n * t) / L)\n",
    "        return lambda t, n, L: self.a0(L) + (self.an(n, L) * fs_cos(t, n, L)) +  (self.bn(n, L) * fs_sine(t, n, L))"
   ]
  },
  {
   "cell_type": "code",
   "execution_count": 13,
   "metadata": {
    "scrolled": true
   },
   "outputs": [],
   "source": [
    "#Plot yfa vs. t and y vs. t given the x and y boundaries\n",
    "def plot_FS(t, yfa, y, x_min, x_max, y_min, y_max):\n",
    "    \n",
    "    x_width = 10 \n",
    "    y_height = 5\n",
    "    plt.figure(1, figsize=(x_width, y_height))\n",
    "    plt.xlabel('x', fontsize=16)\n",
    "    plt.ylabel('y', fontsize=16)\n",
    "    plt.xlim(x_min, x_max)\n",
    "    plt.ylim(y_min, y_max)\n",
    "    plt.grid()\n",
    "    plt.plot(t, yfa);\n",
    "    plt.plot(t, y);\n",
    "    plt.show()\n",
    " "
   ]
  },
  {
   "cell_type": "code",
   "execution_count": 14,
   "metadata": {},
   "outputs": [],
   "source": [
    "#I chose cosh(x) and the Fourier Series of cosh of x to be the default.\n",
    "#Create lambda functions for cosh(t) and the Fourier cofficients\n",
    "f = lambda t : numpy.cosh(t)\n",
    "a0 = lambda L : 0\n",
    "an = lambda n, L : 0\n",
    "bn = lambda n, L: ((2 * numpy.pi * n) * (1 - (((-1)**n) * numpy.cosh(L)))) / (((numpy.pi * n)**2) + (L**2))\n",
    "Fn = lambda t, n, L: numpy.sin((numpy.pi * n * t) / L)\n",
    "#Set the function and the Fourier Coefficients into th \n",
    "fs = FourierSeries();\n",
    "fs.f = f\n",
    "fs.a0 = a0\n",
    "fs.an = an\n",
    "fs.bn = bn\n",
    "    \n",
    "#Set the default text for the function and Fourier Series coefficient inputs text boxes\n",
    "sinh_bn_text = '-(2 * numpy.pi * n * numpy.sinh(L) * (-1)**n) / ((L**2) + ((numpy.pi * n)**2))'\n",
    "f_text = widgets.Text(value='numpy.sinh(t)', placeholder='numpy.sinh(t)', description='f:', disabled=False)\n",
    "a0_text = widgets.Text(value='0', placeholder='0', description='a0:', disabled=False)\n",
    "an_text = widgets.Text(value='0', placeholder='0', description='an:', disabled=False)\n",
    "bn_text = widgets.Text(value=sinh_bn_text, placeholder=sinh_bn_text, description='bn:', disabled=False)"
   ]
  },
  {
   "cell_type": "code",
   "execution_count": 17,
   "metadata": {
    "scrolled": false
   },
   "outputs": [
    {
     "data": {
      "application/vnd.jupyter.widget-view+json": {
       "model_id": "498744e418a648e3a8d08615589ec529",
       "version_major": 2,
       "version_minor": 0
      },
      "text/html": [
       "<p>Failed to display Jupyter Widget of type <code>interactive</code>.</p>\n",
       "<p>\n",
       "  If you're reading this message in the Jupyter Notebook or JupyterLab Notebook, it may mean\n",
       "  that the widgets JavaScript is still loading. If this message persists, it\n",
       "  likely means that the widgets JavaScript library is either not installed or\n",
       "  not enabled. See the <a href=\"https://ipywidgets.readthedocs.io/en/stable/user_install.html\">Jupyter\n",
       "  Widgets Documentation</a> for setup instructions.\n",
       "</p>\n",
       "<p>\n",
       "  If you're reading this message in another frontend (for example, a static\n",
       "  rendering on GitHub or <a href=\"https://nbviewer.jupyter.org/\">NBViewer</a>),\n",
       "  it may mean that your frontend doesn't currently support widgets.\n",
       "</p>\n"
      ],
      "text/plain": [
       "interactive(children=(Text(value='numpy.sinh(t)', description='f:', placeholder='numpy.sinh(t)'), Text(value='0', description='a0:', placeholder='0'), Text(value='0', description='an:', placeholder='0'), Text(value='-(2 * numpy.pi * n * numpy.sinh(L) * (-1)**n) / ((L**2) + ((numpy.pi * n)**2))', description='bn:', placeholder='-(2 * numpy.pi * n * numpy.sinh(L) * (-1)**n) / ((L**2) + ((numpy.pi * n)**2))'), Output()), _dom_classes=('widget-interact',))"
      ]
     },
     "metadata": {},
     "output_type": "display_data"
    },
    {
     "data": {
      "application/vnd.jupyter.widget-view+json": {
       "model_id": "19a21089476d4cb3ac730772ad2b6edc",
       "version_major": 2,
       "version_minor": 0
      },
      "text/html": [
       "<p>Failed to display Jupyter Widget of type <code>interactive</code>.</p>\n",
       "<p>\n",
       "  If you're reading this message in the Jupyter Notebook or JupyterLab Notebook, it may mean\n",
       "  that the widgets JavaScript is still loading. If this message persists, it\n",
       "  likely means that the widgets JavaScript library is either not installed or\n",
       "  not enabled. See the <a href=\"https://ipywidgets.readthedocs.io/en/stable/user_install.html\">Jupyter\n",
       "  Widgets Documentation</a> for setup instructions.\n",
       "</p>\n",
       "<p>\n",
       "  If you're reading this message in another frontend (for example, a static\n",
       "  rendering on GitHub or <a href=\"https://nbviewer.jupyter.org/\">NBViewer</a>),\n",
       "  it may mean that your frontend doesn't currently support widgets.\n",
       "</p>\n"
      ],
      "text/plain": [
       "interactive(children=(IntSlider(value=1, continuous_update=False, description='n', min=1), IntSlider(value=1, continuous_update=False, description='L', max=5, min=1), ToggleButton(value=False, description='Update'), Output()), _dom_classes=('widget-interact',))"
      ]
     },
     "metadata": {},
     "output_type": "display_data"
    }
   ],
   "source": [
    "n_slider = widgets.IntSlider(min=1,max=100,step=1,value=1, continuous_update=False)\n",
    "L_slider = widgets.IntSlider(min=1,max=5,step=1,value=1, continuous_update=False)\n",
    "tog_btn = widgets.ToggleButton(value=False, description='Update', disabled=False)\n",
    "\n",
    "loaded_fs = FourierSeries();\n",
    "def new_f_text (i, j, k, l):\n",
    "    \n",
    "    #Save the values of the lambdas entered to Fourier Series object.\n",
    "    loaded_fs.f = lambda t: eval(i)\n",
    "    loaded_fs.a0 = lambda L: eval(j)\n",
    "    loaded_fs.an = lambda n, L: eval(k)\n",
    "    loaded_fs.bn = lambda n, L: eval(l)\n",
    "    \n",
    "interact(new_f_text,i=f_text, j=a0_text, k=an_text, l=bn_text)\n",
    "\n",
    "\n",
    "def f(n, L, z):\n",
    "    \n",
    "    if z:\n",
    "        fs.f = loaded_fs.f\n",
    "        fs.a0 = loaded_fs.a0\n",
    "        fs.an = loaded_fs.an\n",
    "        fs.bn = loaded_fs.bn\n",
    "        \n",
    "    #Calculate poitns for the function f(x)\n",
    "    t = numpy.linspace(-(L + 0.25), L + 0.25, 1000)\n",
    "    yfa = fs.f(t)\n",
    "    \n",
    "    #Calculate points for the Fourier Series approximation FS(s)\n",
    "    y = numpy.zeros(1000)\n",
    "    for i in range(1, n):\n",
    "        yn = fs.fs()(t, i, L)\n",
    "        y += yn\n",
    "    \n",
    "    #Choose bounds for the plot\n",
    "    x_min = -(L + 0.2)\n",
    "    x_max = (L + 0.2)\n",
    "    y_min = -L if numpy.amin(y) == numpy.amax(y) else (numpy.amin(y) - 0.2)\n",
    "    y_max = fs.f(L) if numpy.amin(y) == numpy.amax(y) else (numpy.amax(y) + 0.2)\n",
    "    \n",
    "    plot_FS(t, yfa, y, x_min, x_max, y_min, y_max)\n",
    "\n",
    "interact(f, n=n_slider, L=L_slider, z=tog_btn);\n"
   ]
  },
  {
   "cell_type": "code",
   "execution_count": null,
   "metadata": {},
   "outputs": [],
   "source": []
  }
 ],
 "metadata": {
  "kernelspec": {
   "display_name": "Python 3",
   "language": "python",
   "name": "python3"
  },
  "language_info": {
   "codemirror_mode": {
    "name": "ipython",
    "version": 3
   },
   "file_extension": ".py",
   "mimetype": "text/x-python",
   "name": "python",
   "nbconvert_exporter": "python",
   "pygments_lexer": "ipython3",
   "version": "3.6.2"
  },
  "widgets": {
   "application/vnd.jupyter.widget-state+json": {
    "state": {
     "00dbc94e1b7d4116a7fa50dd13c38c64": {
      "model_module": "@jupyter-widgets/controls",
      "model_module_version": "1.0.0",
      "model_name": "IntSliderModel",
      "state": {
       "continuous_update": false,
       "description": "n",
       "layout": "IPY_MODEL_2677ca7f2f1f4d1db8894437edc93496",
       "min": 1,
       "style": "IPY_MODEL_0ad7e5fbdd3d4da38bd2ef4df165d24f",
       "value": 1
      }
     },
     "033e6fdf8a154b5f911296ba4e81cc4e": {
      "model_module": "@jupyter-widgets/controls",
      "model_module_version": "1.0.0",
      "model_name": "VBoxModel",
      "state": {
       "_dom_classes": [
        "widget-interact"
       ],
       "children": [
        "IPY_MODEL_504a207b52364c8c92ec5e0d178571b8",
        "IPY_MODEL_c798fc2433684b6085936da4c9c87ce0",
        "IPY_MODEL_8307f7fb38c54cd7bf46b9709b366b7f",
        "IPY_MODEL_fc49cec78d4c485dbfc7dfe15c5c7921",
        "IPY_MODEL_fbcaf30814414ef3b4dba5b7c656e637"
       ],
       "layout": "IPY_MODEL_f09d3525d1fa499cb86ec88c8a2fee9d"
      }
     },
     "03dd7e9db5eb42eda9e322e4cc53779d": {
      "model_module": "@jupyter-widgets/controls",
      "model_module_version": "1.0.0",
      "model_name": "VBoxModel",
      "state": {
       "_dom_classes": [
        "widget-interact"
       ],
       "children": [
        "IPY_MODEL_f8ba6abbabfd451ab0c86520f22bec16",
        "IPY_MODEL_35865510fb224d5a9220d5198815e9a8",
        "IPY_MODEL_33b6f6ca37af4b77b0629b522e5ea14e",
        "IPY_MODEL_be23e36809674d9dac8e98577b4b02d2",
        "IPY_MODEL_ef3732ab9cea48529615f82f0bcdb28a"
       ],
       "layout": "IPY_MODEL_27ed7387c163495f9e892d61c4827b77"
      }
     },
     "03e6be739c1d477197a84e9aaf940030": {
      "model_module": "@jupyter-widgets/controls",
      "model_module_version": "1.0.0",
      "model_name": "DescriptionStyleModel",
      "state": {
       "description_width": ""
      }
     },
     "0432dae559d746e8a066cbe64b430026": {
      "model_module": "@jupyter-widgets/controls",
      "model_module_version": "1.0.0",
      "model_name": "DescriptionStyleModel",
      "state": {
       "description_width": ""
      }
     },
     "04670dfabf504bffb2f3500d74f6aedd": {
      "model_module": "@jupyter-widgets/base",
      "model_module_version": "1.0.0",
      "model_name": "LayoutModel",
      "state": {}
     },
     "04a91fb4f3944ec997caa65f43cbadea": {
      "model_module": "@jupyter-widgets/base",
      "model_module_version": "1.0.0",
      "model_name": "LayoutModel",
      "state": {}
     },
     "072435806fd4455b9fe46fe90fa8200e": {
      "model_module": "@jupyter-widgets/controls",
      "model_module_version": "1.0.0",
      "model_name": "IntSliderModel",
      "state": {
       "continuous_update": false,
       "description": "L",
       "layout": "IPY_MODEL_d092c2faf25f4cd1848616bdb1b81b96",
       "max": 5,
       "min": 1,
       "style": "IPY_MODEL_5463c7d062014b15ad0a0ea96fd85264",
       "value": 1
      }
     },
     "089b3dca66854e768d2abcce9571b13e": {
      "model_module": "@jupyter-widgets/controls",
      "model_module_version": "1.0.0",
      "model_name": "TextModel",
      "state": {
       "description": "bn:",
       "layout": "IPY_MODEL_1cd1a684483143fbb4142ae8b620f133",
       "placeholder": "-(2 * numpy.pi * n * numpy.sinh(L) * (-1)**n) / ((L**2) + ((numpy.pi * n)**2))",
       "style": "IPY_MODEL_caaffbe248b24a7c9dc4566e99301e06",
       "value": "-(2 * numpy.pi * n * numpy.sinh(L) * (-1)**n) / ((L**2) + ((numpy.pi * n)**2))"
      }
     },
     "0989f760d92749d18b25b5ba27f8418a": {
      "model_module": "@jupyter-widgets/base",
      "model_module_version": "1.0.0",
      "model_name": "LayoutModel",
      "state": {}
     },
     "0ad7e5fbdd3d4da38bd2ef4df165d24f": {
      "model_module": "@jupyter-widgets/controls",
      "model_module_version": "1.0.0",
      "model_name": "SliderStyleModel",
      "state": {
       "description_width": ""
      }
     },
     "0c063fa529854fa5a30edf46b9e5238a": {
      "model_module": "@jupyter-widgets/controls",
      "model_module_version": "1.0.0",
      "model_name": "DescriptionStyleModel",
      "state": {
       "description_width": ""
      }
     },
     "0c4f7f4f40584a3885f579eafd74804c": {
      "model_module": "@jupyter-widgets/base",
      "model_module_version": "1.0.0",
      "model_name": "LayoutModel",
      "state": {}
     },
     "0d30d598561e414996a93a80d32945c3": {
      "model_module": "@jupyter-widgets/base",
      "model_module_version": "1.0.0",
      "model_name": "LayoutModel",
      "state": {}
     },
     "0fa21450f07e4d6483da4c2e1136be04": {
      "model_module": "@jupyter-widgets/base",
      "model_module_version": "1.0.0",
      "model_name": "LayoutModel",
      "state": {}
     },
     "115396963c1e4a52931f0940fbc58003": {
      "model_module": "@jupyter-widgets/base",
      "model_module_version": "1.0.0",
      "model_name": "LayoutModel",
      "state": {}
     },
     "11585ae18e27448f882e624842fb86f0": {
      "model_module": "@jupyter-widgets/base",
      "model_module_version": "1.0.0",
      "model_name": "LayoutModel",
      "state": {}
     },
     "11f1c5e8dfd742f3b21281fb04f52bd5": {
      "model_module": "@jupyter-widgets/controls",
      "model_module_version": "1.0.0",
      "model_name": "DescriptionStyleModel",
      "state": {
       "description_width": ""
      }
     },
     "138f8208d8da4a2d86c4d62b35f9b4e1": {
      "model_module": "@jupyter-widgets/controls",
      "model_module_version": "1.0.0",
      "model_name": "SliderStyleModel",
      "state": {
       "description_width": ""
      }
     },
     "1430e1f6cc3948359ba42c20320afef4": {
      "model_module": "@jupyter-widgets/controls",
      "model_module_version": "1.0.0",
      "model_name": "TextModel",
      "state": {
       "description": "f:",
       "layout": "IPY_MODEL_488e1229cbbf4a4480e84c42489e9dac",
       "placeholder": "numpy.sinh(t)",
       "style": "IPY_MODEL_69b9debbe6c74715b1121f758af0c264",
       "value": "numpy.sinh(t)"
      }
     },
     "175e6a20d9e544a687b11ed32107f272": {
      "model_module": "@jupyter-widgets/controls",
      "model_module_version": "1.0.0",
      "model_name": "SliderStyleModel",
      "state": {
       "description_width": ""
      }
     },
     "190e370411af4452b329c75eee6801b2": {
      "model_module": "@jupyter-widgets/controls",
      "model_module_version": "1.0.0",
      "model_name": "DescriptionStyleModel",
      "state": {
       "description_width": ""
      }
     },
     "19a21089476d4cb3ac730772ad2b6edc": {
      "model_module": "@jupyter-widgets/controls",
      "model_module_version": "1.0.0",
      "model_name": "VBoxModel",
      "state": {
       "_dom_classes": [
        "widget-interact"
       ],
       "children": [
        "IPY_MODEL_00dbc94e1b7d4116a7fa50dd13c38c64",
        "IPY_MODEL_69847084878040fd94f761dc80b268ca",
        "IPY_MODEL_d102ab2fd3a64307a520dd543ef9f441",
        "IPY_MODEL_6e23af5deddc44cfaf0437b80a1b746b"
       ],
       "layout": "IPY_MODEL_6ddf40916ed840fe907b2c95b9293434"
      }
     },
     "19e79792d27343e9815ebf0d40a8f8fa": {
      "model_module": "@jupyter-widgets/base",
      "model_module_version": "1.0.0",
      "model_name": "LayoutModel",
      "state": {}
     },
     "1acc4edab2bb42139097b3a6675b4466": {
      "model_module": "@jupyter-widgets/base",
      "model_module_version": "1.0.0",
      "model_name": "LayoutModel",
      "state": {}
     },
     "1b649c0c8c23461b8895f71eddaa0a75": {
      "model_module": "@jupyter-widgets/controls",
      "model_module_version": "1.0.0",
      "model_name": "DescriptionStyleModel",
      "state": {
       "description_width": ""
      }
     },
     "1cd1a684483143fbb4142ae8b620f133": {
      "model_module": "@jupyter-widgets/base",
      "model_module_version": "1.0.0",
      "model_name": "LayoutModel",
      "state": {}
     },
     "1cda6e8cae3f49cfa4b314d900149cf8": {
      "model_module": "@jupyter-widgets/controls",
      "model_module_version": "1.0.0",
      "model_name": "SliderStyleModel",
      "state": {
       "description_width": ""
      }
     },
     "1f9926315a2249e4b2367cc5a7bd92aa": {
      "model_module": "@jupyter-widgets/controls",
      "model_module_version": "1.0.0",
      "model_name": "IntSliderModel",
      "state": {
       "continuous_update": false,
       "description": "n",
       "layout": "IPY_MODEL_9f28e58853b049189b002ccf46afe051",
       "min": 1,
       "style": "IPY_MODEL_1cda6e8cae3f49cfa4b314d900149cf8",
       "value": 57
      }
     },
     "20ae218e668844b2aba533307483974c": {
      "model_module": "@jupyter-widgets/controls",
      "model_module_version": "1.0.0",
      "model_name": "ToggleButtonModel",
      "state": {
       "description": "Update",
       "layout": "IPY_MODEL_c09b985c04854026815d9b867b5aaa5d",
       "style": "IPY_MODEL_85ad718a06ff496e9d59f9f82d4c9402",
       "value": true
      }
     },
     "22a8866db0b64029899b2f19023ea072": {
      "model_module": "@jupyter-widgets/controls",
      "model_module_version": "1.0.0",
      "model_name": "TextModel",
      "state": {
       "description": "f:",
       "layout": "IPY_MODEL_04a91fb4f3944ec997caa65f43cbadea",
       "placeholder": "numpy.sinh(t)",
       "style": "IPY_MODEL_5723e4bf76a644b88ae24e86a62b02a2",
       "value": "numpy.sinh(t)"
      }
     },
     "23ac3952e61742f3a6b9c6597af30681": {
      "model_module": "@jupyter-widgets/base",
      "model_module_version": "1.0.0",
      "model_name": "LayoutModel",
      "state": {}
     },
     "2462d8b434354322b5927e3ac5875dd6": {
      "model_module": "@jupyter-widgets/base",
      "model_module_version": "1.0.0",
      "model_name": "LayoutModel",
      "state": {}
     },
     "2677ca7f2f1f4d1db8894437edc93496": {
      "model_module": "@jupyter-widgets/base",
      "model_module_version": "1.0.0",
      "model_name": "LayoutModel",
      "state": {}
     },
     "26e572c430794fe8987f7ce76946d3f1": {
      "model_module": "@jupyter-widgets/base",
      "model_module_version": "1.0.0",
      "model_name": "LayoutModel",
      "state": {}
     },
     "27b4be4fa7934c78b99c453aa6bcc2b2": {
      "model_module": "@jupyter-widgets/output",
      "model_module_version": "1.0.0",
      "model_name": "OutputModel",
      "state": {
       "layout": "IPY_MODEL_e4a4c2dbd325483f99a9f8b6bc56956b",
       "outputs": [
        {
         "data": {
          "image/png": "iVBORw0KGgoAAAANSUhEUgAAAnIAAAFFCAYAAABouQAdAAAABHNCSVQICAgIfAhkiAAAAAlwSFlz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\nTkSuQmCC\n",
          "text/plain": "<matplotlib.figure.Figure at 0x217354b3518>"
         },
         "metadata": {},
         "output_type": "display_data"
        }
       ]
      }
     },
     "27ce9cd162254e4a9db8f3c3a07c8a91": {
      "model_module": "@jupyter-widgets/base",
      "model_module_version": "1.0.0",
      "model_name": "LayoutModel",
      "state": {}
     },
     "27ed7387c163495f9e892d61c4827b77": {
      "model_module": "@jupyter-widgets/base",
      "model_module_version": "1.0.0",
      "model_name": "LayoutModel",
      "state": {}
     },
     "290b2f4c70be40a29c7d5b4c2630fed8": {
      "model_module": "@jupyter-widgets/base",
      "model_module_version": "1.0.0",
      "model_name": "LayoutModel",
      "state": {}
     },
     "2aa58d399d3b4cf09310f15d656ee3f3": {
      "model_module": "@jupyter-widgets/output",
      "model_module_version": "1.0.0",
      "model_name": "OutputModel",
      "state": {
       "layout": "IPY_MODEL_de6b404b151146268711085280f2aac7"
      }
     },
     "2b8ff4b673ac4ba59fa8f25d4a4ef475": {
      "model_module": "@jupyter-widgets/base",
      "model_module_version": "1.0.0",
      "model_name": "LayoutModel",
      "state": {}
     },
     "2cff2c232571467c8d6f8c268ab7b6ac": {
      "model_module": "@jupyter-widgets/base",
      "model_module_version": "1.0.0",
      "model_name": "LayoutModel",
      "state": {}
     },
     "2ff8a74e7fba4fb6a072241ec4b221d6": {
      "model_module": "@jupyter-widgets/controls",
      "model_module_version": "1.0.0",
      "model_name": "VBoxModel",
      "state": {
       "_dom_classes": [
        "widget-interact"
       ],
       "children": [
        "IPY_MODEL_7bc7b80654d145568dc5a6533334c80b",
        "IPY_MODEL_aee2053fa2e547bfb9cac3313ed8b8e8",
        "IPY_MODEL_d1d7169b219b4584a3b36b8e514b1ccd",
        "IPY_MODEL_7e3ffa429bdf4d11b90309384616b144"
       ],
       "layout": "IPY_MODEL_8593631e4d5243d7889c065e2d3fb17e"
      }
     },
     "315dc3e01f54485da428ce0c60e4af26": {
      "model_module": "@jupyter-widgets/controls",
      "model_module_version": "1.0.0",
      "model_name": "DescriptionStyleModel",
      "state": {
       "description_width": ""
      }
     },
     "32778f33a721433aa28fe3bd7729a6e3": {
      "model_module": "@jupyter-widgets/controls",
      "model_module_version": "1.0.0",
      "model_name": "TextModel",
      "state": {
       "description": "an:",
       "layout": "IPY_MODEL_290b2f4c70be40a29c7d5b4c2630fed8",
       "placeholder": "0",
       "style": "IPY_MODEL_7ab007b5cc4d49c2bf6359d270f8ea6b",
       "value": "0"
      }
     },
     "33b6f6ca37af4b77b0629b522e5ea14e": {
      "model_module": "@jupyter-widgets/controls",
      "model_module_version": "1.0.0",
      "model_name": "TextModel",
      "state": {
       "description": "an:",
       "layout": "IPY_MODEL_0989f760d92749d18b25b5ba27f8418a",
       "placeholder": "0",
       "style": "IPY_MODEL_fef4223debbd4d3fa34ba30174472a5c",
       "value": "0"
      }
     },
     "35865510fb224d5a9220d5198815e9a8": {
      "model_module": "@jupyter-widgets/controls",
      "model_module_version": "1.0.0",
      "model_name": "TextModel",
      "state": {
       "description": "a0:",
       "layout": "IPY_MODEL_cd572e2596ef45c7b6d9de157767a9ff",
       "placeholder": "0",
       "style": "IPY_MODEL_315dc3e01f54485da428ce0c60e4af26",
       "value": "0"
      }
     },
     "3eda2ccfca0f4d52a49e6006c8f2e50a": {
      "model_module": "@jupyter-widgets/controls",
      "model_module_version": "1.0.0",
      "model_name": "IntSliderModel",
      "state": {
       "continuous_update": false,
       "description": "L",
       "layout": "IPY_MODEL_879cbc1bfe354da6b7ba15066e52ead5",
       "max": 5,
       "min": 1,
       "style": "IPY_MODEL_ac4cc6038a00451c951a86eab7e89cb5",
       "value": 1
      }
     },
     "411487f05592406fbe0c0de73d378e06": {
      "model_module": "@jupyter-widgets/controls",
      "model_module_version": "1.0.0",
      "model_name": "DescriptionStyleModel",
      "state": {
       "description_width": ""
      }
     },
     "41ebe9daae544ed897fd28a4738276f2": {
      "model_module": "@jupyter-widgets/base",
      "model_module_version": "1.0.0",
      "model_name": "LayoutModel",
      "state": {}
     },
     "420ee4cccc344f129ac080eaf5ba23a8": {
      "model_module": "@jupyter-widgets/output",
      "model_module_version": "1.0.0",
      "model_name": "OutputModel",
      "state": {
       "layout": "IPY_MODEL_58e38cce489941d599e36ef30f2cd190",
       "outputs": [
        {
         "data": {
          "image/png": "iVBORw0KGgoAAAANSUhEUgAAAnIAAAFFCAYAAABouQAdAAAABHNCSVQICAgIfAhkiAAAAAlwSFlz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\nTkSuQmCC\n",
          "text/plain": "<matplotlib.figure.Figure at 0x19d8e9d6be0>"
         },
         "metadata": {},
         "output_type": "display_data"
        }
       ]
      }
     },
     "42dc6aeecfdc4c27ae3ebfa245568371": {
      "model_module": "@jupyter-widgets/base",
      "model_module_version": "1.0.0",
      "model_name": "LayoutModel",
      "state": {}
     },
     "4430ff186d9c43d88815d974648222e9": {
      "model_module": "@jupyter-widgets/controls",
      "model_module_version": "1.0.0",
      "model_name": "DescriptionStyleModel",
      "state": {
       "description_width": ""
      }
     },
     "45a9bf06166344f68ae93d3f736c313a": {
      "model_module": "@jupyter-widgets/controls",
      "model_module_version": "1.0.0",
      "model_name": "VBoxModel",
      "state": {
       "_dom_classes": [
        "widget-interact"
       ],
       "children": [
        "IPY_MODEL_6c0f5d20f0f84c228e3078864d070870",
        "IPY_MODEL_3eda2ccfca0f4d52a49e6006c8f2e50a",
        "IPY_MODEL_e5d739c0fff1477286e62ec0b73e6c93",
        "IPY_MODEL_f569a1dde85b4e1986885d6dad827122"
       ],
       "layout": "IPY_MODEL_546100cc95264f6686e31ed34d085501"
      }
     },
     "476c04787d7c464cb80adf69f0a14b0e": {
      "model_module": "@jupyter-widgets/controls",
      "model_module_version": "1.0.0",
      "model_name": "DescriptionStyleModel",
      "state": {
       "description_width": ""
      }
     },
     "488e1229cbbf4a4480e84c42489e9dac": {
      "model_module": "@jupyter-widgets/base",
      "model_module_version": "1.0.0",
      "model_name": "LayoutModel",
      "state": {}
     },
     "498744e418a648e3a8d08615589ec529": {
      "model_module": "@jupyter-widgets/controls",
      "model_module_version": "1.0.0",
      "model_name": "VBoxModel",
      "state": {
       "_dom_classes": [
        "widget-interact"
       ],
       "children": [
        "IPY_MODEL_22a8866db0b64029899b2f19023ea072",
        "IPY_MODEL_a6fc215a150e4558a13371827647764a",
        "IPY_MODEL_32778f33a721433aa28fe3bd7729a6e3",
        "IPY_MODEL_821ff051ef55400fa9aaa2a128e566a6",
        "IPY_MODEL_f7cae4441d8f4a2297066360007bc6ad"
       ],
       "layout": "IPY_MODEL_19e79792d27343e9815ebf0d40a8f8fa"
      }
     },
     "4b15b5e07ba440e6af782de290d08201": {
      "model_module": "@jupyter-widgets/base",
      "model_module_version": "1.0.0",
      "model_name": "LayoutModel",
      "state": {}
     },
     "4be0aa7e4a934b4dbb422b80e607d35e": {
      "model_module": "@jupyter-widgets/base",
      "model_module_version": "1.0.0",
      "model_name": "LayoutModel",
      "state": {}
     },
     "4e11a3de9a6f45d5817654847f2dff07": {
      "model_module": "@jupyter-widgets/base",
      "model_module_version": "1.0.0",
      "model_name": "LayoutModel",
      "state": {}
     },
     "4e7c746324cb4ab4bfda80269f786952": {
      "model_module": "@jupyter-widgets/output",
      "model_module_version": "1.0.0",
      "model_name": "OutputModel",
      "state": {
       "layout": "IPY_MODEL_d8497fd5aebc4ec59bf517a474c23a0f"
      }
     },
     "4f02f4b1c45548f08d022222c0572794": {
      "model_module": "@jupyter-widgets/base",
      "model_module_version": "1.0.0",
      "model_name": "LayoutModel",
      "state": {}
     },
     "504a207b52364c8c92ec5e0d178571b8": {
      "model_module": "@jupyter-widgets/controls",
      "model_module_version": "1.0.0",
      "model_name": "TextModel",
      "state": {
       "description": "f:",
       "layout": "IPY_MODEL_4f02f4b1c45548f08d022222c0572794",
       "placeholder": "numpy.sinh(t)",
       "style": "IPY_MODEL_190e370411af4452b329c75eee6801b2",
       "value": "numpy.sinh(t)"
      }
     },
     "50bf55a3a4994d3aa3138d30260392c6": {
      "model_module": "@jupyter-widgets/output",
      "model_module_version": "1.0.0",
      "model_name": "OutputModel",
      "state": {
       "layout": "IPY_MODEL_4e11a3de9a6f45d5817654847f2dff07",
       "outputs": [
        {
         "data": {
          "image/png": "iVBORw0KGgoAAAANSUhEUgAAAngAAAFFCAYAAAB/m5DUAAAABHNCSVQICAgIfAhkiAAAAAlwSFlz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\n",
          "text/plain": "<matplotlib.figure.Figure at 0x21738916c50>"
         },
         "metadata": {},
         "output_type": "display_data"
        }
       ]
      }
     },
     "510f9fde7cda4eda98c321dc4381c2b7": {
      "model_module": "@jupyter-widgets/base",
      "model_module_version": "1.0.0",
      "model_name": "LayoutModel",
      "state": {}
     },
     "52c3611c6d7e4783bd5222f36670f837": {
      "model_module": "@jupyter-widgets/base",
      "model_module_version": "1.0.0",
      "model_name": "LayoutModel",
      "state": {}
     },
     "542a8c6fd8cd40c0a5fe47f12aaa8efe": {
      "model_module": "@jupyter-widgets/controls",
      "model_module_version": "1.0.0",
      "model_name": "VBoxModel",
      "state": {
       "_dom_classes": [
        "widget-interact"
       ],
       "children": [
        "IPY_MODEL_22a8866db0b64029899b2f19023ea072",
        "IPY_MODEL_a6fc215a150e4558a13371827647764a",
        "IPY_MODEL_32778f33a721433aa28fe3bd7729a6e3",
        "IPY_MODEL_821ff051ef55400fa9aaa2a128e566a6",
        "IPY_MODEL_81b38bc01c9e47049a81290306251281"
       ],
       "layout": "IPY_MODEL_74300a6838ef47449bc7c4433bbfc27f"
      }
     },
     "546100cc95264f6686e31ed34d085501": {
      "model_module": "@jupyter-widgets/base",
      "model_module_version": "1.0.0",
      "model_name": "LayoutModel",
      "state": {}
     },
     "5463c7d062014b15ad0a0ea96fd85264": {
      "model_module": "@jupyter-widgets/controls",
      "model_module_version": "1.0.0",
      "model_name": "SliderStyleModel",
      "state": {
       "description_width": ""
      }
     },
     "54a0bea95cf04284b3ef1f7a581e6ac7": {
      "model_module": "@jupyter-widgets/base",
      "model_module_version": "1.0.0",
      "model_name": "LayoutModel",
      "state": {}
     },
     "5723e4bf76a644b88ae24e86a62b02a2": {
      "model_module": "@jupyter-widgets/controls",
      "model_module_version": "1.0.0",
      "model_name": "DescriptionStyleModel",
      "state": {
       "description_width": ""
      }
     },
     "58e38cce489941d599e36ef30f2cd190": {
      "model_module": "@jupyter-widgets/base",
      "model_module_version": "1.0.0",
      "model_name": "LayoutModel",
      "state": {}
     },
     "5da51f5303994fdf8e096eef88607f57": {
      "model_module": "@jupyter-widgets/base",
      "model_module_version": "1.0.0",
      "model_name": "LayoutModel",
      "state": {}
     },
     "6249a1643cdd42009f02abe9f8d5ddfb": {
      "model_module": "@jupyter-widgets/controls",
      "model_module_version": "1.0.0",
      "model_name": "IntSliderModel",
      "state": {
       "continuous_update": false,
       "description": "L",
       "layout": "IPY_MODEL_4be0aa7e4a934b4dbb422b80e607d35e",
       "max": 5,
       "min": 1,
       "style": "IPY_MODEL_138f8208d8da4a2d86c4d62b35f9b4e1",
       "value": 1
      }
     },
     "68ba0bf508ec4c9ca974ed6067d4edcb": {
      "model_module": "@jupyter-widgets/base",
      "model_module_version": "1.0.0",
      "model_name": "LayoutModel",
      "state": {}
     },
     "6938da3e85ab45c1b36d52dcbe01bc34": {
      "model_module": "@jupyter-widgets/base",
      "model_module_version": "1.0.0",
      "model_name": "LayoutModel",
      "state": {}
     },
     "69847084878040fd94f761dc80b268ca": {
      "model_module": "@jupyter-widgets/controls",
      "model_module_version": "1.0.0",
      "model_name": "IntSliderModel",
      "state": {
       "continuous_update": false,
       "description": "L",
       "layout": "IPY_MODEL_510f9fde7cda4eda98c321dc4381c2b7",
       "max": 5,
       "min": 1,
       "style": "IPY_MODEL_98544c3355e84f09b5b444da7d3dad3b",
       "value": 1
      }
     },
     "69b9debbe6c74715b1121f758af0c264": {
      "model_module": "@jupyter-widgets/controls",
      "model_module_version": "1.0.0",
      "model_name": "DescriptionStyleModel",
      "state": {
       "description_width": ""
      }
     },
     "6b006ede9db64d309074286ce81e83d4": {
      "model_module": "@jupyter-widgets/controls",
      "model_module_version": "1.0.0",
      "model_name": "IntSliderModel",
      "state": {
       "continuous_update": false,
       "description": "L",
       "layout": "IPY_MODEL_75c9a72c77f7480ea5f72770d20e4d37",
       "max": 5,
       "min": 1,
       "style": "IPY_MODEL_cec94593c28240f4a01d497f63b9bb00",
       "value": 1
      }
     },
     "6c0f5d20f0f84c228e3078864d070870": {
      "model_module": "@jupyter-widgets/controls",
      "model_module_version": "1.0.0",
      "model_name": "IntSliderModel",
      "state": {
       "continuous_update": false,
       "description": "n",
       "layout": "IPY_MODEL_27ce9cd162254e4a9db8f3c3a07c8a91",
       "min": 1,
       "style": "IPY_MODEL_9a18b5cec94b4b6b98b1d716eed865e3",
       "value": 1
      }
     },
     "6ce60aed0b854f67873915b84300a4cc": {
      "model_module": "@jupyter-widgets/controls",
      "model_module_version": "1.0.0",
      "model_name": "VBoxModel",
      "state": {
       "_dom_classes": [
        "widget-interact"
       ],
       "children": [
        "IPY_MODEL_ca298cdba10143178227deee28af57ff",
        "IPY_MODEL_ed58e463162643eb9e9d5d83c9287d57",
        "IPY_MODEL_c44bae14f12245a48bd4057cbb29a0df",
        "IPY_MODEL_089b3dca66854e768d2abcce9571b13e",
        "IPY_MODEL_d4c7f3ca834e405e863043cdf90e5092"
       ],
       "layout": "IPY_MODEL_866099cfd2de4692be7574c89d92b83a"
      }
     },
     "6ddf40916ed840fe907b2c95b9293434": {
      "model_module": "@jupyter-widgets/base",
      "model_module_version": "1.0.0",
      "model_name": "LayoutModel",
      "state": {}
     },
     "6e23af5deddc44cfaf0437b80a1b746b": {
      "model_module": "@jupyter-widgets/output",
      "model_module_version": "1.0.0",
      "model_name": "OutputModel",
      "state": {
       "layout": "IPY_MODEL_11585ae18e27448f882e624842fb86f0",
       "outputs": [
        {
         "data": {
          "image/png": "iVBORw0KGgoAAAANSUhEUgAAAngAAAFFCAYAAAB/m5DUAAAABHNCSVQICAgIfAhkiAAAAAlwSFlz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\n",
          "text/plain": "<matplotlib.figure.Figure at 0x217375fb3c8>"
         },
         "metadata": {},
         "output_type": "display_data"
        }
       ]
      }
     },
     "71914f7dfec043399f6f2cbf35f084e4": {
      "model_module": "@jupyter-widgets/base",
      "model_module_version": "1.0.0",
      "model_name": "LayoutModel",
      "state": {}
     },
     "72f934fc78d94cbba9ad47dd112b7c26": {
      "model_module": "@jupyter-widgets/controls",
      "model_module_version": "1.0.0",
      "model_name": "SliderStyleModel",
      "state": {
       "description_width": ""
      }
     },
     "74300a6838ef47449bc7c4433bbfc27f": {
      "model_module": "@jupyter-widgets/base",
      "model_module_version": "1.0.0",
      "model_name": "LayoutModel",
      "state": {}
     },
     "75c9a72c77f7480ea5f72770d20e4d37": {
      "model_module": "@jupyter-widgets/base",
      "model_module_version": "1.0.0",
      "model_name": "LayoutModel",
      "state": {}
     },
     "760c900c54e647e8b7dd8fc8a9608d2d": {
      "model_module": "@jupyter-widgets/base",
      "model_module_version": "1.0.0",
      "model_name": "LayoutModel",
      "state": {}
     },
     "795c5084b5bb4cd88092ad97a7e2dcc8": {
      "model_module": "@jupyter-widgets/controls",
      "model_module_version": "1.0.0",
      "model_name": "ToggleButtonModel",
      "state": {
       "description": "Update",
       "layout": "IPY_MODEL_71914f7dfec043399f6f2cbf35f084e4",
       "style": "IPY_MODEL_a9f05bf681df4003ada7341688a5d93c"
      }
     },
     "7ab007b5cc4d49c2bf6359d270f8ea6b": {
      "model_module": "@jupyter-widgets/controls",
      "model_module_version": "1.0.0",
      "model_name": "DescriptionStyleModel",
      "state": {
       "description_width": ""
      }
     },
     "7bc7b80654d145568dc5a6533334c80b": {
      "model_module": "@jupyter-widgets/controls",
      "model_module_version": "1.0.0",
      "model_name": "IntSliderModel",
      "state": {
       "continuous_update": false,
       "description": "n",
       "layout": "IPY_MODEL_d56d30cf36454898b13b65144bbdbad2",
       "min": 1,
       "style": "IPY_MODEL_edc8a39f92694a74a2cf9e7fab33cdfc",
       "value": 1
      }
     },
     "7d281ced039645e5ae609c9ec7f824c9": {
      "model_module": "@jupyter-widgets/controls",
      "model_module_version": "1.0.0",
      "model_name": "VBoxModel",
      "state": {
       "_dom_classes": [
        "widget-interact"
       ],
       "children": [
        "IPY_MODEL_22a8866db0b64029899b2f19023ea072",
        "IPY_MODEL_a6fc215a150e4558a13371827647764a",
        "IPY_MODEL_32778f33a721433aa28fe3bd7729a6e3",
        "IPY_MODEL_821ff051ef55400fa9aaa2a128e566a6",
        "IPY_MODEL_4e7c746324cb4ab4bfda80269f786952"
       ],
       "layout": "IPY_MODEL_04670dfabf504bffb2f3500d74f6aedd"
      }
     },
     "7e3ffa429bdf4d11b90309384616b144": {
      "model_module": "@jupyter-widgets/output",
      "model_module_version": "1.0.0",
      "model_name": "OutputModel",
      "state": {
       "layout": "IPY_MODEL_de4f406eb087487fb43a270206c660b5",
       "outputs": [
        {
         "data": {
          "image/png": "iVBORw0KGgoAAAANSUhEUgAAAnIAAAFFCAYAAABouQAdAAAABHNCSVQICAgIfAhkiAAAAAlwSFlz\nAAALEgAACxIB0t1+/AAAADl0RVh0U29mdHdhcmUAbWF0cGxvdGxpYiB2ZXJzaW9uIDIuMS4wLCBo\ndHRwOi8vbWF0cGxvdGxpYi5vcmcvpW3flQAAIABJREFUeJzt3Xl43dV95/H30WpZkmXLsiVLsi3v\nxgsYUExwIJh9S+yQkJmQPgk0YWhKM1k6TYaZTiedzEwnnc40TYekrZNSSNpAE0LAJCSEJYKE3QYb\nbIz3TZZXWV4ky9Z25o97cQRekMHWvT/p/Xqe+9zfcnz1fXzu1f3onN8SYoxIkiQpeXIyXYAkSZLe\nHYOcJElSQhnkJEmSEsogJ0mSlFAGOUmSpIQyyEmSJCWUQU6SJCmhDHKSJEkJZZCTJElKqLxMF9Af\nKioqYl1dXabLOCWd3ZFdBw+zt62DnBCoKCmgorSQ3BAyXZreg7a2NoqLizNdhk4T+3PgsU+Trasn\nsutA6ruTAGUFOVSXl5Cbk6zvzqVLl+6JMY7qS9usC3IhhLuADwG7YoyzjrN/PvAQsDG96YEY49dP\n9pp1dXUsWbLkdJfaL+77+ZM8c2AEDy9vIg7N57b5k/j0hXUMyc/NdGl6FxoaGpg/f36my9BpYn8O\nPPZpMrUe6eJ7v9nAd5/eQFFXD1+uH8uXrpjCqpefT2R/hhA297Vt1gU54G7gTuD7J2nzmxjjh/qn\nnMyqKs7h/11/Ln/wwYn81aOr+YtH3uCu327iS1dM4cbza8nLdXZckjQ4He7s5ocvbOHbv15Hc1sH\n182u4j9cNY1Jo0oAWJXh+vpD1gW5GOPTIYS6TNeRbWbVlHHPZ+by3Ppm/vejb3DHA6+x6Dcb+OLl\nU/jQ2dWJGzaWJOndOtLVzY9e2sqdv17HzgNHuHDiSP7jtdOZM3Z4pkvrd1kX5ProwhDCcqAJ+JMY\n48pMF9RfLpw0kgf+cB6Pvb6T//Or1XzxvmXc+eQ6vnD5FK6fPYYcA50kaYDq7O7h/qWN3PnkOrbt\na6d+/Ai++W/nMG9SRaZLy5gQY8x0DcdIj8j97ATHyA0DemKMrSGE64BvxRinHKfdbcBtAJWVleff\nd999Z7boM6S1tZWSkpLj7uuJkSU7unlwfQdNrZGaksDCyQXUV+aS40kRWelk/anksT8HHvs0O3X3\nRJ5t6mLx+k52t0cmluXw0SkFzByZQzjJ911S+/PSSy9dGmOs70vbxAW547TdBNTHGPecqE19fX1M\n6skOfTnwtrsn8vPXtvOtx9ewfncb06tK+eLlU7h6ZpUjdFnGA6kHFvtz4LFPs0t3T2Tx8m186/G1\nbGo+xOyaMv74yqnMnzbqpAHuTUntzxBCn4Nc4qZWQwhVwM4YYwwhzCV1LbzmDJeVUbk5gQXnVHP9\n7DH87NUmvvXEWv7wX15melUpX7piKlfNqDTQSZISo7O7h8XLmvh2wzo27G7jrDHDWPSp87lyRmWf\nAtxgknVBLoRwLzAfqAghNAJfA/IBYox/D9wI/GEIoQtoBz4Rs3FYMQNycwIL59TwobOrWbx8G3/7\nxDo+989LmV5Vyu2XTub62WM8KUKSlLUOd3Zz/9JG/v6p9TS2tDO9qpTv/N55XOMM0wllXZCLMd70\nDvvvJHV5Ep1Abk7ghnNr+fDZ1Sxe3sR3GtbzhXtf4a9/tZrPXTKJG86roTDP69BJkrLDoY4ufvjC\nFhY9vYFdB48wZ+xw/tuCmVw2fbQjcO8g64KcTp+83Bw+el4tH5lTw69e38G3f72eOx54jb95fC3/\n7oMTuWnuWIYW+BaQJGXGgcOdfP/ZTdz1zCb2tnVw4cSR6bNQRxrg+shv8UEgJydwzawxXD2zit+s\n3cO3f72O//6z17nzybV85gMT+PSFdZQNzc90mZKkQWJP6xHufmYT9zy3iYOHu7h02ig+f9lkzh9f\nnunSEscgN4iEEPjg1FF8cOoolmzay3ca1vN/H1vDPzy9gd97/zh+f94EqsqGZLpMSdIAtWF3K9/7\n7UZ+srSRju4erp1Vxe3zJzOrpizTpSWWQW6Qqq8r565bylnZtJ/vNKznu09v4B9/s5EF51Rz68UT\nmVE9LNMlSpIGiCWb9rLo6Q08tmon+bk5fOy8Wm69eMLRW2np3TPIDXIzq8v49ifPY0vzIe56ZiM/\nWrKVB17ZxkWTK7j14glcMrVv1+qRJKm37p7IY6/vZNHT63l5yz6GD83n3186mU/Pq6OipDDT5Q0Y\nBjkBMG7kUP58wUy+fMVU/uXFzdz9zCZu+aeXmFZZymcvnsDCOdWe6SpJekftHd385OVG/vG3G9m4\np41x5UP5+sKZ3Hh+rSfYnQH+j+otyobmc/v8ydx60UQeXt7Ed3+zga/e/yp/9ehqbr5wPJ+8YDzl\nxQWZLlOSlGW27WvnB89t5r6XtrDvUCfn1KZmfK6ZVeU1TM8gg5yOqyAvh4+dX8tHz6vht+v28N3f\nbOT//GoNf/vkOhacU80t8+o8OFWSBrkYIy9u3Mvdz27i0ZU7ALh6ZhW3zKtj7oRyD83pBwY5nVQI\ngYunjOLiKaNYs/Mg9zy7iQde3sb9Sxs5f/wIbp5Xx7WzqsjPzcl0qZKkfnK4s5vFy5r4p2c3sWr7\nAYYPzee2D07iUxeOp2Z4UabLG1QMcuqzqZWl/M8bZvPVa6bz4yVb+cHzm/nCva8wurSQ37tgPDdd\nMJbRpV6+RJIGqu37U9On9764hZZDnUyvKuUbH53Nwjk1FBV4HHUmGOR0ysqK8rn14ol85gMTeGrN\nbu5+dhPffHwNd/56LdfPHsOnLhzPeeNGOKQuSQNAd0/k6bW7+eELW3hi1U4ArpxRyS3zJvD+iU6f\nZppBTu9aTk7g0umjuXT6aDbsbuX7z23m/qWNPLisiWmVpdw0dyw3nFvrXSMkKYF2HTzMj5c0cu+L\nW2hsaaeipIDPXTKJm+aOY2z50EyXpzSDnE6LiaNK+PMFM/nK1dN4eHkT9764hT9/+HX+1y/e4ENn\nV/PJC8Y6SidJWa6nJ/LchmZ++MIWHl25g66eyLxJI7nj2ulcNaOKgjyPh842BjmdVsWFeXxi7jg+\nMXccK7bt594Xt/DQsiZ+8nKjo3SSlKX2tB7hgZcbuffFrWzc08bwofncMq+Omy4Y590XspxBTmfM\nrJoy/ucNs/nP153Fw8ub+GGvUbrrZ4/hxvpa3j9hJDleX0iS+l1ndw8Nq3fz4yVbefKNXXT1ROrH\nj+ALl0/m2lljGJLvyQtJYJDTGff2UbofvriFh5c18cAr26gdUcTHzqvlY+fVMm6kx1xI0pm2dudB\nfry0kQde3sae1iNUlBTwmYsmcOP5tUytLM10eTpFBjn1q1k1ZfzFDbP5s+tn8KvXd3D/0kb+9sm1\nfOuJtVwwoZwbz6/lutljKC70rSlJp8uBw508vLyJHy1pZPnWfeTlBC6bPpqP149l/rRRXgs0wfy2\nVEYUFeSycE4NC+fU0LSvnZ++krrI8Ffuf5WvLV7JdbPHcOP5tcytK3fqVZLehc7uHn67bg8PvrKN\nX67YwZGuHqZXlfJfrj+Lj5xb443rBwiDnDKuengRf3TpZG6fP4mlm1u4f2kjP3t1O/cvbaRmeBEL\n5lSzcE4106uGZbpUScpqMUZe3rKPh5Zt4+evbqe5rYOyonz+Tf1YPl5fy+yaMq8eMMAY5JQ1QgjU\n15VTX1fO1z48k1+u3M6DrzSx6OkN/F3DeqZVlrJgTjULzqn2GkaS1Mu6XQd5aFkTDy1rYsveQxTm\n5XDFjEo+MqeGS6aO8rIhA5hBTlmpqCCXG86t5YZza2luPcIjr23noWVN/NWjq/mrR1dz3rjhLJxT\nw3WzxzCq1OkBSYPPjv2HeXh5Ew8u28bKpgPkBPjA5Aq+cPkUrp5ZSekQL/M0GBjklPVGlhTyqQvr\n+NSFdWzde4iHX21i8bImvrZ4Jf/t4ZV8YHIFHz67mitnVDKiuCDT5UrSGbN9fzu/eG0Hv1ixnSWb\nW4gRzqkt488+NIMPnz2G0cO83/VgY5BToowtH8rt8ydz+/zJrN5xkMXLt7F4eRNf/cmr5P40MG/S\nSK6ZVcVVM6ocqZM0IDTta+eR17bzixU7WLq5BYDpVaV86fKpfPicMUz0gr2DmkFOiTWtqpSvVE3n\nT66axoptB/jFitQvuj/96Qr+7MEVvK+unOtmj+HqmVVUlflXqqTkaGw5xC9e28EjK7bzypZ9AJw1\nZhh/ctVUrp09xrst6CiDnBIvhMDs2jJm15bxlaunsXrnQR55bQe/XLGdry1eydcWr+T88SO4dlYV\nV8+s8kQJSVknxsjqnQd5bOVOHl+1k+WN+wGYWT2Mr1w9jetmj2FCRXGGq1Q2MshpQAkhML1qGNOr\nhvHHV05l3a5WfrliO4+8toP/8fNV/I+fr2JqZQlXnFXJ5WdVMmfscHK9Tp2kDOjs7uGljXt5bFUq\nvG3d2w7AnLHD+eo107hu1hjqDG96BwY5DWiTR5fw+cum8PnLprC5uY3HV+3i8dd38g9Pb+A7Deup\nKCng0mmjufysSi6eUuEdJSSdUQcPd/LUmt089vpOfv3GLg4c7qIgL4eLJldw+/zJXD59tCcs6JT4\nraVBY/zIYj570QQ+e9EE9h/qpGHNLp5YtYtfrtzBj5c2UpCXw7xJI7nirErmTxtF7QinYCW9NzFG\n1u1q5ak1u2lYvZsXNjbT2R0pLy7gqplVXOEfkXqPfOdoUCobmn/0FmGd3T28tGkvj7++i8dX7eS/\nrF4BwKRRxVwydTSXTBvFBRPKGZKfm+GqJSVB65Eunlm3h6fW7Oap1bvZti81ZTp5dAm3zKvjyhlV\nnD9+hId16LQwyGnQy8/NYd6kCuZNquDPPnTW0b+en1qzm39+YTN3PbORwrwcLpg4kg9OqWD+tFFM\nGlXibW4kAb87UaFhdSq4Ldm8l87uSHFBLvMmV3D7pZO4ZKqj/DozDHJSLyEEplSWMqWylFsvnkh7\nRzcvbGzmqTW7eXrN7qMnTNQML+KDUyv4wOQK3j9xpDeflgaZxpZDPLu+mWfX7eHZ9c3sOngESF3f\n7TMXTeCSqaOoH1/urbF0xhnkpJMoKshl/rTRzJ82Gkj98n56zR6eWrOLny3fzr0vbgVgWmUpF04a\nyYWTRvL+CSMpG+qtcaSBpLn1SCq4rW/m2fV72Nx8CICKkgIunFTBRZNHcsnU0V6zUv3OICedgtoR\nQ/nkBeP45AXj6OruYUXTAZ5dv4fn1jdz30tbuPvZTYQAs6rLjga7uXXlHsgsJUxLWwdLNrfw/IZm\nnlm3hzd2HASgtDCPCyaWc/OFdXxgcgVTKz3MQpnlt4v0LuXl5jBn7HDmjB3O7fMnc6Srm+Vb9/Ps\n+tRUy93PbGLR0xvIzQnMqh5GfV05Ra1dzDx4xNuHSVmmaV87L23ay4Mrj/AXrzzFmp2tABTk5VA/\nfgRfuXoa8yaNZHZNGXm5TpcqexjkpNOkMC+XuRPKmTuhnC9dAe0d3Szd3MJzG/bw0qYW/vn5zRzp\n6uHOZY8zoaKY+vEjeF9dOfV1I5hQUexf9VI/6emJbNjTyosbW3hp015e3Lj36JmlQ3Jh7qQiFpxT\nzfvqyjln7HDPWFdWM8hJZ0hRQS4XTangoikVABzp6uYHDzfQXV7HS5taeGzVTn68tBGAkcUFnD9+\nBOeOG8E5Y8s4u3Y4JU7HSqdFS1sHyxr38cqWfSzbuo9lW1o4cLgLSB3j9r66cj570QTmTihn5+qX\nufyyuRmuWOo7vymkflKYl8vkEbnMv2QSf3DJ70YFXtqUGhVYurmFX72+E4AQYMroEs6pHc456enb\naVWl5DulI51UR1cPq7YfSAW2rft4ZUsLm9InJuQEmFpZynWzx3DuuOG8r678mNHwPWsdGVeyGOSk\nDMnJCUweXcrk0aXcNHcckBo5WN64j+Vb97NsawtPvLHr6KhdYV4Os2rKOKd2OGfXljGjehgTK4o9\nXkeD1pGubtbubGXFtv2sbDrAiqbUc0dXDwCjSgs5d+xw/s37xnLu2BHMri1zpFsDju9oKYuMKC54\ny+VOYow0trTzytZ9LE8//uWFzdz1TOqLqjAvh+lVpcyoLmNm9TBmVA/jrKphFBV4TI8GlkMdXaza\nfoAV2w6wsmk/K7YdYO2ug3R2RyB1NulZ1cO4+cLxzBk7gjnjhlNdNsRjTzXgGeSkLBZCYGz5UMaW\nD2XBOdUAdHb3sGF3Gyub9vN60wFWNh3g5682ce+LW4DU9NGEimJmVqdG7aZWljBldCk1w4vI8ZZA\nynLdPZHNzW2s2XmQ1TtaWbPzIG/sOMCGPW3EVGZjZHEBM2vKuGTaKGal/4gZVz7U97cGJYOclDD5\nuTlMqyplWlUpHz0vtS3GyLZ97axsOnA03C3d3MLi5U1H/93Qglwmj06FuqmVJUytLGVKZQk1w4sc\ntVC/6+lJvWfX7vpdYFu94yDrdrcenRoNAcaXD2VqZSkLzqlhZvUwZtWUUTms0PeslGaQkwaAEAK1\nI4ZSO2IoV8+sOrp9/6FO1u46yJqdqS/KtbsO8vTa3fzk5cajbYrTAW/SqBLqKoqZkH7UVRR7PJHe\ns/3tnWzc08bGPa1s2N3Ghj1tbNzdxqbmNg51dB9tV102hCmVpVw0pYKplaVMqyxl8ugSDxOQ3oG/\npaUBrGxoPvV15dTXlb9l+75DHazdlQ536ZD33IZmHnhl21vaVZQUMrGimLqKodRVFDOxopjxI4up\nHVFE6RBvQ6bUaPDetg4aW9rZ2nKILXsPsXF3Wzq8tdHc1nG0bW5OYOyIIiZUFHPBxHKmjC5lWlUJ\nk0eXUlbk+0l6Nwxy0iA0fGjq2lnve1vAa+/oZlNzG5v2tLGx+XcjJ0++sZs9rY1vaVtWlE/N8CJq\nRxSlRwOLqBnxu3W/mAeGGCMH2rto3HcoFdb2pp4bWw6xdW/qua3XyBrA6NJCJlQUc9XMyvQIbwkT\nKooZVz7Um8hLp5lBTtJRRQW5nDVmGGeNGXbMvoOHO9m05xCb97axraX96Jf5puY2frtuz1umyQBK\nh+QxpmwIlcOGMLp0CFVlhUeXK4cVUlU2hIqSQq+Nl0Fd3T3sbj3C9v2H2bn/MDsOpB5Hl9PPhzt7\n3vLvSgrzqB1RxLiRQ5k3eSRjR6ROyKkdUcTY8qFOyUv9KOs+bSGEu4APAbtijLOOsz8A3wKuAw4B\nt8QYX+7fKqXBp3RIPrNry5hdW3bMvhgjLYc60wEvNWKzbV/70SCwftcedh08QldPfMu/CwFGFhcy\nurSQkSUFlBenH0MLKC8pYGRxAeXFhZQXp5bLivI9M/Ekurp7OHC4i5ZDHTS3dtDceoTmtvRy25vL\nR9LrHbQc6jh6JuibCnJzqCwrpGrYEGbVlHHFWZVUlQ2henhROrAVUVaU78kGUpbIuiAH3A3cCXz/\nBPuvBaakHxcAf5d+lpQhIYSjIex4QQ9SZyk2t3Ww88Bhdh08zI79R44u7zqQChmbmw/R0tbBwSNd\nx32NnJAKlMOK8igtTD8PyWfYkHxKh+QxrCifYUPyGDYkn5IheRTl5zIkP5eiglyK8tOPgtRjSF5O\nVlxMuacn0t7ZzaGObto7ujnU2fW75Y5uDnV00d7RTVtHNwfaOzlwuJP97Z0caO86un6gPbXt7VOc\nvZUV5TOypICK4kImjSph7oQCRpakAtubo6VVw4ZQXlxgSJMSJOuCXIzx6RBC3UmaLAS+H2OMwPMh\nhOEhhDExxu39UqCkdyUnJzCqtJBRpYXA8cPem450ddPS1klz2xH2tnWwNz2qtLetgwOHOzl4OBVi\nDh7uYuveQ79bP0EAPJGC3BwK83MoyM0hLzeQl5NDfm4gLzeHvJxAfm4OuTkhtS0ntQwQSQ1jtbS0\ns2jt86ltvUa2IpGu7khndw8d3ZGu7h46u3vo7I50dPek11PLb15qo69KC9OBtSifsqI8xpUPTS+n\nAm1ZUR7DhxYwsqSAkcWFVJQUMKK4wClsaYDKuiDXBzXA1l7rjeltbwlyIYTbgNsAKisraWho6K/6\nTqvW1tbE1q5j2Z/vTln6MbEQOG4OzAEK6YkFtHdBe1ekvQs6uiMd3XCkO9LR03s9tfzmc3fsoTtC\nd0833THS1QPdPdDdDV09cCRGuiP0nhkOpNrvbm7heANYeTmQFwJDciA3QF4B5OUE8gLk5pB+ziU/\nJ5fCPCjMDRTmHvtckH4ekhcoyoOcoz+sO/048tYf3Ansh+79sIvUQ33nZ3RgGQz9mcQgd7wx/3jM\nhhgXAYsA6uvr4/z5889wWWdGQ0MDSa1dx7I/Bxb7c+CxTweWwdCfSRxrbwTG9lqvBZpO0FaSJGnA\nSmKQWwx8OqS8H9jv8XGSJGkwyrqp1RDCvcB8oCKE0Ah8DcgHiDH+PfAIqUuPrCN1+ZHfz0ylkiRJ\nmZV1QS7GeNM77I/AH/VTOZIkSVkriVOrkiRJwiAnSZKUWAY5SZKkhDLISZIkJZRBTpIkKaEMcpIk\nSQllkJMkSUoog5wkSVJCGeQkSZISyiAnSZKUUAY5SZKkhDLISZIkJZRBTpIkKaEMcpIkSQllkJMk\nSUoog5wkSVJCGeQkSZISyiAnSZKUUAY5SZKkhDLISZIkJZRBTpIkKaEMcpIkSQllkJMkSUoog5wk\nSVJCGeQkSZISyiAnSZKUUAY5SZKkhDLISZIkJZRBTpIkKaEMcpIkSQllkJMkSUoog5wkSVJCGeQk\nSZISyiAnSZKUUAY5SZKkhDLISZIkJZRBTpIkKaEMcpIkSQllkJMkSUoog5wkSVJCGeQkSZISyiAn\nSZKUUAY5SZKkhDLISZIkJVTWBbkQwjUhhNUhhHUhhDuOs/+WEMLuEMKy9OPWTNQpSZKUaXmZLqC3\nEEIu8G3gSqAReCmEsDjG+Prbmv5rjPHz/V6gJElSFsm2Ebm5wLoY44YYYwdwH7AwwzVJkiRlpawa\nkQNqgK291huBC47T7mMhhA8Ca4Avxxi3vr1BCOE24DaAyspKGhoaTn+1/aC1tTWxtetY9ufAYn8O\nPPbpwDIY+jPbglw4zrb4tvWHgXtjjEdCCJ8D7gEuO+YfxbgIWARQX18f58+ff5pL7R8NDQ0ktXYd\ny/4cWOzPgcc+HVgGQ39m29RqIzC213ot0NS7QYyxOcZ4JL36XeD8fqpNkiQpq2RbkHsJmBJCmBBC\nKAA+ASzu3SCEMKbX6gJgVT/WJ0mSlDWyamo1xtgVQvg88CiQC9wVY1wZQvg6sCTGuBj4QghhAdAF\n7AVuyVjBkiRJGZRVQQ4gxvgI8Mjbtv3XXsv/CfhP/V2XJElStsm2qVVJkiT1kUFOkiQpoQxykiRJ\nCWWQkyRJSiiDnCRJUkIZ5CRJkhLKICdJkpRQBjlJkqSEMshJkiQllEFOkiQpoQxykiRJCWWQkyRJ\nSiiDnCRJUkIZ5CRJkhLKICdJkpRQBjlJkqSE6nOQCyE8E0L4VAih8EwWJEmSpL45lRG5TuAeoCmE\n8NchhOlnqCZJkiT1QZ+DXIxxPnAWqTD3aWBlCKEhhPBvQwj5Z6g+SZIkncApHSMXY1wdY/xjoAa4\nBcgFfgg0hhC+EUKYePpLlCRJ0vG8q5MdYoxHYow/AL4I/AYYBXwVWBNC+HEIoeo01ihJkqTjOOUg\nF0IoCiF8JoTwIvASqRD3RaAa+ENgHvAvp7VKSZIkHSOvrw1DCLOBPwB+DygGHgL+Y4zx172afTeE\nsAP48WmtUpIkScfoc5ADlgNNwN8Ai2KM20/Qbh3w3HstTJIkSSd3KkHu48CDMcbukzWKMa4CLn1P\nVUmSJOkd9TnIxRh/ciYLkSRJ0qnxFl2SJEkJZZCTJElKKIOcJElSQhnkJEmSEsogJ0mSlFAGOUmS\npIQyyEmSJCWUQU6SJCmhDHKSJEkJZZCTJElKKIOcJElSQhnkJEmSEsogJ0mSlFAGOUmSpIQyyEmS\nJCWUQU6SJCmhDHKSJEkJZZCTJElKKIOcJElSQmVdkAshXBNCWB1CWBdCuOM4+wtDCP+a3v9CCKGu\n/6uUJEnKvKwKciGEXODbwLXADOCmEMKMtzX7LNASY5wMfBP4y/6tUpIkKTvkZbqAt5kLrIsxbgAI\nIdwHLARe79VmIfDn6eX7gTtDCCHGGE/4qnvWwj9df0YKPtPm7NsHG4dnugydJvbnwGJ/Djz26cAy\nGPoz24JcDbC113ojcMGJ2sQYu0II+4GRwJ7ejUIItwG3AcwaU8i+ffvOVM1nVHd3d2Jr17Hsz4HF\n/hx47NOBZTD0Z7YFuXCcbW8faetLG2KMi4BFAPX19XH4l59579VlQENDA/Pnz890GTpN7M+Bxf4c\neOzTgSWx/fnHx4s6x5dVx8iRGoEb22u9Fmg6UZsQQh5QBuztl+okSZKySLYFuZeAKSGECSGEAuAT\nwOK3tVkM3JxevhF48qTHx0mSJA1QWTW1mj7m7fPAo0AucFeMcWUI4evAkhjjYuAfgR+EENaRGon7\nROYqliRJypysCnIAMcZHgEfetu2/9lo+DHy8v+uSJEnKNtk2tSpJkqQ+MshJkiQllEFOkiQpoQxy\nkiRJCWWQkyRJSiiDnCRJUkIZ5CRJkhLKICdJkpRQBjlJkqSEMshJkiQllEFOkiQpoQxykiRJCWWQ\nkyRJSiiDnCRJUkIZ5CRJkhLKICdJkpRQBjlJkqSEMshJkiQllEFOkiQpoQxykiRJCWWQkyRJSiiD\nnCRJUkIZ5CRJkhLKICdJkpRQBjlJkqSEMshJkiQllEFOkiQpoQxykiRJCWWQkyRJSiiDnCRJUkIZ\n5CRJkhLKICdJkpRQBjlJkqSEMshJkiQllEFOkiQpoQxykiRJCWWQkyRJSiiDnCRJUkIZ5CRJkhLK\nICdJkpRQBjlJkqSEMshJkiQllEFOkiQpoQxykiRJCZU1QS6EUB5CeCyEsDb9POIE7bpDCMvSj8X9\nXackSVK2yJogB9wBPBFjnAI8kV4/nvYY45z0Y0H/lSdJkpRdsinILQTuSS/fA3wkg7VIkiRlvRBj\nzHQNAIQQ9sUYh/dab4kxHjO9GkLoApYBXcA3YowPnuD1bgNuA6isrDz/vvvuOzOFn2Gtra2UlJRk\nugydJvbnwGJ/Djz26cCS1P5wQcvlAAAHpElEQVS89NJLl8YY6/vSNu9MF9NbCOFxoOo4u/70FF5m\nXIyxKYQwEXgyhPBajHH92xvFGBcBiwDq6+vj/Pnz303JGdfQ0EBSa9ex7M+Bxf4ceOzTgWUw9Ge/\nBrkY4xUn2hdC2BlCGBNj3B5CGAPsOsFrNKWfN4QQGoBzgWOCnCRJ0kCXTcfILQZuTi/fDDz09gYh\nhBEhhML0cgXwAeD1fqtQkiQpi2RTkPsGcGUIYS1wZXqdEEJ9COF76TZnAUtCCMuBX5M6Rs4gJ0mS\nBqV+nVo9mRhjM3D5cbYvAW5NLz8LzO7n0iRJkrJSNo3ISZIk6RQY5CRJkhLKICdJkpRQBjlJkqSE\nMshJkiQllEFOkiQpoQxykiRJCWWQkyRJSiiDnCRJUkIZ5CRJkhLKICdJkpRQBjlJkqSEMshJkiQl\nlEFOkiQpoQxykiRJCWWQkyRJSiiDnCRJUkIZ5CRJkhLKICdJkpRQBjlJkqSEMshJkiQllEFOkiQp\noQxykiRJCWWQkyRJSiiDnCRJUkIZ5CRJkhLKICdJkpRQBjlJkqSEMshJkiQllEFOkiQpoQxykiRJ\nCWWQkyRJSiiDnCRJUkIZ5CRJkhLKICdJkpRQBjlJkqSEMshJkiQllEFOkiQpoQxykiRJCWWQkyRJ\nSiiDnCRJUkIZ5CRJkhLKICdJkpRQBjlJkqSEypogF0L4eAhhZQihJ4RQf5J214QQVocQ1oUQ7ujP\nGiVJkrJJ1gQ5YAXwUeDpEzUIIeQC3wauBWYAN4UQZvRPeZIkSdklL9MFvCnGuAoghHCyZnOBdTHG\nDem29wELgdfPeIGSJElZJptG5PqiBtjaa70xvU2SJGnQ6dcRuRDC40DVcXb9aYzxob68xHG2xRP8\nrNuA29KrrSGE1X2rMutUAHsyXYROG/tzYLE/Bx77dGBJan+O72vDfg1yMcYr3uNLNAJje63XAk0n\n+FmLgEXv8edlXAhhSYzxhCd/KFnsz4HF/hx47NOBZTD0Z9KmVl8CpoQQJoQQCoBPAIszXJMkSVJG\nZE2QCyHcEEJoBC4Efh5CeDS9vTqE8AhAjLEL+DzwKLAK+FGMcWWmapYkScqkbDpr9afAT4+zvQm4\nrtf6I8Aj/VhapiV+elhvYX8OLPbnwGOfDiwDvj9DjMc9V0CSJElZLmumViVJknRqDHJZxluVDSwh\nhPIQwmMhhLXp5xEnaNcdQliWfngCT5Z5p89bCKEwhPCv6f0vhBDq+r9K9VUf+vOWEMLuXp/JWzNR\np/omhHBXCGFXCGHFCfaHEMLfpvv71RDCef1d45lkkMs+3qpsYLkDeCLGOAV4Ir1+PO0xxjnpx4L+\nK0/vpI+ft88CLTHGycA3gb/s3yrVV6fw+/Nfe30mv9evRepU3Q1cc5L91wJT0o/bgL/rh5r6jUEu\ny8QYV8UY3+nixUdvVRZj7ADevFWZss9C4J708j3ARzJYi96dvnzeevfz/cDl4R3uN6iM8ffnABNj\nfBrYe5ImC4Hvx5TngeEhhDH9U92ZZ5BLJm9VlhyVMcbtAOnn0SdoNySEsCSE8HwIwbCXXfryeTva\nJn2ZpP3AyH6pTqeqr78/P5aehrs/hDD2OPuVHAP6OzNrLj8ymPTnrcp05p2sP0/hZcbFGJtCCBOB\nJ0MIr8UY15+eCvUe9eXz5mcyOfrSVw8D98YYj4QQPkdqtPWyM16ZzpQB/fk0yGVAf96qTGfeyfoz\nhLAzhDAmxrg9PZS/6wSv0ZR+3hBCaADOBQxy2aEvn7c32zSGEPKAMk4+1aPMecf+jDE291r9Lh7z\nmHQD+jvTqdVk8lZlybEYuDm9fDNwzIhrCGFECKEwvVwBfAB4vd8q1Dvpy+etdz/fCDwZvUhntnrH\n/nzb8VMLSN1JSMm1GPh0+uzV9wP73zzkZSBwRC7LhBBuAP4fMIrUrcqWxRivDiFUA9+LMV4XY+wK\nIbx5q7Jc4C5vVZa1vgH8KITwWWAL8HGA9KVlPhdjvBU4C/iHEEIPqT+uvhFjNMhliRN93kIIXweW\nxBgXA/8I/CCEsI7USNwnMlexTqaP/fmFEMICoItUf96SsYL1jkII9wLzgYr0rT6/BuQDxBj/ntTd\noK4D1gGHgN/PTKVnhnd2kCRJSiinViVJkhLKICdJkpRQBjlJkqSEMshJkiQllEFOkiQpoQxykiRJ\nCWWQkyRJSiiDnCRJUkIZ5CSpj0IIxSGEN0IIL4YQ8nttvyqE0BNC+KNM1idp8PHODpJ0CkII5wLP\nA9+MMd4RQhgNvAq8GGNckNnqJA02BjlJOkUhhC8D/xe4CvgTYDZwToxxT0YLkzToGOQk6RSFEALw\nc+AyoAC4Msb4RGarkjQYeYycJJ2imPoL+AdAIbDcECcpUwxyknSKQghVwN8ALwPnhBC+mOGSJA1S\nBjlJOgXpadV7gA7gSlKB7i9DCGdntDBJg5LHyEnSKQgh/AfgfwOXxRifCiEUkDqLtRCojzG2Z7RA\nSYOKI3KS1EfpS4/8BfC/YoxPAcQYO4CbgDrgrzNXnaTByBE5SZKkhHJETpIkKaEMcpIkSQllkJMk\nSUoog5wkSVJCGeQkSZISyiAnSZKUUAY5SZKkhDLISZIkJZRBTpIkKaH+P80MrjdVq7/nAAAAAElF\nTkSuQmCC\n",
          "text/plain": "<matplotlib.figure.Figure at 0x2173772a9e8>"
         },
         "metadata": {},
         "output_type": "display_data"
        }
       ]
      }
     },
     "80e7010effab436f8263d291a920f7ac": {
      "model_module": "@jupyter-widgets/controls",
      "model_module_version": "1.0.0",
      "model_name": "DescriptionStyleModel",
      "state": {
       "description_width": ""
      }
     },
     "81b38bc01c9e47049a81290306251281": {
      "model_module": "@jupyter-widgets/output",
      "model_module_version": "1.0.0",
      "model_name": "OutputModel",
      "state": {
       "layout": "IPY_MODEL_23ac3952e61742f3a6b9c6597af30681"
      }
     },
     "821ff051ef55400fa9aaa2a128e566a6": {
      "model_module": "@jupyter-widgets/controls",
      "model_module_version": "1.0.0",
      "model_name": "TextModel",
      "state": {
       "description": "bn:",
       "layout": "IPY_MODEL_f63e73c8871c463d912f2f246e5b9a0b",
       "placeholder": "-(2 * numpy.pi * n * numpy.sinh(L) * (-1)**n) / ((L**2) + ((numpy.pi * n)**2))",
       "style": "IPY_MODEL_80e7010effab436f8263d291a920f7ac",
       "value": "-(2 * numpy.pi * n * numpy.sinh(L) * (-1)**n) / ((L**2) + ((numpy.pi * n)**2))"
      }
     },
     "8307f7fb38c54cd7bf46b9709b366b7f": {
      "model_module": "@jupyter-widgets/controls",
      "model_module_version": "1.0.0",
      "model_name": "TextModel",
      "state": {
       "description": "an:",
       "layout": "IPY_MODEL_2462d8b434354322b5927e3ac5875dd6",
       "placeholder": "0",
       "style": "IPY_MODEL_11f1c5e8dfd742f3b21281fb04f52bd5",
       "value": "0"
      }
     },
     "8593631e4d5243d7889c065e2d3fb17e": {
      "model_module": "@jupyter-widgets/base",
      "model_module_version": "1.0.0",
      "model_name": "LayoutModel",
      "state": {}
     },
     "85ad718a06ff496e9d59f9f82d4c9402": {
      "model_module": "@jupyter-widgets/controls",
      "model_module_version": "1.0.0",
      "model_name": "DescriptionStyleModel",
      "state": {
       "description_width": ""
      }
     },
     "866099cfd2de4692be7574c89d92b83a": {
      "model_module": "@jupyter-widgets/base",
      "model_module_version": "1.0.0",
      "model_name": "LayoutModel",
      "state": {}
     },
     "879cbc1bfe354da6b7ba15066e52ead5": {
      "model_module": "@jupyter-widgets/base",
      "model_module_version": "1.0.0",
      "model_name": "LayoutModel",
      "state": {}
     },
     "8b9e949e45914bddb64a3179a20c04d5": {
      "model_module": "@jupyter-widgets/controls",
      "model_module_version": "1.0.0",
      "model_name": "SliderStyleModel",
      "state": {
       "description_width": ""
      }
     },
     "8e6de9b5f18f40759e3e5abfdf369c55": {
      "model_module": "@jupyter-widgets/controls",
      "model_module_version": "1.0.0",
      "model_name": "VBoxModel",
      "state": {
       "_dom_classes": [
        "widget-interact"
       ],
       "children": [
        "IPY_MODEL_e82bdc823ec24697b523cd9e5c53749e",
        "IPY_MODEL_6249a1643cdd42009f02abe9f8d5ddfb",
        "IPY_MODEL_20ae218e668844b2aba533307483974c",
        "IPY_MODEL_420ee4cccc344f129ac080eaf5ba23a8"
       ],
       "layout": "IPY_MODEL_9395534b76df40cda636d52bb2bc3313"
      }
     },
     "9395534b76df40cda636d52bb2bc3313": {
      "model_module": "@jupyter-widgets/base",
      "model_module_version": "1.0.0",
      "model_name": "LayoutModel",
      "state": {}
     },
     "98544c3355e84f09b5b444da7d3dad3b": {
      "model_module": "@jupyter-widgets/controls",
      "model_module_version": "1.0.0",
      "model_name": "SliderStyleModel",
      "state": {
       "description_width": ""
      }
     },
     "9a18b5cec94b4b6b98b1d716eed865e3": {
      "model_module": "@jupyter-widgets/controls",
      "model_module_version": "1.0.0",
      "model_name": "SliderStyleModel",
      "state": {
       "description_width": ""
      }
     },
     "9f28e58853b049189b002ccf46afe051": {
      "model_module": "@jupyter-widgets/base",
      "model_module_version": "1.0.0",
      "model_name": "LayoutModel",
      "state": {}
     },
     "a0eec0246be8405eb8ddc8f8c97e93cd": {
      "model_module": "@jupyter-widgets/controls",
      "model_module_version": "1.0.0",
      "model_name": "DescriptionStyleModel",
      "state": {
       "description_width": ""
      }
     },
     "a2054b98473e45a6a9146ffb7a9bd829": {
      "model_module": "@jupyter-widgets/controls",
      "model_module_version": "1.0.0",
      "model_name": "ToggleButtonModel",
      "state": {
       "description": "Update",
       "layout": "IPY_MODEL_e2127e1ddf6d4468af56a9b39146321e",
       "style": "IPY_MODEL_1b649c0c8c23461b8895f71eddaa0a75",
       "value": true
      }
     },
     "a3ecfcb1c7c247ecaca61e3940d90c27": {
      "model_module": "@jupyter-widgets/base",
      "model_module_version": "1.0.0",
      "model_name": "LayoutModel",
      "state": {}
     },
     "a58fc5ce7191461bb3978c3410e15460": {
      "model_module": "@jupyter-widgets/base",
      "model_module_version": "1.0.0",
      "model_name": "LayoutModel",
      "state": {}
     },
     "a6fc215a150e4558a13371827647764a": {
      "model_module": "@jupyter-widgets/controls",
      "model_module_version": "1.0.0",
      "model_name": "TextModel",
      "state": {
       "description": "a0:",
       "layout": "IPY_MODEL_115396963c1e4a52931f0940fbc58003",
       "placeholder": "0",
       "style": "IPY_MODEL_d1f69a97b9dc4821829e7c5536bc68be",
       "value": "0"
      }
     },
     "a7c97494d99341629e09123bdf7cd9df": {
      "model_module": "@jupyter-widgets/base",
      "model_module_version": "1.0.0",
      "model_name": "LayoutModel",
      "state": {}
     },
     "a9f05bf681df4003ada7341688a5d93c": {
      "model_module": "@jupyter-widgets/controls",
      "model_module_version": "1.0.0",
      "model_name": "DescriptionStyleModel",
      "state": {
       "description_width": ""
      }
     },
     "aa7cd63e8756431cb9b978bc78784efb": {
      "model_module": "@jupyter-widgets/base",
      "model_module_version": "1.0.0",
      "model_name": "LayoutModel",
      "state": {}
     },
     "abb5ebebf13b4f609b4205f6834cff91": {
      "model_module": "@jupyter-widgets/controls",
      "model_module_version": "1.0.0",
      "model_name": "IntSliderModel",
      "state": {
       "continuous_update": false,
       "description": "L",
       "layout": "IPY_MODEL_0d30d598561e414996a93a80d32945c3",
       "max": 5,
       "min": 1,
       "style": "IPY_MODEL_175e6a20d9e544a687b11ed32107f272",
       "value": 1
      }
     },
     "ac4cc6038a00451c951a86eab7e89cb5": {
      "model_module": "@jupyter-widgets/controls",
      "model_module_version": "1.0.0",
      "model_name": "SliderStyleModel",
      "state": {
       "description_width": ""
      }
     },
     "aee2053fa2e547bfb9cac3313ed8b8e8": {
      "model_module": "@jupyter-widgets/controls",
      "model_module_version": "1.0.0",
      "model_name": "IntSliderModel",
      "state": {
       "continuous_update": false,
       "description": "L",
       "layout": "IPY_MODEL_f46f69473cef4ae8b11a1cef314bfc10",
       "max": 5,
       "min": 1,
       "style": "IPY_MODEL_e320012b92064870ab144472e5333775",
       "value": 1
      }
     },
     "afa5fe0d3bad428c8e37c5ea104f3165": {
      "model_module": "@jupyter-widgets/controls",
      "model_module_version": "1.0.0",
      "model_name": "DescriptionStyleModel",
      "state": {
       "description_width": ""
      }
     },
     "b3a2445490b645a1839726758c7a88da": {
      "model_module": "@jupyter-widgets/output",
      "model_module_version": "1.0.0",
      "model_name": "OutputModel",
      "state": {
       "layout": "IPY_MODEL_4b15b5e07ba440e6af782de290d08201",
       "outputs": [
        {
         "data": {
          "image/png": "iVBORw0KGgoAAAANSUhEUgAAAnIAAAFFCAYAAABouQAdAAAABHNCSVQICAgIfAhkiAAAAAlwSFlz\nAAALEgAACxIB0t1+/AAAADl0RVh0U29mdHdhcmUAbWF0cGxvdGxpYiB2ZXJzaW9uIDIuMS4wLCBo\ndHRwOi8vbWF0cGxvdGxpYi5vcmcvpW3flQAAIABJREFUeJzs3Xd4VGXax/HvMy2V0Am99yLSRRRR\nEBRF7IrdVVFXV9fV3dV117ZFXdfV1xV31bU31LWjWFBDUZAm0nsLNaEkpCcz87x/nEASigImOVN+\nn+vKNTOZM2fueA4+97mfcoy1FhERERGJPh63AxARERGRo6NETkRERCRKKZETERERiVJK5ERERESi\nlBI5ERERkSilRE5EREQkSimRExEREYlSSuREREREopQSOREREZEo5XM7gNrSqFEj27ZtW7fDOGIF\nBQWkpKS4HYZUEx3P2KNjGlt0PGNLNB/PefPm7bDWNv6p7eImkWvbti1z5851O4wjlpGRwbBhw9wO\nQ6qJjmfs0TGNLTqesSWaj6cxZsPhbBdxXavGmOeNMVnGmMWHeH+YMSbXGLOg/Oee2o5RREREJBJE\nYkXuReBJ4OUf2Wa6tfbM2glHREREpHbkFZfx50lLD3v7iEvkrLXTjDFt3Y5DREREpDbNWruT29/6\nga25RYf9GWOtrcGQjk55IjfJWtvzIO8NA94BNgFbgDustUsOsZ/xwHiA9PT0fhMnTqyhiGtOfn4+\nqampboch1UTHM/bomMYWHc/YEi3HszhoeXtlKV9uDJKebLiuVwLXnTtinrW2/099NhoTuTQgbK3N\nN8aMBv7PWtvpp/bZv39/q8kO4jYdz9ijYxpbdDxjSzQcz2/X7OD37yxk0+4irhzclt+d1oXkgA9j\nzGElchHXtfpTrLV7Kj3/xBjzlDGmkbV2h5txiYiIiByu/JIgD01exquzNtK2YTJvjh/MwHYNjng/\nUZfIGWOaAtuttdYYMxBn5u1Ol8MSEREROSwzVjlVuC25RVx7QjtuH9mFpID3qPYVcYmcMeYNYBjQ\nyBizCbgX8ANYa/8DnA/caIwJAkXAxTYS+4dFREREKskrLuNvnyznjdkbad8ohf/dMJh+bY68CldZ\nxCVy1tpxP/H+kzjLk4iIiIhEhakrs7nrnYVs21PM9UPbc9upnUn0H10VrrKIS+REREREYkVuURl/\n+3gZb87NpGOTVN658Xj6tK5fbftXIiciIiJSAz5dvJV7PljCjvwSbhzWgVuHd6qWKlxlSuRERERE\nqtG23GLu+WAxny/dTvdmaTx35QB6taxbI9+lRE5ERESkGoTDltdmb+Tvk5dTGgpz5+ldueaEdvi9\nNXdreyVyIiIiIj/Tqu153PXuIuZu2M2Qjg352zm9aNMwpca/V4lcJMnPhmAx1GvldiQiIiLRJXcT\neBMgtXGtfm1JMMS/M9Yw4evVpCT4eOT8Yzi/X0uMMbXy/UrkIsk/OgEW7st1OxIREZHo8lgP8CXB\nH7fV2lfOXb+LO99dxOqsfM7q3Zx7xnSnUWpCrX0/KJGLHLvWAuXrGhflQFI9V8MRERGJGnu2OI/B\nIsjbDnXSa/Tr8orL+PunK3hl1gZa1EvihasGcHLXJjX6nYeiRC5SbJ5f8XzLfOhwinuxiIiIRJMN\n31Y83zwPuo6uka+x1jJp4Vb+PGkp2fklXD2kLXeM7EJKgnvplBK5SJGzseL5jtVK5ERERA7XrnUV\nzwt31MhXrNtRwD0fLGb6qh30bJHGs1f0p3cr93vPlMhFipwNkFgPinOgaJfb0YiIiESP3EwIpEJp\nPhRkV+uui8ucyQz/nrqGBK+H+8Z05/LBbfF6amcyw09RIhcpcjZCg/awcw0UKpETERE5bHs2Q8OO\nsHM1FFRfRW7aymzu+WAx63cWMqZ3c/50RjeapCVW2/6rgxK5SJGTCek9nGqcKnIiIiKHL3eTk8gV\n51RLRW77nmIemLSUjxdupV2jFF65ZiAndqrdZU0OlxK5SJG/HTqOcCpzRbvdjkZERCR65G6G9sMg\nP+tnJXLBUJhXZm3g0c9XUhoKc9uIzlx/Uvtqvz9qdVIiFwlKC6FkD6Q2geQG6loVERE5XKUFUJoH\ndZpCSmPYvf6odvP9xt388f3FLNmyh6GdG/PAWT1o26jm78zwcymRiwQFWc5jajokNXD6+EVEROSn\n5Ze3oSlNnDVYt+05oo9n55Xw90+X8/a8TTSpk8CES/oyulfTWrszw8+lRC4S7D0J91Xk1LUqIiJy\nWPZ2paY2gUCKM3P1MJSFwrwycwOPfbGS4mCI609qz69O6USqi2vCHY3oijZW5W93HlObQEKa081q\nLUTJ1YCIiIhr9rahKY3LE7mCn/zIt2t2cN+HS1i5PZ8TOzXivrN60KFxag0HWjOUyEWCfSdhEwgk\nAxbKisqfi4iIyCHlVxqeFEiBUCkES8EXOGDTLTlF/PWTZXy8cCst6yfx9OX9GNk9PWq6UQ9GiVwk\nyNsOGOdqwl8+sLKsUImciIjIT9nbtZrSCAJ1nOel+eBrsG+TkmCI/05fx5NfrSZsbVTMRj1cSuQi\nQf525wT0+iqSt9IC53ciIiJyaPlZzkRBr9+pyIHThiY7idxXy7dz/0dL2bCzkNN6NOXuM7rRqkHs\nFEqUyNWm0kLnRPP6q/4+PwtSmzrP/eUnV1lh7cYmIiISyUrynTbS46n6+4IsZ4w5VEnk1mbn89i8\nYn7InkuHxpG9qO/PoUSutuxaB8+Pgkad4YoPwFOpnJu/7SAnoRI5ERERwLn70dNDoWlPuOzdqgWR\n/CxnaBI491sF/vvVIh5auBafsdw9uhtXHt+WgM9zkB1Hv9j8qyLRrH87Xajrp8OqL6q+l5/lLGQI\nFRW5w5w+LSIiEvNmTnBuX7luGqydWvW9/CxITacsFObTlXkAfL1wHRf0b8XDQ5O5bmj7mE3iQIlc\n7bAWln0InUY6idrqKRXvhcNOgrevIqeuVRERkSo2zoRWg5yK24qPq75XkE1mWSqn/990/vXNVgAe\nPLM9D57bi7oJ0Tsb9XApkasNu9ZC3lboMhranuBcUexVtBvCwUpj5CoN1BQREYl3pQWwbRG0PRFa\nD4aN3+17a/WmLCjN5/XFxQRDYf5wdn8AWqdat6KtdRojVxu2fO88tugHeducilxp+fIilRcDBlXk\nREREKts8H2zIqchhYe3X7M7N4/GMDUz9bg4ZATjumK7cdt5JBIqyYDJxNTxJiVxt2DwPfEnQpBvk\nbAQbhqxl0LKfM9EBKsbIlQ/U1GQHERERYNNs57Flf4LFefjCQa5/7DXmlbbmru5+WA0n9TsGfJ5K\n48zjp1dLXavVyR6ilLt5HjTr7cyyadrT+d22hc5j5RWpodLyI/FzEoqIiBxS5mxso85MXlPC1Z8W\nAzCifhaTbz2Ra3snOtuktXAefeWvg8UuBOoOJXLVZd00+Gd3+OAmZwLDXqEy2LrQ6VYFqNfGuZ/q\ntkXO67zyitzeRM6XAMajipyIiMSP9TPgkU7w4a+qFkWsJbhhFl/mt+XG1+aT7WtG0JfMdZ3y6Zxe\nB/ZscbZLa+48ev1OG6pETo5IqAw+vAXytsD3rzozVPfKWgbBImjR13ltDKT3hO2Lndf5Wc4Eh4TU\nivf9KRojJyIi8SEUdIogBVkw/2VY8h4Aa7Lzuef59/GV5DCrrAMPn9eLSbcOw9e0J2ZvG7pni3Nb\nrsQ057UxTlVOiZwckXVTYfc6uOBFaNjRWe9mry3znce9iRxA016wbbFTucvZAHVbVN2fLwGCJTUe\ntoiIiOtWT4Hd6+GCl6BhR0pnPs0f31/EyMemEdrojI+7/ReXcdGA1vi8HmeI0rbFTuUubwukNau6\nvzhrQ5XIVYdlk5wqWufToc/lzsDMnWuc9zbPg6T6UL9dxfZNezlj4Havc5YmadCh6v58iXF1EoqI\nSBxb/hEkpFHYfiTfpI4isHkWM2bP49JBrflT7zxIrEtSs+4V2zftBSW5zuTBXWudIUuV+ZKgrKh2\n/wYXKZH7ucJhWPEJdBoB/kQ45iKnf/6HN5z3N8yEFv2dcu9eeyc8bP3BOQkb7p/IJcRVWVhEROJU\nOIRd8SkbGgzhpH9+y29XdAHg3RMyeWBsTxK3zIaWA6reX7XpMc7j1gWwYxU07lJ1n6rIucsY87wx\nJssYs/gQ7xtjzBPGmNXGmIXGmL4H267aFe6CBW8493urbPNcZy24rmOc12nNoP0w+OFN52ph5yrn\ndWWNu4HxwspPnYTtgEQuvvr3RUQkxhXlHNCGWmuZM/1TTOEOHtnQkdYNkvnXjWdB2xNpsPo9pw3d\nseLANrRJd/D4YPG7Tlu5fyLnT4qrNjQS15F7EXgSePkQ758OdCr/GQT8u/yx5pQVwQujIXuZ0016\n/XSo18p5b/kk54TqdGrF9r3HwbvXORMgADqOqLo/f6Izi3Xhm87rZr2rvh9nVxMiIhLDyorh+VGQ\nvRySGsD1U5m1K4VHPlvByM2vcazPx9gLrmLEsR0wxkDvi53JDx/f4Xy+06iq+wskO1W6pe87rxt3\nrfp+nPVqRVxFzlo7Ddj1I5uMBV62jllAPWNMsx/Z/ueb/7KTxA2/x5mh+umde4OFZR85tw1Jqlex\nfdcznTVt1n7tXEk06XrgPruc7jwm1oNmfaq+p4qciIjEirnPO0nc8HsIBUuY//R1XPzMLDbtKmBc\n2iK8HU7i1D4dnSQOoMc5kNYSVn3mtKGNOx+4z70FEm+gYnmvveKsDY3EitxPaQFU7t/cVP67rTXy\nbeEwzH7GGed24u3O66//AhtnOZW4XWvhhNuqfiaQDJe+DUvehwHXHHy/A8dDwQ5o3qdq3z+AL6B1\n5EREJPpZC3Ofo6hpf+7YeDKtCldyp38iTw26jOF9OpHw4kbofnvVzwRS4PJ3YemH0PeKg+/3uF86\nqz60PRE83qrv+RLj6s4Oxh7qbgQuMsa0BSZZa3se5L2PgQettTPKX38J/M5aO+8g244HxgOkp6f3\nmzhx4hHHUn/XAnovvJdlXW9je9NheELFDPruBsr8aQR9KdTJW8u3x79AyJd8xPs+lJ6L/kJCyU7m\n9X+M/Px8UlNTq23f4i4dz9ijYxpbdDyrl2fbDwxdfg+3l93AJIZyRhv4867fYIyhNFBfbeiPOPnk\nk+dZa/v/1HbRWJHbBLSq9LolsOVgG1prnwGeAejfv78dNmzYofe6ZQGs+Qq6j606+eCNZyC5Ed3O\nv4tuvgTndy2eImHiOOf5iPs58YTRR/3HHFTW85C1h2HDhpGRkcGPxi1RRccz9uiYxhYdz6O0ZYEz\nnKjbWdCwAzvzS3gqYw19l04mx6TQYOBFfDO8B41SE2ClH16/kOSirXDqA5w4pJrb0OwXYXv8tKHR\nmMh9CNxsjJmIM8kh11r787pVM+fAi2dAqARmPA5Xf+ysU5OTCSsnO12ne5M4gK6jYfxUKM6Bdif9\nrK8+qDjr3xcRkSiWOQdeHA2hUuz0f/Ja16d48Hs/KWW7uCtxDkW9r+busZUWmOg8Eq6fCoU7of3J\n1R+PL9G5o1KciLjJDsaYN4CZQBdjzCZjzDXGmBuMMTeUb/IJsBZYDTwL/PJnfaG1zuSF5IZw3VdO\n3/yblzlTpWc/7WzT76oDP9f8WGcQZuX14aqLZq2KiEg0sBYm/5ZwSmPe6/8q20r8nLLgFs5s7+Gz\nQT/gsyHqnHDDgZ9r1hs6nKI2tBpEXEXOWjvuJ963wE3V9oUrJjtrwY15wpn5csGLzpXF00MhdxMc\nczHUa11tX3dYVJETEZEoULr0EwJbvucv3l/y/AwPl7b5Cw/svJ2Hd94CG7Y7S4k06li7QfmSnCVP\n4kTEJXK1ylrIeBAatIdjL3F+13qQc7+3KfdCp5Fw2t9qP644u5oQEZHoUhIM8ebsjQz84o8khZuw\notlo3jy1O4PaN4RVjZ2erk4j4fSHaz+4OFtHLn4SuV1r4bGecNyNzrRlY2DV57BtIYydAF5/xbbd\nznR+3OJLdMbrReCMYhERiTP52fD+jZC9nGC/a5joP4cJGWvonvcNVwTWsuqEh3lt5IkV23c6teoi\n+bXNnxRXbWjEjZGrMSV5UKcpfPYH+PQuZ522Lx9wuk2Pucjt6KryJYANQzjodiQiIhLPrIW3r8Su\nn0G2pzG+r+4j/PEdtEmDJ5pMwtZvR6fh17odZVXegPMYJz1b8VORS2sOv/gcPr8bZj3lrDQdKoFx\nE6tW4yKBL9F5jKPSsIiIRJ7Qgol4N3zDI4EbeWrrCfyz/rtcUfQOl++ahgmVwLg3wRthqcTeRC5U\n6m4ctSTC/uvXoJRGzh0URv3NuZvCqs+h+9kVt8qKJPsSufi4mhARkcgSClsmzV3JkMl3sSncnhmp\no3n+3C6c3Hk0LBqFWf2Fs+5ql9PcDvVA+xK5MnfjqCXxk8hRPsXZGDjmQucnUu1ds04VORERqWll\nxTDvBSjKIXjs5Xy4Dp78ejVn736Bsb7drD31aT444cSKe6H2vsj5iVR7e9lUkRPXePcmcqrIiYhI\nDQqH4PULYd1UAIqm/ouM0qvp3aA1NwUmY7udx8ATR7kc5BFS16q4bt/VRHyUhUVExB3BWU/jWzeV\nv/tu4JOCTvwn5Rme4EnIB+q2gtMfcjvEI7e3VytO2lAlcpEozq4mRESkdhWVhvho6kzGfHMf00O9\nmdV4DPde0JkuHa+EJe9B/nbofQmkNHQ71COnrlVxXZwN1BQRkRoUKoM1X4HxUtDyBF6dvZlnp63h\n8dL7sD4vqec/yTvH9KoYAxfJY8gPR5wVQ5TIRaI4u5oQEZEaUrwHXj0XNs0BYDdN2FQ2mr/Wz+GE\n0BI44zEG9D7G5SCrWZwNT1IiF4ni7GpCRERqgLWUvncTvk3zuYdfkl2awO9TJ/NnXnTGwA24Fvpd\n7XaU1S/O2lAlcpGoSteqDpGIiByZbbnFfPvB05y79kMeLruY7K7n8atTOtG++b2QOdtZxLdFP7fD\nrBn72tAS4uEGVsoSIlGVrlUdIhER+RFlRbDhW0hpxFpve56eto7538/hXd+DrE/qztjxD9K1eYOK\n7VsPci/W2lClazXB1VBqg7KESFSlLJzsaigiIhLBdq6BV86BnA0A7Al3oL4dzMTUDJJNEnVueAvq\nNfiJncSYKm2oEjlxg2atiojIT7DFuRS/cDZlhbncUXobbQK5/DL5c+4sfhUSWsD5E6FeK7fDrH0a\nIyeu06xVERE5hHDY8vmSbaRMGs/g4k3c4ruffqPO4JJBrUkLPOqsAZfaBDxet0N1h2atiuuUyImI\nyF65m2DjLMrqtOL97Gb8Z9paRu56g9/7p/F9l1v51wU3keivlLSlNXMv1kigipy4Tl2rIiICsPAt\n7Ac3Y0Il+IFB4ca0D7Skn/97wt3Poc8F98PehXzFsfd+5UrkxDWqyImIxL1di6dQ790bmEtX7i+5\nhNOb7OaSpFm0CmZBt9vxnPR7JXEHo65VcV2clYVFRKTCim15vPvldK5feR1rbFMmdnyIPw/rRd/W\n9d0OLTrEWRuqRC4SqWtVRCQ+hEOw7EPs9qUspy3/WpPOD2s28WrCQyT6PCRf8ib/7NDL7Sijy942\nNKhETtzi8YLxOFcTcTrpSEQk5pUVE37zUjyrp2CAbsCTGEwiEEjBXPo2yW2UxB0xjxcwThsa+zd2\nUCIXsbwBCJcpkRMRiUF5RSVkvXA5HbKm8Keyq5hT/wx+26uIof6l+D0Geo+D+m3cDjM6GeO0oUrk\nxFXegNO16nc7EBERqS5bcop48dv1NPvur1xtPuf1Or/g5DPu5P7OTfB4DDDW7RBjQxy1oUrkIpXX\nHzcDNUVEYta2RTDjcfJ3bmZeSUs+ympMP7OCcd4v2dH9Ci654J+aeVoT4qgNVSIXqfaWhUVEJCqF\nVn2FeeNCCmwia0JNGGTmcpKvDGu8MOgmGo38s5K4mhJHbagSuUjl9WvWqohIFNpTXMZXX37KyDnX\nsiHclN8m/5mzh/SmXZ+mJBZuwKQ0hpRGbocZ2/Z2rcYBJXKRKo6uJkREolpJPoSDrCvw89K361k9\n9wueNH8nz1ePbWe8zgf9euH1lFfeUru5G2u8UNequE6JnIhIZCvJw358Oyz6H8aGCNiGjLENOdaz\nhmBaa+pd/T7p9du6HWV88iXETRuqRC5SqWtVRCRiFRfsIe+/Y2mwewEvBkdR4G/AqY120CshF2/L\n4XiH/hZSGrodZvxSRU5cp4qciEjEydpTzMRvljL4u1/R1y7hoZTf0emUy7m0d3MS/Vr4M2LEURuq\nRC5SxdFATRGRiLV9Kaz8lK17Svl0SxLTNxRwm+dNuns2svaER/nDiF9gNPM08sRRG6pELlJ5/VBW\n5HYUIiJxKzjj//BOuQ9DmGbA1cDVPggl1MV73kQ6dR7ldohyKHHUhiqRi1TeABTnuh2FiEjc2ZJT\nxJp37uPEzP/wcWggz6b9igsHtWds6xJSQnvwtugHiWluhyk/Jo7a0IhL5IwxpwH/h3OX0f9aax/a\n7/2rgEeAzeW/etJa+99aDbI2eDTZQUSktlhrmbl2JxPmF3Lal7/gGu8nzEw9lbpjJvBe5ybqPo02\n6lp1hzHGC0wATgU2AXOMMR9aa5fut+mb1tqbaz3A2hRHM25ERFyxYxXBj39HOHM2eSE/vlAT/mFy\naOPdTl7vaxg89hHwaAJDVIqjNjSiEjlgILDaWrsWwBgzEecOwvsncrEvjmbciIjUti1zP6Lxx9dQ\nGPbxQeh4mqZAn5TdYFNh+EPU6XGObp8VzeKoDY20RK4FkFnp9SZg0EG2O88YMxRYCdxmrc08yDYY\nY8YD4wHS09PJyMio3mhrUJfsndQvzCM/Pz+q4pYfp+MZe3RMo0fYWn7IDlG45hvuKH6CFbYlE+rf\nSb92TfDX9bDEGPLz80ndkQpTp7odrvwMXbLipw2NtETuYJc/dr/XHwFvWGtLjDE3AC8BpxxsZ9ba\nZ4BnAPr372+HDRtWjaHWsLz3IW8hqampRFXc8qMyMjJ0PGOMjmkEC5bC8o8o2raSedvDfLIB2hUu\n5lbfZLan9aTp5f/j302aVvmIjmeMyP8A9iyIizY00hK5TUCrSq9bAlsqb2Ct3Vnp5bPAw7UQV+2L\no4GaIiLVze7ZStFL55G8cwlJwAnlP9ZnsL0vodkZ/4BAsstRSo3xJsRNGxppidwcoJMxph3OrNSL\ngUsqb2CMaWat3Vr+8ixgWe2GWEt0iy4RkSNWUBLkyxkzGPjNeOqEcrjN3kad3mO47Nh6dE7Ox6S1\nwKQ0cjtMqWma7OAOa23QGHMz8BnO8iPPW2uXGGMeAOZaaz8EbjHGnAUEgV3AVa4FXJPiaKCmiMhR\nC5ZAaQHLc+DV7zZRuOBd7uEZrMfP1ONf5M/DRpKaEFFNndSGOGpDI+7sttZ+Anyy3+/uqfT8LuCu\n2o6r1nkDEC4Du/8QQRERoSSf4NcPYWY/gzdcQmdruIsAKaaEgka9Sb7kJUY3aOd2lOIWbwBsyPmJ\ncRGXyEk5rx8AY4MuByIiElk2bFxPYOKFpBeu5P3QELYkdeX4Fh66NwBa9SGl1wX7/h8qcar8+HvC\nSuTELd4AAJ6wEjkRkbJQmC+XbSdj+lSu33oP9cxunmr+V/oMv4iz2zfE49Gab1JJeRsaD8UQJXKR\nKo5OQhGRA1gLKz6h6Pu32b59Kyv3eAmWhbjfO49gQhpF573LzV1PdDtKiVRxVAxRIhep9pWFY/8k\nFBGpLFRSwO6Xr6DR5inssfXItQ04JlBC3Trg7zKOhBH3kqKZp/Jj9g1Piv3VH5TIRSpV5EQkzmzN\nLWLSNws4fs6v6BZezeOeyykddAPjBrWnaQOt+SZHQBU5cV0cnYQiEqdyMgmtm87KzO1M21jK9m2Z\n3OR9n1RPKfMH/4tfjriUgM/jdpQSjfYVQ1SRE7fEUVlYROJMKEjepD+QvOC/eG2IbkA3AB+UpPch\n4fyn6d+4i8tBSlSLo+FJSuQilSpyIhJjykJhMn5YQ5PPb6R38Rwmhk5mUctLGNGvKye0CuAPJJJQ\nrw0YzUCVnymOhicpkYtUWkdORKJdqAzyt7Npxx7eXZLDigXf8rvg07Tw7OSLDn/gxDG3cHG9JLej\nlFikdeTEdXFUFhaR2FM2/zXs5LsIlOXSEril/PfFqc0xF07i1LbHuxmexLo4KoYokYtUcVQWFpHY\nsWbLDnLf/Q19d3zA7HAXMhIuoW+7JgxskUBaoxYkdh4FflXhpIZ5lMiJ2zRGTkSiRHFZiE8WbWXW\nN19xefaj9PWs57P640g+7V7u6NRUd12Q2qeuVXGdZq2KSKSyFrv4XQq+eZrQzrWUlAUZaL2ca3ZQ\nlFCPPWe8zKhjx7odpcQzda2K6/aVhWP/akJEokf2rhx2v3UTnbdNIivclPn0oEX9FDo2DGDb9iJp\n4LUkJdZ1O0yJd+paFdepa1VEIkRZKMxXy7OYOnMWF2+8n2M8a3kj5VLsib/jzGNbkJbodztEkari\naMKgErlI5XUOTTxcTYhIBFo3jZzvXiNr6yY25gZJChVwv3cZIX8CW0Y+z7hB57kdociheeOnV0uJ\nXKRS16qIuCBnzx6y37yFTpvfw2OTCdKYHgFIqZ+Kt9M1+IfeQfPUJm6HKfLj1LUqrlPXqojUklDY\nMn1VNl/NnM0Fa/9EL89a3ko8n+Lj7+DMfh1okBJwO0SRI6OuVXFdHM24EREXbFvMru8/ZEXmNhZv\nL6ZeyVb+4JsJvgAbRzzLhcdf6HaEIkcvjtZiVSIXqeKof19Eak9+QT7bJ95Ch8x3aAD0t14GmxCl\nyfXwdjkX74h7aV23hdthivw8nr3jzGO/DVUiF6k88VMWFpGaFQ5bvlu3i69nzuTsVXfT3aznTf85\nFA28mdGDetIkxUfA49XN6iV2qGtVXKeuVRH5OXatZeeq7/h+1SZmbsyjaeEqfuP9AutLYPXJz3Hh\nkPMwStwkVqlrVVzn8YLxxMXVhIhUn6I9u8h+61ZabvqIhlhGACOAsN9HuOuZ+E77Gx3VdSqxzuMF\njLpWxWUef1ychCLy81hr+T4zh6kzpnHOit/Tgixe958NvS5i+LEdaJYMnrot8QSS3Q5VpPZ4A3FR\nDFEiF8m8gbgoC4vIUcjPYveH1j3KAAAgAElEQVTGpUxfuZWpK7LpkDeHX3onU+Krw4oRr3PJoFG6\nWb3EN68/LtpQJXKRzOuLi6sJETl8Jbnb2PG/O2iW+TH1CXMWcBaAD8q6nU3a6L/Ts066y1GKRACP\nLy56tZTIRTJ1rYpIuSVbcvl26ueMWfF7Gto9vOE9E3/n4ZzQtTnN6/ggvRf+1MZuhykSOdS1Kq7z\nBjC2zO0oRMQNpYXkZGUyZdk2vlq4gV67P+da7yfk+huzePjbXDxoGF51nYocmrpWxXVeH56wKnIi\n8SS4ayM7PvgDjTd8TD3CnA+cD+CD0h4X0uiMh2mU3MDlKEWigLpWxXWa7CASN1Zn5TPnq/9x+vI/\nUseW8qbndFLa9GFA+8Y0r5cMrQcTqNfK7TBFooc3gCcc+71aSuQimcePiYP+fZG4ZC178nKYvGg7\nX89fzMDtb3OV9zO2BNqybvi/Ob//IAI+j9tRikQvrx8TB71aSuQimdeHJxj7J6FIPAlnr2Lnx/dT\nd8NnpNlSLgIuAvBB0bG/oOXov9AykOJylCIxwOPDhGK/DVUiF8k02UEkZmTuKuSHT5/nlJV/JsEa\n3jcnkdasI8e0rEezRvUxnU4lqUF7t8MUiR3eAJ6S2G9DlchFMo8fY4vcjkJEjlJhaZBPFm3j69nz\nGbb5WS7wTWNloDvrT5nAWf16k+j3uh2iSOzy+jG2xO0oapwSuUjm9WvWqkiUsVsXsuvzRwhkzsBb\nVsAZWM43pYR9HvIG/prOo/5IZ6/f7TBFYp83PtZiPexEzhjzDfAf4C1ray7FNcacBvwf4AX+a619\naL/3E4CXgX7ATuAia+36morHVXGyBo5ILNiWU8SKSY8xePWj+GyAKQygQaOmdG6aRmLTFnh6jKWO\nuk5Fao/Hr1mr+ykDXgIeN8a8BDxjrV1encEYY7zABOBUYBMwxxjzobV2aaXNrgF2W2s7GmMuBh6m\nfKxwzPEokROJZMVlIb7bGuSDZyYxKvNxTvPOYX7CADJPeoyR/bqRkqBODxHXqCJXlbV2mDGmC3A9\ncAVwqzFmOvBv4F1rq2VU/kBgtbV2LYAxZiIwFqicyI0F7it//j/gSWOMsdbaavj+yOL1x8XtRUSi\nic2cTW7GBMo2fU9RSTEXhy2tPNmE/AF2H3c3fUfcQV+Plg0RcZ0SuQNZa1cAvzHG3AVcCIwHXgd2\nGGNewKnSrf0Z8bQAMiu93gQMOtQ21tqgMSYXaAjs2H9nxpjx5TGSnp5ORkbGzwit9nXbuZuUUFnU\nxS2Hlp+fr+MZpfYUB0le/iYn57wNNpn5tjspiQEaBkKsbzic7c2GUxJoDNOmuR2q/Az6Nxo7uu/Y\nTXKwNOaP51HV/cvHyL1ijFkC/BMYCvwOuMMY8x7wK2vttqPY9cFuHLh/pe1wttkb5zPAMwD9+/e3\nw4YNO4qQXLR7IkV7VhB1ccshZWRk6HhGkbJQmIwV2Uz99lvO2Ph3BnuW8nXCyWw/8UFO79eRukn+\nfcdUo99ig/6NxpBdr1OUtyrmj+cRJ3LGmCRgHHADzoSD5cCtwNvAGJxuz9eA4UcRzyag8j1oWgJb\nDrHNJmOMD6gL7DqK74p8Hp+6VkVq27rp5M56iT2bV7Arv4Rm4RLu82wk5Etk29B/cPJJ14LRzepF\nIl6cDE86klmrvXDGx10KpAAfAL+31n5dabNnjTHbcJK6ozEH6GSMaQdsBi4GLtlvmw+BK4GZOPeS\n/iomx8dB3PTvi0SC3D35bHnnd3Tb8BrYZDbZttRPSaZxWmNMp/NIGHQ9Teukux2miByuOJkweCQV\nuR9wqmOP44yF23qI7VbjJFlHrHzM283AZzjLjzxvrV1ijHkAmGut/RB4DqdbdzVOJe7io/muqOAN\nxMXVhIhbQmHLN6t3MOPbaYxZ9xd6mbW8FziL3CF3M6ZfOxqmJrgdoogcrTgphhxJIncB8L61P/5f\nxVq7DDj5aAOy1n4CfLLf7+6p9Ly4PJbY5/HFxdWESK3aPI89M18ka/N6NuaWkhLM4XeelZT46rBh\n+H85e/D5GHWdikS/OCmGHMnyI+/UZCByEN5AXFxNiNSG/IICNr57L13XPIexCZTZxnRO8JBSNw26\n3UrKCbeQktzA7TBFpLrESTFEq1VGMq8fjw2CtRpcLXIUrLXMXreLb2Z8xRlrHqC72chk33A2H/cn\nzhzQjaZ1E90OUURqyt6u1RhvQ5XIRTJP+f0Yw0HQvRlFfpq1sPZr8pZ+wdqtO1mVVUCjkkx+7VlI\nvr8+q4f9l9OGqOtUJC54AxgshEPgjd10J3b/sliwN3kLlSqRE/kJxXt2sPuN8TTb+iUB66MtATp5\nIJTWhNCxt5M25CbS1HUqEj885SlOuEyJnLhkXyIX+zf9FTka1loWbspl9tRJjFl9Dw1tDv/yX4Xt\nfw3nDOxIqwbJbocoIm7xBpzHUBn4k9yNpQYpkYtke0/COJh1I3JYwmHInEXB6m9YmbmN1Vt2Uq9o\nI9d555Htb8GyEe9w04BheDzqOhWJe3FSDFEiF8n2loVDpe7GIRIBgrnbyHnjWhptm04KcIw1dDcB\nwsl1KO57O42H3UbjhDpuhykikaJy12oMUyIXyeLkakLkx6zOymfOV/9j5PJ7SbUFPOK9Gk/vixlz\nXA86pytxE5FDqNy1GsOUyEWyODkJRfaxFrYvpmjTQhav28qiDdtpkruQcd5ZbPa3YcXJr/DrQSfg\n93rcjlREIl3lCYMxTIlcJIuTsrAIQDh3C3lv/IK622aSBAwo/ykLJFHQ/1ZaDL+TFgFNXhCRw7Sv\nDY3tceZK5CKZKnISBzbnFDH3i4mctOQeAraEh7iKhK6nMqJPJ3q2boI/IRW/lt8RkSO1rw1VRU7c\nojFyEotyMinJ3cZ3a3eSsWwLPba+y3ne6WzwtWPl0Ce49bghJAW8bkcpItEuTtpQJXKRTF2rEkNs\n1jIK3r2V1G3fkQAMLf8J+gLs6XszbU77E238umWWiFSTyndHimFK5CJZnJSFJbbtzC9hwWcvcvyi\neyiyAf4THkdam14M6diEbk1T8bXsR1pqE7fDFJFYo8kO4ro4KQtLjAkFCQVLmLE+ny9mzqXnmue4\n2Psly31dWXLCk1w36FjqJmnMm4jUsDhpQ5XIRTJvfJSFJUZkr6Bo8p8IrJuC14Y4CTgJCHu97Op9\nPV3H/IWuvoDbUYpIvIiTuyMpkYtknvgoC0t0Kw2GWTzlZbp9dydFYS+vh0aS0rAFfZsFaNe2Hf5O\nw2nQsIPbYYpIvImTuyMpkYtkcVIWlui0Oiuf975bQbP5/+QyO4nFphPf9n+M04f0083qRcR9cdKG\nKpGLZFpHTiLJzjUEp/6D/HVzKS3MxVsG15s80kwhmzpdSrcL/knPgGadikiEUNequE7Lj0gEsNay\nYeZ7pE/5FaFQiLnhroQSWtC+WSL+Jo1g4BW0bDXQ7TBFRKpS16q4ThU5cVFuYRkffr8ez/RHGVc0\nkWW04d1ODzNqyEAGtK2PMcbtEEVEDk1dq+K6ODkJJUIU7sLOe5Ed6xezdkchK3ZbjmMRnT2bWdvi\nTFpe/BR/SqvrdpQiIocnTtZiVSIXydS1KrUkd8GHJH50IwmhfMpsA9oYQ29fMeGGHeGUh2nfbYzb\nIYqIHJl9bajGyIlb1LUqNSgctny7egdbP3+Mc7OfYolty0tNHmHI8UM5vWczEnW/UxGJZnHSq6VE\nLpLFyUkotSRUBuumkpe9iVmZhUxdk8PJhZ9zgfd7VtQfSuqFz/Foc90qS0RihLpWxXXqWpVqYtd/\nQ/H/biApfyN1gFPLf8oCyZSd8le6DP4leDwuRykiUo088XF3JCVykcwYwsaHJ8avJqTm7MwvYcHk\n5zhxyZ/YGm7Ek547aNvzOMb2bECbNA/+Rp0hkOJ2mCIi1c/jweLBxHivlhK5CGeNV12rcvhKC7Gl\n+Xy3Jcj/5qyj+/IJ/ML7MUv9PVkz/Gn+1q8biX6NfROR+BD2+PDGeDFEiVyEC3t8eGO8LCzVIHsF\nZR/9Bv/GGRjguPIfvJDT40q6n/13uvt11wURiS/WeNW1Ku6yxhfzAzXl6FlrWTbrU9p+cS3FIcMr\noXNIrteUwS38dGmShL/LSOq17O92mCIirnDa0Nju1VIiF+HUtSoHk1tUxjvzNpE94wV+XfQUW0xj\n3uv5L0afOJCuTdPcDk9EJCKEPbFfDFEiF+Gck1CJXNwr2g3fPkn+2llszSlidZ6f7uRynGcZ2xsN\npOnlr/Obeo3djlJEJKKoa1VcZ41Py4/EuZLtqyh76RySCjezJtyWkPHRL6mYtJRk6Hs/6YNvBq/+\nKYuI7C8ehifp//4RLh769+XgMncV8uWXnzFmya0YG+LO5AfpO2QU5/VtSd1kv9vhiYhEvHjo1YqY\nRM4Y0wB4E2gLrAcutNbuPsh2IWBR+cuN1tqzaitGN4Q9GiMXF6yFzNmEd65hyY4Q768Fm/kdv/NO\npMDfgPWnv8K/+g7EGON2pCIiUUNdq7XrTuBLa+1Dxpg7y1///iDbFVlrj63d0NyjrtU4UJJH6cQr\nCaz7Eg/Qq/wHH5S0OpGGF71Aw1SNfxMROVLqWq1dY4Fh5c9fAjI4eCIXV+LhJIxX1loWrlpL/XfH\n0bxoFQ8EL2dXi2Gc16Meg5uU4KvfmoT0nqAqnIjIUVHXau1Kt9ZuBbDWbjXGHOru3YnGmLlAEHjI\nWvt+rUXoAqdrNbbLwvGmqDTEBws2M+Wbmfxh9z00MTt5s8ODjBt1KZ3S67gdnohIzFDXajUzxkwB\nmh7krbuPYDetrbVbjDHtga+MMYustWsO8X3jgfEA6enpZGRkHGnIruseNuTm7OT7KIxdytkwLTd9\nSLPMSQwsK2Dr13Vpa+sxwbOakC+BBT0foEWDrmxeNo/Ny9wOVo5Ufn5+VP6/RQ5OxzO29Agbcndl\nx3QbWquJnLV2xKHeM8ZsN8Y0K6/GNQOyDrGPLeWPa40xGUAf4KCJnLX2GeAZgP79+9thw4b9vD/A\nBTsXJlA3wUM0xi5gQ2XsfOUqGq2fxIxwT1aFW9C7XhE9kgoItLkCc8KvOa5ea7fDlJ8hIyND/z5j\niI5nbNm5MIG6icT0MY2krtUPgSuBh8ofP9h/A2NMfaDQWltijGkEDAH+XqtR1jKna7XI7TDkCBWV\nhnh/3nqafvVrTi6bxhPmEooH30IHttL39FPcDk9EJC44EwZjuw2NpETuIeAtY8w1wEbgAgBjTH/g\nBmvttUA34GljTBjw4IyRW+pWwLVBkx2ixK51sOwjdheHmLItmcmrCrkq9A5DvYv4oetvGH/eH0n0\ne8nI2O52pCIicSMebnMZMYmctXYnMPwgv58LXFv+/FvKV2aIF1p+JPLZ+a9gJ92GJ1xGfZwrkAuA\nUEIS9vQn6N3vSpcjFBGJT2GPD4Kx3YZGTCInB+dMnY7tGTfRqrA0yIJJ/+b4hX9keqgXf/PfzBl9\n2zGuQymNfMV4W/SD5AZuhykiErfioRiiRC7CqWs18mTuKuTlmespmPMaf7YT+N5/LNmnP8f7fduR\n6Pe6HZ6IiJRT16q4zlkDJ7ZPwoi3ez1M/j2htdPYTV2WlzRnsAlziud79jQfwrFXv02fQIrbUYqI\nyH60ILC4Lh5OwkgWzF5N8L+jCJUW8U7ZEBr7ChiQsoV6CcAxd5A29LfgT3Q7TBEROQinVyu221Al\nchEuHk7CSJRbVMZHM+ZyyrdXkBAu4bbkhxh+6lCG9mtJSoL+2YiIRIOwxx/zw5PUIkW4sCf2B2q6\nzlrYNBd2rGBboC3PrkphxvyFPMnD1PPms3DEy7wwZARej+55KiISTeJhnLkSuQhnjRdsGMIh8Ggg\nfbWzFvvZ3ZhZEwDn/nF3Wi9eTxjrT8V76dsc1/YEd2MUEZGjEvb4wIZiug1VIhfhrCk/RKGymD0J\n3VIWCrPmrbvpuuIpXg0O523/GH7RqYgR9baSklIHjr0E6rZ0O0wRETlKYY/feRIqBU+Su8HUECVy\nES7s2ZvIlWpQfTXJKy7jjdkbKZr6BLeGXuRT3ykw6lEm9mtNUkDJsohIrNhXDAmWgF+JnLjAmkpX\nE3J0ti2G6f+gJD+HmaGuvJSZzrGhH7jV9x5ZrU5j5JWv4vH53Y5SRESqWUUxJHbHmiuRi3BVKnJy\n5HasJvjiGErLysgM1mOY+ZphBufM73UhTcZOACVxIiIxKR6KIUrkIty+/v1gibuBRBlrLfOXrqD1\ne2MxZUEuDT/Acf0HMr5fGi0Kl0Fac2gaV7ftFRGJOxXFkNhtQ5XIRbgqkx3k0MqKwOMjZHx8tmQb\nL2cs5k/Zt5PiyeHDPk8z8dTR1E8JlG/c2tVQRUSkdsRDG6pELsJVzLiJ3auJn6W0ECbdhl30FiFP\ngG84llnFXbg/YTqdvJsJXvQ6F3cd5XaUIiLigiqzVmOUErkIV9G1Grsn4VGzltL3bsK/7D3eMKcT\nKinljMB8TvLPwiY2xIx9lUAXJXEiIvEqHtpQJXIRrqIsHLsn4dHYmlvED/97mNMy3+XvZRexvNN1\nXD+0PfXb1oOcDZg6zbVci4hInIuHNlSJXIRT1ypQsAM2zYHGXVgXTufpqWtY//0UXvE+weI6Qzj7\nskfo3LRuxfYN2rsXq4iIRIx4aEOVyEW4eFgD50et+QrevAJK8wDYEe5CK7pzb+ALSGtDz+tfh6S6\nP7ETERGJR5rsIK7btwZOPC4/smsdoTcuY4tJ53eltzDAv44rk2cwoPg9aNoXLnwZkuq5HaWIiEQo\nTXYQ18XDGjj7s9YybWUWjd+5nJZlYcZ77mD08IFcMbgtdZN8ULQbkuqDMW6HKiIiEWxfGxrDxRAl\nchGuYlXqGC0Lh8Ow+B3YtZZwl9F8tqMREzJWM2L78/zat4hpPe7nnbMvIjlQ6VRNbuBevCIiEjXU\ntSqui+mrCWvh/Rth4UTndcaD5AdP5Lyk5lzle49Qr4sZeu6tqryJiMhRUdequC6WT8Lg96/hWziR\nF3wX8Xj+cO6pO5lzPZPwlpVBp5F4xzymJE5ERI5aRUUuBosh5ZTIRbhYXAOnNBjmo1mLGD7lTlaH\nO/Ne2mU8em4Xhne7EFOcC8W5UK+1kjgREflZ4mHlByVyEa5iVeoovZrYtQ6m/wOMl9JBN/HmukT+\n/dUq/lD0d1K8RYRHP8YHg4Zg9iZtSfU0E1VERKpFLPdq7aVELsJF9dVEfha8MBpbtJughfD8N1hd\nNo7r63k5s/Q77Cn3MPC4E9yOUkREYtS+Xi3doktcY7zOTxT27wc/vxeTn8UV3odYVZDEM2nPcT8v\nQQHQaRRmyK1uhygiIjHMGi9gorINPVxK5KKBLyGqysJFpSE+nfIZYxe+wbPB0YSa9eTxcZ3o3W4c\nrJ8O4SC0Pxk8XrdDFRGRWGaM04ZG2/CkrT8c9qZK5KKB1x+5ZeG5L8Csf0Oz3hSP+BuvLszjPxmr\n+XfZveT70uh32V+5vmu7iu3bD3MrUhERiUeRnMjNfb68DT0WTn/YWSfVWvjs7sPehRK5aOBNiMyy\n8MrPYdKvCTfuhl38HtsWzeDFkt8zvulGBuxeCWf+i/6VkzgREZHa5kuEYLHbURxo5ecw6TZo0h2W\nvg/bFsFl78CGb5zeq8OkRC4aeAORV5ELh7Ff3ENeSlvG5N5Hk+IlvJD4T6am3IU3pwRaHw/HXuZ2\nlCIiEu8isSIXDsMXf4JGnWF8BmycBRMvhQmDoKwAWh0HfH5Yu/LUZJxSTXwuVuTCISjcVeVXwVCY\nmR+/gMlexh93n0H9unW45RdXkHLjFLxdR8OAa2DcG+DR6SUiIi5zsyIXDh/QhgKwfBJkL4eTfu+0\n8e1Pgl98Cp1HwYBr4dK3DvsrVJGLBv4kd64minPhxTNh20I49lLCZz7BR4u388SUFTy1559k+lpy\n9mU3c3K3ZuXrwDWG85+r/ThFREQOxa2KXFEOvDRmXxvKWf9yJvlZC9MegQYdoMc5Fds37XlUbagS\nuWjgS4Cyotr/3in3w/Yl2O5jMQte441lQe7OHcv4+gvo4tmEPec5WnVvXvtxiYiIHC5foju9Wl86\nbSjdz4YFr0FSfRj1V1gx2Unuxk6oltUblMhFA58LFbnCXdgFr7O13blct+1KLg/mcilv0qdvc7pt\neQdSu2IqX0mIiIhEIl9i7behBTvh+9eg7xUw5nH45Lcw80knlkVvQcNOcMxF1fJVETOIyRhzgTFm\niTEmbIzp/yPbnWaMWWGMWW2MubM2Y3SNLwGCNVCRC4dg9rPw7ZMHTKbI/PI/mGARVy/rR15xkISz\nHiXc5gS6L30Mk59dbVcSIiIiNcqXUDNj5MJhmPNceRu6X6K44FWnCjhwvPN61IPQ4RTnlpUFO+Cc\n/zhLi1WDSKrILQbOBZ4+1AbGGC8wATgV2ATMMcZ8aK1dWjshuqSmria+exo+u8t5vnM1jHmcZVv3\n8OinS7lv/XPM9fTgirNHc2H/Vvi9Huj3PmR+5/TrpzWr/nhERESqW421of85oA0FnCLJ3OehzRBI\n7+78zuuDS96GjTOhYcdqbUMjJpGz1i4DKm6efnADgdXW2rXl204ExgKxncj5a2DGTTgM3z7hLNDb\npAfMmsBjOwfxxIo0Rif8QEuzg8ZnP0L/3m0qPuP1Q1vdG1VERKJITVTkQkGY/qhzl6L0Hk63ad8r\noEVfWPUF7F4Pw++t+hmvD9qdWL1xEEGJ3GFqAWRWer0JGHSojY0x44HxAOnp6WRkZNRocDUhPz+f\nrTt2Uz8/h1n7xZ++LYO2619jcc8/UJB64MK7CcVZdFjzIrvrH8vW5iOrvJeWu4y+eVuZm34xL6w+\nlgfsKxy/9v9Y1eZ+7imeQklhfWbtTMNG4X+zSJafnx+V56Ecmo5pbNHxjC0VbWjuAW1o061f0GLz\nZFZ0+SX5dToe8NnEou10WPM8OfWOYXPLM6q8V3/XAnoX7mBx0iB2e3szyP8yBW/fyg+9H+CYhQ+S\nEmjArKzaaUNrNZEzxkwBmh7krbuttR8czi4O8jt7qI2ttc8AzwD079/fDhs27HDCjCgZGRk0a9kW\n9iykSvzWwhO/huIsBuz5DM6ceOCH3xgH2d/QJPsbugy7AJr32fdW6ceTCRo/N648hl3BACPbXsPY\nLY8xqN7LsHwenHw3J500osb/vniTkZFBNJ6Hcmg6prFFxzO27GtD8xYdeFyf+gPkr6F/4VQYc+2B\nH554KeyYReMds+h0yiVV2lA+eg8CqfQ8+9fOEmF1/khg8u8Ytv2/sHsBnPzHWmtDa3Wyg7V2hLW2\n50F+DieJA6cC16rS65bAluqPNML4kg4sC+/ZArvXOc/Xz4BQWdX3Swtg5WfQ/xcQqOOMhwOKy0L8\nd9oads55m6+DvRjYtS1f3DaUsdf+CTqNdBYpbHoMHP+rWvjDREREatjBxsjlboKsJc7z1V8e+H7h\nLlj+sbM4byAVvnum4r1QEJZ95Cze609yfjfg2v3a0Jtr7u/ZT7R1rc4BOhlj2gGbgYuBS9wNqRYc\nrH8/e7nzOOA6mPMsbF0ILftVvL95PtgQdD4dMNgFr/FR01/x8NTtNMpdxLUJOyk75W4mnNy34jPj\n3oQdK5zJDL5Ajf9ZIiIiNc4bOLANzVrmPB73S5j1FGxfDC0qtaGb5gLWWQMuVAaL/gdn/AMCKbDx\nWyjcCd3Oqtje461oQxt2rLYZqYcjkpYfOccYswkYDHxsjPms/PfNjTGfAFhrg8DNwGfAMuAta+0S\nt2KuNf4kCAedq4C9dqx0Hntf7DxuW1j1M5nfOY8t+7OgydmYYDHzJj1Ng5QAE/pkgsdH6+POrfoZ\njweadFMSJyIiscOXCKFSZ5LfXjvXOI+9zncet3xf9TObZoPxON2pvS5w7n+6YrLz3rJJzj47nVr1\nM3vb0FpM4iCCEjlr7XvW2pbW2gRrbbq1dlT577dYa0dX2u4Ta21na20Ha+1f3Yu4FvkSnMfKVxTZ\nK5xVolv0g4Q02Lao6mcyZ1NSryNXv7mas9/NY6npyO0NvuGDXx5Pyy2fO7NVk+rX1l8gIiLijr1t\naOW7O+xc7bSdzftCcsMDE7nM2c5s1IRUaHM81GkOi99xksFlH0HHEU51LgJETCInP8KX6DxW7sPf\nsxnqtQZjoGmvKolcVm4RhWtn8sHOlszdsJu7Tu9Kp9NvJi1vNZ4Z/4CcDdBjv2qciIhILNrXhlYq\nhuxaCw3aO21o8z6wZUHFe+GQMzyp5UDntccLvc6DVZ/DD69D3hboNqb24v8JSuSiwb6TsNLdHfK3\nQ2q68zy9J2xfQmFJKY9PWclVj75BcmgPie0HM+23J3P9SR3w977AmfTw9V8htWlFOVlERCSW7a3I\nlVVK5PK2Qt2WzvPmfZwxc6WFzuvs5VCaB60GVmw/6Eanq/WDmyCthTN2LkIokYsGB6vI5VUkcuH0\nnlBWwOWPTOTxKau4uKkzkfesM86mfkr5eLeEVDjvWWfxwotfrzixRUREYtneLtCyworf5W2rKIY0\n7+NMDty+2HmdOdt5bDmgYvu6LeCCl6DDcOfRn1jzcR+maJu1Gp/8+5WFwyEoyMamppOxIov/fR1k\nAnBc8hb+cPmZ9PvhM9hTFxp1rrqfLqc7PyIiIvHCn+w8lhY4j8FSKNpVNZEDp3u11UDYNMcZN9eg\nfdX9dB3t/EQYVeSiwd6KXFl512rhTrAhXl5UzNUvzGFluAVh4+OOY0rp16aBczXRcqAzg0ZERCSe\nBcoTub0VuYJs57FOeSJXpxmkNKmY8LC3Df3xW4ZGDLX00WBvWbi0gJzCUp766BsAfsgJ8MczuvHx\nb07F07gzZvsiKMpx+vcr9+2LiIjEK39FGwo4Y8yhoiK3b8LD985CwDtXQasBB+4nQqlrNRqUJ3Jf\n/rCW37xSQp+SZfwyAPddMpy0zuWl36a9YG0GbJwJWGh1yFvQioiIxI/9K3L7ErkmFds07wOrv3Da\nUaiYsRoFVJGLArO3lAScJ/cAAAylSURBVALwwZxV9GyRxoMjnZMvrVGLio3anuicnNP+4dxOpPVx\nboQqIiISWQKpzmPp/olcesU2zfuADcPUh53tW/av3Rh/BlXkItia7Hwem1fMtuxMvkuE6wen0/3M\nQZgZTtdqlZNw7ySGzXOhxzmalSoiIgIVkx3K9natZjmPKZUqcntvz5W9HHqeV3EP1SigilwEyi0q\n48+TljLqsWms2BXihlN7AdCjoRdjjHMSJqT9f3t3H2RVfd9x/P3lYXlYEFkXBDSKKFpBJYqjOBkj\nYPFpotaobZw+mNYM2jzYaWNH2ySYMWnUpJpMbSZqEltjpiYZUwMVNfGhaNoOUokI6xOiEaVsQAWF\nlYd12V//uJewmF323mXvwzn7fs3cuU/nnvOd/d2z53N/5/zO2dNdDNDYDOd+A8ZPh3k31KhySZLq\nzO5tZdceuRFNe1+OctQ4OOfmwgXvz1xQ/Rr3gz1ydWRXZ+LeZa9z6yOr2bytnT86+UOcNuptLpxz\nPPySPQdqdj3/TVenzi/cJElSwQcHO/S0DZ11VeGWMQa5OrF87WYWLGzhufVbOOWIJhZ8bBrHHTKG\nJUuWFC4PMmQEtLcVJm7b2P2XUJIk7W3wEBjcsPeu1a4DHTLOIFdjb7Xt5KaHXuS+5euYcMBwbrvs\nRD52wsTCLtSuGhq7DJ3+DUz8cPWLlSQpi4aO3HvXao7O7GCQq5GOXZ38cOlabnlkNTve38WVZ0zh\n6rlTaRzWQ5PsFeQ2wugJ1StWkqQsa2gsnH4kJXvktP+W/XoTCxa28OJvtnL61GauP386R40fte8P\nNYwq7Frd2Va4z9GXUJKkimpoLG5Dt0DH9lx1hhjkqmjjlh3c+NCL3P/M/zFpzHC+88cncc5xE353\nN2p3dvfI/fb8N/n5EkqSVFHDx8COd/eceiRHx5kb5Krg/V2d3P0/r/GtR1+mvaOTz845ik/POZKR\nDWX8+Xf/mujujNSSJKlnI5pga2sut6EGuQpb+urbLFjYwuoNbcw+ZhzXnz+dI5oby5/RyCZ45/U9\nX8IcdQtLklRRI5tg4/PdX9Uh4wxyFbLpvXb+YfEL/PRX6zh07Aju/NOZzJt2cGm7UbvTOA7eewu2\ntBaej57Yf8VKkpRnI5pg2yZ3rap3nZ2J+5av42sPvUDbjg4+PftIPjd3KiMaBu/fjEc2w853YdMr\nhWHUI8b2T8GSJOXdyLGF88htfg0GD8vVNtQg149Wb9jKF+9vYdlrmzhlchNfveg4jj54dP/MvLG5\ncL9+BYw5FPrasydJ0kAzoqlwv34FHHhYrrahBrl+sL19F7c9/jJ3Pvkqo4YP4esXn8AlMw9l0KB+\n/KI0jivcr38GppzRf/OVJCnvRhaDXOsKOPwjta2lnxnk9tOSlzbypYUtvLFpO5fMPJS/P+9Ymhob\nev9guXYHubSr0CMnSZJKM/Kgwn3HDhh7eG1r6WcGuT7asGUHNzzwPItXtnLkuEZ+NH8Ws6YcVLkF\ndh0qfdDUyi1HkqS8GT9tz+MDD6tdHRVgkCtTZ2fih0+t5RsPv8TOXZ18ft7RzD9jCsOG7Odght6M\nnbzn8RGnV3ZZkiTlye7jzAEmf7R2dVSAQa4MazZu5dqfrmL52s2cPrWZr1x4HJP7ck64voiAU6+C\np26HCSdUZ5mSJOXF9Ivglf+EQ06qdSX9yiBXgvaOTm5/4hX++fE1jBw2mFv/cAYXnXhI388J11dn\n3whnfRUGVbj3T5KkvLn4rsJx5jkasQoGuV6teOMdrr1vJS9t2Mr5MyZx/fnTaB41rDbFDBoEDKrN\nsiVJyrKcbkMNcj3Y1t7BLb9Yzb/8968ZP3o437/8ZM48Nj9ngpYkSdlnkOvGL19+k7/791Ws27yd\nP5l1GNee83uMHj601mVJkiTtxSDXxTvb2vnKA4Xro05pbuQnV57GKUc01bosSZKkbhnkihavbOX6\nRS28s+19PjOncH3U4UMdVCBJkurXgA9yb7ftZMHC51i8qpXjDxnDD/7iVKZNOqDWZUmSJPVqQAe5\nB1e18qWftbBlx/v87dnHcOVHpzBkcP5GtEiSpHyqmyAXEZcCXwaOBU5JKT3dw3SvAVuBXUBHSunk\ncpe16b12Fixs4YGVhV64f7t0FsdMGN334iVJkmqgboIc0AJ8HLijhGnnpJTe6stCHm5p5Ys/a+Hd\n7e9zzVlHc+UZRzLUXjhJkpRBdRPkUkovABW7WsKuzsTV9z7DomfXM33SAdxzxakcO9Fj4SRJUnbV\nTZArQwJ+EREJuCOldGcpH1q9YStbV7XyN/OO5i9n2wsnSZKyL1JK1VtYxKPAhG7e+kJKaWFxmiXA\nNfs4Rm5SSml9RIwHHgE+l1J6sodp5wPzAUYcPGXm7XfeyWEHZOuUIm1tbYwaNarWZaif2J75Y5vm\ni+2ZL1luzzlz5iwvZRxAVYNcKXoLch+Y9stAW0rpH3ubdubMk9Py5b3Osu4sWbKE2bNn17oM9RPb\nM39s03yxPfMly+0ZESUFuUztX4yIxogYvfsxcBaFQRIlfLaSlUmSJFVf3QS5iLgoItYBpwGLI+Ln\nxdcnRcSDxckOBv4rIp4FlgGLU0oP16ZiSZKk2qqbwQ4ppfuB+7t5fT1wXvHxq8CMKpcmSZJUl+ru\nGLlKiYg3gbW1rqMPmoE+nTNPdcn2zB/bNF9sz3zJcnsenlIa19tEAybIZVVEPN2Xq1eoPtme+WOb\n5ovtmS8DoT3r5hg5SZIklccgJ0mSlFEGufpX0pUrlBm2Z/7Ypvlie+ZL7tvTY+QkSZIyyh45SZKk\njDLI1ZmIuDQinouIzojocaRNRJwTES9FxJqIuK6aNap0EdEUEY9ExMvF+7E9TLcrIlYUb4uqXaf2\nrbf1LSKGRcSPi+8/FRGTq1+lylFCm34yIt7ssl5+qhZ1qncRcVdEbIyIbq/0FAX/VGzrlRFxUrVr\nrCSDXP1pAT4OPNnTBBExGPg2cC4wDbgsIqZVpzyV6TrgsZTSVOCx4vPubE8pfbh4u6B65ak3Ja5v\nVwCbU0pHAd8Ebq5ulSpHGf9Df9xlvfxeVYtUOf4VOGcf758LTC3e5gPfqUJNVWOQqzMppRdSSi/1\nMtkpwJqU0qsppXbgR8CFla9OfXAhcHfx8d3AH9SwFvVNKetb13a+Dzgzwis81zH/h+ZISulJYNM+\nJrkQ+EEqWAocGBETq1Nd5RnksukQ4I0uz9cVX1P9OTil1ApQvB/fw3TDI+LpiFgaEYa9+lLK+vbb\naVJKHcC7wEFVqU59Uer/0IuLu+Lui4gPVac0VUCut5l1c63VgSQiHgUmdPPWF1JKC0uZRTevOfy4\nRvbVnmXM5rCU0vqImAI8HhGrUkqv9E+F2k+lrG+uk9lSSnv9B3BvSmlnRFxFocd1bsUrUyXkev00\nyNVASun393MW64Cuvw4PBdbv5zzVR/tqz4jYEBETU0qtxa78jT3MY33x/tWIWAKcCBjk6kMp69vu\nadZFxBBgDPve1aPa6rVNU0pvd3n6XTzuMctyvc1012o2/S8wNSKOiIgG4BOAIx3r0yLg8uLjy4Hf\n6XGNiLERMaz4uBn4CPB81SpUb0pZ37q28yXA48mTdNazXtv0A8dQXQC8UMX61L8WAX9WHL06C3h3\n9yEveWCPXJ2JiIuA24BxwOKIWJFSOjsiJgHfSymdl1LqiIjPAj8HBgN3pZSeq2HZ6tlNwE8i4grg\ndeBSgOKpZa5KKX0KOBa4IyI6Kfy4uimlZJCrEz2tbxFxA/B0SmkR8H3gnohYQ6En7hO1q1i9KbFN\nr46IC4AOCm36yZoVrH2KiHuB2UBzRKwDrgeGAqSUbgceBM4D1gDbgD+vTaWV4ZUdJEmSMspdq5Ik\nSRllkJMkScoog5wkSVJGGeQkSZIyyiAnSZKUUQY5SZKkjDLISZIkZZRBTpIkKaMMcpJUoohojIgX\nI2JZRAzt8vpZEdEZEZ+pZX2SBh6v7CBJZYiIE4GlwDdTStdFxHhgJbAspXRBbauTNNAY5CSpTBHx\n18AtwFnANcDxwIyU0ls1LUzSgGOQk6QyRUQAi4G5QAMwL6X0WG2rkjQQeYycJJUpFX4B3wMMA541\nxEmqFYOcJJUpIiYA3wJ+BcyIiL+qcUmSBiiDnCSVobhb9W6gHZhHIdDdHBEn1LQwSQOSx8hJUhki\n4vPA14G5KaUnIqKBwijWYcDJKaXtNS1Q0oBij5wklah46pGvATemlJ4ASCm1A5cBk4Fba1edpIHI\nHjlJkqSMskdOkiQpowxykiRJGWWQkyRJyiiDnCRJUkYZ5CRJkjLKICdJkpRRBjlJkqSMMshJkiRl\nlEFOkiQpo/4f/Ju7Fayq+soAAAAASUVORK5CYII=\n",
          "text/plain": "<matplotlib.figure.Figure at 0x21738904b00>"
         },
         "metadata": {},
         "output_type": "display_data"
        }
       ]
      }
     },
     "b3b130556aab4d969bdbcfb05287420b": {
      "model_module": "@jupyter-widgets/controls",
      "model_module_version": "1.0.0",
      "model_name": "DescriptionStyleModel",
      "state": {
       "description_width": ""
      }
     },
     "be23e36809674d9dac8e98577b4b02d2": {
      "model_module": "@jupyter-widgets/controls",
      "model_module_version": "1.0.0",
      "model_name": "TextModel",
      "state": {
       "description": "bn:",
       "layout": "IPY_MODEL_42dc6aeecfdc4c27ae3ebfa245568371",
       "placeholder": "-(2 * numpy.pi * n * numpy.sinh(L) * (-1)**n) / ((L**2) + ((numpy.pi * n)**2))",
       "style": "IPY_MODEL_0432dae559d746e8a066cbe64b430026",
       "value": "-(2 * numpy.pi * n * numpy.sinh(L) * (-1)**n) / ((L**2) + ((numpy.pi * n)**2))"
      }
     },
     "bf01c34fa5104eee86c87da5e8e4cd78": {
      "model_module": "@jupyter-widgets/controls",
      "model_module_version": "1.0.0",
      "model_name": "TextModel",
      "state": {
       "description": "a0:",
       "layout": "IPY_MODEL_2b8ff4b673ac4ba59fa8f25d4a4ef475",
       "placeholder": "0",
       "style": "IPY_MODEL_4430ff186d9c43d88815d974648222e9",
       "value": "0"
      }
     },
     "c09b985c04854026815d9b867b5aaa5d": {
      "model_module": "@jupyter-widgets/base",
      "model_module_version": "1.0.0",
      "model_name": "LayoutModel",
      "state": {}
     },
     "c44bae14f12245a48bd4057cbb29a0df": {
      "model_module": "@jupyter-widgets/controls",
      "model_module_version": "1.0.0",
      "model_name": "TextModel",
      "state": {
       "description": "an:",
       "layout": "IPY_MODEL_a58fc5ce7191461bb3978c3410e15460",
       "placeholder": "0",
       "style": "IPY_MODEL_afa5fe0d3bad428c8e37c5ea104f3165",
       "value": "0"
      }
     },
     "c798fc2433684b6085936da4c9c87ce0": {
      "model_module": "@jupyter-widgets/controls",
      "model_module_version": "1.0.0",
      "model_name": "TextModel",
      "state": {
       "description": "a0:",
       "layout": "IPY_MODEL_aa7cd63e8756431cb9b978bc78784efb",
       "placeholder": "0",
       "style": "IPY_MODEL_ed0fbe6b45f241148e4a9d047b792338",
       "value": "0"
      }
     },
     "c7fac287d3c6427ea91286178613f88c": {
      "model_module": "@jupyter-widgets/base",
      "model_module_version": "1.0.0",
      "model_name": "LayoutModel",
      "state": {}
     },
     "c864dedf0ee044b7a0d13ac0e459fb70": {
      "model_module": "@jupyter-widgets/base",
      "model_module_version": "1.0.0",
      "model_name": "LayoutModel",
      "state": {}
     },
     "ca298cdba10143178227deee28af57ff": {
      "model_module": "@jupyter-widgets/controls",
      "model_module_version": "1.0.0",
      "model_name": "TextModel",
      "state": {
       "description": "f:",
       "layout": "IPY_MODEL_26e572c430794fe8987f7ce76946d3f1",
       "placeholder": "numpy.sinh(t)",
       "style": "IPY_MODEL_a0eec0246be8405eb8ddc8f8c97e93cd",
       "value": "numpy.sinh(t)"
      }
     },
     "caaffbe248b24a7c9dc4566e99301e06": {
      "model_module": "@jupyter-widgets/controls",
      "model_module_version": "1.0.0",
      "model_name": "DescriptionStyleModel",
      "state": {
       "description_width": ""
      }
     },
     "cc8971b4bee0498fb20ccc5d525cd097": {
      "model_module": "@jupyter-widgets/controls",
      "model_module_version": "1.0.0",
      "model_name": "SliderStyleModel",
      "state": {
       "description_width": ""
      }
     },
     "cd572e2596ef45c7b6d9de157767a9ff": {
      "model_module": "@jupyter-widgets/base",
      "model_module_version": "1.0.0",
      "model_name": "LayoutModel",
      "state": {}
     },
     "ce707497cb874aba8d9614885154f870": {
      "model_module": "@jupyter-widgets/controls",
      "model_module_version": "1.0.0",
      "model_name": "VBoxModel",
      "state": {
       "_dom_classes": [
        "widget-interact"
       ],
       "children": [
        "IPY_MODEL_1430e1f6cc3948359ba42c20320afef4",
        "IPY_MODEL_bf01c34fa5104eee86c87da5e8e4cd78",
        "IPY_MODEL_d92f7029076e4e529b093420d7893eab",
        "IPY_MODEL_fee3e5d63a224ed7bca5c0cdf8d87cd6",
        "IPY_MODEL_2aa58d399d3b4cf09310f15d656ee3f3"
       ],
       "layout": "IPY_MODEL_760c900c54e647e8b7dd8fc8a9608d2d"
      }
     },
     "cec94593c28240f4a01d497f63b9bb00": {
      "model_module": "@jupyter-widgets/controls",
      "model_module_version": "1.0.0",
      "model_name": "SliderStyleModel",
      "state": {
       "description_width": ""
      }
     },
     "d0635406cab04242a679f043ebf405b4": {
      "model_module": "@jupyter-widgets/controls",
      "model_module_version": "1.0.0",
      "model_name": "IntSliderModel",
      "state": {
       "continuous_update": false,
       "description": "n",
       "layout": "IPY_MODEL_eb6728b4ae3249199fe491c958657b43",
       "min": 1,
       "style": "IPY_MODEL_72f934fc78d94cbba9ad47dd112b7c26",
       "value": 1
      }
     },
     "d092c2faf25f4cd1848616bdb1b81b96": {
      "model_module": "@jupyter-widgets/base",
      "model_module_version": "1.0.0",
      "model_name": "LayoutModel",
      "state": {}
     },
     "d102ab2fd3a64307a520dd543ef9f441": {
      "model_module": "@jupyter-widgets/controls",
      "model_module_version": "1.0.0",
      "model_name": "ToggleButtonModel",
      "state": {
       "description": "Update",
       "layout": "IPY_MODEL_68ba0bf508ec4c9ca974ed6067d4edcb",
       "style": "IPY_MODEL_b3b130556aab4d969bdbcfb05287420b"
      }
     },
     "d1d7169b219b4584a3b36b8e514b1ccd": {
      "model_module": "@jupyter-widgets/controls",
      "model_module_version": "1.0.0",
      "model_name": "ToggleButtonModel",
      "state": {
       "description": "Update",
       "layout": "IPY_MODEL_6938da3e85ab45c1b36d52dcbe01bc34",
       "style": "IPY_MODEL_dc41adec746d4cc4be59322773ae357f"
      }
     },
     "d1f69a97b9dc4821829e7c5536bc68be": {
      "model_module": "@jupyter-widgets/controls",
      "model_module_version": "1.0.0",
      "model_name": "DescriptionStyleModel",
      "state": {
       "description_width": ""
      }
     },
     "d4c7f3ca834e405e863043cdf90e5092": {
      "model_module": "@jupyter-widgets/output",
      "model_module_version": "1.0.0",
      "model_name": "OutputModel",
      "state": {
       "layout": "IPY_MODEL_c864dedf0ee044b7a0d13ac0e459fb70"
      }
     },
     "d56d30cf36454898b13b65144bbdbad2": {
      "model_module": "@jupyter-widgets/base",
      "model_module_version": "1.0.0",
      "model_name": "LayoutModel",
      "state": {}
     },
     "d698a80bb5fe4a29b6426437b1c806a0": {
      "model_module": "@jupyter-widgets/base",
      "model_module_version": "1.0.0",
      "model_name": "LayoutModel",
      "state": {}
     },
     "d6cc51b4880a46a6a8d7b3649e13519e": {
      "model_module": "@jupyter-widgets/base",
      "model_module_version": "1.0.0",
      "model_name": "LayoutModel",
      "state": {}
     },
     "d83dbebc3f6e4dcbb9d3a4483fdfb4db": {
      "model_module": "@jupyter-widgets/controls",
      "model_module_version": "1.0.0",
      "model_name": "DescriptionStyleModel",
      "state": {
       "description_width": ""
      }
     },
     "d8497fd5aebc4ec59bf517a474c23a0f": {
      "model_module": "@jupyter-widgets/base",
      "model_module_version": "1.0.0",
      "model_name": "LayoutModel",
      "state": {}
     },
     "d92f7029076e4e529b093420d7893eab": {
      "model_module": "@jupyter-widgets/controls",
      "model_module_version": "1.0.0",
      "model_name": "TextModel",
      "state": {
       "description": "an:",
       "layout": "IPY_MODEL_5da51f5303994fdf8e096eef88607f57",
       "placeholder": "0",
       "style": "IPY_MODEL_411487f05592406fbe0c0de73d378e06",
       "value": "0"
      }
     },
     "dc41adec746d4cc4be59322773ae357f": {
      "model_module": "@jupyter-widgets/controls",
      "model_module_version": "1.0.0",
      "model_name": "DescriptionStyleModel",
      "state": {
       "description_width": ""
      }
     },
     "ddaea4fc065045ddb68c9e8d54c93fdf": {
      "model_module": "@jupyter-widgets/controls",
      "model_module_version": "1.0.0",
      "model_name": "ToggleButtonModel",
      "state": {
       "description": "Update",
       "layout": "IPY_MODEL_d6cc51b4880a46a6a8d7b3649e13519e",
       "style": "IPY_MODEL_476c04787d7c464cb80adf69f0a14b0e"
      }
     },
     "de4f406eb087487fb43a270206c660b5": {
      "model_module": "@jupyter-widgets/base",
      "model_module_version": "1.0.0",
      "model_name": "LayoutModel",
      "state": {}
     },
     "de6b404b151146268711085280f2aac7": {
      "model_module": "@jupyter-widgets/base",
      "model_module_version": "1.0.0",
      "model_name": "LayoutModel",
      "state": {}
     },
     "e2127e1ddf6d4468af56a9b39146321e": {
      "model_module": "@jupyter-widgets/base",
      "model_module_version": "1.0.0",
      "model_name": "LayoutModel",
      "state": {}
     },
     "e320012b92064870ab144472e5333775": {
      "model_module": "@jupyter-widgets/controls",
      "model_module_version": "1.0.0",
      "model_name": "SliderStyleModel",
      "state": {
       "description_width": ""
      }
     },
     "e4a4c2dbd325483f99a9f8b6bc56956b": {
      "model_module": "@jupyter-widgets/base",
      "model_module_version": "1.0.0",
      "model_name": "LayoutModel",
      "state": {}
     },
     "e5c863a292fa43b3a3814126745e7e37": {
      "model_module": "@jupyter-widgets/base",
      "model_module_version": "1.0.0",
      "model_name": "LayoutModel",
      "state": {}
     },
     "e5d739c0fff1477286e62ec0b73e6c93": {
      "model_module": "@jupyter-widgets/controls",
      "model_module_version": "1.0.0",
      "model_name": "ToggleButtonModel",
      "state": {
       "description": "Update",
       "layout": "IPY_MODEL_d698a80bb5fe4a29b6426437b1c806a0",
       "style": "IPY_MODEL_03e6be739c1d477197a84e9aaf940030"
      }
     },
     "e82bdc823ec24697b523cd9e5c53749e": {
      "model_module": "@jupyter-widgets/controls",
      "model_module_version": "1.0.0",
      "model_name": "IntSliderModel",
      "state": {
       "continuous_update": false,
       "description": "n",
       "layout": "IPY_MODEL_52c3611c6d7e4783bd5222f36670f837",
       "min": 1,
       "style": "IPY_MODEL_8b9e949e45914bddb64a3179a20c04d5",
       "value": 1
      }
     },
     "eb54d862f3e0444892f1047c656eff93": {
      "model_module": "@jupyter-widgets/controls",
      "model_module_version": "1.0.0",
      "model_name": "DescriptionStyleModel",
      "state": {
       "description_width": ""
      }
     },
     "eb6728b4ae3249199fe491c958657b43": {
      "model_module": "@jupyter-widgets/base",
      "model_module_version": "1.0.0",
      "model_name": "LayoutModel",
      "state": {}
     },
     "eb94f43b9a8a4a65b60ab1b93b81fc14": {
      "model_module": "@jupyter-widgets/controls",
      "model_module_version": "1.0.0",
      "model_name": "VBoxModel",
      "state": {
       "_dom_classes": [
        "widget-interact"
       ],
       "children": [
        "IPY_MODEL_d0635406cab04242a679f043ebf405b4",
        "IPY_MODEL_abb5ebebf13b4f609b4205f6834cff91",
        "IPY_MODEL_a2054b98473e45a6a9146ffb7a9bd829",
        "IPY_MODEL_50bf55a3a4994d3aa3138d30260392c6"
       ],
       "layout": "IPY_MODEL_54a0bea95cf04284b3ef1f7a581e6ac7"
      }
     },
     "ed0fbe6b45f241148e4a9d047b792338": {
      "model_module": "@jupyter-widgets/controls",
      "model_module_version": "1.0.0",
      "model_name": "DescriptionStyleModel",
      "state": {
       "description_width": ""
      }
     },
     "ed58e463162643eb9e9d5d83c9287d57": {
      "model_module": "@jupyter-widgets/controls",
      "model_module_version": "1.0.0",
      "model_name": "TextModel",
      "state": {
       "description": "a0:",
       "layout": "IPY_MODEL_41ebe9daae544ed897fd28a4738276f2",
       "placeholder": "0",
       "style": "IPY_MODEL_d83dbebc3f6e4dcbb9d3a4483fdfb4db",
       "value": "0"
      }
     },
     "edaa5997715c4422ab6a3d5ddbafee1c": {
      "model_module": "@jupyter-widgets/controls",
      "model_module_version": "1.0.0",
      "model_name": "IntSliderModel",
      "state": {
       "continuous_update": false,
       "description": "n",
       "layout": "IPY_MODEL_2cff2c232571467c8d6f8c268ab7b6ac",
       "min": 1,
       "style": "IPY_MODEL_cc8971b4bee0498fb20ccc5d525cd097",
       "value": 1
      }
     },
     "edc8a39f92694a74a2cf9e7fab33cdfc": {
      "model_module": "@jupyter-widgets/controls",
      "model_module_version": "1.0.0",
      "model_name": "SliderStyleModel",
      "state": {
       "description_width": ""
      }
     },
     "ef3732ab9cea48529615f82f0bcdb28a": {
      "model_module": "@jupyter-widgets/output",
      "model_module_version": "1.0.0",
      "model_name": "OutputModel",
      "state": {
       "layout": "IPY_MODEL_a3ecfcb1c7c247ecaca61e3940d90c27"
      }
     },
     "f09d3525d1fa499cb86ec88c8a2fee9d": {
      "model_module": "@jupyter-widgets/base",
      "model_module_version": "1.0.0",
      "model_name": "LayoutModel",
      "state": {}
     },
     "f3237c65284a4756be3209751b91eb49": {
      "model_module": "@jupyter-widgets/controls",
      "model_module_version": "1.0.0",
      "model_name": "DescriptionStyleModel",
      "state": {
       "description_width": ""
      }
     },
     "f46f69473cef4ae8b11a1cef314bfc10": {
      "model_module": "@jupyter-widgets/base",
      "model_module_version": "1.0.0",
      "model_name": "LayoutModel",
      "state": {}
     },
     "f569a1dde85b4e1986885d6dad827122": {
      "model_module": "@jupyter-widgets/output",
      "model_module_version": "1.0.0",
      "model_name": "OutputModel",
      "state": {
       "layout": "IPY_MODEL_f997f40e7fc74edcbcd08081c1f55e33",
       "outputs": [
        {
         "data": {
          "image/png": "iVBORw0KGgoAAAANSUhEUgAAAngAAAFFCAYAAAB/m5DUAAAABHNCSVQICAgIfAhkiAAAAAlwSFlz\nAAALEgAACxIB0t1+/AAAADl0RVh0U29mdHdhcmUAbWF0cGxvdGxpYiB2ZXJzaW9uIDIuMS4wLCBo\ndHRwOi8vbWF0cGxvdGxpYi5vcmcvpW3flQAAIABJREFUeJzt3Xd8leX9//HXJ4EkQNgj7L2XjIBa\nrQYVxVGodQGtq1q01dq6sVr1S6tirVqtE62zVkSsigKionHiAGTPEPbeEEbm5/dHjv2lNGFIkvs+\n57yfjwcPcu5zneQdL07y9pz7vi5zd0REREQkdiQEHUBEREREypcKnoiIiEiMUcETERERiTEqeCIi\nIiIxRgVPREREJMao4ImIiIjEGBU8ERERkRijgiciIiISY1TwRERERGJMlaADBK1BgwbeunXroGMc\nsT179lCjRo2gY0g50pzGFs1nbNF8xoaNu/azaXcuyYlG20Y1qZJgQUc6YjNmzNji7g0PNS7uC17r\n1q2ZPn160DGOWGZmJhkZGUHHkHKkOY0tms/YovmMbnvzCrhx3Gwmz9vAdX2bc3r9bQw8ZUDQsX4Q\nM1t5OOP0Fq2IiIjErLU79nH+k9OYMn8Dd5zdhb+c35OqUfjK3ZGK+1fwREREJDbNWLmNq16eQW5+\nEf+4rB8DOjUKOlKlUcETERGRmPP69NXc/uY8mtZJYeyIdNo3qhl0pEqlgiciIiIxI7+wiHsmLuSF\nL1dwQvv6PD68D3WqJwUdq9Kp4ImIiEhM2Lw7l2v+NZNvlm/jyhPbMPLMzlRJjM/LDVTwREREJOrN\nXr2Dq/85g+1783hkaC+G9GoWdKRAqeCJiIhIVBs3fTV3vDWPhqnJjL/6R3RvVjvoSIFTwRMREZGo\nlFdQxJ8nLuClaSs5oX19/j6sD/VqxN/5dqVRwRMREZGos3l3Lr95ZQbfrtjOiJPacssZneL2fLvS\nqOCJiIhIVPlu1XZ+/c+Z7NiXx6PDejP4mKZBRwodFTwRERGJGq99u4o/vjWfRrWS+fevT6Br01pB\nRwolFTwREREJvf35hfzfOwt49ZtV/LhDAx4d2pu6Ot+uTCp4IiIiEmqrt+3lN6/MZO7anfw6ox03\nDuyo8+0OQQVPREREQuvjRZv4/WuzKHLnmUvSGdg1LehIUUEFT0REREKnsMh55MMlPPpRFl2a1OKp\nX/ShVf0aQceKGip4IiIiEipbc3L5/Wuz+GzpFi7o25w//bQ7KVUTg44VVVTwREREJDRmrtrONa/M\nZOuePO4/rwcX9WsZdKSoFLozFM3sOTPbZGbzyrjfzOxRM8syszlm1qfEfZea2dLIn0srL7WIiIgc\nDXfnxS9XcNHT06iSaPz71z9SuTsKYXwF7wXgMeClMu4/E+gQ+XMs8CRwrJnVA+4C0gEHZpjZBHff\nXuGJRURE5Afbk1vAbf+ey4TZ6zi1cyMeurAXtatXDTpWVAtdwXP3T82s9UGGDAFecncHvjKzOmbW\nBMgAPnD3bQBm9gEwCHi1YhOLiIjID5W1aTe//udMlm3O4eYzOvHrk9uRkGBBx4p6oSt4h6EZsLrE\n7TWRY2Ud/x9mNgIYAZCWlkZmZmaFBK1IOTk5UZlbyqY5jS2az9ii+awYX6zN58UFeSQnwo19U+hm\na/j00zUV/nXjYT6jseCVVuv9IMf/96D7GGAMQHp6umdkZJRbuMqSmZlJNOaWsmlOY4vmM7ZoPsvX\n3rwC7nx7PuPnruHYNvV4dFhv0mqlVNrXj4f5jMaCtwZoUeJ2c2Bd5HjGAcczKy2ViIiIHNKSjbu5\n5pWZZG3O4bpT2nPdqR20K0UFiMb/ohOASyJX0x4H7HT39cAU4HQzq2tmdYHTI8dEREQkYO7OuOmr\nGfzY52zfm8/LvzyWG07vpHJXQUL3Cp6ZvUrxK3ENzGwNxVfGVgVw96eAScBZQBawF7g8ct82M/sT\n8G3kU436/oILERERCc6e3AL++NY8/v3dWn7Urj5/G9qLRjUr7y3ZeBS6gufuww5xvwPXlHHfc8Bz\nFZFLREREjtyiDbu45pWZLN+yh+tP68i1p7QnUVfJVrjQFTwRERGJfu7O2G9Xc/eE+dSqVpVXrjyO\n49vVDzpW3FDBExERkXKVk1vA7W/O5e1Z6/hxhwY8fFEvGqQmBx0rrqjgiYiISLmZvXoH1439jtXb\n9mrh4gCp4ImIiMhRKypynv40mwffX0yjmsmMHXE8/dvUCzpW3FLBExERkaOycdd+bhg3iy+ytnJ2\njybce24P7SUbMBU8ERER+cE+XLCRm8fPZn9+Efef14ML01tgprdkg6aCJyIiIkdsf34h901ayIvT\nVtK1SS0eHdab9o1Sg44lESp4IiIickSWbNzNb//1HYs37uaKE9twy6BOJFdJDDqWlKCCJyIiIofF\n3fnn16v487sLqJlShRcu70dGp0ZBx5JSqOCJiIjIIW3fk8etb8zh/QUbOaljQx684Bga1tTadmGl\ngiciIiIH9fnSLdz0+my27snljrO78MsT2mhtu5BTwRMREZFS7c8v5P73FvH8Fyto17AGz156At2b\n1Q46lhwGFTwRERH5H/PX7eT3Y2exdFMOlx7fipFndqFaki6kiBYqeCIiIvIfhUXOM58V70hRt3oS\nL/6yPyd3bBh0LDlCKngiIiICwJrte7lh3Gy+Wb6NM7s35t5ze1C3RlLQseQHUMETERGJc+7Ov2eu\n5e4J83HgwQuO4Wd9mmlHiiimgiciIhLHtu/J4/a35jJp7gb6ta7LQxf2okW96kHHkqOkgiciIhKn\nPl2ymZten832vXncMqgTV53UjkQtfxITVPBERETizN68Av7y3mJe+HIF7Rul8txl/bT8SYxRwRMR\nEYkjM1Zu48Zxs1mxdS+Xn9CaWwd1JqWqlj+JNSp4IiIicWB/fiEPf7CEMZ9l06xONV791XEc365+\n0LGkgqjgiYiIxLg5a3Zw47jZLN2Uw/BjW/KHs7qQmqwKEMtCN7tmNgh4BEgEnnX30Qfc/zAwIHKz\nOtDI3etE7isE5kbuW+XugysntYiISPjkFRTx94+W8kTmMhqmJmvR4jgSqoJnZonA48BAYA3wrZlN\ncPcF349x9+tLjP8t0LvEp9jn7r0qK6+IiEhYLVy/ixvGzWbh+l2c16c5d/6kK7WrVQ06llSSUBU8\noD+Q5e7ZAGY2FhgCLChj/DDgrkrKJiIiEnoFhUU89ckyHpm6lNrVknjmknQGdk0LOpZUMnP3oDP8\nh5mdDwxy9ysjty8GjnX3a0sZ2wr4Cmju7oWRYwXALKAAGO3ub5XxdUYAIwDS0tL6jh07tiK+nQqV\nk5NDampq0DGkHGlOY4vmM7ZEy3yuyynimbm5LN9ZRP/GiVzSNZnUJK1rd6Bomc/SDBgwYIa7px9q\nXNhewSvtX2FZDXQoMP77chfR0t3XmVlb4CMzm+vuy/7nE7qPAcYApKene0ZGxlHGrnyZmZlEY24p\nm+Y0tmg+Y0vY57OwyHnu8+U88NViaiQl8tjwYzinZ9OgY4VW2OezPISt4K0BWpS43RxYV8bYocA1\nJQ+4+7rI39lmlknx+Xn/U/BERERixdKNu7l5/Bxmrd7BwK5p3HtuDxrWTA46lgQsbAXvW6CDmbUB\n1lJc4oYfOMjMOgF1gWkljtUF9rp7rpk1AE4A/lIpqUVERCpZfmERYz7N5pEPl1IjOZFHhvZi8DFN\nMdNbshKygufuBWZ2LTCF4mVSnnP3+WY2Cpju7hMiQ4cBY/2/TyDsAjxtZkVAAsXn4JV1cYaIiEjU\nmr9uJze/PocF63dxds8m/N/gbjRI1at28v+FquABuPskYNIBx+484PbdpTzuS6BHhYYTEREJUG5B\nIY9/lMUTmcuoUz2Jp37Rh0HdmwQdS0IodAVPRERE/td3q7Zzy/g5LN2Uw8/6NOPOc7pSp3pS0LEk\npFTwREREQmx/fiEPfbCEZz/LJq1WCs9f3o8BnRoFHUtCTgVPREQkpL5Zvo1b35jD8i17GH5sS247\nszM1U7QbhRyaCp6IiEjI7Mkt4C/vLeLFaStpUa8ar1x5LCe0bxB0LIkiKngiIiIh8vHiTdzx5jzW\n7dzH5Se05uYzOlE9Sb+u5cjoX4yIiEgIbN6dy6h3F/DO7HW0b5TK61cdT3rrekHHkiilgiciIhIg\nd+f1GWu4Z+JC9uUVcv1pHbk6oy3JVRKDjiZRTAVPREQkICu27OEPb87ly2Vb6de6Lvf9rAftG9UM\nOpbEABU8ERGRSvb9NmOPTl1KUmIC95zbnWH9WpKQoG3GpHyo4ImIiFSiWat3MPKNOSzasJszuzfm\n7sHdSKuVEnQsiTEqeCIiIpUgJ7eAB99fzAtfriCtZgpjLu7L6d0aBx1LYpQKnoiISAX7aNFG7nhz\nHut37efi41px8xmdtGCxVCgVPBERkQqyafd+Rr2zgHfnrKdjWirjhx9P31Za+kQqngqeiIhIOSss\ncl75eiUPvLeY3IIibhjYkatPbkdSlYSgo0mcUMETEREpR3PX7OT2t+YyZ81OTmzfgD/9tDttGtQI\nOpbEGRU8ERGRcrBrfz4Pvb+El6atoH5qMo8O681PejbBTEufSOVTwRMRETkK7s7EuesZ9c4CNufk\ncvFxrbjx9E7UrqaLKCQ4KngiIiI/0Mqte/jj2/P5dMlmujerxTOXpHNMizpBxxJRwRMRETlSuQWF\njPkkm8c+zqJqYgJ3/6QrFx/fmkTtRCEhoYInIiJyBL7M2sIdb88je/Mezu7ZhDvP6aqdKCR0VPBE\nREQOw+bdudw7aSFvfreWlvWq8+Iv+3Nyx4ZBxxIplQqeiIjIQRQWOR+tyue6zEz25Rdy3Snt+c2A\n9qRUTQw6mkiZQrfiopkNMrPFZpZlZiNLuf8yM9tsZrMif64scd+lZrY08ufSyk0uIiKxZuaq7Qx5\n/HNeWpBHt6a1mfy7k7jh9E4qdxJ6oXoFz8wSgceBgcAa4Fszm+DuCw4Y+pq7X3vAY+sBdwHpgAMz\nIo/dXgnRRUQkhmzNyeX+9xYxbvoa0molc/Uxydw69FitaSdRI1QFD+gPZLl7NoCZjQWGAAcWvNKc\nAXzg7tsij/0AGAS8WkFZRUQkxhQWOf/6eiUPTFnM3rxCrjqpLb89tQPTp32ucidRJWwFrxmwusTt\nNcCxpYw7z8xOApYA17v76jIe26y0L2JmI4ARAGlpaWRmZh598kqWk5MTlbmlbJrT2KL5jD5Z2wt5\neWEeK3cV0bV+Ar9IT6Fp9Y1Mn7ZR8xlj4mE+w1bwSvvfIz/g9jvAq+6ea2ZXAy8CpxzmY4sPuo8B\nxgCkp6d7RkbGDw4clMzMTKIxt5RNcxpbNJ/RY0tOLqMnL2L8jDU0rpXC48O7claPxv/1ip3mM7bE\nw3yGreCtAVqUuN0cWFdygLtvLXHzGeD+Eo/NOOCxmeWeUEREYkJBYRH//GolD36whP35hVx9cjt+\ne0p7aiSH7VejyJEL27/ib4EOZtYGWAsMBYaXHGBmTdx9feTmYGBh5OMpwL1mVjdy+3TgtoqPLCIi\n0Wb6im388e35LFy/ixPbN+Duwd1o3yg16Fgi5SZUBc/dC8zsWorLWiLwnLvPN7NRwHR3nwBcZ2aD\ngQJgG3BZ5LHbzOxPFJdEgFHfX3AhIiICxYsV3zd5If+euZamtVN44ud9OLN7Y11AITEnVAUPwN0n\nAZMOOHZniY9vo4xX5tz9OeC5Cg0oIiJRJ7+wiJenreThD5awv6CQ32S049pT2lM9KXS/BkXKhf5l\ni4hITPts6WZGvbOApZty+HGHBvzf4G60bai3YyW2qeCJiEhMWrV1L3+auIAPFmykZb3qjLm4LwO7\npuntWIkLKngiIhJT9uQW8PjHWTz72XKqJBq3DOrEFSe2IbmKtheT+KGCJyIiMcHdeWvWWkZPXsTG\nXbmc27sZI8/sTFqtlKCjiVQ6FTwREYl6c9bs4O4J85m5agc9m9fmiZ/3pW+ruod+oEiMUsETEZGo\ntSUnlwfeW8y4GaupXyOJv5zXk/P7NichQefZSXxTwRMRkaiTV1DES9NW8MiHS9mXX8iVJ7bht6d2\noFZK1aCjiYSCCp6IiESVzMWbGPXuArI37yGjU0P+eE5X2mnZE5H/ooInIiJRYfmWPfz53QVMXbSJ\nNg1q8Nxl6ZzSOS3oWCKhpIInIiKhtnNfPo99tJQXvlxBcpVEbjuzM5ef0IakKglBRxMJLRU8EREJ\npYLCIl79ZhUPf7iU7XvzuKBvc246vRONtOyJyCGp4ImISOhkLt7EPRMXsnRTDse1rccdZ3ele7Pa\nQccSiRoqeCIiEhpZm3bz54kLyVy8mVb1q/P0xX05XduLiRwxFTwREQnctj15/O3DJbzy9SqqJyVy\n+1lduORHrbS9mMgPpIInIiKB+c96dlOXsjevkOH9W/L70zpQPzU56GgiUU0FT0REKp278/6Cjdw3\naSErtu7l5I4NuePsLnRIqxl0NJGYoIInIiKVav66nfz53YVMy95K+0apvHB5PzI6NQo6lkhMUcET\nEZFKsWn3fh6csoRxM1ZTp1pVRg3pxvD+LamSqPXsRMqbCp6IiFSo/fmF/OPz5TzxcRZ5hUVccUIb\nfntKB2pX176xIhVFBU9ERCqEu/POnPXcP3kRa3fs4/Suadx2VhfaNKgRdDSRmKeCJyIi5e7r7K3c\nO2khs9fspGuTWjxwQU9+1K5B0LFE4oYKnoiIlJvszTmMnryI9xdspHGtFP56wTGc27sZiQlaqFik\nMoWu4JnZIOARIBF41t1HH3D/DcCVQAGwGfilu6+M3FcIzI0MXeXugystuIhIHNuak8sjU5fyr69X\nkVwlgZtO78gVJ7alWpIWKhYJQqgKnpklAo8DA4E1wLdmNsHdF5QY9h2Q7u57zezXwF+AiyL37XP3\nXpUaWkQkju3PL+S5L5bzxMfL2JdfyLD+LfjdqR1pWFMLFYsEKVQFD+gPZLl7NoCZjQWGAP8peO7+\ncYnxXwG/qNSEIiJCUZHz1qy1/HXKYtbt3M9pXdIYeWZn2jdKDTqaiBC+gtcMWF3i9hrg2IOMvwKY\nXOJ2iplNp/jt29Hu/lb5RxQRiW9fZm3hnkkLmb9uFz2a1ebBC3txfLv6QccSkRLCVvBKOwvXSx1o\n9gsgHTi5xOGW7r7OzNoCH5nZXHdfVspjRwAjANLS0sjMzDzq4JUtJycnKnNL2TSnsSUW53NtThHj\nFucxe3Mh9VOMq3omc2yTfHJXzyVz9aEfH81icT7jWTzMZ9gK3hqgRYnbzYF1Bw4ys9OA24GT3T33\n++Puvi7yd7aZZQK9gf8peO4+BhgDkJ6e7hkZGeX3HVSSzMxMojG3lE1zGltiaT437d7P3z5cythv\nVlEjqQojz+zMZT9qTUrV+LmAIpbmU+JjPsNW8L4FOphZG2AtMBQYXnKAmfUGngYGufumEsfrAnvd\nPdfMGgAnUHwBhoiI/AB78wp49rPlPPXJMvIKirjk+NZcd2oH6tVICjqaiBxCqAqeuxeY2bXAFIqX\nSXnO3eeb2ShgurtPAB4AUoHXzQz+/3IoXYCnzawISKD4HLwFpX4hEREpU2GR88aMNTz4wWI27spl\nULfG3HpmZ+1AIRJFQlXwANx9EjDpgGN3lvj4tDIe9yXQo2LTiYjEtk+XbObeSQtZtGE3vVrU4bHh\nfejXul7QsUTkCIWu4ImISOVbsG4Xo99bxKdLNtOiXjUeG96bs3s0IfJOiYhEGRU8EZE4tmb7Xh56\nfwlvzlpLrZSq3HF2Fy4+vhXJVeLnAgqRWKSCJyISh3bszePxj7N48cuVYDDipLb85uT21K5eNeho\nIlIOVPBEROLI/vxCnv9iBU9kZpGTW8B5fZpzw8CONK1TLehoIlKOVPBEROJAYZHzxsw1PPzBEtbv\n3M+ATg259czOdG5cK+hoIlIBVPBERGKYu/PRok3c/94ilmzM4ZgWdXhIW4uJxDwVPBGRGPXdqu3c\nN3kR3yzfRuv61Xl8eB/O6tFYV8aKxAEVPBGRGLN8yx4emLKISXM30CA1iT8N6cbQ/i2pmpgQdDQR\nqSQqeCIiMWLz7lwembqEsd+sJqlKAr87tQO/Oqktqcn6US8Sb/SsFxGJcjm5BTzzaTbPfJZNXkER\nw/q35LentqdRzZSgo4lIQFTwRESiVH5hEWO/WcUjU5eyJSePs3o05uYztGesiKjgiYhEHXdn0twN\nPDBlESu27qV/m3o8c0lneresG3Q0EQmJwy54ZvYF8BQwzt1zKy6SiIiU5avsrdw3eRGzV++gY1oq\nz12WzoBOjXRlrIj8lyN5BS8feBH4m5m9CIxx90UVE0tEREpatGEXf3lvMR8t2kST2in85fyenNen\nOYkJKnYi8r8Ou+C5e4aZdQKuAi4BfmdmnwFPAv929/wKyigiErfW7djHQx8s4Y2Za0hNrsLIMztz\n2Y9ak1I1MehoIhJiR3QOnrsvBm4ws9uAC4ERwL+ALWb2PMWv6mWXf0wRkfiyc28+T3ySxQtfrMAd\nrjyxDdcMaE+d6klBRxORKPCDLrKInIP3spnNBx4CTgJuAW4yszeB37r7hvKLKSISH/bnF/LytJU8\n9nEWu/bnc26vZtxwekea160edDQRiSJHXPDMrBowDLga6AssAn4HvA78BLgbeAU4tdxSiojEuMIi\n563v1vLQB0tYu2MfJ3dsyK2DOtO1aa2go4lIFDqSq2h7UHz+3c+BGsDbwK3u/nGJYc+Y2QaKy56I\niByCu5O5ZDP3T17Eog276dGsNg+c35MftW8QdDQRiWJH8grebGAd8DeKz7VbX8a4LGDa0QYTEYl1\ns1bvYPTkhXyVvY1W9avz6LDenNOjCQm6MlZEjtKRFLwLgLfcvfBgg9x9ITDgqFKJiMSw7M05/PX9\nxUyau4EGqUmMGtKNof1aklQlIehoIhIjjmSZlDcqMoiISKzbtGs/f5u6lNe+XU1KlQR+f1oHrvxx\nW1KTtamQiJQv/VQREalgu/bnM+aTbP7x+XIKioq4+LhWXHtKexqkJgcdTURiVOgKnpkNAh4BEoFn\n3X30AfcnAy9RfAXvVuAid18Rue824AqgELjO3adUYnQRkf+SW1C85MnjH2exfW8+g49pyo2nd6RV\n/RpBRxORGBeqgmdmicDjwEBgDfCtmU1w9wUlhl0BbHf39mY2FLgfuMjMugJDgW5AU+BDM+t4qHMG\nRUTKW2GR88XafG7/6yes3bGPH3dowK2DOtO9We2go4lInAhVwQP6A1nf74ZhZmOBIUDJgjeE4rX2\nAMYDj1nxLttDgLGRRZiXm1lW5PMd/IreLUvh+bPL83uoFL127IDldYKOIeVIcxr9HGfHvnxWb93L\nqfmFDE5KpGXLGtROqArvB51Ojoaen7ElHuYzbAWvGbC6xO01wLFljXH3AjPbCdSPHP/qgMc2K+2L\nmNkIirdZo3uTZHbs2FEu4StTYWFhVOaWsmlOo9u+AmfzviL2FkDVBGhcDWqnOJ67hx25QaeTo6Xn\nZ2yJh/kMW8ErbfEnP8wxh/PY4oPuY4AxAOnp6V7n+i+OJGMoZGZmkpGREXQMKUea0+i0bHMOf52y\nmMnzipc8ue7MDgzt15IvP/9U8xlD9PyMLVE9nzcc3jqZYSt4a4AWJW43p3hx5dLGrDGzKkBtYNth\nPlZEpFxoyRMRCbOw/ST6FuhgZm2AtRRfNDH8gDETgEspPrfufOAjd3czmwD8y8weovgiiw7AN5WW\nXETigpY8EZFoEKqCFzmn7lpgCsXLpDzn7vPNbBQw3d0nAP8AXo5cRLGN4hJIZNw4ii/IKACu0RW0\nIlJetOSJiESTUBU8AHefBEw64NidJT7eT/G2aaU99h7gngoNKCJxpbDIeXvWWh58f4mWPBGRqBG6\ngiciEgbuTuaSzdw/eRGLNuyme7Na3H9eT07s0CDoaCIih6SCJyJygFmrdzB68kK+yt5Gy3rV+fuw\n3pzdowkJCYd39ZqISNBU8EREIg5c8mTUkG4M7deSpCoJQUcTETkiKngiEve05ImIxBr99BKRuFVy\nyZP8wiJ+cWxLrj2lAw1raskTEYluKngiEne05ImIxDoVPBGJG1ryRETihQqeiMS80pY8GX1eD37c\noWHQ0UREKoQKnojENC15IiLxSAVPRGLSii17eGDKYibOXU/9GlryRETiiwqeiMSUrTm5/P2jLP75\n1UqqJiZw3akdGHGSljwRkfiin3giEhP25RXy3BfLeTJzGfvyC7moXwt+f2oHGtVKCTqaiEilU8ET\nkahWWOSMn7Gahz5YwsZduQzsmsatgzrRvlHNoKOJiARGBU9EopK78/HiTYyevIglG3Po3bIOjw3v\nQ7/W9YKOJiISOBU8EYk6s1fv4N5JC/l6+TZa16/Okz/vw6DujTHTlbEiIqCCJyJRZOXW4itj353z\n/6+MHda/JVUTdWWsiEhJKngiEnrb9uTx6NSlvPL1SqokJHDdKe351UltqZlSNehoIiKhpIInIqH1\n/ZWxT2UuY09eQfGVsad1JE1XxoqIHJQKnoiETmGR88bMNTz0/hI27NrPaV2Kr4ztkKYrY0VEDocK\nnoiEhruTuXgzoycvYvHG3RzTog6PDO3FsW3rBx1NRCSqqOCJSCjMWbOD+yYtYlr2VlrXr84TP+/D\nmboyVkTkB1HBE5FArd62lwemLGbC7HXUr5HE/w0uvjJWe8aKiPxwoSl4ZlYPeA1oDawALnT37QeM\n6QU8CdQCCoF73P21yH0vACcDOyPDL3P3WZWRXUSO3M69+TyemcULX6wgIQF+e0p7RujKWBGRchGa\nggeMBKa6+2gzGxm5fesBY/YCl7j7UjNrCswwsynuviNy/83uPr4SM4vIEcorKOKVr1fyyNSl7NyX\nz/l9mnPj6Z1oXFtXxoqIlJcwFbwhQEbk4xeBTA4oeO6+pMTH68xsE9AQ2IGIhJq7M2X+Ru5/bxHL\nt+zhxPYN+MNZXejatFbQ0UREYo65e9AZADCzHe5ep8Tt7e5e9yDj+1NcBLu5e1HkLdrjgVxgKjDS\n3XPLeOwIYARAWlpa37Fjx5bfN1JJcnJySE1NDTqGlKNYntPsnYWMXZTHku1FNE01LuqURM8GiTF9\nAUUsz2c80nzGlmiezwEDBszgGk9mAAAVnElEQVRw9/RDjavUgmdmHwKNS7nrduDFwy14ZtaE4lf4\nLnX3r0oc2wAkAWOAZe4+6lCZ0tPTffr06Uf6rQQuMzOTjIyMoGNIOYrFOV2zvfgCirdnraNBahLX\nD+zIRektqBIHW4vF4nzGM81nbInm+TSzwyp4lfoWrbufVtZ9ZrbRzJq4+/pIWdtUxrhawETgju/L\nXeRzr498mGtmzwM3lWN0ETkCu/bn82TmMv7x+XIMuHZAe67OaEdqcpjOChERiV1h+mk7AbgUGB35\n++0DB5hZEvAm8JK7v37Afd+XQwN+Csyr+MgiUlJ+YRFjv1nFwx8uZduePH7Wuxk3ndGJpnWqBR1N\nRCSuhKngjQbGmdkVwCrgAgAzSweudvcrgQuBk4D6ZnZZ5HHfL4fyipk1BAyYBVxdyflF4pa7M3Xh\nJu6bvJBlm/dwXNt63HF2V7o3qx10NBGRuBSagufuW4FTSzk+Hbgy8vE/gX+W8fhTKjSgiJRq3tqd\n3DNxIdOyt9K2YQ2evSSdU7s0iukLKEREwi40BU9Eosv6nft4YMpi3vxuLXWrJzFqSPEOFFXj4AIK\nEZGwU8ETkSOSk1vA058s45nPsilyuOqkdvxmQDtqaQcKEZHQUMETkcNSVOSMn7mGB6YsZvPuXIb0\naspNp3eiRb3qQUcTEZEDqOCJyCF9nb2VP01cwLy1u+jdsg5jLu5L75ZlrkMuIiIBU8ETkTKt3raX\n+yYvZNLcDTStncKjw3rzk55NdAGFiEjIqeCJyP/IyS3g8Y+z+Mfny0k044aBHfnVj9tSLSkx6Ggi\nInIYVPBE5D8Ki5zxM1bzwJQlbMnJ5Wd9mnHLGZ1pXDsl6GgiInIEVPBEBICvsrfyp3cXMH/dLvq2\nqss/Lk3nmBZ1Dv1AEREJHRU8kTi3amvxeXaT522gWZ1q/H1Yb87ReXYiIlFNBU8kTu3en8/jHy/j\nuc+Xk5hg3DiwI786qS0pVXWenYhItFPBE4kzhUXO69NX89f3F7MlJ4/z+jTnlkGdSKul8+xERGKF\nCp5IHJm2bCuj3l3AwvW7SG9Vl+cu60fP5jrPTkQk1qjgicSBtTv2ce/EhUycu55mdarx2PDenN1D\n59mJiMQqFTyRGLY/v5CnP8nmyU+yALj+tI5cdbLOsxMRiXUqeCIxyN2ZMn8Df3p3IWt37OPsnk34\nw1ldaFanWtDRRESkEqjgicSYJRt383/vzOeLrK10blyTV391HMe3qx90LBERqUQqeCIxYue+fP72\n4RJemraS1OQqjBrSjeH9W1IlMSHoaCIiUslU8ESiXGGRM276ah6Yspjte/MY3r8lN57eiXo1koKO\nJiIiAVHBE4liM1Zu464J85m3dhf9Wtflrp/0p3uz2kHHEhGRgKngiUShjbv2M3ryIt78bi2Na6Xw\nyNBeDD6mqZY9ERERQAVPJKrkFhTy3Ocr+PtHSykodK4Z0I7fZLSnRrKeyiIi8v/pt4JIlPh0yWbu\nnjCf7C17OK1LGn88pwut6tcIOpaIiIRQaAqemdUDXgNaAyuAC919eynjCoG5kZur3H1w5HgbYCxQ\nD5gJXOzueRWfXKRirduxjz9PXMCkuRtoXb86z1/ejwGdGgUdS0REQixM6yeMBKa6ewdgauR2afa5\ne6/In8Eljt8PPBx5/HbgioqNK1Kx8gqKeDJzGac++AlTF27ixoEdee/3J6nciYjIIYXmFTxgCJAR\n+fhFIBO49XAeaMVnlp8CDC/x+LuBJ8szoEhl+SJrC3e+PY9lm/cwsGsad57TlRb1qgcdS0REooS5\ne9AZADCzHe5ep8Tt7e5et5RxBcAsoAAY7e5vmVkD4Ct3bx8Z0wKY7O7dy/haI4ARAGlpaX3Hjh1b\n/t9QBcvJySE1NTXoGFKOcnJyyK9SnVcX5fHNhkIaVjN+3iWJXo3C9P9hcrj0HI0tms/YEs3zOWDA\ngBnunn6ocZX6m8PMPgQal3LX7UfwaVq6+zozawt8ZGZzgV2ljCuzubr7GGAMQHp6umdkZBzBlw+H\nzMxMojG3lC6/sIg7XprKu8vzKChyrj+tI1ed3JaUqolBR5MfSM/R2KL5jC3xMJ+VWvDc/bSy7jOz\njWbWxN3Xm1kTYFMZn2Nd5O9sM8sEegNvAHXMrIq7FwDNgXXl/g2IVIAvl23hrrfns3RTHqd1acSd\n53SjZX29HSsiIj9cmC6ymABcGvn4UuDtAweYWV0zS4583AA4AVjgxe8zfwycf7DHi4TJxl37ue7V\n7xj+zNfsLyjkd32SefbSfip3IiJy1MJU8EYDA81sKTAwchszSzezZyNjugDTzWw2xYVutLsviNx3\nK3CDmWUB9YF/VGp6kcNUUFjEs59lc+qDn/De/A1cd2oHPrj+ZHrrXDsRESknofmN4u5bgVNLOT4d\nuDLy8ZdAjzIenw30r8iMIkfru1Xb+cOb81i4fhcZnRpy90+60bqBFisWEZHyFZqCJxLLdu7L54Ep\ni3jl61Wk1UzhqV/04YxujbV3rIiIVAgVPJEK5O5MmL2OP727kG17crn8R2244fSOpGrvWBERqUD6\nLSNSQVZs2cMf357HZ0u30LN5bV64vB/dm9UOOpaIiMQBFTyRcpZbUMjTn2Tz2MdZJCcmMGpIN35+\nbCsSE/R2rIiIVA4VPJFyNG3ZVm5/ay7Zm/dwTs8m/PGcrqTVSgk6loiIxBkVPJFysDUnl3smLeTf\nM9fSol41Xri8HxmdGgUdS0RE4pQKnshRKCpyXp+xmvsmL2JPbgHXDGjHtQM6UC1JW4yJiEhwVPBE\nfqCsTbu57d9z+XbFdvq3rsc953anQ1rNoGOJiIio4IkcqdyCQp7MXMYTHy+jWlIifzmvJ+f3bU6C\nLqIQEZGQUMETOQIzVm5n5BtzWLoph8HHNOXOn3SlQWpy0LFERET+iwqeyGHYvT+fB6Ys5uWvVtKk\nVgrPX9aPAZ11EYWIiISTCp7IIUxduJE73prHhl37ufT41tx0RiftRCEiIqGm31IiZdi8O5e735nP\nxDnr6ZRWk8d/3oc+LesGHUtEROSQVPBEDuDuvD5jDfdMXMi+vEJuHNiRq05uR1KVhKCjiYiIHBYV\nPJESVmzZwx/enMuXy7bSv3U97v1ZD9o3Sg06loiIyBFRwRMBCgqLePbz5Tz8wRKSEhO459zuDOvX\nUkufiIhIVFLBk7i3cP0ubh4/m3lrd3FGtzRGDemu/WNFRCSqqeBJ3MorKOKJzCwe/ziL2tWq8sTP\n+3BWjyZBxxIRETlqKngSl+at3clNr89m0YbdDOnVlLt+0o16NZKCjiUiIlIuVPAkruQWFPLo1KU8\n9Uk29Wsk8cwl6QzsmhZ0LBERkXKlgidxY9bqHdz8+myWbsrhvD7NufOcrtSuXjXoWCIiIuVOBU9i\n3v78Qh7+YAnPfJZNWq0Unr+8HwM6aZsxERGJXaEpeGZWD3gNaA2sAC509+0HjBkAPFziUGdgqLu/\nZWYvACcDOyP3Xebusyo4toTcjJXbuPn1OWRv2cOw/i247awu1ErRq3YiIhLbQlPwgJHAVHcfbWYj\nI7dvLTnA3T8GesF/CmEW8H6JITe7+/hKyishtjevgL9OWcLzXy6nae1q/POKYzmxQ4OgY4mIiFSK\nMBW8IUBG5OMXgUwOKHgHOB+Y7O57KzaWRJtvlm/j5vGzWbl1L5cc34pbBnUmNTlM/9RFREQqVph+\n66W5+3oAd19vZoc6SWoo8NABx+4xszuBqcBId8+tgJwSUvvzC3nw/cU8+/lymtetxqu/Oo7j29UP\nOpaIiEilM3evvC9m9iHQuJS7bgdedPc6JcZud/e6ZXyeJsAcoKm755c4tgFIAsYAy9x9VBmPHwGM\nAEhLS+s7duzYH/5NBSQnJ4fUVO2R+r3lOwt5Zk4u6/Y4A1pU4aJOSaRUia5txjSnsUXzGVs0n7El\nmudzwIABM9w9/VDjKvUVPHc/raz7zGyjmTWJvHrXBNh0kE91IfDm9+Uu8rnXRz7MNbPngZsOkmMM\nxSWQ9PR0z8jIOILvIhwyMzOJxtzlLb+wiL9/lMXjX2fRMDWZF3/Zk5M7Ngw61g+iOY0tms/YovmM\nLfEwn2F6i3YCcCkwOvL32wcZOwy4reSBEuXQgJ8C8yoqqITD4g27uWHcLOav28XPejfjrp9007p2\nIiIihKvgjQbGmdkVwCrgAgAzSweudvcrI7dbAy2ATw54/Ctm1hAwYBZwdeXElspWWOQ881k2D72/\nhJopVXjqF30Y1F17yIqIiHwvNAXP3bcCp5ZyfDpwZYnbK4BmpYw7pSLzSTis2LKHm16fzfSV2zmj\nWxr3nNuDBqnJQccSEREJldAUPJGDKSpyXvl6JfdOWkSVROPhi47hp72aUfyOvIiIiJSkgieht27H\nPm4ZP4fPs7ZwUseG3H9eD5rUrhZ0LBERkdBSwZNQe2f2Om5/cy4FRc4953ZneP+WetVORETkEFTw\nJJR27c/nrrfn8+Z3a+ndsg5/u6gXrerXCDqWiIhIVFDBk9D5OnsrN4ybzYZd+7n+tI5cM6AdVRIT\ngo4lIiISNVTwJDTyCop4+MMlPPXJMlrWq87rVx9Pn5albmYiIiIiB6GCJ6GQtWk3vxtbvGjx0H4t\n+OM5XamRrH+eIiIiP4R+g0qg3J2Xv1rJPRMXUj0pkacv7ssZ3UrbrlhEREQOlwqeBGbT7v3cMn4O\nmYs3c3LHhjxwfk8a1UoJOpaIiEjUU8GTQHywYCO3vjGHPbkFjBrSjYuPa6XlT0RERMqJCp5Uqv35\nhfx54gL++dUqujWtxSNDe9G+Uc2gY4mIiMQUFTypNEs27ua3//qOxRt386sft+HmMzqTVEXLn4iI\niJQ3FTypcO7Ov75Zxah3FlAzpQov/rI/J3dsGHQsERGRmKWCJxVqx948Rr4xl/fmb+DHHRrw4IXH\n0KimLqQQERGpSCp4UmG+Wb6N34/9jk27c/nDWZ258sS2JCToQgoREZGKpoIn5a6wyHnsoywembqE\nFvWq88avf8QxLeoEHUtERCRuqOBJuVq3Yx+/f20W3yzfxs96N2PUT7uTqh0pREREKpV+80q5eW/e\nBm59Yw4FhUU8dOEx/KxP86AjiYiIxCUVPDlq+/MLuXfSQl6atpKezWvz6NDetG5QI+hYIiIicUsF\nT47Kyq17uOZfM5m3dpfWthMREQkJFTz5wSbOWc/IN+aQkGA8e0k6p3VNCzqSiIiIoIInP0BuQSH3\nTCx+S7ZXizo8Nrw3zetWDzqWiIiIRITmvTQzu8DM5ptZkZmlH2TcIDNbbGZZZjayxPE2Zva1mS01\ns9fMLKlykseXlVv3cP6T03hp2kquPLEN4646XuVOREQkZEJT8IB5wM+AT8saYGaJwOPAmUBXYJiZ\ndY3cfT/wsLt3ALYDV1Rs3Pgzee56znn0c1Zu3cOYi/tyxzlddb6diIhICIXmt7O7L3T3xYcY1h/I\ncvdsd88DxgJDzMyAU4DxkXEvAj+tuLTxJbegkLsnzOfXr8ykbaNUJl73Y07v1jjoWCIiIlKGaDsH\nrxmwusTtNcCxQH1gh7sXlDjerJKzxaTV2/Zyzb9mMmfNTn55QhtGnqmrZEVERMKuUguemX0IlPbS\nz+3u/vbhfIpSjvlBjpeVYwQwInIzx8wO9cphGDUAtlTmF7wr8kcqTKXPqVQozWds0XzGlmiez1aH\nM6hSC567n3aUn2IN0KLE7ebAOoonqY6ZVYm8ivf98bJyjAHGHGWWQJnZdHcv82IUiT6a09ii+Ywt\nms/YEg/zGW3vtX0LdIhcMZsEDAUmuLsDHwPnR8ZdChzOK4IiIiIiMSc0Bc/MzjWzNcDxwEQzmxI5\n3tTMJgFEXp27FpgCLATGufv8yKe4FbjBzLIoPifvH5X9PYiIiIiEQWgusnD3N4E3Szm+DjirxO1J\nwKRSxmVTfJVtvIjqt5ilVJrT2KL5jC2az9gS8/Npxe9uioiIiEisCM1btCIiIiJSPlTwosTRbuUm\n4WNm9czsg8j2eh+YWd0yxhWa2azInwmVnVMO7lDPOTNLjmyfmBXZTrF15aeUw3UY83mZmW0u8Zy8\nMoiccnjM7Dkz22Rm88q438zs0ch8zzGzPpWdsaKo4EWPo93KTcJnJDA1sr3e1Mjt0uxz916RP4Mr\nL54cymE+564Atrt7e+BhirdVlBA6gp+hr5V4Tj5bqSHlSL0ADDrI/WcCHSJ/RgBPVkKmSqGCFyWO\nZiu3ik8nP9AQirfVA22vF60O5zlXcp7HA6dGtleU8NHP0Bjj7p8C2w4yZAjwkhf7iuI1dZtUTrqK\npYIXW0rbyk1btoVXmruvB4j83aiMcSlmNt3MvjIzlcBwOZzn3H/GRJZ62knxUk4SPof7M/S8yNt5\n482sRSn3S/SI2d+boVkmRSp0KzcJyMHm9Ag+TUt3X2dmbYGPzGyuuy8rn4RylA7nOafnZfQ4nLl6\nB3jV3XPN7GqKX509pcKTSUWJ2eenCl6IVOBWbhKQg82pmW00sybuvj7ylsCmMj7Husjf2WaWCfQG\nVPDC4XCec9+PWWNmVYDaHPwtIwnOIefT3beWuPkMOqcy2sXs7029RRtbSt3KLeBMUrYJFG+rB2Vs\nr2dmdc0sOfJxA+AEYEGlJZRDOZznXMl5Ph/4yLUAaVgdcj4POD9rMMW7Kkn0mgBcErma9jhg5/en\nzkQ7vYIXJczsXODvQEOKt3Kb5e5nmFlT4Fl3P8vdC8zs+63cEoHnSmzlJuEzGhhnZlcAq4ALACLL\n4Fzt7lcCXYCnzayI4v8hG+3uKnghUdZzzsxGAdPdfQLF2ya+HNlGcRvFpUFC6DDn8zozGwwUUDyf\nlwUWWA7JzF4FMoAGke1Q7wKqArj7UxTvjHUWkAXsBS4PJmn5004WIiIiIjFGb9GKiIiIxBgVPBER\nEZEYo4InIiIiEmNU8ERERERijAqeiIiISIxRwRMRERGJMSp4IiIiIjFGBU9EREQkxqjgiYiUAzOr\nYWaLzOwbM6ta4vjpZlZkZtcEmU9E4ot2shARKSdm1hv4CnjY3UeaWSNgDvCNuw8ONp2IxBMVPBGR\ncmRm1wMPAqcDNwE9gGPcfUugwUQkrqjgiYiUIzMzYCJwCpAEDHT3qcGmEpF4o3PwRETKkRf/X/PL\nQDIwW+VORIKggiciUo7MrDHwN2AmcIyZ/S7gSCISh1TwRETKSeTt2ReBPGAgxUXvfjPrGWgwEYk7\nOgdPRKScmNmNwF+AU9z9EzNLoviq2mQg3d33BRpQROKGXsETESkHkSVS7gXuc/dPANw9DxgGtAYe\nCi6diMQbvYInIiIiEmP0Cp6IiIhIjFHBExEREYkxKngiIiIiMUYFT0RERCTGqOCJiIiIxBgVPBER\nEZEYo4InIiIiEmNU8ERERERijAqeiIiISIz5f8KYlwq0AtU3AAAAAElFTkSuQmCC\n",
          "text/plain": "<matplotlib.figure.Figure at 0x217375fb860>"
         },
         "metadata": {},
         "output_type": "display_data"
        }
       ]
      }
     },
     "f63e73c8871c463d912f2f246e5b9a0b": {
      "model_module": "@jupyter-widgets/base",
      "model_module_version": "1.0.0",
      "model_name": "LayoutModel",
      "state": {}
     },
     "f7cae4441d8f4a2297066360007bc6ad": {
      "model_module": "@jupyter-widgets/output",
      "model_module_version": "1.0.0",
      "model_name": "OutputModel",
      "state": {
       "layout": "IPY_MODEL_fe26aa8e9a2b485e93ba6f1066bb4d06"
      }
     },
     "f8ba6abbabfd451ab0c86520f22bec16": {
      "model_module": "@jupyter-widgets/controls",
      "model_module_version": "1.0.0",
      "model_name": "TextModel",
      "state": {
       "description": "f:",
       "layout": "IPY_MODEL_0c4f7f4f40584a3885f579eafd74804c",
       "placeholder": "numpy.sinh(t)",
       "style": "IPY_MODEL_f3237c65284a4756be3209751b91eb49",
       "value": "numpy.sinh(t)"
      }
     },
     "f997f40e7fc74edcbcd08081c1f55e33": {
      "model_module": "@jupyter-widgets/base",
      "model_module_version": "1.0.0",
      "model_name": "LayoutModel",
      "state": {}
     },
     "fbcaf30814414ef3b4dba5b7c656e637": {
      "model_module": "@jupyter-widgets/output",
      "model_module_version": "1.0.0",
      "model_name": "OutputModel",
      "state": {
       "layout": "IPY_MODEL_0fa21450f07e4d6483da4c2e1136be04"
      }
     },
     "fc49cec78d4c485dbfc7dfe15c5c7921": {
      "model_module": "@jupyter-widgets/controls",
      "model_module_version": "1.0.0",
      "model_name": "TextModel",
      "state": {
       "description": "bn:",
       "layout": "IPY_MODEL_1acc4edab2bb42139097b3a6675b4466",
       "placeholder": "-(2 * numpy.pi * n * numpy.sinh(L) * (-1)**n) / ((L**2) + ((numpy.pi * n)**2))",
       "style": "IPY_MODEL_eb54d862f3e0444892f1047c656eff93",
       "value": "-(2 * numpy.pi * n * numpy.sinh(L) * (-1)**n) / ((L**2) + ((numpy.pi * n)**2))"
      }
     },
     "fcb19089ef7f40ddad2cc18595ab46a8": {
      "model_module": "@jupyter-widgets/controls",
      "model_module_version": "1.0.0",
      "model_name": "VBoxModel",
      "state": {
       "_dom_classes": [
        "widget-interact"
       ],
       "children": [
        "IPY_MODEL_1f9926315a2249e4b2367cc5a7bd92aa",
        "IPY_MODEL_6b006ede9db64d309074286ce81e83d4",
        "IPY_MODEL_ddaea4fc065045ddb68c9e8d54c93fdf",
        "IPY_MODEL_b3a2445490b645a1839726758c7a88da"
       ],
       "layout": "IPY_MODEL_a7c97494d99341629e09123bdf7cd9df"
      }
     },
     "fd2fef3b8f104e218449e7458b25777e": {
      "model_module": "@jupyter-widgets/controls",
      "model_module_version": "1.0.0",
      "model_name": "VBoxModel",
      "state": {
       "_dom_classes": [
        "widget-interact"
       ],
       "children": [
        "IPY_MODEL_edaa5997715c4422ab6a3d5ddbafee1c",
        "IPY_MODEL_072435806fd4455b9fe46fe90fa8200e",
        "IPY_MODEL_795c5084b5bb4cd88092ad97a7e2dcc8",
        "IPY_MODEL_27b4be4fa7934c78b99c453aa6bcc2b2"
       ],
       "layout": "IPY_MODEL_e5c863a292fa43b3a3814126745e7e37"
      }
     },
     "fe26aa8e9a2b485e93ba6f1066bb4d06": {
      "model_module": "@jupyter-widgets/base",
      "model_module_version": "1.0.0",
      "model_name": "LayoutModel",
      "state": {}
     },
     "fee3e5d63a224ed7bca5c0cdf8d87cd6": {
      "model_module": "@jupyter-widgets/controls",
      "model_module_version": "1.0.0",
      "model_name": "TextModel",
      "state": {
       "description": "bn:",
       "layout": "IPY_MODEL_c7fac287d3c6427ea91286178613f88c",
       "placeholder": "-(2 * numpy.pi * n * numpy.sinh(L) * (-1)**n) / ((L**2) + ((numpy.pi * n)**2))",
       "style": "IPY_MODEL_0c063fa529854fa5a30edf46b9e5238a",
       "value": "-(2 * numpy.pi * n * numpy.sinh(L) * (-1)**n) / ((L**2) + ((numpy.pi * n)**2))"
      }
     },
     "fef4223debbd4d3fa34ba30174472a5c": {
      "model_module": "@jupyter-widgets/controls",
      "model_module_version": "1.0.0",
      "model_name": "DescriptionStyleModel",
      "state": {
       "description_width": ""
      }
     }
    },
    "version_major": 2,
    "version_minor": 0
   }
  }
 },
 "nbformat": 4,
 "nbformat_minor": 2
}
