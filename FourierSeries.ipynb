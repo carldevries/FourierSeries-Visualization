{
 "cells": [
  {
   "cell_type": "code",
   "execution_count": 1,
   "metadata": {
    "scrolled": true
   },
   "outputs": [],
   "source": [
    "import matplotlib\n",
    "matplotlib.use('nbagg')\n",
    "from ipywidgets import interact\n",
    "import ipywidgets as widgets\n",
    "import matplotlib.pyplot as plt\n",
    "import numpy"
   ]
  },
  {
   "cell_type": "code",
   "execution_count": 2,
   "metadata": {
    "scrolled": false
   },
   "outputs": [],
   "source": [
    "#The FourierSeries class is just a conventient way to track the function and associted Fourier Coefficents.\n",
    "class FourierSeries:\n",
    "    #Fourier Coefficients\n",
    "    a0 = lambda self, L: 0\n",
    "    an = lambda self, n, L: 0\n",
    "    bn = lambda self, n, L: 0\n",
    "    #The function being approximated\n",
    "    f = lambda t : 0\n",
    "    #Returns a lambda function which represents the Fourier series for a given n and L.\n",
    "    def fs(self):\n",
    "        fs_cos = lambda t, n, L: numpy.cos((numpy.pi * n * t) / L)\n",
    "        fs_sine = lambda t, n, L: numpy.sin((numpy.pi * n * t) / L)\n",
    "        return lambda t, n, L: self.a0(L) + (self.an(n, L) * fs_cos(t, n, L)) +  (self.bn(n, L) * fs_sine(t, n, L))"
   ]
  },
  {
   "cell_type": "code",
   "execution_count": 3,
   "metadata": {
    "scrolled": false
   },
   "outputs": [],
   "source": [
    "#Plot yfa vs. t and y vs. t given the x and y boundaries\n",
    "def plot_FS(t, yfa, y, x_min, x_max, y_min, y_max):\n",
    "\n",
    "    x_width = 10 \n",
    "    y_height = 5\n",
    "    plt.figure(1, figsize=(x_width, y_height))\n",
    "    plt.xlabel('x', fontsize=16)\n",
    "    plt.ylabel('y', fontsize=16)\n",
    "    plt.xlim(x_min, x_max)\n",
    "    plt.ylim(y_min, y_max)\n",
    "    plt.grid()\n",
    "    plt.plot(t, yfa);\n",
    "    plt.plot(t, y);\n",
    "    plt.show()\n",
    " "
   ]
  },
  {
   "cell_type": "code",
   "execution_count": 4,
   "metadata": {
    "scrolled": true
   },
   "outputs": [],
   "source": [
    "#I chose cosh(x) and the Fourier Series of cosh of x to be the default.\n",
    "#Create lambda functions for cosh(t) and the Fourier cofficients\n",
    "f = lambda t : numpy.cosh(t)\n",
    "a0 = lambda L : 0\n",
    "an = lambda n, L : 0\n",
    "bn = lambda n, L: ((2 * numpy.pi * n) * (1 - (((-1)**n) * numpy.cosh(L)))) / (((numpy.pi * n)**2) + (L**2))\n",
    "Fn = lambda t, n, L: numpy.sin((numpy.pi * n * t) / L)\n",
    "#Set the function and the Fourier Coefficients into th \n",
    "fs = FourierSeries();\n",
    "fs.f = f\n",
    "fs.a0 = a0\n",
    "fs.an = an\n",
    "fs.bn = bn\n",
    "    \n",
    "#Set the default text for the function and Fourier Series coefficient inputs text boxes\n",
    "sinh_bn_text = '-(2 * numpy.pi * n * numpy.sinh(L) * (-1)**n) / ((L**2) + ((numpy.pi * n)**2))'\n",
    "f_text = widgets.Text(value='numpy.sinh(t)', placeholder='numpy.sinh(t)', description='f:', disabled=False)\n",
    "a0_text = widgets.Text(value='0', placeholder='0', description='a0:', disabled=False)\n",
    "an_text = widgets.Text(value='0', placeholder='0', description='an:', disabled=False)\n",
    "bn_text = widgets.Text(value=sinh_bn_text, placeholder=sinh_bn_text, description='bn:', disabled=False)"
   ]
  },
  {
   "cell_type": "code",
   "execution_count": 5,
   "metadata": {
    "scrolled": false
   },
   "outputs": [
    {
     "data": {
      "application/vnd.jupyter.widget-view+json": {
       "model_id": "3e60c65d31be4e27ab7307c76d8f1eec",
       "version_major": 2,
       "version_minor": 0
      },
      "text/html": [
       "<p>Failed to display Jupyter Widget of type <code>interactive</code>.</p>\n",
       "<p>\n",
       "  If you're reading this message in the Jupyter Notebook or JupyterLab Notebook, it may mean\n",
       "  that the widgets JavaScript is still loading. If this message persists, it\n",
       "  likely means that the widgets JavaScript library is either not installed or\n",
       "  not enabled. See the <a href=\"https://ipywidgets.readthedocs.io/en/stable/user_install.html\">Jupyter\n",
       "  Widgets Documentation</a> for setup instructions.\n",
       "</p>\n",
       "<p>\n",
       "  If you're reading this message in another frontend (for example, a static\n",
       "  rendering on GitHub or <a href=\"https://nbviewer.jupyter.org/\">NBViewer</a>),\n",
       "  it may mean that your frontend doesn't currently support widgets.\n",
       "</p>\n"
      ],
      "text/plain": [
       "interactive(children=(Text(value='numpy.sinh(t)', description='f:', placeholder='numpy.sinh(t)'), Text(value='0', description='a0:', placeholder='0'), Text(value='0', description='an:', placeholder='0'), Text(value='-(2 * numpy.pi * n * numpy.sinh(L) * (-1)**n) / ((L**2) + ((numpy.pi * n)**2))', description='bn:', placeholder='-(2 * numpy.pi * n * numpy.sinh(L) * (-1)**n) / ((L**2) + ((numpy.pi * n)**2))'), Output()), _dom_classes=('widget-interact',))"
      ]
     },
     "metadata": {},
     "output_type": "display_data"
    },
    {
     "data": {
      "application/vnd.jupyter.widget-view+json": {
       "model_id": "f2acc91cbdb9462aa80438069d4934c1",
       "version_major": 2,
       "version_minor": 0
      },
      "text/html": [
       "<p>Failed to display Jupyter Widget of type <code>interactive</code>.</p>\n",
       "<p>\n",
       "  If you're reading this message in the Jupyter Notebook or JupyterLab Notebook, it may mean\n",
       "  that the widgets JavaScript is still loading. If this message persists, it\n",
       "  likely means that the widgets JavaScript library is either not installed or\n",
       "  not enabled. See the <a href=\"https://ipywidgets.readthedocs.io/en/stable/user_install.html\">Jupyter\n",
       "  Widgets Documentation</a> for setup instructions.\n",
       "</p>\n",
       "<p>\n",
       "  If you're reading this message in another frontend (for example, a static\n",
       "  rendering on GitHub or <a href=\"https://nbviewer.jupyter.org/\">NBViewer</a>),\n",
       "  it may mean that your frontend doesn't currently support widgets.\n",
       "</p>\n"
      ],
      "text/plain": [
       "interactive(children=(IntSlider(value=1, continuous_update=False, description='n', min=1), IntSlider(value=1, continuous_update=False, description='L', max=5, min=1), ToggleButton(value=False, description='Update'), Output()), _dom_classes=('widget-interact',))"
      ]
     },
     "metadata": {},
     "output_type": "display_data"
    }
   ],
   "source": [
    "n_slider = widgets.IntSlider(min=1,max=100,step=1,value=1, continuous_update=False)\n",
    "L_slider = widgets.IntSlider(min=1,max=5,step=1,value=1, continuous_update=False)\n",
    "tog_btn = widgets.ToggleButton(value=False, description='Update', disabled=False)\n",
    "\n",
    "loaded_fs = FourierSeries();\n",
    "def new_f_text (i, j, k, l):\n",
    "    \n",
    "    #Save the values of the lambdas entered to Fourier Series object.\n",
    "    loaded_fs.f = lambda t: eval(i)\n",
    "    loaded_fs.a0 = lambda L: eval(j)\n",
    "    loaded_fs.an = lambda n, L: eval(k)\n",
    "    loaded_fs.bn = lambda n, L: eval(l)\n",
    "    \n",
    "interact(new_f_text,i=f_text, j=a0_text, k=an_text, l=bn_text)\n",
    "\n",
    "\n",
    "def f(n, L, z):\n",
    "    \n",
    "    if z:\n",
    "        fs.f = loaded_fs.f\n",
    "        fs.a0 = loaded_fs.a0\n",
    "        fs.an = loaded_fs.an\n",
    "        fs.bn = loaded_fs.bn\n",
    "        \n",
    "    #Calculate poitns for the function f(x)\n",
    "    t = numpy.linspace(-(L + 0.25), L + 0.25, 1000)\n",
    "    yfa = fs.f(t)\n",
    "    \n",
    "    #Calculate points for the Fourier Series approximation FS(s)\n",
    "    y = numpy.zeros(1000)\n",
    "    for i in range(1, n):\n",
    "        yn = fs.fs()(t, i, L)\n",
    "        y += yn\n",
    "    \n",
    "    #Choose bounds for the plot\n",
    "    x_min = -(L + 0.2)\n",
    "    x_max = (L + 0.2)\n",
    "    y_min = -L if numpy.amin(y) == numpy.amax(y) else (numpy.amin(y) - 0.2)\n",
    "    y_max = fs.f(L) if numpy.amin(y) == numpy.amax(y) else (numpy.amax(y) + 0.2)\n",
    "    \n",
    "    plot_FS(t, yfa, y, x_min, x_max, y_min, y_max)\n",
    "\n",
    "interact(f, n=n_slider, L=L_slider, z=tog_btn);\n"
   ]
  },
  {
   "cell_type": "code",
   "execution_count": null,
   "metadata": {
    "scrolled": true
   },
   "outputs": [],
   "source": []
  }
 ],
 "metadata": {
  "kernelspec": {
   "display_name": "Python 3",
   "language": "python",
   "name": "python3"
  },
  "language_info": {
   "codemirror_mode": {
    "name": "ipython",
    "version": 3
   },
   "file_extension": ".py",
   "mimetype": "text/x-python",
   "name": "python",
   "nbconvert_exporter": "python",
   "pygments_lexer": "ipython3",
   "version": "3.6.2"
  },
  "widgets": {
   "application/vnd.jupyter.widget-state+json": {
    "state": {
     "036c6186b03a44e1b373e70f79440cdd": {
      "model_module": "@jupyter-widgets/controls",
      "model_module_version": "1.0.0",
      "model_name": "SliderStyleModel",
      "state": {
       "description_width": ""
      }
     },
     "04764e74abb848a587ea24e6e70b3020": {
      "model_module": "@jupyter-widgets/base",
      "model_module_version": "1.0.0",
      "model_name": "LayoutModel",
      "state": {}
     },
     "04a8aed57d2b417183070958959206e5": {
      "model_module": "@jupyter-widgets/base",
      "model_module_version": "1.0.0",
      "model_name": "LayoutModel",
      "state": {}
     },
     "06d0b08e862549759f841dd90b760a7e": {
      "model_module": "@jupyter-widgets/output",
      "model_module_version": "1.0.0",
      "model_name": "OutputModel",
      "state": {
       "layout": "IPY_MODEL_3a4c98b9f3534046847514733eff1d6a"
      }
     },
     "0757e94756504f6ebd751b13e4104e90": {
      "model_module": "@jupyter-widgets/base",
      "model_module_version": "1.0.0",
      "model_name": "LayoutModel",
      "state": {}
     },
     "08804de8b2c94838a352080ae00a387f": {
      "model_module": "@jupyter-widgets/controls",
      "model_module_version": "1.0.0",
      "model_name": "DescriptionStyleModel",
      "state": {
       "description_width": ""
      }
     },
     "0a9d799634c54eee8be3606469a2d5a0": {
      "model_module": "@jupyter-widgets/controls",
      "model_module_version": "1.0.0",
      "model_name": "VBoxModel",
      "state": {
       "_dom_classes": [
        "widget-interact"
       ],
       "children": [
        "IPY_MODEL_5aa4b072e14d48cd9c96c2c42084f351",
        "IPY_MODEL_ffb6f9f3f8184f1e87335cf89b2a64f4",
        "IPY_MODEL_107002ba353a4585939ff800ef102892",
        "IPY_MODEL_5456a0d06eb54c61a05820c7a5aa75be",
        "IPY_MODEL_23af6271773649f3abfc4e3758e2e9e3"
       ],
       "layout": "IPY_MODEL_33f91fd4d1454ea0b9a7cf9de882193d"
      }
     },
     "0b30d5ca89784eee86b5dd2f88a348df": {
      "model_module": "@jupyter-widgets/controls",
      "model_module_version": "1.0.0",
      "model_name": "DescriptionStyleModel",
      "state": {
       "description_width": ""
      }
     },
     "0cb6036f84724ae899e9060b9a55a921": {
      "model_module": "@jupyter-widgets/controls",
      "model_module_version": "1.0.0",
      "model_name": "SliderStyleModel",
      "state": {
       "description_width": ""
      }
     },
     "0ddd6c2b86c6414f8d3ad7d95a2c1413": {
      "model_module": "@jupyter-widgets/controls",
      "model_module_version": "1.0.0",
      "model_name": "DescriptionStyleModel",
      "state": {
       "description_width": ""
      }
     },
     "10363d226ae74a05b050b3d2978dc342": {
      "model_module": "@jupyter-widgets/base",
      "model_module_version": "1.0.0",
      "model_name": "LayoutModel",
      "state": {}
     },
     "107002ba353a4585939ff800ef102892": {
      "model_module": "@jupyter-widgets/controls",
      "model_module_version": "1.0.0",
      "model_name": "TextModel",
      "state": {
       "description": "an:",
       "layout": "IPY_MODEL_62f714324e8b479da45f2757d08a6424",
       "placeholder": "0",
       "style": "IPY_MODEL_99829ce36dfc4689956d80edc704bdd4",
       "value": "0"
      }
     },
     "1140d52533d942a788e746eaecc3071d": {
      "model_module": "@jupyter-widgets/output",
      "model_module_version": "1.0.0",
      "model_name": "OutputModel",
      "state": {
       "layout": "IPY_MODEL_43532a602df24a94a3404ac8ca7b50d1"
      }
     },
     "1398b3da6d8e4854b840b8d3455ef617": {
      "model_module": "@jupyter-widgets/base",
      "model_module_version": "1.0.0",
      "model_name": "LayoutModel",
      "state": {}
     },
     "1475a7c3289d4703baed0638b3ddb50a": {
      "model_module": "@jupyter-widgets/output",
      "model_module_version": "1.0.0",
      "model_name": "OutputModel",
      "state": {
       "layout": "IPY_MODEL_8ddb1c9aa77d4b0daf2a93ca91d56dc8",
       "outputs": [
        {
         "data": {
          "application/javascript": "/* Put everything inside the global mpl namespace */\nwindow.mpl = {};\n\n\nmpl.get_websocket_type = function() {\n    if (typeof(WebSocket) !== 'undefined') {\n        return WebSocket;\n    } else if (typeof(MozWebSocket) !== 'undefined') {\n        return MozWebSocket;\n    } else {\n        alert('Your browser does not have WebSocket support.' +\n              'Please try Chrome, Safari or Firefox ≥ 6. ' +\n              'Firefox 4 and 5 are also supported but you ' +\n              'have to enable WebSockets in about:config.');\n    };\n}\n\nmpl.figure = function(figure_id, websocket, ondownload, parent_element) {\n    this.id = figure_id;\n\n    this.ws = websocket;\n\n    this.supports_binary = (this.ws.binaryType != undefined);\n\n    if (!this.supports_binary) {\n        var warnings = document.getElementById(\"mpl-warnings\");\n        if (warnings) {\n            warnings.style.display = 'block';\n            warnings.textContent = (\n                \"This browser does not support binary websocket messages. \" +\n                    \"Performance may be slow.\");\n        }\n    }\n\n    this.imageObj = new Image();\n\n    this.context = undefined;\n    this.message = undefined;\n    this.canvas = undefined;\n    this.rubberband_canvas = undefined;\n    this.rubberband_context = undefined;\n    this.format_dropdown = undefined;\n\n    this.image_mode = 'full';\n\n    this.root = $('<div/>');\n    this._root_extra_style(this.root)\n    this.root.attr('style', 'display: inline-block');\n\n    $(parent_element).append(this.root);\n\n    this._init_header(this);\n    this._init_canvas(this);\n    this._init_toolbar(this);\n\n    var fig = this;\n\n    this.waiting = false;\n\n    this.ws.onopen =  function () {\n            fig.send_message(\"supports_binary\", {value: fig.supports_binary});\n            fig.send_message(\"send_image_mode\", {});\n            if (mpl.ratio != 1) {\n                fig.send_message(\"set_dpi_ratio\", {'dpi_ratio': mpl.ratio});\n            }\n            fig.send_message(\"refresh\", {});\n        }\n\n    this.imageObj.onload = function() {\n            if (fig.image_mode == 'full') {\n                // Full images could contain transparency (where diff images\n                // almost always do), so we need to clear the canvas so that\n                // there is no ghosting.\n                fig.context.clearRect(0, 0, fig.canvas.width, fig.canvas.height);\n            }\n            fig.context.drawImage(fig.imageObj, 0, 0);\n        };\n\n    this.imageObj.onunload = function() {\n        fig.ws.close();\n    }\n\n    this.ws.onmessage = this._make_on_message_function(this);\n\n    this.ondownload = ondownload;\n}\n\nmpl.figure.prototype._init_header = function() {\n    var titlebar = $(\n        '<div class=\"ui-dialog-titlebar ui-widget-header ui-corner-all ' +\n        'ui-helper-clearfix\"/>');\n    var titletext = $(\n        '<div class=\"ui-dialog-title\" style=\"width: 100%; ' +\n        'text-align: center; padding: 3px;\"/>');\n    titlebar.append(titletext)\n    this.root.append(titlebar);\n    this.header = titletext[0];\n}\n\n\n\nmpl.figure.prototype._canvas_extra_style = function(canvas_div) {\n\n}\n\n\nmpl.figure.prototype._root_extra_style = function(canvas_div) {\n\n}\n\nmpl.figure.prototype._init_canvas = function() {\n    var fig = this;\n\n    var canvas_div = $('<div/>');\n\n    canvas_div.attr('style', 'position: relative; clear: both; outline: 0');\n\n    function canvas_keyboard_event(event) {\n        return fig.key_event(event, event['data']);\n    }\n\n    canvas_div.keydown('key_press', canvas_keyboard_event);\n    canvas_div.keyup('key_release', canvas_keyboard_event);\n    this.canvas_div = canvas_div\n    this._canvas_extra_style(canvas_div)\n    this.root.append(canvas_div);\n\n    var canvas = $('<canvas/>');\n    canvas.addClass('mpl-canvas');\n    canvas.attr('style', \"left: 0; top: 0; z-index: 0; outline: 0\")\n\n    this.canvas = canvas[0];\n    this.context = canvas[0].getContext(\"2d\");\n\n    var backingStore = this.context.backingStorePixelRatio ||\n\tthis.context.webkitBackingStorePixelRatio ||\n\tthis.context.mozBackingStorePixelRatio ||\n\tthis.context.msBackingStorePixelRatio ||\n\tthis.context.oBackingStorePixelRatio ||\n\tthis.context.backingStorePixelRatio || 1;\n\n    mpl.ratio = (window.devicePixelRatio || 1) / backingStore;\n\n    var rubberband = $('<canvas/>');\n    rubberband.attr('style', \"position: absolute; left: 0; top: 0; z-index: 1;\")\n\n    var pass_mouse_events = true;\n\n    canvas_div.resizable({\n        start: function(event, ui) {\n            pass_mouse_events = false;\n        },\n        resize: function(event, ui) {\n            fig.request_resize(ui.size.width, ui.size.height);\n        },\n        stop: function(event, ui) {\n            pass_mouse_events = true;\n            fig.request_resize(ui.size.width, ui.size.height);\n        },\n    });\n\n    function mouse_event_fn(event) {\n        if (pass_mouse_events)\n            return fig.mouse_event(event, event['data']);\n    }\n\n    rubberband.mousedown('button_press', mouse_event_fn);\n    rubberband.mouseup('button_release', mouse_event_fn);\n    // Throttle sequential mouse events to 1 every 20ms.\n    rubberband.mousemove('motion_notify', mouse_event_fn);\n\n    rubberband.mouseenter('figure_enter', mouse_event_fn);\n    rubberband.mouseleave('figure_leave', mouse_event_fn);\n\n    canvas_div.on(\"wheel\", function (event) {\n        event = event.originalEvent;\n        event['data'] = 'scroll'\n        if (event.deltaY < 0) {\n            event.step = 1;\n        } else {\n            event.step = -1;\n        }\n        mouse_event_fn(event);\n    });\n\n    canvas_div.append(canvas);\n    canvas_div.append(rubberband);\n\n    this.rubberband = rubberband;\n    this.rubberband_canvas = rubberband[0];\n    this.rubberband_context = rubberband[0].getContext(\"2d\");\n    this.rubberband_context.strokeStyle = \"#000000\";\n\n    this._resize_canvas = function(width, height) {\n        // Keep the size of the canvas, canvas container, and rubber band\n        // canvas in synch.\n        canvas_div.css('width', width)\n        canvas_div.css('height', height)\n\n        canvas.attr('width', width * mpl.ratio);\n        canvas.attr('height', height * mpl.ratio);\n        canvas.attr('style', 'width: ' + width + 'px; height: ' + height + 'px;');\n\n        rubberband.attr('width', width);\n        rubberband.attr('height', height);\n    }\n\n    // Set the figure to an initial 600x600px, this will subsequently be updated\n    // upon first draw.\n    this._resize_canvas(600, 600);\n\n    // Disable right mouse context menu.\n    $(this.rubberband_canvas).bind(\"contextmenu\",function(e){\n        return false;\n    });\n\n    function set_focus () {\n        canvas.focus();\n        canvas_div.focus();\n    }\n\n    window.setTimeout(set_focus, 100);\n}\n\nmpl.figure.prototype._init_toolbar = function() {\n    var fig = this;\n\n    var nav_element = $('<div/>')\n    nav_element.attr('style', 'width: 100%');\n    this.root.append(nav_element);\n\n    // Define a callback function for later on.\n    function toolbar_event(event) {\n        return fig.toolbar_button_onclick(event['data']);\n    }\n    function toolbar_mouse_event(event) {\n        return fig.toolbar_button_onmouseover(event['data']);\n    }\n\n    for(var toolbar_ind in mpl.toolbar_items) {\n        var name = mpl.toolbar_items[toolbar_ind][0];\n        var tooltip = mpl.toolbar_items[toolbar_ind][1];\n        var image = mpl.toolbar_items[toolbar_ind][2];\n        var method_name = mpl.toolbar_items[toolbar_ind][3];\n\n        if (!name) {\n            // put a spacer in here.\n            continue;\n        }\n        var button = $('<button/>');\n        button.addClass('ui-button ui-widget ui-state-default ui-corner-all ' +\n                        'ui-button-icon-only');\n        button.attr('role', 'button');\n        button.attr('aria-disabled', 'false');\n        button.click(method_name, toolbar_event);\n        button.mouseover(tooltip, toolbar_mouse_event);\n\n        var icon_img = $('<span/>');\n        icon_img.addClass('ui-button-icon-primary ui-icon');\n        icon_img.addClass(image);\n        icon_img.addClass('ui-corner-all');\n\n        var tooltip_span = $('<span/>');\n        tooltip_span.addClass('ui-button-text');\n        tooltip_span.html(tooltip);\n\n        button.append(icon_img);\n        button.append(tooltip_span);\n\n        nav_element.append(button);\n    }\n\n    var fmt_picker_span = $('<span/>');\n\n    var fmt_picker = $('<select/>');\n    fmt_picker.addClass('mpl-toolbar-option ui-widget ui-widget-content');\n    fmt_picker_span.append(fmt_picker);\n    nav_element.append(fmt_picker_span);\n    this.format_dropdown = fmt_picker[0];\n\n    for (var ind in mpl.extensions) {\n        var fmt = mpl.extensions[ind];\n        var option = $(\n            '<option/>', {selected: fmt === mpl.default_extension}).html(fmt);\n        fmt_picker.append(option)\n    }\n\n    // Add hover states to the ui-buttons\n    $( \".ui-button\" ).hover(\n        function() { $(this).addClass(\"ui-state-hover\");},\n        function() { $(this).removeClass(\"ui-state-hover\");}\n    );\n\n    var status_bar = $('<span class=\"mpl-message\"/>');\n    nav_element.append(status_bar);\n    this.message = status_bar[0];\n}\n\nmpl.figure.prototype.request_resize = function(x_pixels, y_pixels) {\n    // Request matplotlib to resize the figure. Matplotlib will then trigger a resize in the client,\n    // which will in turn request a refresh of the image.\n    this.send_message('resize', {'width': x_pixels, 'height': y_pixels});\n}\n\nmpl.figure.prototype.send_message = function(type, properties) {\n    properties['type'] = type;\n    properties['figure_id'] = this.id;\n    this.ws.send(JSON.stringify(properties));\n}\n\nmpl.figure.prototype.send_draw_message = function() {\n    if (!this.waiting) {\n        this.waiting = true;\n        this.ws.send(JSON.stringify({type: \"draw\", figure_id: this.id}));\n    }\n}\n\n\nmpl.figure.prototype.handle_save = function(fig, msg) {\n    var format_dropdown = fig.format_dropdown;\n    var format = format_dropdown.options[format_dropdown.selectedIndex].value;\n    fig.ondownload(fig, format);\n}\n\n\nmpl.figure.prototype.handle_resize = function(fig, msg) {\n    var size = msg['size'];\n    if (size[0] != fig.canvas.width || size[1] != fig.canvas.height) {\n        fig._resize_canvas(size[0], size[1]);\n        fig.send_message(\"refresh\", {});\n    };\n}\n\nmpl.figure.prototype.handle_rubberband = function(fig, msg) {\n    var x0 = msg['x0'] / mpl.ratio;\n    var y0 = (fig.canvas.height - msg['y0']) / mpl.ratio;\n    var x1 = msg['x1'] / mpl.ratio;\n    var y1 = (fig.canvas.height - msg['y1']) / mpl.ratio;\n    x0 = Math.floor(x0) + 0.5;\n    y0 = Math.floor(y0) + 0.5;\n    x1 = Math.floor(x1) + 0.5;\n    y1 = Math.floor(y1) + 0.5;\n    var min_x = Math.min(x0, x1);\n    var min_y = Math.min(y0, y1);\n    var width = Math.abs(x1 - x0);\n    var height = Math.abs(y1 - y0);\n\n    fig.rubberband_context.clearRect(\n        0, 0, fig.canvas.width, fig.canvas.height);\n\n    fig.rubberband_context.strokeRect(min_x, min_y, width, height);\n}\n\nmpl.figure.prototype.handle_figure_label = function(fig, msg) {\n    // Updates the figure title.\n    fig.header.textContent = msg['label'];\n}\n\nmpl.figure.prototype.handle_cursor = function(fig, msg) {\n    var cursor = msg['cursor'];\n    switch(cursor)\n    {\n    case 0:\n        cursor = 'pointer';\n        break;\n    case 1:\n        cursor = 'default';\n        break;\n    case 2:\n        cursor = 'crosshair';\n        break;\n    case 3:\n        cursor = 'move';\n        break;\n    }\n    fig.rubberband_canvas.style.cursor = cursor;\n}\n\nmpl.figure.prototype.handle_message = function(fig, msg) {\n    fig.message.textContent = msg['message'];\n}\n\nmpl.figure.prototype.handle_draw = function(fig, msg) {\n    // Request the server to send over a new figure.\n    fig.send_draw_message();\n}\n\nmpl.figure.prototype.handle_image_mode = function(fig, msg) {\n    fig.image_mode = msg['mode'];\n}\n\nmpl.figure.prototype.updated_canvas_event = function() {\n    // Called whenever the canvas gets updated.\n    this.send_message(\"ack\", {});\n}\n\n// A function to construct a web socket function for onmessage handling.\n// Called in the figure constructor.\nmpl.figure.prototype._make_on_message_function = function(fig) {\n    return function socket_on_message(evt) {\n        if (evt.data instanceof Blob) {\n            /* FIXME: We get \"Resource interpreted as Image but\n             * transferred with MIME type text/plain:\" errors on\n             * Chrome.  But how to set the MIME type?  It doesn't seem\n             * to be part of the websocket stream */\n            evt.data.type = \"image/png\";\n\n            /* Free the memory for the previous frames */\n            if (fig.imageObj.src) {\n                (window.URL || window.webkitURL).revokeObjectURL(\n                    fig.imageObj.src);\n            }\n\n            fig.imageObj.src = (window.URL || window.webkitURL).createObjectURL(\n                evt.data);\n            fig.updated_canvas_event();\n            fig.waiting = false;\n            return;\n        }\n        else if (typeof evt.data === 'string' && evt.data.slice(0, 21) == \"data:image/png;base64\") {\n            fig.imageObj.src = evt.data;\n            fig.updated_canvas_event();\n            fig.waiting = false;\n            return;\n        }\n\n        var msg = JSON.parse(evt.data);\n        var msg_type = msg['type'];\n\n        // Call the  \"handle_{type}\" callback, which takes\n        // the figure and JSON message as its only arguments.\n        try {\n            var callback = fig[\"handle_\" + msg_type];\n        } catch (e) {\n            console.log(\"No handler for the '\" + msg_type + \"' message type: \", msg);\n            return;\n        }\n\n        if (callback) {\n            try {\n                // console.log(\"Handling '\" + msg_type + \"' message: \", msg);\n                callback(fig, msg);\n            } catch (e) {\n                console.log(\"Exception inside the 'handler_\" + msg_type + \"' callback:\", e, e.stack, msg);\n            }\n        }\n    };\n}\n\n// from http://stackoverflow.com/questions/1114465/getting-mouse-location-in-canvas\nmpl.findpos = function(e) {\n    //this section is from http://www.quirksmode.org/js/events_properties.html\n    var targ;\n    if (!e)\n        e = window.event;\n    if (e.target)\n        targ = e.target;\n    else if (e.srcElement)\n        targ = e.srcElement;\n    if (targ.nodeType == 3) // defeat Safari bug\n        targ = targ.parentNode;\n\n    // jQuery normalizes the pageX and pageY\n    // pageX,Y are the mouse positions relative to the document\n    // offset() returns the position of the element relative to the document\n    var x = e.pageX - $(targ).offset().left;\n    var y = e.pageY - $(targ).offset().top;\n\n    return {\"x\": x, \"y\": y};\n};\n\n/*\n * return a copy of an object with only non-object keys\n * we need this to avoid circular references\n * http://stackoverflow.com/a/24161582/3208463\n */\nfunction simpleKeys (original) {\n  return Object.keys(original).reduce(function (obj, key) {\n    if (typeof original[key] !== 'object')\n        obj[key] = original[key]\n    return obj;\n  }, {});\n}\n\nmpl.figure.prototype.mouse_event = function(event, name) {\n    var canvas_pos = mpl.findpos(event)\n\n    if (name === 'button_press')\n    {\n        this.canvas.focus();\n        this.canvas_div.focus();\n    }\n\n    var x = canvas_pos.x * mpl.ratio;\n    var y = canvas_pos.y * mpl.ratio;\n\n    this.send_message(name, {x: x, y: y, button: event.button,\n                             step: event.step,\n                             guiEvent: simpleKeys(event)});\n\n    /* This prevents the web browser from automatically changing to\n     * the text insertion cursor when the button is pressed.  We want\n     * to control all of the cursor setting manually through the\n     * 'cursor' event from matplotlib */\n    event.preventDefault();\n    return false;\n}\n\nmpl.figure.prototype._key_event_extra = function(event, name) {\n    // Handle any extra behaviour associated with a key event\n}\n\nmpl.figure.prototype.key_event = function(event, name) {\n\n    // Prevent repeat events\n    if (name == 'key_press')\n    {\n        if (event.which === this._key)\n            return;\n        else\n            this._key = event.which;\n    }\n    if (name == 'key_release')\n        this._key = null;\n\n    var value = '';\n    if (event.ctrlKey && event.which != 17)\n        value += \"ctrl+\";\n    if (event.altKey && event.which != 18)\n        value += \"alt+\";\n    if (event.shiftKey && event.which != 16)\n        value += \"shift+\";\n\n    value += 'k';\n    value += event.which.toString();\n\n    this._key_event_extra(event, name);\n\n    this.send_message(name, {key: value,\n                             guiEvent: simpleKeys(event)});\n    return false;\n}\n\nmpl.figure.prototype.toolbar_button_onclick = function(name) {\n    if (name == 'download') {\n        this.handle_save(this, null);\n    } else {\n        this.send_message(\"toolbar_button\", {name: name});\n    }\n};\n\nmpl.figure.prototype.toolbar_button_onmouseover = function(tooltip) {\n    this.message.textContent = tooltip;\n};\nmpl.toolbar_items = [[\"Home\", \"Reset original view\", \"fa fa-home icon-home\", \"home\"], [\"Back\", \"Back to  previous view\", \"fa fa-arrow-left icon-arrow-left\", \"back\"], [\"Forward\", \"Forward to next view\", \"fa fa-arrow-right icon-arrow-right\", \"forward\"], [\"\", \"\", \"\", \"\"], [\"Pan\", \"Pan axes with left mouse, zoom with right\", \"fa fa-arrows icon-move\", \"pan\"], [\"Zoom\", \"Zoom to rectangle\", \"fa fa-square-o icon-check-empty\", \"zoom\"], [\"\", \"\", \"\", \"\"], [\"Download\", \"Download plot\", \"fa fa-floppy-o icon-save\", \"download\"]];\n\nmpl.extensions = [\"eps\", \"pdf\", \"png\", \"ps\", \"raw\", \"svg\"];\n\nmpl.default_extension = \"png\";var comm_websocket_adapter = function(comm) {\n    // Create a \"websocket\"-like object which calls the given IPython comm\n    // object with the appropriate methods. Currently this is a non binary\n    // socket, so there is still some room for performance tuning.\n    var ws = {};\n\n    ws.close = function() {\n        comm.close()\n    };\n    ws.send = function(m) {\n        //console.log('sending', m);\n        comm.send(m);\n    };\n    // Register the callback with on_msg.\n    comm.on_msg(function(msg) {\n        //console.log('receiving', msg['content']['data'], msg);\n        // Pass the mpl event to the overriden (by mpl) onmessage function.\n        ws.onmessage(msg['content']['data'])\n    });\n    return ws;\n}\n\nmpl.mpl_figure_comm = function(comm, msg) {\n    // This is the function which gets called when the mpl process\n    // starts-up an IPython Comm through the \"matplotlib\" channel.\n\n    var id = msg.content.data.id;\n    // Get hold of the div created by the display call when the Comm\n    // socket was opened in Python.\n    var element = $(\"#\" + id);\n    var ws_proxy = comm_websocket_adapter(comm)\n\n    function ondownload(figure, format) {\n        window.open(figure.imageObj.src);\n    }\n\n    var fig = new mpl.figure(id, ws_proxy,\n                           ondownload,\n                           element.get(0));\n\n    // Call onopen now - mpl needs it, as it is assuming we've passed it a real\n    // web socket which is closed, not our websocket->open comm proxy.\n    ws_proxy.onopen();\n\n    fig.parent_element = element.get(0);\n    fig.cell_info = mpl.find_output_cell(\"<div id='\" + id + \"'></div>\");\n    if (!fig.cell_info) {\n        console.error(\"Failed to find cell for figure\", id, fig);\n        return;\n    }\n\n    var output_index = fig.cell_info[2]\n    var cell = fig.cell_info[0];\n\n};\n\nmpl.figure.prototype.handle_close = function(fig, msg) {\n    var width = fig.canvas.width/mpl.ratio\n    fig.root.unbind('remove')\n\n    // Update the output cell to use the data from the current canvas.\n    fig.push_to_output();\n    var dataURL = fig.canvas.toDataURL();\n    // Re-enable the keyboard manager in IPython - without this line, in FF,\n    // the notebook keyboard shortcuts fail.\n    IPython.keyboard_manager.enable()\n    $(fig.parent_element).html('<img src=\"' + dataURL + '\" width=\"' + width + '\">');\n    fig.close_ws(fig, msg);\n}\n\nmpl.figure.prototype.close_ws = function(fig, msg){\n    fig.send_message('closing', msg);\n    // fig.ws.close()\n}\n\nmpl.figure.prototype.push_to_output = function(remove_interactive) {\n    // Turn the data on the canvas into data in the output cell.\n    var width = this.canvas.width/mpl.ratio\n    var dataURL = this.canvas.toDataURL();\n    this.cell_info[1]['text/html'] = '<img src=\"' + dataURL + '\" width=\"' + width + '\">';\n}\n\nmpl.figure.prototype.updated_canvas_event = function() {\n    // Tell IPython that the notebook contents must change.\n    IPython.notebook.set_dirty(true);\n    this.send_message(\"ack\", {});\n    var fig = this;\n    // Wait a second, then push the new image to the DOM so\n    // that it is saved nicely (might be nice to debounce this).\n    setTimeout(function () { fig.push_to_output() }, 1000);\n}\n\nmpl.figure.prototype._init_toolbar = function() {\n    var fig = this;\n\n    var nav_element = $('<div/>')\n    nav_element.attr('style', 'width: 100%');\n    this.root.append(nav_element);\n\n    // Define a callback function for later on.\n    function toolbar_event(event) {\n        return fig.toolbar_button_onclick(event['data']);\n    }\n    function toolbar_mouse_event(event) {\n        return fig.toolbar_button_onmouseover(event['data']);\n    }\n\n    for(var toolbar_ind in mpl.toolbar_items){\n        var name = mpl.toolbar_items[toolbar_ind][0];\n        var tooltip = mpl.toolbar_items[toolbar_ind][1];\n        var image = mpl.toolbar_items[toolbar_ind][2];\n        var method_name = mpl.toolbar_items[toolbar_ind][3];\n\n        if (!name) { continue; };\n\n        var button = $('<button class=\"btn btn-default\" href=\"#\" title=\"' + name + '\"><i class=\"fa ' + image + ' fa-lg\"></i></button>');\n        button.click(method_name, toolbar_event);\n        button.mouseover(tooltip, toolbar_mouse_event);\n        nav_element.append(button);\n    }\n\n    // Add the status bar.\n    var status_bar = $('<span class=\"mpl-message\" style=\"text-align:right; float: right;\"/>');\n    nav_element.append(status_bar);\n    this.message = status_bar[0];\n\n    // Add the close button to the window.\n    var buttongrp = $('<div class=\"btn-group inline pull-right\"></div>');\n    var button = $('<button class=\"btn btn-mini btn-primary\" href=\"#\" title=\"Stop Interaction\"><i class=\"fa fa-power-off icon-remove icon-large\"></i></button>');\n    button.click(function (evt) { fig.handle_close(fig, {}); } );\n    button.mouseover('Stop Interaction', toolbar_mouse_event);\n    buttongrp.append(button);\n    var titlebar = this.root.find($('.ui-dialog-titlebar'));\n    titlebar.prepend(buttongrp);\n}\n\nmpl.figure.prototype._root_extra_style = function(el){\n    var fig = this\n    el.on(\"remove\", function(){\n\tfig.close_ws(fig, {});\n    });\n}\n\nmpl.figure.prototype._canvas_extra_style = function(el){\n    // this is important to make the div 'focusable\n    el.attr('tabindex', 0)\n    // reach out to IPython and tell the keyboard manager to turn it's self\n    // off when our div gets focus\n\n    // location in version 3\n    if (IPython.notebook.keyboard_manager) {\n        IPython.notebook.keyboard_manager.register_events(el);\n    }\n    else {\n        // location in version 2\n        IPython.keyboard_manager.register_events(el);\n    }\n\n}\n\nmpl.figure.prototype._key_event_extra = function(event, name) {\n    var manager = IPython.notebook.keyboard_manager;\n    if (!manager)\n        manager = IPython.keyboard_manager;\n\n    // Check for shift+enter\n    if (event.shiftKey && event.which == 13) {\n        this.canvas_div.blur();\n        event.shiftKey = false;\n        // Send a \"J\" for go to next cell\n        event.which = 74;\n        event.keyCode = 74;\n        manager.command_mode();\n        manager.handle_keydown(event);\n    }\n}\n\nmpl.figure.prototype.handle_save = function(fig, msg) {\n    fig.ondownload(fig, null);\n}\n\n\nmpl.find_output_cell = function(html_output) {\n    // Return the cell and output element which can be found *uniquely* in the notebook.\n    // Note - this is a bit hacky, but it is done because the \"notebook_saving.Notebook\"\n    // IPython event is triggered only after the cells have been serialised, which for\n    // our purposes (turning an active figure into a static one), is too late.\n    var cells = IPython.notebook.get_cells();\n    var ncells = cells.length;\n    for (var i=0; i<ncells; i++) {\n        var cell = cells[i];\n        if (cell.cell_type === 'code'){\n            for (var j=0; j<cell.output_area.outputs.length; j++) {\n                var data = cell.output_area.outputs[j];\n                if (data.data) {\n                    // IPython >= 3 moved mimebundle to data attribute of output\n                    data = data.data;\n                }\n                if (data['text/html'] == html_output) {\n                    return [cell, data, j];\n                }\n            }\n        }\n    }\n}\n\n// Register the function which deals with the matplotlib target/channel.\n// The kernel may be null if the page has been refreshed.\nif (IPython.notebook.kernel != null) {\n    IPython.notebook.kernel.comm_manager.register_target('matplotlib', mpl.mpl_figure_comm);\n}\n",
          "text/plain": "<IPython.core.display.Javascript object>"
         },
         "metadata": {},
         "output_type": "display_data"
        },
        {
         "data": {
          "text/html": "<div id='b12d712a-9f8a-4500-963e-fb4e6e674492'></div>",
          "text/plain": "<IPython.core.display.HTML object>"
         },
         "metadata": {},
         "output_type": "display_data"
        }
       ]
      }
     },
     "14d0386acead462bbf1012f6524fe5bf": {
      "model_module": "@jupyter-widgets/base",
      "model_module_version": "1.0.0",
      "model_name": "LayoutModel",
      "state": {}
     },
     "14f344c70a614c1daf3a22c8890cfa9a": {
      "model_module": "@jupyter-widgets/controls",
      "model_module_version": "1.0.0",
      "model_name": "DescriptionStyleModel",
      "state": {
       "description_width": ""
      }
     },
     "167c1d7ad81f413f90c54f4c1203afc1": {
      "model_module": "@jupyter-widgets/controls",
      "model_module_version": "1.0.0",
      "model_name": "DescriptionStyleModel",
      "state": {
       "description_width": ""
      }
     },
     "187c13a3ae944e8cb871e7f27bcd60ed": {
      "model_module": "@jupyter-widgets/base",
      "model_module_version": "1.0.0",
      "model_name": "LayoutModel",
      "state": {}
     },
     "189cfb320f8c41bc8f40b8f1250340f8": {
      "model_module": "@jupyter-widgets/controls",
      "model_module_version": "1.0.0",
      "model_name": "VBoxModel",
      "state": {
       "_dom_classes": [
        "widget-interact"
       ],
       "children": [
        "IPY_MODEL_bcf530b0855044c6b39b8deeea11d899",
        "IPY_MODEL_8273878a279840038156c0a9ad08057e",
        "IPY_MODEL_962f98530fd94f3f99ee6f9d0ef7eaa0",
        "IPY_MODEL_256e2053072e41659e2a9642edc6de0d",
        "IPY_MODEL_1e8cfecef2f64a5a8b41c0bb1c3659b7"
       ],
       "layout": "IPY_MODEL_b7ebd367dfc141c6bb6e0e6af6edebec"
      }
     },
     "18dea1dec9b940948806b9423914072e": {
      "model_module": "@jupyter-widgets/controls",
      "model_module_version": "1.0.0",
      "model_name": "SliderStyleModel",
      "state": {
       "description_width": ""
      }
     },
     "19196e596d3547b998c27889188b575e": {
      "model_module": "@jupyter-widgets/base",
      "model_module_version": "1.0.0",
      "model_name": "LayoutModel",
      "state": {}
     },
     "19c99819fac245309bd280e2696316d6": {
      "model_module": "@jupyter-widgets/base",
      "model_module_version": "1.0.0",
      "model_name": "LayoutModel",
      "state": {}
     },
     "19ceb842d0aa431083f883c411855d9f": {
      "model_module": "@jupyter-widgets/controls",
      "model_module_version": "1.0.0",
      "model_name": "DescriptionStyleModel",
      "state": {
       "description_width": ""
      }
     },
     "1b723c3706214aff810905c9dbeb33ee": {
      "model_module": "@jupyter-widgets/base",
      "model_module_version": "1.0.0",
      "model_name": "LayoutModel",
      "state": {}
     },
     "1d1afeec32f0471ea2a543619f32472b": {
      "model_module": "@jupyter-widgets/base",
      "model_module_version": "1.0.0",
      "model_name": "LayoutModel",
      "state": {}
     },
     "1e8cfecef2f64a5a8b41c0bb1c3659b7": {
      "model_module": "@jupyter-widgets/output",
      "model_module_version": "1.0.0",
      "model_name": "OutputModel",
      "state": {
       "layout": "IPY_MODEL_dfac9211ec824035969be4acca22029d"
      }
     },
     "1f871f9cd0d24d75a3972478d3a38276": {
      "model_module": "@jupyter-widgets/base",
      "model_module_version": "1.0.0",
      "model_name": "LayoutModel",
      "state": {}
     },
     "20f04e1cae29434ba81a50dd0fad8b25": {
      "model_module": "@jupyter-widgets/output",
      "model_module_version": "1.0.0",
      "model_name": "OutputModel",
      "state": {
       "layout": "IPY_MODEL_7082d8ab376343b19204e3e37c5e95c8"
      }
     },
     "218c540cdca94d438806bafe8b281d1e": {
      "model_module": "@jupyter-widgets/controls",
      "model_module_version": "1.0.0",
      "model_name": "TextModel",
      "state": {
       "description": "bn:",
       "layout": "IPY_MODEL_19196e596d3547b998c27889188b575e",
       "placeholder": "-(2 * numpy.pi * n * numpy.sinh(L) * (-1)**n) / ((L**2) + ((numpy.pi * n)**2))",
       "style": "IPY_MODEL_8de3f9eb786a4b3db95cf9d8f033b9d1",
       "value": "-(2 * numpy.pi * n * numpy.sinh(L) * (-1)**n) / ((L**2) + ((numpy.pi * n)**2))"
      }
     },
     "2210a129fde14d2fb894833e5e2a72d0": {
      "model_module": "@jupyter-widgets/controls",
      "model_module_version": "1.0.0",
      "model_name": "SliderStyleModel",
      "state": {
       "description_width": ""
      }
     },
     "22691d1f0560426eaf8cad189f0151fc": {
      "model_module": "@jupyter-widgets/controls",
      "model_module_version": "1.0.0",
      "model_name": "SliderStyleModel",
      "state": {
       "description_width": ""
      }
     },
     "23af6271773649f3abfc4e3758e2e9e3": {
      "model_module": "@jupyter-widgets/output",
      "model_module_version": "1.0.0",
      "model_name": "OutputModel",
      "state": {
       "layout": "IPY_MODEL_04764e74abb848a587ea24e6e70b3020"
      }
     },
     "248ece095aa34ee9888b17b29b7a32c6": {
      "model_module": "@jupyter-widgets/controls",
      "model_module_version": "1.0.0",
      "model_name": "TextModel",
      "state": {
       "description": "an:",
       "layout": "IPY_MODEL_b5d76e5d8767499498b0fc8f6da5ff53",
       "placeholder": "0",
       "style": "IPY_MODEL_bf2ddba21e7b46eea5130b7582f5c1d9",
       "value": "0"
      }
     },
     "256e2053072e41659e2a9642edc6de0d": {
      "model_module": "@jupyter-widgets/controls",
      "model_module_version": "1.0.0",
      "model_name": "TextModel",
      "state": {
       "description": "bn:",
       "layout": "IPY_MODEL_1b723c3706214aff810905c9dbeb33ee",
       "placeholder": "-(2 * numpy.pi * n * numpy.sinh(L) * (-1)**n) / ((L**2) + ((numpy.pi * n)**2))",
       "style": "IPY_MODEL_dcb69d3d86cb4f838af4362b2640d18d",
       "value": "-(2 * numpy.pi * n * numpy.sinh(L) * (-1)**n) / ((L**2) + ((numpy.pi * n)**2))"
      }
     },
     "260a9a59171a4455b7a307cefb2b1704": {
      "model_module": "@jupyter-widgets/controls",
      "model_module_version": "1.0.0",
      "model_name": "TextModel",
      "state": {
       "description": "an:",
       "layout": "IPY_MODEL_7b5d2eeef4d24bb7beebc100b49b4e23",
       "placeholder": "0",
       "style": "IPY_MODEL_60eba741e7504a1f900bd9c858dd73fd",
       "value": "0"
      }
     },
     "2781c27ed3864049aa374e3ea7e3bbdc": {
      "model_module": "@jupyter-widgets/controls",
      "model_module_version": "1.0.0",
      "model_name": "DescriptionStyleModel",
      "state": {
       "description_width": ""
      }
     },
     "289a2a4d434f407886a0262fa386e6d9": {
      "model_module": "@jupyter-widgets/controls",
      "model_module_version": "1.0.0",
      "model_name": "VBoxModel",
      "state": {
       "_dom_classes": [
        "widget-interact"
       ],
       "children": [
        "IPY_MODEL_ba5affa11f2347bf9233ce3c0e775c99",
        "IPY_MODEL_ce8412e1d4374b27a1040e7147fc60a0",
        "IPY_MODEL_248ece095aa34ee9888b17b29b7a32c6",
        "IPY_MODEL_fc78dfff7052472aba3b65e48ac715e7",
        "IPY_MODEL_1140d52533d942a788e746eaecc3071d"
       ],
       "layout": "IPY_MODEL_69dd9ddf986a4bed9c9f2076d29fc4b8"
      }
     },
     "29c3e1ad1f564bc8a544ac4c791d7e0e": {
      "model_module": "@jupyter-widgets/controls",
      "model_module_version": "1.0.0",
      "model_name": "VBoxModel",
      "state": {
       "_dom_classes": [
        "widget-interact"
       ],
       "children": [
        "IPY_MODEL_406f06375e994b809122c5b34344c12a",
        "IPY_MODEL_d7b384e11caf4bc0a3e3d2930bf6999a",
        "IPY_MODEL_e30f56ce607e4d1691822408a7968d01",
        "IPY_MODEL_9c66bdc388f84413a4b01104b38f6e33"
       ],
       "layout": "IPY_MODEL_04a8aed57d2b417183070958959206e5"
      }
     },
     "2f46319189684c48a3073375a10b15f4": {
      "model_module": "@jupyter-widgets/controls",
      "model_module_version": "1.0.0",
      "model_name": "IntSliderModel",
      "state": {
       "continuous_update": false,
       "description": "n",
       "layout": "IPY_MODEL_fe53daae50f7403faaeb0f5bc8326306",
       "min": 1,
       "style": "IPY_MODEL_0cb6036f84724ae899e9060b9a55a921",
       "value": 43
      }
     },
     "2f5ef0af765d4874bb73674056138069": {
      "model_module": "@jupyter-widgets/controls",
      "model_module_version": "1.0.0",
      "model_name": "SliderStyleModel",
      "state": {
       "description_width": ""
      }
     },
     "322a56cdccc045cea2549d47b38d147f": {
      "model_module": "@jupyter-widgets/controls",
      "model_module_version": "1.0.0",
      "model_name": "TextModel",
      "state": {
       "description": "an:",
       "layout": "IPY_MODEL_8a31046cc96f4888859c0773f8160d5b",
       "placeholder": "0",
       "style": "IPY_MODEL_2781c27ed3864049aa374e3ea7e3bbdc",
       "value": "0"
      }
     },
     "33f91fd4d1454ea0b9a7cf9de882193d": {
      "model_module": "@jupyter-widgets/base",
      "model_module_version": "1.0.0",
      "model_name": "LayoutModel",
      "state": {}
     },
     "3600de3b1b1b47d1b74148d9dbcda694": {
      "model_module": "@jupyter-widgets/controls",
      "model_module_version": "1.0.0",
      "model_name": "DescriptionStyleModel",
      "state": {
       "description_width": ""
      }
     },
     "38a8461144374556a45a971f1c2d9d28": {
      "model_module": "@jupyter-widgets/base",
      "model_module_version": "1.0.0",
      "model_name": "LayoutModel",
      "state": {}
     },
     "3a4c98b9f3534046847514733eff1d6a": {
      "model_module": "@jupyter-widgets/base",
      "model_module_version": "1.0.0",
      "model_name": "LayoutModel",
      "state": {}
     },
     "3e60c65d31be4e27ab7307c76d8f1eec": {
      "model_module": "@jupyter-widgets/controls",
      "model_module_version": "1.0.0",
      "model_name": "VBoxModel",
      "state": {
       "_dom_classes": [
        "widget-interact"
       ],
       "children": [
        "IPY_MODEL_dcce770e9c0d41df938ea7914d0944d7",
        "IPY_MODEL_7e863728ec29493aaf3377025827ff99",
        "IPY_MODEL_322a56cdccc045cea2549d47b38d147f",
        "IPY_MODEL_e20c9c2c5bae437fbb5c080d7fbe05e2",
        "IPY_MODEL_d4ba6aaa40da4e20bb044e323edd9f97"
       ],
       "layout": "IPY_MODEL_b3756941f97f4acbbf0e066dd1d97895"
      }
     },
     "406f06375e994b809122c5b34344c12a": {
      "model_module": "@jupyter-widgets/controls",
      "model_module_version": "1.0.0",
      "model_name": "IntSliderModel",
      "state": {
       "continuous_update": false,
       "description": "n",
       "layout": "IPY_MODEL_6bd7d39e471548bfb5abc12018a9629f",
       "min": 1,
       "style": "IPY_MODEL_c96b1b83eaf740c9b681fd7ffc3af4ba",
       "value": 49
      }
     },
     "415510f276664f9a8e329b3d44d21afd": {
      "model_module": "@jupyter-widgets/base",
      "model_module_version": "1.0.0",
      "model_name": "LayoutModel",
      "state": {}
     },
     "43532a602df24a94a3404ac8ca7b50d1": {
      "model_module": "@jupyter-widgets/base",
      "model_module_version": "1.0.0",
      "model_name": "LayoutModel",
      "state": {}
     },
     "435b7ed54c5d44d7a5f3732332cb9d18": {
      "model_module": "@jupyter-widgets/controls",
      "model_module_version": "1.0.0",
      "model_name": "DescriptionStyleModel",
      "state": {
       "description_width": ""
      }
     },
     "478548c959624e969fafe33d6bdfe71e": {
      "model_module": "@jupyter-widgets/controls",
      "model_module_version": "1.0.0",
      "model_name": "SliderStyleModel",
      "state": {
       "description_width": ""
      }
     },
     "48cd867f949542ca91335f3844e8f9ee": {
      "model_module": "@jupyter-widgets/base",
      "model_module_version": "1.0.0",
      "model_name": "LayoutModel",
      "state": {}
     },
     "4aff87e62ccd4670bc971102fec6f13e": {
      "model_module": "@jupyter-widgets/base",
      "model_module_version": "1.0.0",
      "model_name": "LayoutModel",
      "state": {}
     },
     "506183a535f340db86c0eaf6bb7ecf9e": {
      "model_module": "@jupyter-widgets/controls",
      "model_module_version": "1.0.0",
      "model_name": "ToggleButtonModel",
      "state": {
       "description": "Update",
       "layout": "IPY_MODEL_613303009e674906be5628f994f1de03",
       "style": "IPY_MODEL_0ddd6c2b86c6414f8d3ad7d95a2c1413"
      }
     },
     "50e0c560594a405f86f43f27e074ddbe": {
      "model_module": "@jupyter-widgets/controls",
      "model_module_version": "1.0.0",
      "model_name": "ToggleButtonModel",
      "state": {
       "description": "Update",
       "layout": "IPY_MODEL_19c99819fac245309bd280e2696316d6",
       "style": "IPY_MODEL_8d7f265495f24cb08c6c4406d9c95022",
       "value": true
      }
     },
     "5456a0d06eb54c61a05820c7a5aa75be": {
      "model_module": "@jupyter-widgets/controls",
      "model_module_version": "1.0.0",
      "model_name": "TextModel",
      "state": {
       "description": "bn:",
       "layout": "IPY_MODEL_187c13a3ae944e8cb871e7f27bcd60ed",
       "placeholder": "-(2 * numpy.pi * n * numpy.sinh(L) * (-1)**n) / ((L**2) + ((numpy.pi * n)**2))",
       "style": "IPY_MODEL_3600de3b1b1b47d1b74148d9dbcda694",
       "value": "-(2 * numpy.pi * n * numpy.sinh(L) * (-1)**n) / ((L**2) + ((numpy.pi * n)**2))"
      }
     },
     "5a05882df66e4c9c890328808c362be4": {
      "model_module": "@jupyter-widgets/base",
      "model_module_version": "1.0.0",
      "model_name": "LayoutModel",
      "state": {}
     },
     "5aa4b072e14d48cd9c96c2c42084f351": {
      "model_module": "@jupyter-widgets/controls",
      "model_module_version": "1.0.0",
      "model_name": "TextModel",
      "state": {
       "description": "f:",
       "layout": "IPY_MODEL_f6d8fd3200654789b24a67f91335ee70",
       "placeholder": "numpy.sinh(t)",
       "style": "IPY_MODEL_e3595f04993a43c8bddaafc0a6cb2a65",
       "value": "numpy.sinh(t)"
      }
     },
     "5dcb5acf0e0b45a9b724e0816be57559": {
      "model_module": "@jupyter-widgets/controls",
      "model_module_version": "1.0.0",
      "model_name": "DescriptionStyleModel",
      "state": {
       "description_width": ""
      }
     },
     "60a176e214644ea9a8e6149dca7d36cb": {
      "model_module": "@jupyter-widgets/base",
      "model_module_version": "1.0.0",
      "model_name": "LayoutModel",
      "state": {}
     },
     "60d7f1b7968f44c9a84232c7326eb1bd": {
      "model_module": "@jupyter-widgets/base",
      "model_module_version": "1.0.0",
      "model_name": "LayoutModel",
      "state": {}
     },
     "60eba741e7504a1f900bd9c858dd73fd": {
      "model_module": "@jupyter-widgets/controls",
      "model_module_version": "1.0.0",
      "model_name": "DescriptionStyleModel",
      "state": {
       "description_width": ""
      }
     },
     "613303009e674906be5628f994f1de03": {
      "model_module": "@jupyter-widgets/base",
      "model_module_version": "1.0.0",
      "model_name": "LayoutModel",
      "state": {}
     },
     "62f714324e8b479da45f2757d08a6424": {
      "model_module": "@jupyter-widgets/base",
      "model_module_version": "1.0.0",
      "model_name": "LayoutModel",
      "state": {}
     },
     "6594da41897b4c22b606fbc8db9bbb0c": {
      "model_module": "@jupyter-widgets/controls",
      "model_module_version": "1.0.0",
      "model_name": "DescriptionStyleModel",
      "state": {
       "description_width": ""
      }
     },
     "6726c9ef17d8494491da1a02bc4414fb": {
      "model_module": "@jupyter-widgets/base",
      "model_module_version": "1.0.0",
      "model_name": "LayoutModel",
      "state": {}
     },
     "69dd9ddf986a4bed9c9f2076d29fc4b8": {
      "model_module": "@jupyter-widgets/base",
      "model_module_version": "1.0.0",
      "model_name": "LayoutModel",
      "state": {}
     },
     "6bd7d39e471548bfb5abc12018a9629f": {
      "model_module": "@jupyter-widgets/base",
      "model_module_version": "1.0.0",
      "model_name": "LayoutModel",
      "state": {}
     },
     "6d67dbbf757743f892a4133210e640b5": {
      "model_module": "@jupyter-widgets/base",
      "model_module_version": "1.0.0",
      "model_name": "LayoutModel",
      "state": {}
     },
     "7082d8ab376343b19204e3e37c5e95c8": {
      "model_module": "@jupyter-widgets/base",
      "model_module_version": "1.0.0",
      "model_name": "LayoutModel",
      "state": {}
     },
     "7302ea6c58b445e68d5232438369b590": {
      "model_module": "@jupyter-widgets/controls",
      "model_module_version": "1.0.0",
      "model_name": "IntSliderModel",
      "state": {
       "continuous_update": false,
       "description": "L",
       "layout": "IPY_MODEL_b73d750fb3f94ad49d5371862905d3d3",
       "max": 5,
       "min": 1,
       "style": "IPY_MODEL_8cac9ad790874676a95b3ffc656dddd1",
       "value": 1
      }
     },
     "76e1729b27624ba3b4292bd825755b0a": {
      "model_module": "@jupyter-widgets/controls",
      "model_module_version": "1.0.0",
      "model_name": "SliderStyleModel",
      "state": {
       "description_width": ""
      }
     },
     "77c4decc9f194d35b7b5833faa2b6ed4": {
      "model_module": "@jupyter-widgets/controls",
      "model_module_version": "1.0.0",
      "model_name": "IntSliderModel",
      "state": {
       "continuous_update": false,
       "description": "n",
       "layout": "IPY_MODEL_6d67dbbf757743f892a4133210e640b5",
       "min": 1,
       "style": "IPY_MODEL_76e1729b27624ba3b4292bd825755b0a",
       "value": 1
      }
     },
     "78af16ada54b4d49b36e2e65a9b01d61": {
      "model_module": "@jupyter-widgets/controls",
      "model_module_version": "1.0.0",
      "model_name": "IntSliderModel",
      "state": {
       "continuous_update": false,
       "description": "L",
       "layout": "IPY_MODEL_cc784402fc074f9f87b07993486f059e",
       "max": 5,
       "min": 1,
       "style": "IPY_MODEL_22691d1f0560426eaf8cad189f0151fc",
       "value": 1
      }
     },
     "791aadaf8106409193f5a675d749b924": {
      "model_module": "@jupyter-widgets/base",
      "model_module_version": "1.0.0",
      "model_name": "LayoutModel",
      "state": {}
     },
     "7b5d2eeef4d24bb7beebc100b49b4e23": {
      "model_module": "@jupyter-widgets/base",
      "model_module_version": "1.0.0",
      "model_name": "LayoutModel",
      "state": {}
     },
     "7e863728ec29493aaf3377025827ff99": {
      "model_module": "@jupyter-widgets/controls",
      "model_module_version": "1.0.0",
      "model_name": "TextModel",
      "state": {
       "description": "a0:",
       "layout": "IPY_MODEL_1f871f9cd0d24d75a3972478d3a38276",
       "placeholder": "0",
       "style": "IPY_MODEL_9463b2c4f40447eb9b1bd2693ff3db3e",
       "value": "0"
      }
     },
     "8273878a279840038156c0a9ad08057e": {
      "model_module": "@jupyter-widgets/controls",
      "model_module_version": "1.0.0",
      "model_name": "TextModel",
      "state": {
       "description": "a0:",
       "layout": "IPY_MODEL_1d1afeec32f0471ea2a543619f32472b",
       "placeholder": "0",
       "style": "IPY_MODEL_19ceb842d0aa431083f883c411855d9f",
       "value": "0"
      }
     },
     "83a63fe1586640ceb160f08f7213a61f": {
      "model_module": "@jupyter-widgets/base",
      "model_module_version": "1.0.0",
      "model_name": "LayoutModel",
      "state": {}
     },
     "86892a20e4b640b4b5312ef9918f98db": {
      "model_module": "@jupyter-widgets/controls",
      "model_module_version": "1.0.0",
      "model_name": "IntSliderModel",
      "state": {
       "continuous_update": false,
       "description": "L",
       "layout": "IPY_MODEL_60d7f1b7968f44c9a84232c7326eb1bd",
       "max": 5,
       "min": 1,
       "style": "IPY_MODEL_2f5ef0af765d4874bb73674056138069",
       "value": 1
      }
     },
     "8815ebf9de144c80ab05db01d6b8bb80": {
      "model_module": "@jupyter-widgets/base",
      "model_module_version": "1.0.0",
      "model_name": "LayoutModel",
      "state": {}
     },
     "891fb050f82246ae8f1127fed9e4e30e": {
      "model_module": "@jupyter-widgets/controls",
      "model_module_version": "1.0.0",
      "model_name": "VBoxModel",
      "state": {
       "_dom_classes": [
        "widget-interact"
       ],
       "children": [
        "IPY_MODEL_77c4decc9f194d35b7b5833faa2b6ed4",
        "IPY_MODEL_78af16ada54b4d49b36e2e65a9b01d61",
        "IPY_MODEL_506183a535f340db86c0eaf6bb7ecf9e",
        "IPY_MODEL_cc4e4e1680c24802976388cfc72a8765"
       ],
       "layout": "IPY_MODEL_0757e94756504f6ebd751b13e4104e90"
      }
     },
     "8a31046cc96f4888859c0773f8160d5b": {
      "model_module": "@jupyter-widgets/base",
      "model_module_version": "1.0.0",
      "model_name": "LayoutModel",
      "state": {}
     },
     "8cac9ad790874676a95b3ffc656dddd1": {
      "model_module": "@jupyter-widgets/controls",
      "model_module_version": "1.0.0",
      "model_name": "SliderStyleModel",
      "state": {
       "description_width": ""
      }
     },
     "8d7f265495f24cb08c6c4406d9c95022": {
      "model_module": "@jupyter-widgets/controls",
      "model_module_version": "1.0.0",
      "model_name": "DescriptionStyleModel",
      "state": {
       "description_width": ""
      }
     },
     "8ddb1c9aa77d4b0daf2a93ca91d56dc8": {
      "model_module": "@jupyter-widgets/base",
      "model_module_version": "1.0.0",
      "model_name": "LayoutModel",
      "state": {}
     },
     "8de3f9eb786a4b3db95cf9d8f033b9d1": {
      "model_module": "@jupyter-widgets/controls",
      "model_module_version": "1.0.0",
      "model_name": "DescriptionStyleModel",
      "state": {
       "description_width": ""
      }
     },
     "8eb694d2e2c948d9a674bdd44455b8ef": {
      "model_module": "@jupyter-widgets/base",
      "model_module_version": "1.0.0",
      "model_name": "LayoutModel",
      "state": {}
     },
     "8fab5ca5b2514a0e8c0e793a373cabda": {
      "model_module": "@jupyter-widgets/base",
      "model_module_version": "1.0.0",
      "model_name": "LayoutModel",
      "state": {}
     },
     "8fed2f4d43304500ab296c6f29596849": {
      "model_module": "@jupyter-widgets/controls",
      "model_module_version": "1.0.0",
      "model_name": "DescriptionStyleModel",
      "state": {
       "description_width": ""
      }
     },
     "9463b2c4f40447eb9b1bd2693ff3db3e": {
      "model_module": "@jupyter-widgets/controls",
      "model_module_version": "1.0.0",
      "model_name": "DescriptionStyleModel",
      "state": {
       "description_width": ""
      }
     },
     "962f98530fd94f3f99ee6f9d0ef7eaa0": {
      "model_module": "@jupyter-widgets/controls",
      "model_module_version": "1.0.0",
      "model_name": "TextModel",
      "state": {
       "description": "an:",
       "layout": "IPY_MODEL_38a8461144374556a45a971f1c2d9d28",
       "placeholder": "0",
       "style": "IPY_MODEL_08804de8b2c94838a352080ae00a387f",
       "value": "0"
      }
     },
     "98e78e677a4948f28cf7a6909af8d4d9": {
      "model_module": "@jupyter-widgets/base",
      "model_module_version": "1.0.0",
      "model_name": "LayoutModel",
      "state": {}
     },
     "99829ce36dfc4689956d80edc704bdd4": {
      "model_module": "@jupyter-widgets/controls",
      "model_module_version": "1.0.0",
      "model_name": "DescriptionStyleModel",
      "state": {
       "description_width": ""
      }
     },
     "9c66bdc388f84413a4b01104b38f6e33": {
      "model_module": "@jupyter-widgets/output",
      "model_module_version": "1.0.0",
      "model_name": "OutputModel",
      "state": {
       "layout": "IPY_MODEL_83a63fe1586640ceb160f08f7213a61f",
       "outputs": [
        {
         "data": {
          "image/png": "iVBORw0KGgoAAAANSUhEUgAAAnIAAAFGCAYAAADuLXKzAAAABHNCSVQICAgIfAhkiAAAAAlwSFlz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\n",
          "text/plain": "<matplotlib.figure.Figure at 0x1e9558e8da0>"
         },
         "metadata": {},
         "output_type": "display_data"
        }
       ]
      }
     },
     "9e52389b606940f4a98e37c3b20a214b": {
      "model_module": "@jupyter-widgets/base",
      "model_module_version": "1.0.0",
      "model_name": "LayoutModel",
      "state": {}
     },
     "a12dc22fe52442f9b902cfcb158999b0": {
      "model_module": "@jupyter-widgets/controls",
      "model_module_version": "1.0.0",
      "model_name": "IntSliderModel",
      "state": {
       "continuous_update": false,
       "description": "L",
       "layout": "IPY_MODEL_e29c023dba9b4525b9f4ab793941ef26",
       "max": 5,
       "min": 1,
       "style": "IPY_MODEL_2210a129fde14d2fb894833e5e2a72d0",
       "value": 1
      }
     },
     "a17dbf0b8e0a46fd83cd9a5651355163": {
      "model_module": "@jupyter-widgets/base",
      "model_module_version": "1.0.0",
      "model_name": "LayoutModel",
      "state": {}
     },
     "ac81084cff8542a395cb2354893aa265": {
      "model_module": "@jupyter-widgets/controls",
      "model_module_version": "1.0.0",
      "model_name": "ToggleButtonModel",
      "state": {
       "description": "Update",
       "layout": "IPY_MODEL_10363d226ae74a05b050b3d2978dc342",
       "style": "IPY_MODEL_14f344c70a614c1daf3a22c8890cfa9a"
      }
     },
     "b0af9048ef80449c89f7d7586dcb0b45": {
      "model_module": "@jupyter-widgets/controls",
      "model_module_version": "1.0.0",
      "model_name": "DescriptionStyleModel",
      "state": {
       "description_width": ""
      }
     },
     "b1c1511e50654a5dbc270b2c500768a4": {
      "model_module": "@jupyter-widgets/output",
      "model_module_version": "1.0.0",
      "model_name": "OutputModel",
      "state": {
       "layout": "IPY_MODEL_6726c9ef17d8494491da1a02bc4414fb",
       "outputs": [
        {
         "data": {
          "image/png": "iVBORw0KGgoAAAANSUhEUgAAAnIAAAFFCAYAAABouQAdAAAABHNCSVQICAgIfAhkiAAAAAlwSFlz\nAAALEgAACxIB0t1+/AAAADl0RVh0U29mdHdhcmUAbWF0cGxvdGxpYiB2ZXJzaW9uIDIuMS4wLCBo\ndHRwOi8vbWF0cGxvdGxpYi5vcmcvpW3flQAAIABJREFUeJzt3Xl43dV95/H30WpZkmXLsiVLsi3v\nxgsYUExwIJh9S+yQkJmQPgk0YWhKM1k6TYaZTiedzEwnnc40TYekrZNSSNpAE0LAJCSEJYKE3QYb\nbIz3TZZXWV4ky9Z25o97cQRekMHWvT/p/Xqe+9zfcnz1fXzu1f3onN8SYoxIkiQpeXIyXYAkSZLe\nHYOcJElSQhnkJEmSEsogJ0mSlFAGOUmSpIQyyEmSJCWUQU6SJCmhDHKSJEkJZZCTJElKqLxMF9Af\nKioqYl1dXabLOCWd3ZFdBw+zt62DnBCoKCmgorSQ3BAyXZreg7a2NoqLizNdhk4T+3PgsU+Trasn\nsutA6ruTAGUFOVSXl5Cbk6zvzqVLl+6JMY7qS9usC3IhhLuADwG7YoyzjrN/PvAQsDG96YEY49dP\n9pp1dXUsWbLkdJfaL+77+ZM8c2AEDy9vIg7N57b5k/j0hXUMyc/NdGl6FxoaGpg/f36my9BpYn8O\nPPZpMrUe6eJ7v9nAd5/eQFFXD1+uH8uXrpjCqpefT2R/hhA297Vt1gU54G7gTuD7J2nzmxjjh/qn\nnMyqKs7h/11/Ln/wwYn81aOr+YtH3uCu327iS1dM4cbza8nLdXZckjQ4He7s5ocvbOHbv15Hc1sH\n182u4j9cNY1Jo0oAWJXh+vpD1gW5GOPTIYS6TNeRbWbVlHHPZ+by3Ppm/vejb3DHA6+x6Dcb+OLl\nU/jQ2dWJGzaWJOndOtLVzY9e2sqdv17HzgNHuHDiSP7jtdOZM3Z4pkvrd1kX5ProwhDCcqAJ+JMY\n48pMF9RfLpw0kgf+cB6Pvb6T//Or1XzxvmXc+eQ6vnD5FK6fPYYcA50kaYDq7O7h/qWN3PnkOrbt\na6d+/Ai++W/nMG9SRaZLy5gQY8x0DcdIj8j97ATHyA0DemKMrSGE64BvxRinHKfdbcBtAJWVleff\nd999Z7boM6S1tZWSkpLj7uuJkSU7unlwfQdNrZGaksDCyQXUV+aS40kRWelk/anksT8HHvs0O3X3\nRJ5t6mLx+k52t0cmluXw0SkFzByZQzjJ911S+/PSSy9dGmOs70vbxAW547TdBNTHGPecqE19fX1M\n6skOfTnwtrsn8vPXtvOtx9ewfncb06tK+eLlU7h6ZpUjdFnGA6kHFvtz4LFPs0t3T2Tx8m186/G1\nbGo+xOyaMv74yqnMnzbqpAHuTUntzxBCn4Nc4qZWQwhVwM4YYwwhzCV1LbzmDJeVUbk5gQXnVHP9\n7DH87NUmvvXEWv7wX15melUpX7piKlfNqDTQSZISo7O7h8XLmvh2wzo27G7jrDHDWPSp87lyRmWf\nAtxgknVBLoRwLzAfqAghNAJfA/IBYox/D9wI/GEIoQtoBz4Rs3FYMQNycwIL59TwobOrWbx8G3/7\nxDo+989LmV5Vyu2XTub62WM8KUKSlLUOd3Zz/9JG/v6p9TS2tDO9qpTv/N55XOMM0wllXZCLMd70\nDvvvJHV5Ep1Abk7ghnNr+fDZ1Sxe3sR3GtbzhXtf4a9/tZrPXTKJG86roTDP69BJkrLDoY4ufvjC\nFhY9vYFdB48wZ+xw/tuCmVw2fbQjcO8g64KcTp+83Bw+el4tH5lTw69e38G3f72eOx54jb95fC3/\n7oMTuWnuWIYW+BaQJGXGgcOdfP/ZTdz1zCb2tnVw4cSR6bNQRxrg+shv8UEgJydwzawxXD2zit+s\n3cO3f72O//6z17nzybV85gMT+PSFdZQNzc90mZKkQWJP6xHufmYT9zy3iYOHu7h02ig+f9lkzh9f\nnunSEscgN4iEEPjg1FF8cOoolmzay3ca1vN/H1vDPzy9gd97/zh+f94EqsqGZLpMSdIAtWF3K9/7\n7UZ+srSRju4erp1Vxe3zJzOrpizTpSWWQW6Qqq8r565bylnZtJ/vNKznu09v4B9/s5EF51Rz68UT\nmVE9LNMlSpIGiCWb9rLo6Q08tmon+bk5fOy8Wm69eMLRW2np3TPIDXIzq8v49ifPY0vzIe56ZiM/\nWrKVB17ZxkWTK7j14glcMrVv1+qRJKm37p7IY6/vZNHT63l5yz6GD83n3186mU/Pq6OipDDT5Q0Y\nBjkBMG7kUP58wUy+fMVU/uXFzdz9zCZu+aeXmFZZymcvnsDCOdWe6SpJekftHd385OVG/vG3G9m4\np41x5UP5+sKZ3Hh+rSfYnQH+j+otyobmc/v8ydx60UQeXt7Ed3+zga/e/yp/9ehqbr5wPJ+8YDzl\nxQWZLlOSlGW27WvnB89t5r6XtrDvUCfn1KZmfK6ZVeU1TM8gg5yOqyAvh4+dX8tHz6vht+v28N3f\nbOT//GoNf/vkOhacU80t8+o8OFWSBrkYIy9u3Mvdz27i0ZU7ALh6ZhW3zKtj7oRyD83pBwY5nVQI\ngYunjOLiKaNYs/Mg9zy7iQde3sb9Sxs5f/wIbp5Xx7WzqsjPzcl0qZKkfnK4s5vFy5r4p2c3sWr7\nAYYPzee2D07iUxeOp2Z4UabLG1QMcuqzqZWl/M8bZvPVa6bz4yVb+cHzm/nCva8wurSQ37tgPDdd\nMJbRpV6+RJIGqu37U9On9764hZZDnUyvKuUbH53Nwjk1FBV4HHUmGOR0ysqK8rn14ol85gMTeGrN\nbu5+dhPffHwNd/56LdfPHsOnLhzPeeNGOKQuSQNAd0/k6bW7+eELW3hi1U4ArpxRyS3zJvD+iU6f\nZppBTu9aTk7g0umjuXT6aDbsbuX7z23m/qWNPLisiWmVpdw0dyw3nFvrXSMkKYF2HTzMj5c0cu+L\nW2hsaaeipIDPXTKJm+aOY2z50EyXpzSDnE6LiaNK+PMFM/nK1dN4eHkT9764hT9/+HX+1y/e4ENn\nV/PJC8Y6SidJWa6nJ/LchmZ++MIWHl25g66eyLxJI7nj2ulcNaOKgjyPh842BjmdVsWFeXxi7jg+\nMXccK7bt594Xt/DQsiZ+8nKjo3SSlKX2tB7hgZcbuffFrWzc08bwofncMq+Omy4Y590XspxBTmfM\nrJoy/ucNs/nP153Fw8ub+GGvUbrrZ4/hxvpa3j9hJDleX0iS+l1ndw8Nq3fz4yVbefKNXXT1ROrH\nj+ALl0/m2lljGJLvyQtJYJDTGff2UbofvriFh5c18cAr26gdUcTHzqvlY+fVMm6kx1xI0pm2dudB\nfry0kQde3sae1iNUlBTwmYsmcOP5tUytLM10eTpFBjn1q1k1ZfzFDbP5s+tn8KvXd3D/0kb+9sm1\nfOuJtVwwoZwbz6/lutljKC70rSlJp8uBw508vLyJHy1pZPnWfeTlBC6bPpqP149l/rRRXgs0wfy2\nVEYUFeSycE4NC+fU0LSvnZ++krrI8Ffuf5WvLV7JdbPHcOP5tcytK3fqVZLehc7uHn67bg8PvrKN\nX67YwZGuHqZXlfJfrj+Lj5xb443rBwiDnDKuengRf3TpZG6fP4mlm1u4f2kjP3t1O/cvbaRmeBEL\n5lSzcE4106uGZbpUScpqMUZe3rKPh5Zt4+evbqe5rYOyonz+Tf1YPl5fy+yaMq8eMMAY5JQ1QgjU\n15VTX1fO1z48k1+u3M6DrzSx6OkN/F3DeqZVlrJgTjULzqn2GkaS1Mu6XQd5aFkTDy1rYsveQxTm\n5XDFjEo+MqeGS6aO8rIhA5hBTlmpqCCXG86t5YZza2luPcIjr23noWVN/NWjq/mrR1dz3rjhLJxT\nw3WzxzCq1OkBSYPPjv2HeXh5Ew8u28bKpgPkBPjA5Aq+cPkUrp5ZSekQL/M0GBjklPVGlhTyqQvr\n+NSFdWzde4iHX21i8bImvrZ4Jf/t4ZV8YHIFHz67mitnVDKiuCDT5UrSGbN9fzu/eG0Hv1ixnSWb\nW4gRzqkt488+NIMPnz2G0cO83/VgY5BToowtH8rt8ydz+/zJrN5xkMXLt7F4eRNf/cmr5P40MG/S\nSK6ZVcVVM6ocqZM0IDTta+eR17bzixU7WLq5BYDpVaV86fKpfPicMUz0gr2DmkFOiTWtqpSvVE3n\nT66axoptB/jFitQvuj/96Qr+7MEVvK+unOtmj+HqmVVUlflXqqTkaGw5xC9e28EjK7bzypZ9AJw1\nZhh/ctVUrp09xrst6CiDnBIvhMDs2jJm15bxlaunsXrnQR55bQe/XLGdry1eydcWr+T88SO4dlYV\nV8+s8kQJSVknxsjqnQd5bOVOHl+1k+WN+wGYWT2Mr1w9jetmj2FCRXGGq1Q2MshpQAkhML1qGNOr\nhvHHV05l3a5WfrliO4+8toP/8fNV/I+fr2JqZQlXnFXJ5WdVMmfscHK9Tp2kDOjs7uGljXt5bFUq\nvG3d2w7AnLHD+eo107hu1hjqDG96BwY5DWiTR5fw+cum8PnLprC5uY3HV+3i8dd38g9Pb+A7Deup\nKCng0mmjufysSi6eUuEdJSSdUQcPd/LUmt089vpOfv3GLg4c7qIgL4eLJldw+/zJXD59tCcs6JT4\nraVBY/zIYj570QQ+e9EE9h/qpGHNLp5YtYtfrtzBj5c2UpCXw7xJI7nirErmTxtF7QinYCW9NzFG\n1u1q5ak1u2lYvZsXNjbT2R0pLy7gqplVXOEfkXqPfOdoUCobmn/0FmGd3T28tGkvj7++i8dX7eS/\nrF4BwKRRxVwydTSXTBvFBRPKGZKfm+GqJSVB65Eunlm3h6fW7Oap1bvZti81ZTp5dAm3zKvjyhlV\nnD9+hId16LQwyGnQy8/NYd6kCuZNquDPPnTW0b+en1qzm39+YTN3PbORwrwcLpg4kg9OqWD+tFFM\nGlXibW4kAb87UaFhdSq4Ldm8l87uSHFBLvMmV3D7pZO4ZKqj/DozDHJSLyEEplSWMqWylFsvnkh7\nRzcvbGzmqTW7eXrN7qMnTNQML+KDUyv4wOQK3j9xpDeflgaZxpZDPLu+mWfX7eHZ9c3sOngESF3f\n7TMXTeCSqaOoH1/urbF0xhnkpJMoKshl/rTRzJ82Gkj98n56zR6eWrOLny3fzr0vbgVgWmUpF04a\nyYWTRvL+CSMpG+qtcaSBpLn1SCq4rW/m2fV72Nx8CICKkgIunFTBRZNHcsnU0V6zUv3OICedgtoR\nQ/nkBeP45AXj6OruYUXTAZ5dv4fn1jdz30tbuPvZTYQAs6rLjga7uXXlHsgsJUxLWwdLNrfw/IZm\nnlm3hzd2HASgtDCPCyaWc/OFdXxgcgVTKz3MQpnlt4v0LuXl5jBn7HDmjB3O7fMnc6Srm+Vb9/Ps\n+tRUy93PbGLR0xvIzQnMqh5GfV05Ra1dzDx4xNuHSVmmaV87L23ay4Mrj/AXrzzFmp2tABTk5VA/\nfgRfuXoa8yaNZHZNGXm5TpcqexjkpNOkMC+XuRPKmTuhnC9dAe0d3Szd3MJzG/bw0qYW/vn5zRzp\n6uHOZY8zoaKY+vEjeF9dOfV1I5hQUexf9VI/6emJbNjTyosbW3hp015e3Lj36JmlQ3Jh7qQiFpxT\nzfvqyjln7HDPWFdWM8hJZ0hRQS4XTangoikVABzp6uYHDzfQXV7HS5taeGzVTn68tBGAkcUFnD9+\nBOeOG8E5Y8s4u3Y4JU7HSqdFS1sHyxr38cqWfSzbuo9lW1o4cLgLSB3j9r66cj570QTmTihn5+qX\nufyyuRmuWOo7vymkflKYl8vkEbnMv2QSf3DJ70YFXtqUGhVYurmFX72+E4AQYMroEs6pHc456enb\naVWl5DulI51UR1cPq7YfSAW2rft4ZUsLm9InJuQEmFpZynWzx3DuuOG8r678mNHwPWsdGVeyGOSk\nDMnJCUweXcrk0aXcNHcckBo5WN64j+Vb97NsawtPvLHr6KhdYV4Os2rKOKd2OGfXljGjehgTK4o9\nXkeD1pGubtbubGXFtv2sbDrAiqbUc0dXDwCjSgs5d+xw/s37xnLu2BHMri1zpFsDju9oKYuMKC54\ny+VOYow0trTzytZ9LE8//uWFzdz1TOqLqjAvh+lVpcyoLmNm9TBmVA/jrKphFBV4TI8GlkMdXaza\nfoAV2w6wsmk/K7YdYO2ug3R2RyB1NulZ1cO4+cLxzBk7gjnjhlNdNsRjTzXgGeSkLBZCYGz5UMaW\nD2XBOdUAdHb3sGF3Gyub9vN60wFWNh3g5682ce+LW4DU9NGEimJmVqdG7aZWljBldCk1w4vI8ZZA\nynLdPZHNzW2s2XmQ1TtaWbPzIG/sOMCGPW3EVGZjZHEBM2vKuGTaKGal/4gZVz7U97cGJYOclDD5\nuTlMqyplWlUpHz0vtS3GyLZ97axsOnA03C3d3MLi5U1H/93Qglwmj06FuqmVJUytLGVKZQk1w4sc\ntVC/6+lJvWfX7vpdYFu94yDrdrcenRoNAcaXD2VqZSkLzqlhZvUwZtWUUTms0PeslGaQkwaAEAK1\nI4ZSO2IoV8+sOrp9/6FO1u46yJqdqS/KtbsO8vTa3fzk5cajbYrTAW/SqBLqKoqZkH7UVRR7PJHe\ns/3tnWzc08bGPa1s2N3Ghj1tbNzdxqbmNg51dB9tV102hCmVpVw0pYKplaVMqyxl8ugSDxOQ3oG/\npaUBrGxoPvV15dTXlb9l+75DHazdlQ536ZD33IZmHnhl21vaVZQUMrGimLqKodRVFDOxopjxI4up\nHVFE6RBvQ6bUaPDetg4aW9rZ2nKILXsPsXF3Wzq8tdHc1nG0bW5OYOyIIiZUFHPBxHKmjC5lWlUJ\nk0eXUlbk+0l6Nwxy0iA0fGjq2lnve1vAa+/oZlNzG5v2tLGx+XcjJ0++sZs9rY1vaVtWlE/N8CJq\nRxSlRwOLqBnxu3W/mAeGGCMH2rto3HcoFdb2pp4bWw6xdW/qua3XyBrA6NJCJlQUc9XMyvQIbwkT\nKooZVz7Um8hLp5lBTtJRRQW5nDVmGGeNGXbMvoOHO9m05xCb97axraX96Jf5puY2frtuz1umyQBK\nh+QxpmwIlcOGMLp0CFVlhUeXK4cVUlU2hIqSQq+Nl0Fd3T3sbj3C9v2H2bn/MDsOpB5Hl9PPhzt7\n3vLvSgrzqB1RxLiRQ5k3eSRjR6ROyKkdUcTY8qFOyUv9KOs+bSGEu4APAbtijLOOsz8A3wKuAw4B\nt8QYX+7fKqXBp3RIPrNry5hdW3bMvhgjLYc60wEvNWKzbV/70SCwftcedh08QldPfMu/CwFGFhcy\nurSQkSUFlBenH0MLKC8pYGRxAeXFhZQXp5bLivI9M/Ekurp7OHC4i5ZDHTS3dtDceoTmtvRy25vL\nR9LrHbQc6jh6JuibCnJzqCwrpGrYEGbVlHHFWZVUlQ2henhROrAVUVaU78kGUpbIuiAH3A3cCXz/\nBPuvBaakHxcAf5d+lpQhIYSjIex4QQ9SZyk2t3Ww88Bhdh08zI79R44u7zqQChmbmw/R0tbBwSNd\nx32NnJAKlMOK8igtTD8PyWfYkHxKh+QxrCifYUPyGDYkn5IheRTl5zIkP5eiglyK8tOPgtRjSF5O\nVlxMuacn0t7ZzaGObto7ujnU2fW75Y5uDnV00d7RTVtHNwfaOzlwuJP97Z0caO86un6gPbXt7VOc\nvZUV5TOypICK4kImjSph7oQCRpakAtubo6VVw4ZQXlxgSJMSJOuCXIzx6RBC3UmaLAS+H2OMwPMh\nhOEhhDExxu39UqCkdyUnJzCqtJBRpYXA8cPem450ddPS1klz2xH2tnWwNz2qtLetgwOHOzl4OBVi\nDh7uYuveQ79bP0EAPJGC3BwK83MoyM0hLzeQl5NDfm4gLzeHvJxAfm4OuTkhtS0ntQwQSQ1jtbS0\ns2jt86ltvUa2IpGu7khndw8d3ZGu7h46u3vo7I50dPek11PLb15qo69KC9OBtSifsqI8xpUPTS+n\nAm1ZUR7DhxYwsqSAkcWFVJQUMKK4wClsaYDKuiDXBzXA1l7rjeltbwlyIYTbgNsAKisraWho6K/6\nTqvW1tbE1q5j2Z/vTln6MbEQOG4OzAEK6YkFtHdBe1ekvQs6uiMd3XCkO9LR03s9tfzmc3fsoTtC\nd0833THS1QPdPdDdDV09cCRGuiP0nhkOpNrvbm7heANYeTmQFwJDciA3QF4B5OUE8gLk5pB+ziU/\nJ5fCPCjMDRTmHvtckH4ekhcoyoOcoz+sO/048tYf3Ansh+79sIvUQ33nZ3RgGQz9mcQgd7wx/3jM\nhhgXAYsA6uvr4/z5889wWWdGQ0MDSa1dx7I/Bxb7c+CxTweWwdCfSRxrbwTG9lqvBZpO0FaSJGnA\nSmKQWwx8OqS8H9jv8XGSJGkwyrqp1RDCvcB8oCKE0Ah8DcgHiDH+PfAIqUuPrCN1+ZHfz0ylkiRJ\nmZV1QS7GeNM77I/AH/VTOZIkSVkriVOrkiRJwiAnSZKUWAY5SZKkhDLISZIkJZRBTpIkKaEMcpIk\nSQllkJMkSUoog5wkSVJCGeQkSZISyiAnSZKUUAY5SZKkhDLISZIkJZRBTpIkKaEMcpIkSQllkJMk\nSUoog5wkSVJCGeQkSZISyiAnSZKUUAY5SZKkhDLISZIkJZRBTpIkKaEMcpIkSQllkJMkSUoog5wk\nSVJCGeQkSZISyiAnSZKUUAY5SZKkhDLISZIkJZRBTpIkKaEMcpIkSQllkJMkSUoog5wkSVJCGeQk\nSZISyiAnSZKUUAY5SZKkhDLISZIkJZRBTpIkKaEMcpIkSQllkJMkSUoog5wkSVJCGeQkSZISyiAn\nSZKUUAY5SZKkhDLISZIkJVTWBbkQwjUhhNUhhHUhhDuOs/+WEMLuEMKy9OPWTNQpSZKUaXmZLqC3\nEEIu8G3gSqAReCmEsDjG+Prbmv5rjPHz/V6gJElSFsm2Ebm5wLoY44YYYwdwH7AwwzVJkiRlpawa\nkQNqgK291huBC47T7mMhhA8Ca4Avxxi3vr1BCOE24DaAyspKGhoaTn+1/aC1tTWxtetY9ufAYn8O\nPPbpwDIY+jPbglw4zrb4tvWHgXtjjEdCCJ8D7gEuO+YfxbgIWARQX18f58+ff5pL7R8NDQ0ktXYd\ny/4cWOzPgcc+HVgGQ39m29RqIzC213ot0NS7QYyxOcZ4JL36XeD8fqpNkiQpq2RbkHsJmBJCmBBC\nKAA+ASzu3SCEMKbX6gJgVT/WJ0mSlDWyamo1xtgVQvg88CiQC9wVY1wZQvg6sCTGuBj4QghhAdAF\n7AVuyVjBkiRJGZRVQQ4gxvgI8Mjbtv3XXsv/CfhP/V2XJElStsm2qVVJkiT1kUFOkiQpoQxykiRJ\nCWWQkyRJSiiDnCRJUkIZ5CRJkhLKICdJkpRQBjlJkqSEMshJkiQllEFOkiQpoQxykiRJCWWQkyRJ\nSiiDnCRJUkIZ5CRJkhLKICdJkpRQBjlJkqSE6nOQCyE8E0L4VAih8EwWJEmSpL45lRG5TuAeoCmE\n8NchhOlnqCZJkiT1QZ+DXIxxPnAWqTD3aWBlCKEhhPBvQwj5Z6g+SZIkncApHSMXY1wdY/xjoAa4\nBcgFfgg0hhC+EUKYePpLlCRJ0vG8q5MdYoxHYow/AL4I/AYYBXwVWBNC+HEIoeo01ihJkqTjOOUg\nF0IoCiF8JoTwIvASqRD3RaAa+ENgHvAvp7VKSZIkHSOvrw1DCLOBPwB+DygGHgL+Y4zx172afTeE\nsAP48WmtUpIkScfoc5ADlgNNwN8Ai2KM20/Qbh3w3HstTJIkSSd3KkHu48CDMcbukzWKMa4CLn1P\nVUmSJOkd9TnIxRh/ciYLkSRJ0qnxFl2SJEkJZZCTJElKKIOcJElSQhnkJEmSEsogJ0mSlFAGOUmS\npIQyyEmSJCWUQU6SJCmhDHKSJEkJZZCTJElKKIOcJElSQhnkJEmSEsogJ0mSlFAGOUmSpIQyyEmS\nJCWUQU6SJCmhDHKSJEkJZZCTJElKKIOcJElSQmVdkAshXBNCWB1CWBdCuOM4+wtDCP+a3v9CCKGu\n/6uUJEnKvKwKciGEXODbwLXADOCmEMKMtzX7LNASY5wMfBP4y/6tUpIkKTvkZbqAt5kLrIsxbgAI\nIdwHLARe79VmIfDn6eX7gTtDCCHGGE/4qnvWwj9df0YKPtPm7NsHG4dnugydJvbnwGJ/Djz26cAy\nGPoz24JcDbC113ojcMGJ2sQYu0II+4GRwJ7ejUIItwG3AcwaU8i+ffvOVM1nVHd3d2Jr17Hsz4HF\n/hx47NOBZTD0Z7YFuXCcbW8faetLG2KMi4BFAPX19XH4l59579VlQENDA/Pnz890GTpN7M+Bxf4c\neOzTgSWx/fnHx4s6x5dVx8iRGoEb22u9Fmg6UZsQQh5QBuztl+okSZKySLYFuZeAKSGECSGEAuAT\nwOK3tVkM3JxevhF48qTHx0mSJA1QWTW1mj7m7fPAo0AucFeMcWUI4evAkhjjYuAfgR+EENaRGon7\nROYqliRJypysCnIAMcZHgEfetu2/9lo+DHy8v+uSJEnKNtk2tSpJkqQ+MshJkiQllEFOkiQpoQxy\nkiRJCWWQkyRJSiiDnCRJUkIZ5CRJkhLKICdJkpRQBjlJkqSEMshJkiQllEFOkiQpoQxykiRJCWWQ\nkyRJSiiDnCRJUkIZ5CRJkhLKICdJkpRQBjlJkqSEMshJkiQllEFOkiQpoQxykiRJCWWQkyRJSiiD\nnCRJUkIZ5CRJkhLKICdJkpRQBjlJkqSEMshJkiQllEFOkiQpoQxykiRJCWWQkyRJSiiDnCRJUkIZ\n5CRJkhLKICdJkpRQBjlJkqSEMshJkiQllEFOkiQpoQxykiRJCWWQkyRJSiiDnCRJUkIZ5CRJkhLK\nICdJkpRQBjlJkqSEMshJkiQllEFOkiQpoQxykiRJCZU1QS6EUB5CeCyEsDb9POIE7bpDCMvSj8X9\nXackSVK2yJogB9wBPBFjnAI8kV4/nvYY45z0Y0H/lSdJkpRdsinILQTuSS/fA3wkg7VIkiRlvRBj\nzHQNAIQQ9sUYh/dab4kxHjO9GkLoApYBXcA3YowPnuD1bgNuA6isrDz/vvvuOzOFn2Gtra2UlJRk\nugydJvbnwGJ/Djz26cCS1P5wQcvlAAAHpElEQVS89NJLl8YY6/vSNu9MF9NbCOFxoOo4u/70FF5m\nXIyxKYQwEXgyhPBajHH92xvFGBcBiwDq6+vj/Pnz303JGdfQ0EBSa9ex7M+Bxf4ceOzTgWUw9Ge/\nBrkY4xUn2hdC2BlCGBNj3B5CGAPsOsFrNKWfN4QQGoBzgWOCnCRJ0kCXTcfILQZuTi/fDDz09gYh\nhBEhhML0cgXwAeD1fqtQkiQpi2RTkPsGcGUIYS1wZXqdEEJ9COF76TZnAUtCCMuBX5M6Rs4gJ0mS\nBqV+nVo9mRhjM3D5cbYvAW5NLz8LzO7n0iRJkrJSNo3ISZIk6RQY5CRJkhLKICdJkpRQBjlJkqSE\nMshJkiQllEFOkiQpoQxykiRJCWWQkyRJSiiDnCRJUkIZ5CRJkhLKICdJkpRQBjlJkqSEMshJkiQl\nlEFOkiQpoQxykiRJCWWQkyRJSiiDnCRJUkIZ5CRJkhLKICdJkpRQBjlJkqSEMshJkiQllEFOkiQp\noQxykiRJCWWQkyRJSiiDnCRJUkIZ5CRJkhLKICdJkpRQBjlJkqSEMshJkiQllEFOkiQpoQxykiRJ\nCWWQkyRJSiiDnCRJUkIZ5CRJkhLKICdJkpRQBjlJkqSEMshJkiQllEFOkiQpoQxykiRJCWWQkyRJ\nSiiDnCRJUkIZ5CRJkhLKICdJkpRQBjlJkqSEypogF0L4eAhhZQihJ4RQf5J214QQVocQ1oUQ7ujP\nGiVJkrJJ1gQ5YAXwUeDpEzUIIeQC3wauBWYAN4UQZvRPeZIkSdklL9MFvCnGuAoghHCyZnOBdTHG\nDem29wELgdfPeIGSJElZJptG5PqiBtjaa70xvU2SJGnQ6dcRuRDC40DVcXb9aYzxob68xHG2xRP8\nrNuA29KrrSGE1X2rMutUAHsyXYROG/tzYLE/Bx77dGBJan+O72vDfg1yMcYr3uNLNAJje63XAk0n\n+FmLgEXv8edlXAhhSYzxhCd/KFnsz4HF/hx47NOBZTD0Z9KmVl8CpoQQJoQQCoBPAIszXJMkSVJG\nZE2QCyHcEEJoBC4Efh5CeDS9vTqE8AhAjLEL+DzwKLAK+FGMcWWmapYkScqkbDpr9afAT4+zvQm4\nrtf6I8Aj/VhapiV+elhvYX8OLPbnwGOfDiwDvj9DjMc9V0CSJElZLmumViVJknRqDHJZxluVDSwh\nhPIQwmMhhLXp5xEnaNcdQliWfngCT5Z5p89bCKEwhPCv6f0vhBDq+r9K9VUf+vOWEMLuXp/JWzNR\np/omhHBXCGFXCGHFCfaHEMLfpvv71RDCef1d45lkkMs+3qpsYLkDeCLGOAV4Ir1+PO0xxjnpx4L+\nK0/vpI+ft88CLTHGycA3gb/s3yrVV6fw+/Nfe30mv9evRepU3Q1cc5L91wJT0o/bgL/rh5r6jUEu\ny8QYV8UY3+nixUdvVRZj7ADevFWZss9C4J708j3ARzJYi96dvnzeevfz/cDl4R3uN6iM8ffnABNj\nfBrYe5ImC4Hvx5TngeEhhDH9U92ZZ5BLJm9VlhyVMcbtAOnn0SdoNySEsCSE8HwIwbCXXfryeTva\nJn2ZpP3AyH6pTqeqr78/P5aehrs/hDD2OPuVHAP6OzNrLj8ymPTnrcp05p2sP0/hZcbFGJtCCBOB\nJ0MIr8UY15+eCvUe9eXz5mcyOfrSVw8D98YYj4QQPkdqtPWyM16ZzpQB/fk0yGVAf96qTGfeyfoz\nhLAzhDAmxrg9PZS/6wSv0ZR+3hBCaADOBQxy2aEvn7c32zSGEPKAMk4+1aPMecf+jDE291r9Lh7z\nmHQD+jvTqdVk8lZlybEYuDm9fDNwzIhrCGFECKEwvVwBfAB4vd8q1Dvpy+etdz/fCDwZvUhntnrH\n/nzb8VMLSN1JSMm1GPh0+uzV9wP73zzkZSBwRC7LhBBuAP4fMIrUrcqWxRivDiFUA9+LMV4XY+wK\nIbx5q7Jc4C5vVZa1vgH8KITwWWAL8HGA9KVlPhdjvBU4C/iHEEIPqT+uvhFjNMhliRN93kIIXweW\nxBgXA/8I/CCEsI7USNwnMlexTqaP/fmFEMICoItUf96SsYL1jkII9wLzgYr0rT6/BuQDxBj/ntTd\noK4D1gGHgN/PTKVnhnd2kCRJSiinViVJkhLKICdJkpRQBjlJkqSEMshJkiQllEFOkiQpoQxykiRJ\nCWWQkyRJSiiDnCRJUkIZ5CSpj0IIxSGEN0IIL4YQ8nttvyqE0BNC+KNM1idp8PHODpJ0CkII5wLP\nA9+MMd4RQhgNvAq8GGNckNnqJA02BjlJOkUhhC8D/xe4CvgTYDZwToxxT0YLkzToGOQk6RSFEALw\nc+AyoAC4Msb4RGarkjQYeYycJJ2imPoL+AdAIbDcECcpUwxyknSKQghVwN8ALwPnhBC+mOGSJA1S\nBjlJOgXpadV7gA7gSlKB7i9DCGdntDBJg5LHyEnSKQgh/AfgfwOXxRifCiEUkDqLtRCojzG2Z7RA\nSYOKI3KS1EfpS4/8BfC/YoxPAcQYO4CbgDrgrzNXnaTByBE5SZKkhHJETpIkKaEMcpIkSQllkJMk\nSUoog5wkSVJCGeQkSZISyiAnSZKUUAY5SZKkhDLISZIkJZRBTpIkKaH+P80MrjdVq7/nAAAAAElF\nTkSuQmCC\n",
          "text/plain": "<matplotlib.figure.Figure at 0x253f5a59e80>"
         },
         "metadata": {},
         "output_type": "display_data"
        }
       ]
      }
     },
     "b3756941f97f4acbbf0e066dd1d97895": {
      "model_module": "@jupyter-widgets/base",
      "model_module_version": "1.0.0",
      "model_name": "LayoutModel",
      "state": {}
     },
     "b413556979b64e8fbe36554222b53fef": {
      "model_module": "@jupyter-widgets/controls",
      "model_module_version": "1.0.0",
      "model_name": "DescriptionStyleModel",
      "state": {
       "description_width": ""
      }
     },
     "b5b40617c62b4a1f817b4bfa587a31ba": {
      "model_module": "@jupyter-widgets/controls",
      "model_module_version": "1.0.0",
      "model_name": "DescriptionStyleModel",
      "state": {
       "description_width": ""
      }
     },
     "b5d76e5d8767499498b0fc8f6da5ff53": {
      "model_module": "@jupyter-widgets/base",
      "model_module_version": "1.0.0",
      "model_name": "LayoutModel",
      "state": {}
     },
     "b67cd20e32c042849cc1ee94f4c36248": {
      "model_module": "@jupyter-widgets/base",
      "model_module_version": "1.0.0",
      "model_name": "LayoutModel",
      "state": {}
     },
     "b73d750fb3f94ad49d5371862905d3d3": {
      "model_module": "@jupyter-widgets/base",
      "model_module_version": "1.0.0",
      "model_name": "LayoutModel",
      "state": {}
     },
     "b7ebd367dfc141c6bb6e0e6af6edebec": {
      "model_module": "@jupyter-widgets/base",
      "model_module_version": "1.0.0",
      "model_name": "LayoutModel",
      "state": {}
     },
     "ba5affa11f2347bf9233ce3c0e775c99": {
      "model_module": "@jupyter-widgets/controls",
      "model_module_version": "1.0.0",
      "model_name": "TextModel",
      "state": {
       "description": "f:",
       "layout": "IPY_MODEL_48cd867f949542ca91335f3844e8f9ee",
       "placeholder": "numpy.sinh(t)",
       "style": "IPY_MODEL_167c1d7ad81f413f90c54f4c1203afc1",
       "value": "numpy.sinh(t)"
      }
     },
     "bcf530b0855044c6b39b8deeea11d899": {
      "model_module": "@jupyter-widgets/controls",
      "model_module_version": "1.0.0",
      "model_name": "TextModel",
      "state": {
       "description": "f:",
       "layout": "IPY_MODEL_d4c81d22716148968b417d5246dd44de",
       "placeholder": "numpy.sinh(t)",
       "style": "IPY_MODEL_ed87fb2c4f064b90b4ddefa86ddb44ed",
       "value": "numpy.sinh(t)"
      }
     },
     "bef9431b21ad41829e68c38568f7386b": {
      "model_module": "@jupyter-widgets/base",
      "model_module_version": "1.0.0",
      "model_name": "LayoutModel",
      "state": {}
     },
     "bf2ddba21e7b46eea5130b7582f5c1d9": {
      "model_module": "@jupyter-widgets/controls",
      "model_module_version": "1.0.0",
      "model_name": "DescriptionStyleModel",
      "state": {
       "description_width": ""
      }
     },
     "c1affdb452ea47f69491764d3f74117f": {
      "model_module": "@jupyter-widgets/controls",
      "model_module_version": "1.0.0",
      "model_name": "VBoxModel",
      "state": {
       "_dom_classes": [
        "widget-interact"
       ],
       "children": [
        "IPY_MODEL_d38e0a5ae73241c2ae61644843697689",
        "IPY_MODEL_7302ea6c58b445e68d5232438369b590",
        "IPY_MODEL_d19dc9be216c4f578afc4af532360ed9",
        "IPY_MODEL_b1c1511e50654a5dbc270b2c500768a4"
       ],
       "layout": "IPY_MODEL_60a176e214644ea9a8e6149dca7d36cb"
      }
     },
     "c45d2c148cb14712a24a86d631de57a0": {
      "model_module": "@jupyter-widgets/controls",
      "model_module_version": "1.0.0",
      "model_name": "VBoxModel",
      "state": {
       "_dom_classes": [
        "widget-interact"
       ],
       "children": [
        "IPY_MODEL_2f46319189684c48a3073375a10b15f4",
        "IPY_MODEL_86892a20e4b640b4b5312ef9918f98db",
        "IPY_MODEL_ac81084cff8542a395cb2354893aa265",
        "IPY_MODEL_06d0b08e862549759f841dd90b760a7e"
       ],
       "layout": "IPY_MODEL_14d0386acead462bbf1012f6524fe5bf"
      }
     },
     "c96b1b83eaf740c9b681fd7ffc3af4ba": {
      "model_module": "@jupyter-widgets/controls",
      "model_module_version": "1.0.0",
      "model_name": "SliderStyleModel",
      "state": {
       "description_width": ""
      }
     },
     "cbb6c80298324ab68b0117863f0e1174": {
      "model_module": "@jupyter-widgets/base",
      "model_module_version": "1.0.0",
      "model_name": "LayoutModel",
      "state": {}
     },
     "cc4e4e1680c24802976388cfc72a8765": {
      "model_module": "@jupyter-widgets/output",
      "model_module_version": "1.0.0",
      "model_name": "OutputModel",
      "state": {
       "layout": "IPY_MODEL_dae114305c1a445f8439183aac1c562e",
       "outputs": [
        {
         "data": {
          "image/png": "iVBORw0KGgoAAAANSUhEUgAAAnIAAAFFCAYAAABouQAdAAAABHNCSVQICAgIfAhkiAAAAAlwSFlz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\nTkSuQmCC\n",
          "text/plain": "<matplotlib.figure.Figure at 0x207477e6d68>"
         },
         "metadata": {},
         "output_type": "display_data"
        }
       ]
      }
     },
     "cc784402fc074f9f87b07993486f059e": {
      "model_module": "@jupyter-widgets/base",
      "model_module_version": "1.0.0",
      "model_name": "LayoutModel",
      "state": {}
     },
     "cddae75587ea426487edeacdf8a662aa": {
      "model_module": "@jupyter-widgets/controls",
      "model_module_version": "1.0.0",
      "model_name": "VBoxModel",
      "state": {
       "_dom_classes": [
        "widget-interact"
       ],
       "children": [
        "IPY_MODEL_d4d97f7f69584d22ba9561607c724912",
        "IPY_MODEL_f21f6fe12ce34d6fb52fce7ae8dd0c58",
        "IPY_MODEL_260a9a59171a4455b7a307cefb2b1704",
        "IPY_MODEL_218c540cdca94d438806bafe8b281d1e",
        "IPY_MODEL_20f04e1cae29434ba81a50dd0fad8b25"
       ],
       "layout": "IPY_MODEL_8815ebf9de144c80ab05db01d6b8bb80"
      }
     },
     "ce8412e1d4374b27a1040e7147fc60a0": {
      "model_module": "@jupyter-widgets/controls",
      "model_module_version": "1.0.0",
      "model_name": "TextModel",
      "state": {
       "description": "a0:",
       "layout": "IPY_MODEL_415510f276664f9a8e329b3d44d21afd",
       "placeholder": "0",
       "style": "IPY_MODEL_8fed2f4d43304500ab296c6f29596849",
       "value": "0"
      }
     },
     "d19dc9be216c4f578afc4af532360ed9": {
      "model_module": "@jupyter-widgets/controls",
      "model_module_version": "1.0.0",
      "model_name": "ToggleButtonModel",
      "state": {
       "description": "Update",
       "layout": "IPY_MODEL_791aadaf8106409193f5a675d749b924",
       "style": "IPY_MODEL_f784df2ed7dd406b95622603a835e5d5"
      }
     },
     "d38e0a5ae73241c2ae61644843697689": {
      "model_module": "@jupyter-widgets/controls",
      "model_module_version": "1.0.0",
      "model_name": "IntSliderModel",
      "state": {
       "continuous_update": false,
       "description": "n",
       "layout": "IPY_MODEL_8fab5ca5b2514a0e8c0e793a373cabda",
       "min": 1,
       "style": "IPY_MODEL_036c6186b03a44e1b373e70f79440cdd",
       "value": 1
      }
     },
     "d4ba6aaa40da4e20bb044e323edd9f97": {
      "model_module": "@jupyter-widgets/output",
      "model_module_version": "1.0.0",
      "model_name": "OutputModel",
      "state": {
       "layout": "IPY_MODEL_8eb694d2e2c948d9a674bdd44455b8ef"
      }
     },
     "d4c81d22716148968b417d5246dd44de": {
      "model_module": "@jupyter-widgets/base",
      "model_module_version": "1.0.0",
      "model_name": "LayoutModel",
      "state": {}
     },
     "d4d97f7f69584d22ba9561607c724912": {
      "model_module": "@jupyter-widgets/controls",
      "model_module_version": "1.0.0",
      "model_name": "TextModel",
      "state": {
       "description": "f:",
       "layout": "IPY_MODEL_a17dbf0b8e0a46fd83cd9a5651355163",
       "placeholder": "numpy.sinh(t)",
       "style": "IPY_MODEL_b0af9048ef80449c89f7d7586dcb0b45",
       "value": "numpy.sinh(t)"
      }
     },
     "d7b384e11caf4bc0a3e3d2930bf6999a": {
      "model_module": "@jupyter-widgets/controls",
      "model_module_version": "1.0.0",
      "model_name": "IntSliderModel",
      "state": {
       "continuous_update": false,
       "description": "L",
       "layout": "IPY_MODEL_4aff87e62ccd4670bc971102fec6f13e",
       "max": 5,
       "min": 1,
       "style": "IPY_MODEL_18dea1dec9b940948806b9423914072e",
       "value": 1
      }
     },
     "dae114305c1a445f8439183aac1c562e": {
      "model_module": "@jupyter-widgets/base",
      "model_module_version": "1.0.0",
      "model_name": "LayoutModel",
      "state": {}
     },
     "dcb69d3d86cb4f838af4362b2640d18d": {
      "model_module": "@jupyter-widgets/controls",
      "model_module_version": "1.0.0",
      "model_name": "DescriptionStyleModel",
      "state": {
       "description_width": ""
      }
     },
     "dcce770e9c0d41df938ea7914d0944d7": {
      "model_module": "@jupyter-widgets/controls",
      "model_module_version": "1.0.0",
      "model_name": "TextModel",
      "state": {
       "description": "f:",
       "layout": "IPY_MODEL_bef9431b21ad41829e68c38568f7386b",
       "placeholder": "numpy.sinh(t)",
       "style": "IPY_MODEL_b5b40617c62b4a1f817b4bfa587a31ba",
       "value": "numpy.sinh(t)"
      }
     },
     "dfac9211ec824035969be4acca22029d": {
      "model_module": "@jupyter-widgets/base",
      "model_module_version": "1.0.0",
      "model_name": "LayoutModel",
      "state": {}
     },
     "e20c9c2c5bae437fbb5c080d7fbe05e2": {
      "model_module": "@jupyter-widgets/controls",
      "model_module_version": "1.0.0",
      "model_name": "TextModel",
      "state": {
       "description": "bn:",
       "layout": "IPY_MODEL_b67cd20e32c042849cc1ee94f4c36248",
       "placeholder": "-(2 * numpy.pi * n * numpy.sinh(L) * (-1)**n) / ((L**2) + ((numpy.pi * n)**2))",
       "style": "IPY_MODEL_b413556979b64e8fbe36554222b53fef",
       "value": "-(2 * numpy.pi * n * numpy.sinh(L) * (-1)**n) / ((L**2) + ((numpy.pi * n)**2))"
      }
     },
     "e29c023dba9b4525b9f4ab793941ef26": {
      "model_module": "@jupyter-widgets/base",
      "model_module_version": "1.0.0",
      "model_name": "LayoutModel",
      "state": {}
     },
     "e30f56ce607e4d1691822408a7968d01": {
      "model_module": "@jupyter-widgets/controls",
      "model_module_version": "1.0.0",
      "model_name": "ToggleButtonModel",
      "state": {
       "description": "Update",
       "layout": "IPY_MODEL_98e78e677a4948f28cf7a6909af8d4d9",
       "style": "IPY_MODEL_6594da41897b4c22b606fbc8db9bbb0c"
      }
     },
     "e3595f04993a43c8bddaafc0a6cb2a65": {
      "model_module": "@jupyter-widgets/controls",
      "model_module_version": "1.0.0",
      "model_name": "DescriptionStyleModel",
      "state": {
       "description_width": ""
      }
     },
     "eb00b7eb40094e8999aef5295899ef98": {
      "model_module": "@jupyter-widgets/base",
      "model_module_version": "1.0.0",
      "model_name": "LayoutModel",
      "state": {}
     },
     "ed87fb2c4f064b90b4ddefa86ddb44ed": {
      "model_module": "@jupyter-widgets/controls",
      "model_module_version": "1.0.0",
      "model_name": "DescriptionStyleModel",
      "state": {
       "description_width": ""
      }
     },
     "f21f6fe12ce34d6fb52fce7ae8dd0c58": {
      "model_module": "@jupyter-widgets/controls",
      "model_module_version": "1.0.0",
      "model_name": "TextModel",
      "state": {
       "description": "a0:",
       "layout": "IPY_MODEL_5a05882df66e4c9c890328808c362be4",
       "placeholder": "0",
       "style": "IPY_MODEL_5dcb5acf0e0b45a9b724e0816be57559",
       "value": "0"
      }
     },
     "f2acc91cbdb9462aa80438069d4934c1": {
      "model_module": "@jupyter-widgets/controls",
      "model_module_version": "1.0.0",
      "model_name": "VBoxModel",
      "state": {
       "_dom_classes": [
        "widget-interact"
       ],
       "children": [
        "IPY_MODEL_f9b27c416df440d296e9e1ad3f8dfbd6",
        "IPY_MODEL_a12dc22fe52442f9b902cfcb158999b0",
        "IPY_MODEL_50e0c560594a405f86f43f27e074ddbe",
        "IPY_MODEL_1475a7c3289d4703baed0638b3ddb50a"
       ],
       "layout": "IPY_MODEL_eb00b7eb40094e8999aef5295899ef98"
      }
     },
     "f6d8fd3200654789b24a67f91335ee70": {
      "model_module": "@jupyter-widgets/base",
      "model_module_version": "1.0.0",
      "model_name": "LayoutModel",
      "state": {}
     },
     "f784df2ed7dd406b95622603a835e5d5": {
      "model_module": "@jupyter-widgets/controls",
      "model_module_version": "1.0.0",
      "model_name": "DescriptionStyleModel",
      "state": {
       "description_width": ""
      }
     },
     "f9b27c416df440d296e9e1ad3f8dfbd6": {
      "model_module": "@jupyter-widgets/controls",
      "model_module_version": "1.0.0",
      "model_name": "IntSliderModel",
      "state": {
       "continuous_update": false,
       "description": "n",
       "layout": "IPY_MODEL_1398b3da6d8e4854b840b8d3455ef617",
       "min": 1,
       "style": "IPY_MODEL_478548c959624e969fafe33d6bdfe71e",
       "value": 61
      }
     },
     "fc78dfff7052472aba3b65e48ac715e7": {
      "model_module": "@jupyter-widgets/controls",
      "model_module_version": "1.0.0",
      "model_name": "TextModel",
      "state": {
       "description": "bn:",
       "layout": "IPY_MODEL_9e52389b606940f4a98e37c3b20a214b",
       "placeholder": "-(2 * numpy.pi * n * numpy.sinh(L) * (-1)**n) / ((L**2) + ((numpy.pi * n)**2))",
       "style": "IPY_MODEL_435b7ed54c5d44d7a5f3732332cb9d18",
       "value": "-(2 * numpy.pi * n * numpy.sinh(L) * (-1)**n) / ((L**2) + ((numpy.pi * n)**2))"
      }
     },
     "fe53daae50f7403faaeb0f5bc8326306": {
      "model_module": "@jupyter-widgets/base",
      "model_module_version": "1.0.0",
      "model_name": "LayoutModel",
      "state": {}
     },
     "ffb6f9f3f8184f1e87335cf89b2a64f4": {
      "model_module": "@jupyter-widgets/controls",
      "model_module_version": "1.0.0",
      "model_name": "TextModel",
      "state": {
       "description": "a0:",
       "layout": "IPY_MODEL_cbb6c80298324ab68b0117863f0e1174",
       "placeholder": "0",
       "style": "IPY_MODEL_0b30d5ca89784eee86b5dd2f88a348df",
       "value": "0"
      }
     }
    },
    "version_major": 2,
    "version_minor": 0
   }
  }
 },
 "nbformat": 4,
 "nbformat_minor": 2
}
